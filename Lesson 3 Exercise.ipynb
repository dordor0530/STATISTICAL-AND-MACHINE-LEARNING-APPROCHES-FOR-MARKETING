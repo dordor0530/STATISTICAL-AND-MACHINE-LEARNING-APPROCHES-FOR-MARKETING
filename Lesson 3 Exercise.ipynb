{
 "cells": [
  {
   "cell_type": "markdown",
   "id": "2fcb40e5",
   "metadata": {},
   "source": [
    "## Exercise 3 (p.198, Chap.5)"
   ]
  },
  {
   "cell_type": "markdown",
   "id": "bca2a4b8",
   "metadata": {},
   "source": [
    "#### 3. We now review k-fold cross-validation."
   ]
  },
  {
   "cell_type": "markdown",
   "id": "d709fe1c",
   "metadata": {},
   "source": [
    "#### (a) Explain how k-fold cross-validation is implemented."
   ]
  },
  {
   "cell_type": "code",
   "execution_count": 5,
   "id": "00b998f7",
   "metadata": {},
   "outputs": [],
   "source": [
    "# k-fold cross-validation is implemented by taking the set of n observations and randomly splitting into k non-overlapping groups. Each of these groups acts as a validation set and the remainder as a training set. The test error is estimated by averaging the k resulting MSE estimates."
   ]
  },
  {
   "cell_type": "markdown",
   "id": "5aaa8c3a",
   "metadata": {},
   "source": [
    "#### (b) What are the advantages and disadvantages of k-fold cross\u0002validation relative to:"
   ]
  },
  {
   "cell_type": "markdown",
   "id": "fa26bdb9",
   "metadata": {},
   "source": [
    "#### i. The validation set approach?"
   ]
  },
  {
   "cell_type": "code",
   "execution_count": 6,
   "id": "4f4966f0",
   "metadata": {},
   "outputs": [],
   "source": [
    "# The validation set approach is conceptually simple and easily implemented as you are simply partitioning the existing training data into two sets. However, there are two drawbacks: (1.) the estimate of the test error rate can be highly variable depending on which observations are included in the training and validation sets. (2.) the validation set error rate may tend to overestimate the test error rate for the model fit on the entire data set."
   ]
  },
  {
   "cell_type": "markdown",
   "id": "75bee713",
   "metadata": {},
   "source": [
    "#### ii. LOOCV?"
   ]
  },
  {
   "cell_type": "code",
   "execution_count": 7,
   "id": "dd214e86",
   "metadata": {},
   "outputs": [],
   "source": [
    "# Special case of k-fold cross-validation with k = n.\n",
    "# The most computationally intense method since the model must be fit n times.\n",
    "# Has higher variance, but lower bias, than k-fold CV."
   ]
  },
  {
   "cell_type": "markdown",
   "id": "84d8932f",
   "metadata": {},
   "source": [
    "## Exercise 8 (p.200, Chap.5)"
   ]
  },
  {
   "cell_type": "markdown",
   "id": "6200fe06",
   "metadata": {},
   "source": [
    "#### We will now perform cross-validation on a simulated data set."
   ]
  },
  {
   "cell_type": "markdown",
   "id": "dc5497c2",
   "metadata": {},
   "source": [
    "#### (a) Generate a simulated data set as follows:\n",
    "#### > set.seed(1)\n",
    "#### > x=rnorm(100)\n",
    "#### > y=x-2*x^2+rnorm (100)\n",
    "#### In this data set, what is n and what is p? Write out the model used to generate the data in equation form."
   ]
  },
  {
   "cell_type": "code",
   "execution_count": 8,
   "id": "437f59c9",
   "metadata": {},
   "outputs": [],
   "source": [
    "set.seed(1)\n",
    "x=rnorm(100)\n",
    "y=x-2*x^2+rnorm (100)\n",
    "\n",
    "#n=100, p=2"
   ]
  },
  {
   "cell_type": "markdown",
   "id": "7d4b4c3f",
   "metadata": {},
   "source": [
    "#### (b) Create a scatterplot of X against Y . Comment on what you find."
   ]
  },
  {
   "cell_type": "code",
   "execution_count": 9,
   "id": "40986007",
   "metadata": {},
   "outputs": [
    {
     "data": {
      "image/png": "[encoded data removed]",
      "text/plain": [
       "plot without title"
      ]
     },
     "metadata": {
      "image/png": {
       "height": 420,
       "width": 420
      }
     },
     "output_type": "display_data"
    }
   ],
   "source": [
    "plot(x,y)"
   ]
  },
  {
   "cell_type": "markdown",
   "id": "eb239d73",
   "metadata": {},
   "source": [
    "#### (c) Set a random seed, and then compute the LOOCV errors that result from fitting the following four models using least squares:\n",
    "\n",
    "#### Note you may find it helpful to use the data.frame() function to create a single data set containing both X and Y ."
   ]
  },
  {
   "cell_type": "markdown",
   "id": "0416c59a",
   "metadata": {},
   "source": [
    "#### i. Y = β0 + β1X + \u0003"
   ]
  },
  {
   "cell_type": "code",
   "execution_count": 10,
   "id": "e5a5bff7",
   "metadata": {},
   "outputs": [
    {
     "data": {
      "text/html": [
       "<style>\n",
       ".list-inline {list-style: none; margin:0; padding: 0}\n",
       ".list-inline>li {display: inline-block}\n",
       ".list-inline>li:not(:last-child)::after {content: \"\\00b7\"; padding: 0 .5ex}\n",
       "</style>\n",
       "<ol class=list-inline><li>7.28816160667281</li><li>7.28474411546929</li></ol>\n"
      ],
      "text/latex": [
       "\\begin{enumerate*}\n",
       "\\item 7.28816160667281\n",
       "\\item 7.28474411546929\n",
       "\\end{enumerate*}\n"
      ],
      "text/markdown": [
       "1. 7.28816160667281\n",
       "2. 7.28474411546929\n",
       "\n",
       "\n"
      ],
      "text/plain": [
       "[1] 7.288162 7.284744"
      ]
     },
     "metadata": {},
     "output_type": "display_data"
    }
   ],
   "source": [
    "library(boot)\n",
    "Data = data.frame(x, y)\n",
    "set.seed(1)\n",
    "\n",
    "glm.fit = glm(y ~ x)\n",
    "cv.glm(Data, glm.fit)$delta"
   ]
  },
  {
   "cell_type": "markdown",
   "id": "826de283",
   "metadata": {},
   "source": [
    "#### ii. Y = β0 + β1X + β2X2 + \u0003"
   ]
  },
  {
   "cell_type": "code",
   "execution_count": 11,
   "id": "0548ce43",
   "metadata": {},
   "outputs": [
    {
     "data": {
      "text/html": [
       "<style>\n",
       ".list-inline {list-style: none; margin:0; padding: 0}\n",
       ".list-inline>li {display: inline-block}\n",
       ".list-inline>li:not(:last-child)::after {content: \"\\00b7\"; padding: 0 .5ex}\n",
       "</style>\n",
       "<ol class=list-inline><li>0.937423637615552</li><li>0.937178917181123</li></ol>\n"
      ],
      "text/latex": [
       "\\begin{enumerate*}\n",
       "\\item 0.937423637615552\n",
       "\\item 0.937178917181123\n",
       "\\end{enumerate*}\n"
      ],
      "text/markdown": [
       "1. 0.937423637615552\n",
       "2. 0.937178917181123\n",
       "\n",
       "\n"
      ],
      "text/plain": [
       "[1] 0.9374236 0.9371789"
      ]
     },
     "metadata": {},
     "output_type": "display_data"
    }
   ],
   "source": [
    "glm.fit = glm(y ~ poly(x, 2))\n",
    "cv.glm(Data, glm.fit)$delta"
   ]
  },
  {
   "cell_type": "markdown",
   "id": "8b73a0f7",
   "metadata": {},
   "source": [
    "#### iii. Y = β0 + β1X + β2X2 + β3X3 + \u0003"
   ]
  },
  {
   "cell_type": "code",
   "execution_count": 12,
   "id": "944ec2c7",
   "metadata": {},
   "outputs": [
    {
     "data": {
      "text/html": [
       "<style>\n",
       ".list-inline {list-style: none; margin:0; padding: 0}\n",
       ".list-inline>li {display: inline-block}\n",
       ".list-inline>li:not(:last-child)::after {content: \"\\00b7\"; padding: 0 .5ex}\n",
       "</style>\n",
       "<ol class=list-inline><li>0.956621830108939</li><li>0.956253813731321</li></ol>\n"
      ],
      "text/latex": [
       "\\begin{enumerate*}\n",
       "\\item 0.956621830108939\n",
       "\\item 0.956253813731321\n",
       "\\end{enumerate*}\n"
      ],
      "text/markdown": [
       "1. 0.956621830108939\n",
       "2. 0.956253813731321\n",
       "\n",
       "\n"
      ],
      "text/plain": [
       "[1] 0.9566218 0.9562538"
      ]
     },
     "metadata": {},
     "output_type": "display_data"
    }
   ],
   "source": [
    "glm.fit = glm(y ~ poly(x, 3))\n",
    "cv.glm(Data, glm.fit)$delta"
   ]
  },
  {
   "cell_type": "markdown",
   "id": "bdf03140",
   "metadata": {},
   "source": [
    "#### iv. Y = β0 + β1X + β2X2 + β3X3 + β4X4 + \u0003."
   ]
  },
  {
   "cell_type": "code",
   "execution_count": 13,
   "id": "f4862eb4",
   "metadata": {},
   "outputs": [
    {
     "data": {
      "text/html": [
       "<style>\n",
       ".list-inline {list-style: none; margin:0; padding: 0}\n",
       ".list-inline>li {display: inline-block}\n",
       ".list-inline>li:not(:last-child)::after {content: \"\\00b7\"; padding: 0 .5ex}\n",
       "</style>\n",
       "<ol class=list-inline><li>0.953904892744804</li><li>0.953445283156601</li></ol>\n"
      ],
      "text/latex": [
       "\\begin{enumerate*}\n",
       "\\item 0.953904892744804\n",
       "\\item 0.953445283156601\n",
       "\\end{enumerate*}\n"
      ],
      "text/markdown": [
       "1. 0.953904892744804\n",
       "2. 0.953445283156601\n",
       "\n",
       "\n"
      ],
      "text/plain": [
       "[1] 0.9539049 0.9534453"
      ]
     },
     "metadata": {},
     "output_type": "display_data"
    }
   ],
   "source": [
    "glm.fit = glm(y ~ poly(x, 4))\n",
    "cv.glm(Data, glm.fit)$delta"
   ]
  },
  {
   "cell_type": "markdown",
   "id": "9289087a",
   "metadata": {},
   "source": [
    "#### (d) Repeat (c) using another random seed, and report your results. Are your results the same as what you got in (c)? Why?"
   ]
  },
  {
   "cell_type": "code",
   "execution_count": 14,
   "id": "d4a4b7fe",
   "metadata": {},
   "outputs": [
    {
     "data": {
      "text/html": [
       "<style>\n",
       ".list-inline {list-style: none; margin:0; padding: 0}\n",
       ".list-inline>li {display: inline-block}\n",
       ".list-inline>li:not(:last-child)::after {content: \"\\00b7\"; padding: 0 .5ex}\n",
       "</style>\n",
       "<ol class=list-inline><li>7.28816160667281</li><li>7.28474411546929</li></ol>\n"
      ],
      "text/latex": [
       "\\begin{enumerate*}\n",
       "\\item 7.28816160667281\n",
       "\\item 7.28474411546929\n",
       "\\end{enumerate*}\n"
      ],
      "text/markdown": [
       "1. 7.28816160667281\n",
       "2. 7.28474411546929\n",
       "\n",
       "\n"
      ],
      "text/plain": [
       "[1] 7.288162 7.284744"
      ]
     },
     "metadata": {},
     "output_type": "display_data"
    }
   ],
   "source": [
    "set.seed(10)\n",
    "\n",
    "glm.fit = glm(y ~ x)\n",
    "cv.glm(Data, glm.fit)$delta"
   ]
  },
  {
   "cell_type": "code",
   "execution_count": 15,
   "id": "7a26006c",
   "metadata": {},
   "outputs": [
    {
     "data": {
      "text/html": [
       "<style>\n",
       ".list-inline {list-style: none; margin:0; padding: 0}\n",
       ".list-inline>li {display: inline-block}\n",
       ".list-inline>li:not(:last-child)::after {content: \"\\00b7\"; padding: 0 .5ex}\n",
       "</style>\n",
       "<ol class=list-inline><li>0.937423637615552</li><li>0.937178917181123</li></ol>\n"
      ],
      "text/latex": [
       "\\begin{enumerate*}\n",
       "\\item 0.937423637615552\n",
       "\\item 0.937178917181123\n",
       "\\end{enumerate*}\n"
      ],
      "text/markdown": [
       "1. 0.937423637615552\n",
       "2. 0.937178917181123\n",
       "\n",
       "\n"
      ],
      "text/plain": [
       "[1] 0.9374236 0.9371789"
      ]
     },
     "metadata": {},
     "output_type": "display_data"
    }
   ],
   "source": [
    "glm.fit = glm(y ~ poly(x, 2))\n",
    "cv.glm(Data, glm.fit)$delta"
   ]
  },
  {
   "cell_type": "code",
   "execution_count": 16,
   "id": "083c8214",
   "metadata": {},
   "outputs": [
    {
     "data": {
      "text/html": [
       "<style>\n",
       ".list-inline {list-style: none; margin:0; padding: 0}\n",
       ".list-inline>li {display: inline-block}\n",
       ".list-inline>li:not(:last-child)::after {content: \"\\00b7\"; padding: 0 .5ex}\n",
       "</style>\n",
       "<ol class=list-inline><li>0.95662183010894</li><li>0.956253813731321</li></ol>\n"
      ],
      "text/latex": [
       "\\begin{enumerate*}\n",
       "\\item 0.95662183010894\n",
       "\\item 0.956253813731321\n",
       "\\end{enumerate*}\n"
      ],
      "text/markdown": [
       "1. 0.95662183010894\n",
       "2. 0.956253813731321\n",
       "\n",
       "\n"
      ],
      "text/plain": [
       "[1] 0.9566218 0.9562538"
      ]
     },
     "metadata": {},
     "output_type": "display_data"
    }
   ],
   "source": [
    "glm.fit = glm(y ~ poly(x, 3))\n",
    "cv.glm(Data, glm.fit)$delta"
   ]
  },
  {
   "cell_type": "code",
   "execution_count": 17,
   "id": "d974e43a",
   "metadata": {},
   "outputs": [
    {
     "data": {
      "text/html": [
       "<style>\n",
       ".list-inline {list-style: none; margin:0; padding: 0}\n",
       ".list-inline>li {display: inline-block}\n",
       ".list-inline>li:not(:last-child)::after {content: \"\\00b7\"; padding: 0 .5ex}\n",
       "</style>\n",
       "<ol class=list-inline><li>0.953904892744804</li><li>0.953445283156601</li></ol>\n"
      ],
      "text/latex": [
       "\\begin{enumerate*}\n",
       "\\item 0.953904892744804\n",
       "\\item 0.953445283156601\n",
       "\\end{enumerate*}\n"
      ],
      "text/markdown": [
       "1. 0.953904892744804\n",
       "2. 0.953445283156601\n",
       "\n",
       "\n"
      ],
      "text/plain": [
       "[1] 0.9539049 0.9534453"
      ]
     },
     "metadata": {},
     "output_type": "display_data"
    }
   ],
   "source": [
    "glm.fit = glm(y ~ poly(x, 4))\n",
    "cv.glm(Data, glm.fit)$delta"
   ]
  },
  {
   "cell_type": "code",
   "execution_count": 18,
   "id": "0d1b3da8",
   "metadata": {},
   "outputs": [],
   "source": [
    "# The results are the same even different seeds are used.\n",
    "# It is because it evaluates n folds of a single observation."
   ]
  },
  {
   "cell_type": "markdown",
   "id": "3a1b3750",
   "metadata": {},
   "source": [
    "#### (e) Which of the models in (c) had the smallest LOOCV error? Is this what you expected? Explain your answer."
   ]
  },
  {
   "cell_type": "code",
   "execution_count": 22,
   "id": "8507a1b5",
   "metadata": {},
   "outputs": [],
   "source": [
    "# The quadratic polynomial had the loweat LOOCV error, it is because it match more to the true form of Y."
   ]
  },
  {
   "cell_type": "markdown",
   "id": "63312831",
   "metadata": {},
   "source": [
    "#### (f) Comment on the statistical significance of the coefficient estimates that results from fitting each of the models in (c) using least squares. Do these results agree with the conclusions drawn based on the cross-validation results?"
   ]
  },
  {
   "cell_type": "code",
   "execution_count": 19,
   "id": "28db04ce",
   "metadata": {},
   "outputs": [
    {
     "data": {
      "text/plain": [
       "\n",
       "Call:\n",
       "glm(formula = y ~ poly(x, degree = 1))\n",
       "\n",
       "Deviance Residuals: \n",
       "    Min       1Q   Median       3Q      Max  \n",
       "-9.5161  -0.6800   0.6812   1.5491   3.8183  \n",
       "\n",
       "Coefficients:\n",
       "                    Estimate Std. Error t value Pr(>|t|)    \n",
       "(Intercept)           -1.550      0.260  -5.961 3.95e-08 ***\n",
       "poly(x, degree = 1)    6.189      2.600   2.380   0.0192 *  \n",
       "---\n",
       "Signif. codes:  0 '***' 0.001 '**' 0.01 '*' 0.05 '.' 0.1 ' ' 1\n",
       "\n",
       "(Dispersion parameter for gaussian family taken to be 6.760719)\n",
       "\n",
       "    Null deviance: 700.85  on 99  degrees of freedom\n",
       "Residual deviance: 662.55  on 98  degrees of freedom\n",
       "AIC: 478.88\n",
       "\n",
       "Number of Fisher Scoring iterations: 2\n"
      ]
     },
     "metadata": {},
     "output_type": "display_data"
    }
   ],
   "source": [
    "summary(glm(y~poly(x,degree=1)))"
   ]
  },
  {
   "cell_type": "code",
   "execution_count": 20,
   "id": "192e9569",
   "metadata": {},
   "outputs": [
    {
     "data": {
      "text/plain": [
       "\n",
       "Call:\n",
       "glm(formula = y ~ poly(x, degree = 2))\n",
       "\n",
       "Deviance Residuals: \n",
       "    Min       1Q   Median       3Q      Max  \n",
       "-1.9650  -0.6254  -0.1288   0.5803   2.2700  \n",
       "\n",
       "Coefficients:\n",
       "                     Estimate Std. Error t value Pr(>|t|)    \n",
       "(Intercept)           -1.5500     0.0958  -16.18  < 2e-16 ***\n",
       "poly(x, degree = 2)1   6.1888     0.9580    6.46 4.18e-09 ***\n",
       "poly(x, degree = 2)2 -23.9483     0.9580  -25.00  < 2e-16 ***\n",
       "---\n",
       "Signif. codes:  0 '***' 0.001 '**' 0.01 '*' 0.05 '.' 0.1 ' ' 1\n",
       "\n",
       "(Dispersion parameter for gaussian family taken to be 0.9178258)\n",
       "\n",
       "    Null deviance: 700.852  on 99  degrees of freedom\n",
       "Residual deviance:  89.029  on 97  degrees of freedom\n",
       "AIC: 280.17\n",
       "\n",
       "Number of Fisher Scoring iterations: 2\n"
      ]
     },
     "metadata": {},
     "output_type": "display_data"
    }
   ],
   "source": [
    "summary(glm(y~poly(x,degree=2)))"
   ]
  },
  {
   "cell_type": "code",
   "execution_count": 21,
   "id": "42622f33",
   "metadata": {},
   "outputs": [
    {
     "data": {
      "text/plain": [
       "\n",
       "Call:\n",
       "glm(formula = y ~ poly(x, degree = 3))\n",
       "\n",
       "Deviance Residuals: \n",
       "    Min       1Q   Median       3Q      Max  \n",
       "-1.9765  -0.6302  -0.1227   0.5545   2.2843  \n",
       "\n",
       "Coefficients:\n",
       "                      Estimate Std. Error t value Pr(>|t|)    \n",
       "(Intercept)           -1.55002    0.09626 -16.102  < 2e-16 ***\n",
       "poly(x, degree = 3)1   6.18883    0.96263   6.429 4.97e-09 ***\n",
       "poly(x, degree = 3)2 -23.94830    0.96263 -24.878  < 2e-16 ***\n",
       "poly(x, degree = 3)3   0.26411    0.96263   0.274    0.784    \n",
       "---\n",
       "Signif. codes:  0 '***' 0.001 '**' 0.01 '*' 0.05 '.' 0.1 ' ' 1\n",
       "\n",
       "(Dispersion parameter for gaussian family taken to be 0.9266599)\n",
       "\n",
       "    Null deviance: 700.852  on 99  degrees of freedom\n",
       "Residual deviance:  88.959  on 96  degrees of freedom\n",
       "AIC: 282.09\n",
       "\n",
       "Number of Fisher Scoring iterations: 2\n"
      ]
     },
     "metadata": {},
     "output_type": "display_data"
    }
   ],
   "source": [
    "summary(glm(y~poly(x,degree=3)))"
   ]
  },
  {
   "cell_type": "code",
   "execution_count": 22,
   "id": "85780e92",
   "metadata": {},
   "outputs": [
    {
     "data": {
      "text/plain": [
       "\n",
       "Call:\n",
       "glm(formula = y ~ poly(x, degree = 4))\n",
       "\n",
       "Deviance Residuals: \n",
       "    Min       1Q   Median       3Q      Max  \n",
       "-2.0550  -0.6212  -0.1567   0.5952   2.2267  \n",
       "\n",
       "Coefficients:\n",
       "                      Estimate Std. Error t value Pr(>|t|)    \n",
       "(Intercept)           -1.55002    0.09591 -16.162  < 2e-16 ***\n",
       "poly(x, degree = 4)1   6.18883    0.95905   6.453 4.59e-09 ***\n",
       "poly(x, degree = 4)2 -23.94830    0.95905 -24.971  < 2e-16 ***\n",
       "poly(x, degree = 4)3   0.26411    0.95905   0.275    0.784    \n",
       "poly(x, degree = 4)4   1.25710    0.95905   1.311    0.193    \n",
       "---\n",
       "Signif. codes:  0 '***' 0.001 '**' 0.01 '*' 0.05 '.' 0.1 ' ' 1\n",
       "\n",
       "(Dispersion parameter for gaussian family taken to be 0.9197797)\n",
       "\n",
       "    Null deviance: 700.852  on 99  degrees of freedom\n",
       "Residual deviance:  87.379  on 95  degrees of freedom\n",
       "AIC: 282.3\n",
       "\n",
       "Number of Fisher Scoring iterations: 2\n"
      ]
     },
     "metadata": {},
     "output_type": "display_data"
    }
   ],
   "source": [
    "summary(glm(y~poly(x,degree=4)))"
   ]
  },
  {
   "cell_type": "code",
   "execution_count": 23,
   "id": "0d0592b1",
   "metadata": {},
   "outputs": [],
   "source": [
    "# Degree=1 and 2 coefficients are statistically significant."
   ]
  },
  {
   "cell_type": "markdown",
   "id": "10bcea4f",
   "metadata": {},
   "source": [
    "## Exercise 1 (p.259, Chap.6)"
   ]
  },
  {
   "cell_type": "markdown",
   "id": "e20f5b17",
   "metadata": {},
   "source": [
    "#### 1. We perform best subset, forward stepwise, and backward stepwise selection on a single data set. For each approach, we obtain p + 1 models, containing 0, 1, 2,...,p predictors. Explain your answers:"
   ]
  },
  {
   "cell_type": "markdown",
   "id": "9bdf0d84",
   "metadata": {},
   "source": [
    "#### (a) Which of the three models with k predictors has the smallest training RSS?"
   ]
  },
  {
   "cell_type": "code",
   "execution_count": 24,
   "id": "4337858f",
   "metadata": {},
   "outputs": [],
   "source": [
    "# Best subset selection has the smallest training RSS because the other two methods determine models with a path dependency on which predictors they pick first as they iterate to the k'th model."
   ]
  },
  {
   "cell_type": "markdown",
   "id": "9efd1c59",
   "metadata": {},
   "source": [
    "#### (b) Which of the three models with k predictors has the smallest test RSS?"
   ]
  },
  {
   "cell_type": "code",
   "execution_count": 25,
   "id": "9ad0b17d",
   "metadata": {},
   "outputs": [],
   "source": [
    "# Best subset selection may have the smallest test RSS because it considers more models then the other methods. But we have to use cross-validation "
   ]
  },
  {
   "cell_type": "markdown",
   "id": "5c9c781a",
   "metadata": {},
   "source": [
    "#### (c) True or False:"
   ]
  },
  {
   "cell_type": "markdown",
   "id": "f9a2d0b8",
   "metadata": {},
   "source": [
    "#### i. The predictors in the k-variable model identified by forward stepwise are a subset of the predictors in the (k+1)-variable model identified by forward stepwise selection."
   ]
  },
  {
   "cell_type": "code",
   "execution_count": 26,
   "id": "23ce9c13",
   "metadata": {},
   "outputs": [],
   "source": [
    "# True"
   ]
  },
  {
   "cell_type": "markdown",
   "id": "a1c951ab",
   "metadata": {},
   "source": [
    "#### ii. The predictors in the k-variable model identified by backward stepwise are a subset of the predictors in the (k + 1)-variable model identified by backward stepwise selection."
   ]
  },
  {
   "cell_type": "code",
   "execution_count": 27,
   "id": "5850a597",
   "metadata": {},
   "outputs": [],
   "source": [
    "# True"
   ]
  },
  {
   "cell_type": "markdown",
   "id": "853cb8c3",
   "metadata": {},
   "source": [
    "#### iii. The predictors in the k-variable model identified by backward stepwise are a subset of the predictors in the (k + 1)-variable model identified by forward stepwise selection."
   ]
  },
  {
   "cell_type": "code",
   "execution_count": 28,
   "id": "89868d85",
   "metadata": {},
   "outputs": [],
   "source": [
    "# False"
   ]
  },
  {
   "cell_type": "markdown",
   "id": "b3b22030",
   "metadata": {},
   "source": [
    "#### iv. The predictors in the k-variable model identified by forward stepwise are a subset of the predictors in the (k+1)-variable model identified by backward stepwise selection."
   ]
  },
  {
   "cell_type": "code",
   "execution_count": 29,
   "id": "066b59dd",
   "metadata": {},
   "outputs": [],
   "source": [
    "# False"
   ]
  },
  {
   "cell_type": "markdown",
   "id": "73bd591a",
   "metadata": {},
   "source": [
    "#### v. The predictors in the k-variable model identified by best subset are a subset of the predictors in the (k + 1)-variable model identified by best subset selection."
   ]
  },
  {
   "cell_type": "code",
   "execution_count": 30,
   "id": "82f6b645",
   "metadata": {},
   "outputs": [],
   "source": [
    "# False"
   ]
  },
  {
   "cell_type": "markdown",
   "id": "4c995463",
   "metadata": {},
   "source": [
    "## Exercise 9 (p.263, Chap.6)"
   ]
  },
  {
   "cell_type": "markdown",
   "id": "6872e7af",
   "metadata": {},
   "source": [
    "#### 9. In this exercise, we will predict the number of applications received using the other variables in the College data set."
   ]
  },
  {
   "cell_type": "markdown",
   "id": "474b876c",
   "metadata": {},
   "source": [
    "#### (a) Split the data set into a training set and a test set."
   ]
  },
  {
   "cell_type": "code",
   "execution_count": 31,
   "id": "29e1eb27",
   "metadata": {},
   "outputs": [
    {
     "data": {
      "text/html": [
       "0"
      ],
      "text/latex": [
       "0"
      ],
      "text/markdown": [
       "0"
      ],
      "text/plain": [
       "[1] 0"
      ]
     },
     "metadata": {},
     "output_type": "display_data"
    }
   ],
   "source": [
    "library(ISLR)\n",
    "set.seed(11)\n",
    "sum(is.na(College))"
   ]
  },
  {
   "cell_type": "code",
   "execution_count": 32,
   "id": "24ccc44e",
   "metadata": {},
   "outputs": [],
   "source": [
    "train.size = dim(College)[1] / 2\n",
    "train = sample(1:dim(College)[1], train.size)\n",
    "test = -train\n",
    "College.train = College[train, ]\n",
    "College.test = College[test, ]"
   ]
  },
  {
   "cell_type": "markdown",
   "id": "3680526c",
   "metadata": {},
   "source": [
    "#### (b) Fit a linear model using least squares on the training set, and report the test error obtained."
   ]
  },
  {
   "cell_type": "code",
   "execution_count": 33,
   "id": "657b33e5",
   "metadata": {},
   "outputs": [
    {
     "data": {
      "text/html": [
       "1026095.92589411"
      ],
      "text/latex": [
       "1026095.92589411"
      ],
      "text/markdown": [
       "1026095.92589411"
      ],
      "text/plain": [
       "[1] 1026096"
      ]
     },
     "metadata": {},
     "output_type": "display_data"
    }
   ],
   "source": [
    "lm.fit = lm(Apps~., data=College.train)\n",
    "lm.pred = predict(lm.fit, College.test)\n",
    "mean((College.test[, \"Apps\"] - lm.pred)^2)"
   ]
  },
  {
   "cell_type": "markdown",
   "id": "88300fa4",
   "metadata": {},
   "source": [
    "#### (c) Fit a ridge regression model on the training set, with λ chosen by cross-validation. Report the test error obtained."
   ]
  },
  {
   "cell_type": "code",
   "execution_count": 34,
   "id": "8260eb64",
   "metadata": {},
   "outputs": [
    {
     "name": "stderr",
     "output_type": "stream",
     "text": [
      "Loading required package: Matrix\n",
      "\n",
      "Loaded glmnet 4.1-2\n",
      "\n"
     ]
    }
   ],
   "source": [
    "library(glmnet)"
   ]
  },
  {
   "cell_type": "code",
   "execution_count": 35,
   "id": "9101e3df",
   "metadata": {},
   "outputs": [
    {
     "data": {
      "text/html": [
       "0.01"
      ],
      "text/latex": [
       "0.01"
      ],
      "text/markdown": [
       "0.01"
      ],
      "text/plain": [
       "[1] 0.01"
      ]
     },
     "metadata": {},
     "output_type": "display_data"
    }
   ],
   "source": [
    "train.mat = model.matrix(Apps~., data=College.train)\n",
    "test.mat = model.matrix(Apps~., data=College.test)\n",
    "grid = 10 ^ seq(4, -2, length=100)\n",
    "mod.ridge = cv.glmnet(train.mat, College.train[, \"Apps\"], alpha=0, lambda=grid, thresh=1e-12)\n",
    "lambda.best = mod.ridge$lambda.min\n",
    "lambda.best"
   ]
  },
  {
   "cell_type": "code",
   "execution_count": 36,
   "id": "25bee4d1",
   "metadata": {},
   "outputs": [
    {
     "data": {
      "text/html": [
       "1026068.65314469"
      ],
      "text/latex": [
       "1026068.65314469"
      ],
      "text/markdown": [
       "1026068.65314469"
      ],
      "text/plain": [
       "[1] 1026069"
      ]
     },
     "metadata": {},
     "output_type": "display_data"
    }
   ],
   "source": [
    "ridge.pred = predict(mod.ridge, newx=test.mat, s=lambda.best)\n",
    "mean((College.test[, \"Apps\"] - ridge.pred)^2)"
   ]
  },
  {
   "cell_type": "markdown",
   "id": "ff89ac6c",
   "metadata": {},
   "source": [
    "#### (d) Fit a lasso model on the training set, with λ chosen by crossvalidation. Report the test error obtained, along with the number of non-zero coefficient estimates."
   ]
  },
  {
   "cell_type": "code",
   "execution_count": 37,
   "id": "5a78dc42",
   "metadata": {},
   "outputs": [
    {
     "data": {
      "text/html": [
       "0.01"
      ],
      "text/latex": [
       "0.01"
      ],
      "text/markdown": [
       "0.01"
      ],
      "text/plain": [
       "[1] 0.01"
      ]
     },
     "metadata": {},
     "output_type": "display_data"
    }
   ],
   "source": [
    "mod.lasso = cv.glmnet(train.mat, College.train[, \"Apps\"], alpha=1, lambda=grid, thresh=1e-12)\n",
    "lambda.best = mod.lasso$lambda.min\n",
    "lambda.best"
   ]
  },
  {
   "cell_type": "code",
   "execution_count": 38,
   "id": "6bf77cd3",
   "metadata": {},
   "outputs": [
    {
     "data": {
      "text/html": [
       "1026035.85789427"
      ],
      "text/latex": [
       "1026035.85789427"
      ],
      "text/markdown": [
       "1026035.85789427"
      ],
      "text/plain": [
       "[1] 1026036"
      ]
     },
     "metadata": {},
     "output_type": "display_data"
    }
   ],
   "source": [
    "lasso.pred = predict(mod.lasso, newx=test.mat, s=lambda.best)\n",
    "mean((College.test[, \"Apps\"] - lasso.pred)^2)"
   ]
  },
  {
   "cell_type": "code",
   "execution_count": 39,
   "id": "3bada19a",
   "metadata": {},
   "outputs": [
    {
     "data": {
      "text/plain": [
       "19 x 1 sparse Matrix of class \"dgCMatrix\"\n",
       "                       s1\n",
       "(Intercept) -471.39372069\n",
       "(Intercept)    .         \n",
       "PrivateYes  -491.04485135\n",
       "Accept         1.57033288\n",
       "Enroll        -0.75961467\n",
       "Top10perc     48.14698891\n",
       "Top25perc    -12.84690694\n",
       "F.Undergrad    0.04149116\n",
       "P.Undergrad    0.04438973\n",
       "Outstate      -0.08328388\n",
       "Room.Board     0.14943472\n",
       "Books          0.01532293\n",
       "Personal       0.02909954\n",
       "PhD           -8.39597537\n",
       "Terminal      -3.26800340\n",
       "S.F.Ratio     14.59298267\n",
       "perc.alumni   -0.04404771\n",
       "Expend         0.07712632\n",
       "Grad.Rate      8.28950241"
      ]
     },
     "metadata": {},
     "output_type": "display_data"
    }
   ],
   "source": [
    "mod.lasso = glmnet(model.matrix(Apps~., data=College), College[, \"Apps\"], alpha=1)\n",
    "predict(mod.lasso, s=lambda.best, type=\"coefficients\")"
   ]
  },
  {
   "cell_type": "markdown",
   "id": "06ba5253",
   "metadata": {},
   "source": [
    "#### (e) Fit a PCR model on the training set, with M chosen by crossvalidation. Report the test error obtained, along with the value of M selected by cross-validation."
   ]
  },
  {
   "cell_type": "code",
   "execution_count": 40,
   "id": "7a9bd73f",
   "metadata": {},
   "outputs": [
    {
     "name": "stderr",
     "output_type": "stream",
     "text": [
      "\n",
      "Attaching package: 'pls'\n",
      "\n",
      "\n",
      "The following object is masked from 'package:stats':\n",
      "\n",
      "    loadings\n",
      "\n",
      "\n"
     ]
    }
   ],
   "source": [
    "library(pls)"
   ]
  },
  {
   "cell_type": "code",
   "execution_count": 41,
   "id": "18776958",
   "metadata": {},
   "outputs": [
    {
     "data": {
      "image/png": "[encoded data removed]",
      "text/plain": [
       "Plot with title \"Apps\""
      ]
     },
     "metadata": {
      "image/png": {
       "height": 420,
       "width": 420
      }
     },
     "output_type": "display_data"
    }
   ],
   "source": [
    "pcr.fit = pcr(Apps~., data=College.train, scale=T, validation=\"CV\")\n",
    "validationplot(pcr.fit, val.type=\"MSEP\")"
   ]
  },
  {
   "cell_type": "code",
   "execution_count": 42,
   "id": "fabc5487",
   "metadata": {},
   "outputs": [
    {
     "name": "stderr",
     "output_type": "stream",
     "text": [
      "Warning message in mean.default((College.test[, \"Apps\"] - data.frame(pcr.pred))^2):\n",
      "\"argument is not numeric or logical: returning NA\"\n"
     ]
    },
    {
     "data": {
      "text/html": [
       "&lt;NA&gt;"
      ],
      "text/latex": [
       "<NA>"
      ],
      "text/markdown": [
       "&lt;NA&gt;"
      ],
      "text/plain": [
       "[1] NA"
      ]
     },
     "metadata": {},
     "output_type": "display_data"
    }
   ],
   "source": [
    "pcr.pred = predict(pcr.fit, College.test, ncomp=10)\n",
    "mean((College.test[, \"Apps\"] - data.frame(pcr.pred))^2)"
   ]
  },
  {
   "cell_type": "code",
   "execution_count": null,
   "id": "39f94ef2",
   "metadata": {},
   "outputs": [],
   "source": []
  },
  {
   "cell_type": "code",
   "execution_count": null,
   "id": "24a85ad7",
   "metadata": {},
   "outputs": [],
   "source": []
  },
  {
   "cell_type": "markdown",
   "id": "630a23fc",
   "metadata": {},
   "source": [
    "#### (f) Fit a PLS model on the training set, with M chosen by crossvalidation. Report the test error obtained, along with the value of M selected by cross-validation."
   ]
  },
  {
   "cell_type": "code",
   "execution_count": 43,
   "id": "05df20d5",
   "metadata": {},
   "outputs": [
    {
     "data": {
      "image/png": "[encoded data removed]",
      "text/plain": [
       "Plot with title \"Apps\""
      ]
     },
     "metadata": {
      "image/png": {
       "height": 420,
       "width": 420
      }
     },
     "output_type": "display_data"
    }
   ],
   "source": [
    "pls.fit = plsr(Apps~., data=College.train, scale=T, validation=\"CV\")\n",
    "validationplot(pls.fit, val.type=\"MSEP\")"
   ]
  },
  {
   "cell_type": "code",
   "execution_count": 44,
   "id": "db8b08a8",
   "metadata": {},
   "outputs": [
    {
     "name": "stderr",
     "output_type": "stream",
     "text": [
      "Warning message in mean.default((College.test[, \"Apps\"] - data.frame(pls.pred))^2):\n",
      "\"argument is not numeric or logical: returning NA\"\n"
     ]
    },
    {
     "data": {
      "text/html": [
       "&lt;NA&gt;"
      ],
      "text/latex": [
       "<NA>"
      ],
      "text/markdown": [
       "&lt;NA&gt;"
      ],
      "text/plain": [
       "[1] NA"
      ]
     },
     "metadata": {},
     "output_type": "display_data"
    }
   ],
   "source": [
    "pls.pred = predict(pls.fit, College.test, ncomp=10)\n",
    "mean((College.test[, \"Apps\"] - data.frame(pls.pred))^2)"
   ]
  },
  {
   "cell_type": "markdown",
   "id": "e3d8cf46",
   "metadata": {},
   "source": [
    "#### (g) Comment on the results obtained. How accurately can we predict the number of college applications received? Is there much difference among the test errors resulting from these five approaches?"
   ]
  },
  {
   "cell_type": "code",
   "execution_count": 45,
   "id": "327dfe8a",
   "metadata": {},
   "outputs": [
    {
     "name": "stderr",
     "output_type": "stream",
     "text": [
      "Warning message in mean.default((College.test[, \"Apps\"] - data.frame(pcr.pred))^2):\n",
      "\"argument is not numeric or logical: returning NA\"\n",
      "Warning message in mean.default((College.test[, \"Apps\"] - data.frame(pls.pred))^2):\n",
      "\"argument is not numeric or logical: returning NA\"\n"
     ]
    },
    {
     "data": {
      "image/png": "[encoded data removed]",
      "text/plain": [
       "Plot with title \"Test R-squared\""
      ]
     },
     "metadata": {
      "image/png": {
       "height": 420,
       "width": 420
      }
     },
     "output_type": "display_data"
    }
   ],
   "source": [
    "test.avg = mean(College.test[, \"Apps\"])\n",
    "lm.test.r2 = 1 - mean((College.test[, \"Apps\"] - lm.pred)^2) /mean((College.test[, \"Apps\"] - test.avg)^2)\n",
    "ridge.test.r2 = 1 - mean((College.test[, \"Apps\"] - ridge.pred)^2) /mean((College.test[, \"Apps\"] - test.avg)^2)\n",
    "lasso.test.r2 = 1 - mean((College.test[, \"Apps\"] - lasso.pred)^2) /mean((College.test[, \"Apps\"] - test.avg)^2)\n",
    "pcr.test.r2 = 1 - mean((College.test[, \"Apps\"] - data.frame(pcr.pred))^2) /mean((College.test[, \"Apps\"] - test.avg)^2)\n",
    "pls.test.r2 = 1 - mean((College.test[, \"Apps\"] - data.frame(pls.pred))^2) /mean((College.test[, \"Apps\"] - test.avg)^2)\n",
    "barplot(c(lm.test.r2, ridge.test.r2, lasso.test.r2, pcr.test.r2, pls.test.r2), col=\"red\", names.arg=c(\"OLS\", \"Ridge\", \"Lasso\", \"PCR\", \"PLS\"), main=\"Test R-squared\")"
   ]
  },
  {
   "cell_type": "code",
   "execution_count": 46,
   "id": "877ec08c",
   "metadata": {},
   "outputs": [],
   "source": [
    "# The plot shows that test R2R2 for all models except PCR are around 0.9, with PLS having slightly higher test R2R2 than others. PCR has a smaller test R2R2 of less than 0.8. All models except PCR predict college applications with high accuracy."
   ]
  },
  {
   "cell_type": "markdown",
   "id": "f3ad45cc",
   "metadata": {},
   "source": [
    "## Exercise 9 (p.299, Chap.7)"
   ]
  },
  {
   "cell_type": "markdown",
   "id": "1f6801a8",
   "metadata": {},
   "source": [
    "####  9. This question uses the variables dis (the weighted mean of distances to five Boston employment centers) and nox (nitrogen oxides concentration in parts per 10 million) from the Boston data. We will treat dis as the predictor and nox as the response."
   ]
  },
  {
   "cell_type": "markdown",
   "id": "b0c85e6d",
   "metadata": {},
   "source": [
    "#### (a) Use the poly() function to fit a cubic polynomial regression to predict nox using dis. Report the regression output, and plot the resulting data and polynomial fits."
   ]
  },
  {
   "cell_type": "code",
   "execution_count": 47,
   "id": "7df335bd",
   "metadata": {},
   "outputs": [],
   "source": [
    "set.seed(1)\n",
    "library(MASS)\n",
    "attach(Boston)"
   ]
  },
  {
   "cell_type": "code",
   "execution_count": 48,
   "id": "d936cfd8",
   "metadata": {},
   "outputs": [
    {
     "data": {
      "text/plain": [
       "\n",
       "Call:\n",
       "lm(formula = nox ~ poly(dis, 3), data = Boston)\n",
       "\n",
       "Residuals:\n",
       "      Min        1Q    Median        3Q       Max \n",
       "-0.121130 -0.040619 -0.009738  0.023385  0.194904 \n",
       "\n",
       "Coefficients:\n",
       "               Estimate Std. Error t value Pr(>|t|)    \n",
       "(Intercept)    0.554695   0.002759 201.021  < 2e-16 ***\n",
       "poly(dis, 3)1 -2.003096   0.062071 -32.271  < 2e-16 ***\n",
       "poly(dis, 3)2  0.856330   0.062071  13.796  < 2e-16 ***\n",
       "poly(dis, 3)3 -0.318049   0.062071  -5.124 4.27e-07 ***\n",
       "---\n",
       "Signif. codes:  0 '***' 0.001 '**' 0.01 '*' 0.05 '.' 0.1 ' ' 1\n",
       "\n",
       "Residual standard error: 0.06207 on 502 degrees of freedom\n",
       "Multiple R-squared:  0.7148,\tAdjusted R-squared:  0.7131 \n",
       "F-statistic: 419.3 on 3 and 502 DF,  p-value: < 2.2e-16\n"
      ]
     },
     "metadata": {},
     "output_type": "display_data"
    }
   ],
   "source": [
    "lm.fit = lm(nox ~ poly(dis, 3), data = Boston)\n",
    "summary(lm.fit)"
   ]
  },
  {
   "cell_type": "code",
   "execution_count": 49,
   "id": "280bf209",
   "metadata": {},
   "outputs": [
    {
     "data": {
      "image/png": "[encoded data removed]",
      "text/plain": [
       "plot without title"
      ]
     },
     "metadata": {
      "image/png": {
       "height": 420,
       "width": 420
      }
     },
     "output_type": "display_data"
    }
   ],
   "source": [
    "dislim = range(dis)\n",
    "dis.grid = seq(from = dislim[1], to = dislim[2], by = 0.1)\n",
    "lm.pred = predict(lm.fit, list(dis = dis.grid))\n",
    "plot(nox ~ dis, data = Boston, col = \"darkgrey\")\n",
    "lines(dis.grid, lm.pred, col = \"red\", lwd = 2)"
   ]
  },
  {
   "cell_type": "markdown",
   "id": "59c82d26",
   "metadata": {},
   "source": [
    "#### (b) Plot the polynomial fits for a range of different polynomial degrees (say, from 1 to 10), and report the associated residual sum of squares."
   ]
  },
  {
   "cell_type": "code",
   "execution_count": 50,
   "id": "bb6fc53a",
   "metadata": {},
   "outputs": [
    {
     "data": {
      "text/html": [
       "<style>\n",
       ".list-inline {list-style: none; margin:0; padding: 0}\n",
       ".list-inline>li {display: inline-block}\n",
       ".list-inline>li:not(:last-child)::after {content: \"\\00b7\"; padding: 0 .5ex}\n",
       "</style>\n",
       "<ol class=list-inline><li>2.76856285896928</li><li>2.03526186893526</li><li>1.93410670717907</li><li>1.93298132729859</li><li>1.9152899610843</li><li>1.87825729850816</li><li>1.84948361458298</li><li>1.83562968906769</li><li>1.83333080449159</li><li>1.83217112393134</li></ol>\n"
      ],
      "text/latex": [
       "\\begin{enumerate*}\n",
       "\\item 2.76856285896928\n",
       "\\item 2.03526186893526\n",
       "\\item 1.93410670717907\n",
       "\\item 1.93298132729859\n",
       "\\item 1.9152899610843\n",
       "\\item 1.87825729850816\n",
       "\\item 1.84948361458298\n",
       "\\item 1.83562968906769\n",
       "\\item 1.83333080449159\n",
       "\\item 1.83217112393134\n",
       "\\end{enumerate*}\n"
      ],
      "text/markdown": [
       "1. 2.76856285896928\n",
       "2. 2.03526186893526\n",
       "3. 1.93410670717907\n",
       "4. 1.93298132729859\n",
       "5. 1.9152899610843\n",
       "6. 1.87825729850816\n",
       "7. 1.84948361458298\n",
       "8. 1.83562968906769\n",
       "9. 1.83333080449159\n",
       "10. 1.83217112393134\n",
       "\n",
       "\n"
      ],
      "text/plain": [
       " [1] 2.768563 2.035262 1.934107 1.932981 1.915290 1.878257 1.849484 1.835630\n",
       " [9] 1.833331 1.832171"
      ]
     },
     "metadata": {},
     "output_type": "display_data"
    }
   ],
   "source": [
    "all.rss = rep(NA, 10)\n",
    "for (i in 1:10) {\n",
    "    lm.fit = lm(nox ~ poly(dis, i), data = Boston)\n",
    "    all.rss[i] = sum(lm.fit$residuals^2)\n",
    "}\n",
    "all.rss"
   ]
  },
  {
   "cell_type": "markdown",
   "id": "482d7db6",
   "metadata": {},
   "source": [
    "#### (c) Perform cross-validation or another approach to select the optimal degree for the polynomial, and explain your results."
   ]
  },
  {
   "cell_type": "code",
   "execution_count": 51,
   "id": "de4d8d18",
   "metadata": {},
   "outputs": [
    {
     "data": {
      "image/png": "[encoded data removed]",
      "text/plain": [
       "plot without title"
      ]
     },
     "metadata": {
      "image/png": {
       "height": 420,
       "width": 420
      }
     },
     "output_type": "display_data"
    }
   ],
   "source": [
    "library(boot)\n",
    "all.deltas = rep(NA, 10)\n",
    "for (i in 1:10) {\n",
    "    glm.fit = glm(nox ~ poly(dis, i), data = Boston)\n",
    "    all.deltas[i] = cv.glm(Boston, glm.fit, K = 10)$delta[2]\n",
    "}\n",
    "plot(1:10, all.deltas, xlab = \"Degree\", ylab = \"CV error\", type = \"l\", pch = 20, \n",
    "    lwd = 2)"
   ]
  },
  {
   "cell_type": "markdown",
   "id": "6e4578bc",
   "metadata": {},
   "source": [
    "#### (d) Use the bs() function to fit a regression spline to predict nox using dis. Report the output for the fit using four degrees of freedom. How did you choose the knots? Plot the resulting fit."
   ]
  },
  {
   "cell_type": "code",
   "execution_count": 52,
   "id": "1fc384e6",
   "metadata": {},
   "outputs": [
    {
     "data": {
      "text/plain": [
       "\n",
       "Call:\n",
       "lm(formula = nox ~ bs(dis, df = 4, knots = c(4, 7, 11)), data = Boston)\n",
       "\n",
       "Residuals:\n",
       "      Min        1Q    Median        3Q       Max \n",
       "-0.124567 -0.040355 -0.008702  0.024740  0.192920 \n",
       "\n",
       "Coefficients:\n",
       "                                      Estimate Std. Error t value Pr(>|t|)    \n",
       "(Intercept)                            0.73926    0.01331  55.537  < 2e-16 ***\n",
       "bs(dis, df = 4, knots = c(4, 7, 11))1 -0.08861    0.02504  -3.539  0.00044 ***\n",
       "bs(dis, df = 4, knots = c(4, 7, 11))2 -0.31341    0.01680 -18.658  < 2e-16 ***\n",
       "bs(dis, df = 4, knots = c(4, 7, 11))3 -0.26618    0.03147  -8.459 3.00e-16 ***\n",
       "bs(dis, df = 4, knots = c(4, 7, 11))4 -0.39802    0.04647  -8.565  < 2e-16 ***\n",
       "bs(dis, df = 4, knots = c(4, 7, 11))5 -0.25681    0.09001  -2.853  0.00451 ** \n",
       "bs(dis, df = 4, knots = c(4, 7, 11))6 -0.32926    0.06327  -5.204 2.85e-07 ***\n",
       "---\n",
       "Signif. codes:  0 '***' 0.001 '**' 0.01 '*' 0.05 '.' 0.1 ' ' 1\n",
       "\n",
       "Residual standard error: 0.06185 on 499 degrees of freedom\n",
       "Multiple R-squared:  0.7185,\tAdjusted R-squared:  0.7151 \n",
       "F-statistic: 212.3 on 6 and 499 DF,  p-value: < 2.2e-16\n"
      ]
     },
     "metadata": {},
     "output_type": "display_data"
    }
   ],
   "source": [
    "library(splines)\n",
    "sp.fit = lm(nox ~ bs(dis, df = 4, knots = c(4, 7, 11)), data = Boston)\n",
    "summary(sp.fit)"
   ]
  },
  {
   "cell_type": "code",
   "execution_count": 53,
   "id": "8ba83549",
   "metadata": {},
   "outputs": [
    {
     "data": {
      "image/png": "[encoded data removed]",
      "text/plain": [
       "plot without title"
      ]
     },
     "metadata": {
      "image/png": {
       "height": 420,
       "width": 420
      }
     },
     "output_type": "display_data"
    }
   ],
   "source": [
    "sp.pred = predict(sp.fit, list(dis = dis.grid))\n",
    "plot(nox ~ dis, data = Boston, col = \"darkgrey\")\n",
    "lines(dis.grid, sp.pred, col = \"red\", lwd = 2)"
   ]
  },
  {
   "cell_type": "markdown",
   "id": "ba65a2e8",
   "metadata": {},
   "source": [
    "#### (e) Now fit a regression spline for a range of degrees of freedom, and plot the resulting fits and report the resulting RSS. Describe the results obtained."
   ]
  },
  {
   "cell_type": "code",
   "execution_count": 54,
   "id": "06b63031",
   "metadata": {},
   "outputs": [
    {
     "data": {
      "text/html": [
       "<style>\n",
       ".list-inline {list-style: none; margin:0; padding: 0}\n",
       ".list-inline>li {display: inline-block}\n",
       ".list-inline>li:not(:last-child)::after {content: \"\\00b7\"; padding: 0 .5ex}\n",
       "</style>\n",
       "<ol class=list-inline><li>1.93410670717907</li><li>1.92277499281193</li><li>1.84017280148852</li><li>1.83396590316021</li><li>1.82988444592328</li><li>1.81699505672523</li><li>1.82565251038706</li><li>1.79253488955613</li><li>1.79699182173143</li><li>1.78899914528888</li><li>1.78235042874344</li><li>1.78183805686312</li><li>1.78279784044131</li><li>1.78354576630177</li></ol>\n"
      ],
      "text/latex": [
       "\\begin{enumerate*}\n",
       "\\item 1.93410670717907\n",
       "\\item 1.92277499281193\n",
       "\\item 1.84017280148852\n",
       "\\item 1.83396590316021\n",
       "\\item 1.82988444592328\n",
       "\\item 1.81699505672523\n",
       "\\item 1.82565251038706\n",
       "\\item 1.79253488955613\n",
       "\\item 1.79699182173143\n",
       "\\item 1.78899914528888\n",
       "\\item 1.78235042874344\n",
       "\\item 1.78183805686312\n",
       "\\item 1.78279784044131\n",
       "\\item 1.78354576630177\n",
       "\\end{enumerate*}\n"
      ],
      "text/markdown": [
       "1. 1.93410670717907\n",
       "2. 1.92277499281193\n",
       "3. 1.84017280148852\n",
       "4. 1.83396590316021\n",
       "5. 1.82988444592328\n",
       "6. 1.81699505672523\n",
       "7. 1.82565251038706\n",
       "8. 1.79253488955613\n",
       "9. 1.79699182173143\n",
       "10. 1.78899914528888\n",
       "11. 1.78235042874344\n",
       "12. 1.78183805686312\n",
       "13. 1.78279784044131\n",
       "14. 1.78354576630177\n",
       "\n",
       "\n"
      ],
      "text/plain": [
       " [1] 1.934107 1.922775 1.840173 1.833966 1.829884 1.816995 1.825653 1.792535\n",
       " [9] 1.796992 1.788999 1.782350 1.781838 1.782798 1.783546"
      ]
     },
     "metadata": {},
     "output_type": "display_data"
    }
   ],
   "source": [
    "all.cv = rep(NA, 16)\n",
    "for (i in 3:16) {\n",
    "    lm.fit = lm(nox ~ bs(dis, df = i), data = Boston)\n",
    "    all.cv[i] = sum(lm.fit$residuals^2)\n",
    "}\n",
    "all.cv[-c(1, 2)]"
   ]
  },
  {
   "cell_type": "markdown",
   "id": "3b3b3c96",
   "metadata": {},
   "source": [
    "#### (f) Perform cross-validation or another approach in order to select the best degrees of freedom for a regression spline on this data. Describe your results."
   ]
  },
  {
   "cell_type": "code",
   "execution_count": 55,
   "id": "dd6cd0a6",
   "metadata": {},
   "outputs": [
    {
     "name": "stderr",
     "output_type": "stream",
     "text": [
      "Warning message in bs(dis, degree = 3L, knots = numeric(0), Boundary.knots = c(1.1296, :\n",
      "\"some 'x' values beyond boundary knots may cause ill-conditioned bases\"\n",
      "Warning message in bs(dis, degree = 3L, knots = numeric(0), Boundary.knots = c(1.1296, :\n",
      "\"some 'x' values beyond boundary knots may cause ill-conditioned bases\"\n",
      "Warning message in bs(dis, degree = 3L, knots = numeric(0), Boundary.knots = c(1.137, :\n",
      "\"some 'x' values beyond boundary knots may cause ill-conditioned bases\"\n",
      "Warning message in bs(dis, degree = 3L, knots = numeric(0), Boundary.knots = c(1.137, :\n",
      "\"some 'x' values beyond boundary knots may cause ill-conditioned bases\"\n",
      "Warning message in bs(dis, degree = 3L, knots = c(`50%` = 3.0992), Boundary.knots = c(1.137, :\n",
      "\"some 'x' values beyond boundary knots may cause ill-conditioned bases\"\n",
      "Warning message in bs(dis, degree = 3L, knots = c(`50%` = 3.0992), Boundary.knots = c(1.137, :\n",
      "\"some 'x' values beyond boundary knots may cause ill-conditioned bases\"\n",
      "Warning message in bs(dis, degree = 3L, knots = c(`50%` = 3.2157), Boundary.knots = c(1.1296, :\n",
      "\"some 'x' values beyond boundary knots may cause ill-conditioned bases\"\n",
      "Warning message in bs(dis, degree = 3L, knots = c(`50%` = 3.2157), Boundary.knots = c(1.1296, :\n",
      "\"some 'x' values beyond boundary knots may cause ill-conditioned bases\"\n",
      "Warning message in bs(dis, degree = 3L, knots = c(`33.33333%` = 2.354, `66.66667%` = 4.2474:\n",
      "\"some 'x' values beyond boundary knots may cause ill-conditioned bases\"\n",
      "Warning message in bs(dis, degree = 3L, knots = c(`33.33333%` = 2.354, `66.66667%` = 4.2474:\n",
      "\"some 'x' values beyond boundary knots may cause ill-conditioned bases\"\n",
      "Warning message in bs(dis, degree = 3L, knots = c(`33.33333%` = 2.4212, `66.66667%` = 4.38856666666667:\n",
      "\"some 'x' values beyond boundary knots may cause ill-conditioned bases\"\n",
      "Warning message in bs(dis, degree = 3L, knots = c(`33.33333%` = 2.4212, `66.66667%` = 4.38856666666667:\n",
      "\"some 'x' values beyond boundary knots may cause ill-conditioned bases\"\n",
      "Warning message in bs(dis, degree = 3L, knots = c(`25%` = 2.1105, `50%` = 3.2721, :\n",
      "\"some 'x' values beyond boundary knots may cause ill-conditioned bases\"\n",
      "Warning message in bs(dis, degree = 3L, knots = c(`25%` = 2.1105, `50%` = 3.2721, :\n",
      "\"some 'x' values beyond boundary knots may cause ill-conditioned bases\"\n",
      "Warning message in bs(dis, degree = 3L, knots = c(`25%` = 2.1, `50%` = 3.1323, `75%` = 5.118:\n",
      "\"some 'x' values beyond boundary knots may cause ill-conditioned bases\"\n",
      "Warning message in bs(dis, degree = 3L, knots = c(`25%` = 2.1, `50%` = 3.1323, `75%` = 5.118:\n",
      "\"some 'x' values beyond boundary knots may cause ill-conditioned bases\"\n",
      "Warning message in bs(dis, degree = 3L, knots = c(`20%` = 1.92938, `40%` = 2.55946, :\n",
      "\"some 'x' values beyond boundary knots may cause ill-conditioned bases\"\n",
      "Warning message in bs(dis, degree = 3L, knots = c(`20%` = 1.92938, `40%` = 2.55946, :\n",
      "\"some 'x' values beyond boundary knots may cause ill-conditioned bases\"\n",
      "Warning message in bs(dis, degree = 3L, knots = c(`20%` = 1.93736, `40%` = 2.59666, :\n",
      "\"some 'x' values beyond boundary knots may cause ill-conditioned bases\"\n",
      "Warning message in bs(dis, degree = 3L, knots = c(`20%` = 1.93736, `40%` = 2.59666, :\n",
      "\"some 'x' values beyond boundary knots may cause ill-conditioned bases\"\n",
      "Warning message in bs(dis, degree = 3L, knots = c(`16.66667%` = 1.86156666666667, :\n",
      "\"some 'x' values beyond boundary knots may cause ill-conditioned bases\"\n",
      "Warning message in bs(dis, degree = 3L, knots = c(`16.66667%` = 1.86156666666667, :\n",
      "\"some 'x' values beyond boundary knots may cause ill-conditioned bases\"\n",
      "Warning message in bs(dis, degree = 3L, knots = c(`14.28571%` = 1.79777142857143, :\n",
      "\"some 'x' values beyond boundary knots may cause ill-conditioned bases\"\n",
      "Warning message in bs(dis, degree = 3L, knots = c(`14.28571%` = 1.79777142857143, :\n",
      "\"some 'x' values beyond boundary knots may cause ill-conditioned bases\"\n",
      "Warning message in bs(dis, degree = 3L, knots = c(`14.28571%` = 1.7936, `28.57143%` = 2.16771428571429, :\n",
      "\"some 'x' values beyond boundary knots may cause ill-conditioned bases\"\n",
      "Warning message in bs(dis, degree = 3L, knots = c(`14.28571%` = 1.7936, `28.57143%` = 2.16771428571429, :\n",
      "\"some 'x' values beyond boundary knots may cause ill-conditioned bases\"\n",
      "Warning message in bs(dis, degree = 3L, knots = c(`12.5%` = 1.734325, `25%` = 2.0941, :\n",
      "\"some 'x' values beyond boundary knots may cause ill-conditioned bases\"\n",
      "Warning message in bs(dis, degree = 3L, knots = c(`12.5%` = 1.734325, `25%` = 2.0941, :\n",
      "\"some 'x' values beyond boundary knots may cause ill-conditioned bases\"\n",
      "Warning message in bs(dis, degree = 3L, knots = c(`12.5%` = 1.751575, `25%` = 2.1084, :\n",
      "\"some 'x' values beyond boundary knots may cause ill-conditioned bases\"\n",
      "Warning message in bs(dis, degree = 3L, knots = c(`12.5%` = 1.751575, `25%` = 2.1084, :\n",
      "\"some 'x' values beyond boundary knots may cause ill-conditioned bases\"\n",
      "Warning message in bs(dis, degree = 3L, knots = c(`11.11111%` = 1.71552222222222, :\n",
      "\"some 'x' values beyond boundary knots may cause ill-conditioned bases\"\n",
      "Warning message in bs(dis, degree = 3L, knots = c(`11.11111%` = 1.71552222222222, :\n",
      "\"some 'x' values beyond boundary knots may cause ill-conditioned bases\"\n",
      "Warning message in bs(dis, degree = 3L, knots = c(`11.11111%` = 1.66286666666667, :\n",
      "\"some 'x' values beyond boundary knots may cause ill-conditioned bases\"\n",
      "Warning message in bs(dis, degree = 3L, knots = c(`11.11111%` = 1.66286666666667, :\n",
      "\"some 'x' values beyond boundary knots may cause ill-conditioned bases\"\n",
      "Warning message in bs(dis, degree = 3L, knots = c(`10%` = 1.62008, `20%` = 1.92938, :\n",
      "\"some 'x' values beyond boundary knots may cause ill-conditioned bases\"\n",
      "Warning message in bs(dis, degree = 3L, knots = c(`10%` = 1.62008, `20%` = 1.92938, :\n",
      "\"some 'x' values beyond boundary knots may cause ill-conditioned bases\"\n",
      "Warning message in bs(dis, degree = 3L, knots = c(`10%` = 1.6283, `20%` = 1.9512, :\n",
      "\"some 'x' values beyond boundary knots may cause ill-conditioned bases\"\n",
      "Warning message in bs(dis, degree = 3L, knots = c(`10%` = 1.6283, `20%` = 1.9512, :\n",
      "\"some 'x' values beyond boundary knots may cause ill-conditioned bases\"\n",
      "Warning message in bs(dis, degree = 3L, knots = c(`9.090909%` = 1.61225454545455, :\n",
      "\"some 'x' values beyond boundary knots may cause ill-conditioned bases\"\n",
      "Warning message in bs(dis, degree = 3L, knots = c(`9.090909%` = 1.61225454545455, :\n",
      "\"some 'x' values beyond boundary knots may cause ill-conditioned bases\"\n",
      "Warning message in bs(dis, degree = 3L, knots = c(`9.090909%` = 1.61066363636364, :\n",
      "\"some 'x' values beyond boundary knots may cause ill-conditioned bases\"\n",
      "Warning message in bs(dis, degree = 3L, knots = c(`9.090909%` = 1.61066363636364, :\n",
      "\"some 'x' values beyond boundary knots may cause ill-conditioned bases\"\n",
      "Warning message in bs(dis, degree = 3L, knots = c(`8.333333%` = 1.60476666666667, :\n",
      "\"some 'x' values beyond boundary knots may cause ill-conditioned bases\"\n",
      "Warning message in bs(dis, degree = 3L, knots = c(`8.333333%` = 1.60476666666667, :\n",
      "\"some 'x' values beyond boundary knots may cause ill-conditioned bases\"\n",
      "Warning message in bs(dis, degree = 3L, knots = c(`8.333333%` = 1.5881, `16.66667%` = 1.82231666666667, :\n",
      "\"some 'x' values beyond boundary knots may cause ill-conditioned bases\"\n",
      "Warning message in bs(dis, degree = 3L, knots = c(`8.333333%` = 1.5881, `16.66667%` = 1.82231666666667, :\n",
      "\"some 'x' values beyond boundary knots may cause ill-conditioned bases\"\n",
      "Warning message in bs(dis, degree = 3L, knots = c(`7.692308%` = 1.58949230769231, :\n",
      "\"some 'x' values beyond boundary knots may cause ill-conditioned bases\"\n",
      "Warning message in bs(dis, degree = 3L, knots = c(`7.692308%` = 1.58949230769231, :\n",
      "\"some 'x' values beyond boundary knots may cause ill-conditioned bases\"\n",
      "Warning message in bs(dis, degree = 3L, knots = c(`7.692308%` = 1.5741, `15.38462%` = 1.8209, :\n",
      "\"some 'x' values beyond boundary knots may cause ill-conditioned bases\"\n",
      "Warning message in bs(dis, degree = 3L, knots = c(`7.692308%` = 1.5741, `15.38462%` = 1.8209, :\n",
      "\"some 'x' values beyond boundary knots may cause ill-conditioned bases\"\n",
      "Warning message in bs(dis, degree = 3L, knots = c(`7.142857%` = 1.54201428571429, :\n",
      "\"some 'x' values beyond boundary knots may cause ill-conditioned bases\"\n"
     ]
    },
    {
     "name": "stderr",
     "output_type": "stream",
     "text": [
      "Warning message in bs(dis, degree = 3L, knots = c(`7.142857%` = 1.54201428571429, :\n",
      "\"some 'x' values beyond boundary knots may cause ill-conditioned bases\"\n",
      "Warning message in bs(dis, degree = 3L, knots = c(`7.142857%` = 1.5768, `14.28571%` = 1.81652857142857, :\n",
      "\"some 'x' values beyond boundary knots may cause ill-conditioned bases\"\n",
      "Warning message in bs(dis, degree = 3L, knots = c(`7.142857%` = 1.5768, `14.28571%` = 1.81652857142857, :\n",
      "\"some 'x' values beyond boundary knots may cause ill-conditioned bases\"\n"
     ]
    }
   ],
   "source": [
    "all.cv = rep(NA, 16)\n",
    "for (i in 3:16) {\n",
    "    lm.fit = glm(nox ~ bs(dis, df = i), data = Boston)\n",
    "    all.cv[i] = cv.glm(Boston, lm.fit, K = 10)$delta[2]\n",
    "}"
   ]
  },
  {
   "cell_type": "code",
   "execution_count": 56,
   "id": "f489751e",
   "metadata": {},
   "outputs": [
    {
     "data": {
      "image/png": "[encoded data removed]",
      "text/plain": [
       "plot without title"
      ]
     },
     "metadata": {
      "image/png": {
       "height": 420,
       "width": 420
      }
     },
     "output_type": "display_data"
    }
   ],
   "source": [
    "plot(3:16, all.cv[-c(1, 2)], lwd = 2, type = \"l\", xlab = \"df\", ylab = \"CV error\")"
   ]
  },
  {
   "cell_type": "markdown",
   "id": "94202d4b",
   "metadata": {},
   "source": [
    "## Exercise 10 (p.300, Chap.7)"
   ]
  },
  {
   "cell_type": "markdown",
   "id": "ddde38ab",
   "metadata": {},
   "source": [
    "#### 10. This question relates to the College data set."
   ]
  },
  {
   "cell_type": "markdown",
   "id": "6107d424",
   "metadata": {},
   "source": [
    "#### (a) Split the data into a training set and a test set. Using out-of-state tuition as the response and the other variables as the predictors, perform forward stepwise selection on the training set in order to identify a satisfactory model that uses just a subset of the predictors."
   ]
  },
  {
   "cell_type": "code",
   "execution_count": 57,
   "id": "9f87a648",
   "metadata": {},
   "outputs": [
    {
     "ename": "ERROR",
     "evalue": "Error in library(leaps): there is no package called 'leaps'\n",
     "output_type": "error",
     "traceback": [
      "Error in library(leaps): there is no package called 'leaps'\nTraceback:\n",
      "1. library(leaps)"
     ]
    }
   ],
   "source": [
    "set.seed(1)\n",
    "library(ISLR)\n",
    "library(leaps)\n",
    "attach(College)\n",
    "train = sample(length(Outstate), length(Outstate)/2)\n",
    "test = -train\n",
    "College.train = College[train, ]\n",
    "College.test = College[test, ]\n",
    "reg.fit = regsubsets(Outstate ~ ., data = College.train, nvmax = 17, method = \"forward\")\n",
    "reg.summary = summary(reg.fit)\n",
    "par(mfrow = c(1, 3))\n",
    "plot(reg.summary$cp, xlab = \"Number of Variables\", ylab = \"Cp\", type = \"l\")\n",
    "min.cp = min(reg.summary$cp)\n",
    "std.cp = sd(reg.summary$cp)\n",
    "abline(h = min.cp + 0.2 * std.cp, col = \"red\", lty = 2)\n",
    "abline(h = min.cp - 0.2 * std.cp, col = \"red\", lty = 2)\n",
    "plot(reg.summary$bic, xlab = \"Number of Variables\", ylab = \"BIC\", type = \"l\")\n",
    "min.bic = min(reg.summary$bic)\n",
    "std.bic = sd(reg.summary$bic)\n",
    "abline(h = min.bic + 0.2 * std.bic, col = \"red\", lty = 2)\n",
    "abline(h = min.bic - 0.2 * std.bic, col = \"red\", lty = 2)\n",
    "plot(reg.summary$adjr2, xlab = \"Number of Variables\", ylab = \"Adjusted R2\", \n",
    "    type = \"l\", ylim = c(0.4, 0.84))\n",
    "max.adjr2 = max(reg.summary$adjr2)\n",
    "std.adjr2 = sd(reg.summary$adjr2)\n",
    "abline(h = max.adjr2 + 0.2 * std.adjr2, col = \"red\", lty = 2)\n",
    "abline(h = max.adjr2 - 0.2 * std.adjr2, col = \"red\", lty = 2)"
   ]
  },
  {
   "cell_type": "code",
   "execution_count": null,
   "id": "7d5eb6fb",
   "metadata": {},
   "outputs": [],
   "source": [
    "reg.fit = regsubsets(Outstate ~ ., data = College, method = \"forward\")\n",
    "coefi = coef(reg.fit, id = 6)\n",
    "names(coefi)"
   ]
  },
  {
   "cell_type": "markdown",
   "id": "c744154b",
   "metadata": {},
   "source": [
    "#### (b) Fit a GAM on the training data, using out-of-state tuition as the response and the features selected in the previous step as the predictors. Plot the results, and explain your findings."
   ]
  },
  {
   "cell_type": "code",
   "execution_count": null,
   "id": "9bb2db77",
   "metadata": {},
   "outputs": [],
   "source": [
    "library(gam)"
   ]
  },
  {
   "cell_type": "code",
   "execution_count": null,
   "id": "66dc2d34",
   "metadata": {},
   "outputs": [],
   "source": [
    "gam.fit = gam(Outstate ~ Private + s(Room.Board, df = 2) + s(PhD, df = 2) + \n",
    "    s(perc.alumni, df = 2) + s(Expend, df = 5) + s(Grad.Rate, df = 2), data = College.train)\n",
    "par(mfrow = c(2, 3))\n",
    "plot(gam.fit, se = T, col = \"blue\")"
   ]
  },
  {
   "cell_type": "markdown",
   "id": "b334f11e",
   "metadata": {},
   "source": [
    "#### (c) Evaluate the model obtained on the test set, and explain the results obtained."
   ]
  },
  {
   "cell_type": "code",
   "execution_count": null,
   "id": "2a96f628",
   "metadata": {},
   "outputs": [],
   "source": [
    "gam.pred = predict(gam.fit, College.test)\n",
    "gam.err = mean((College.test$Outstate - gam.pred)^2)\n",
    "gam.err"
   ]
  },
  {
   "cell_type": "code",
   "execution_count": null,
   "id": "82ea7937",
   "metadata": {},
   "outputs": [],
   "source": [
    "gam.tss = mean((College.test$Outstate - mean(College.test$Outstate))^2)\n",
    "test.rss = 1 - gam.err/gam.tss\n",
    "test.rss"
   ]
  },
  {
   "cell_type": "markdown",
   "id": "41cc006a",
   "metadata": {},
   "source": [
    "#### (d) For which variables, if any, is there evidence of a non-linear relationship with the response?"
   ]
  },
  {
   "cell_type": "code",
   "execution_count": null,
   "id": "d23b1ded",
   "metadata": {},
   "outputs": [],
   "source": [
    "summary(gam.fit)"
   ]
  }
 ],
 "metadata": {
  "kernelspec": {
   "display_name": "R",
   "language": "R",
   "name": "ir"
  },
  "language_info": {
   "codemirror_mode": "r",
   "file_extension": ".r",
   "mimetype": "text/x-r-source",
   "name": "R",
   "pygments_lexer": "r",
   "version": "4.0.5"
  }
 },
 "nbformat": 4,
 "nbformat_minor": 5
}

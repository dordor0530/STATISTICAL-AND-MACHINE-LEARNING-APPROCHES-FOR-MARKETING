{
 "cells": [
  {
   "cell_type": "markdown",
   "id": "28e59e51",
   "metadata": {},
   "source": [
    "## Exercise 3 (p.198, Chap.5)"
   ]
  },
  {
   "cell_type": "markdown",
   "id": "d6e515fa",
   "metadata": {},
   "source": [
    "#### 3. We now review k-fold cross-validation."
   ]
  },
  {
   "cell_type": "markdown",
   "id": "9510925b",
   "metadata": {},
   "source": [
    "#### (a) Explain how k-fold cross-validation is implemented."
   ]
  },
  {
   "cell_type": "code",
   "execution_count": 1,
   "id": "a561fd20",
   "metadata": {},
   "outputs": [],
   "source": [
    "# randomly k-fold CV dividing the set of observations into k groups, or folds, of approximately equal size.\n",
    "# The mean squared error, MSE1, is then computed on the observations in the held-out fold, and this is the test error.\n",
    "# This procedure is repeated k times; each time, a different group of observations is treated as a validation set. This process results in k estimates of the test error,\n",
    "# MSE1, MSE2,..., MSEk. The k-fold CV estimate is computed by averaging these values."
   ]
  },
  {
   "cell_type": "markdown",
   "id": "16cb01f1",
   "metadata": {},
   "source": [
    "#### (b) What are the advantages and disadvantages of k-fold cross\u0002validation relative to:"
   ]
  },
  {
   "cell_type": "markdown",
   "id": "aeccbf3d",
   "metadata": {},
   "source": [
    "#### i. The validation set approach?"
   ]
  },
  {
   "cell_type": "code",
   "execution_count": 2,
   "id": "0cf5d4e8",
   "metadata": {},
   "outputs": [],
   "source": [
    "# advantage: computational, more feasible \n",
    "# very general approach that can be applied to almost any statistical learning method\n",
    "# not for special case when k is set to equal n"
   ]
  },
  {
   "cell_type": "markdown",
   "id": "3f5f3946",
   "metadata": {},
   "source": [
    "#### ii. LOOCV?"
   ]
  },
  {
   "cell_type": "code",
   "execution_count": 3,
   "id": "8cfa0a21",
   "metadata": {},
   "outputs": [],
   "source": [
    "# advantage: special case of k-fold CV in which k is set to equal n, computational\n",
    "# disadvantages: computationally expensive, may pose computational problems,"
   ]
  },
  {
   "cell_type": "markdown",
   "id": "3eed5d84",
   "metadata": {},
   "source": [
    "## Exercise 8 (p.200, Chap.5)"
   ]
  },
  {
   "cell_type": "markdown",
   "id": "27f97b56",
   "metadata": {},
   "source": [
    "#### We will now perform cross-validation on a simulated data set."
   ]
  },
  {
   "cell_type": "markdown",
   "id": "e865d440",
   "metadata": {},
   "source": [
    "#### (a) Generate a simulated data set as follows:\n",
    "#### > set.seed(1)\n",
    "#### > x=rnorm(100)\n",
    "#### > y=x-2*x^2+rnorm (100)\n",
    "#### In this data set, what is n and what is p? Write out the model used to generate the data in equation form."
   ]
  },
  {
   "cell_type": "code",
   "execution_count": 4,
   "id": "518087ee",
   "metadata": {},
   "outputs": [],
   "source": [
    "set.seed(1)\n",
    "x=rnorm(100)\n",
    "y=x-2*x^2+rnorm (100)\n",
    "\n",
    "#n=100, p=2 \n",
    "#y=x-2*x^2+error"
   ]
  },
  {
   "cell_type": "markdown",
   "id": "29c350ed",
   "metadata": {},
   "source": [
    "#### (b) Create a scatterplot of X against Y . Comment on what you find."
   ]
  },
  {
   "cell_type": "code",
   "execution_count": 5,
   "id": "67cbe5c1",
   "metadata": {},
   "outputs": [
    {
     "data": {
      "image/png": "[encoded data removed]",
      "text/plain": [
       "plot without title"
      ]
     },
     "metadata": {
      "image/png": {
       "height": 420,
       "width": 420
      }
     },
     "output_type": "display_data"
    }
   ],
   "source": [
    "plot(x,y)\n",
    "# approximately non-linear (quadratic) relatioship\n",
    "# range for x: around -2 to 3\n",
    "# range for y: around-15 to 5"
   ]
  },
  {
   "cell_type": "markdown",
   "id": "f4416217",
   "metadata": {},
   "source": [
    "#### (c) Set a random seed, and then compute the LOOCV errors that result from fitting the following four models using least squares:\n",
    "\n",
    "#### Note you may find it helpful to use the data.frame() function to create a single data set containing both X and Y ."
   ]
  },
  {
   "cell_type": "markdown",
   "id": "bbd569f2",
   "metadata": {},
   "source": [
    "#### i. Y = β0 + β1X + \u0003"
   ]
  },
  {
   "cell_type": "code",
   "execution_count": 6,
   "id": "222503f9",
   "metadata": {},
   "outputs": [],
   "source": [
    "library(boot)\n",
    "data = data.frame(x, y)\n",
    "set.seed(530)"
   ]
  },
  {
   "cell_type": "code",
   "execution_count": 7,
   "id": "cf4ddc20",
   "metadata": {},
   "outputs": [
    {
     "data": {
      "text/html": [
       "<style>\n",
       ".list-inline {list-style: none; margin:0; padding: 0}\n",
       ".list-inline>li {display: inline-block}\n",
       ".list-inline>li:not(:last-child)::after {content: \"\\00b7\"; padding: 0 .5ex}\n",
       "</style>\n",
       "<ol class=list-inline><li>7.28816160667281</li><li>7.2847441154693</li></ol>\n"
      ],
      "text/latex": [
       "\\begin{enumerate*}\n",
       "\\item 7.28816160667281\n",
       "\\item 7.2847441154693\n",
       "\\end{enumerate*}\n"
      ],
      "text/markdown": [
       "1. 7.28816160667281\n",
       "2. 7.2847441154693\n",
       "\n",
       "\n"
      ],
      "text/plain": [
       "[1] 7.288162 7.284744"
      ]
     },
     "metadata": {},
     "output_type": "display_data"
    }
   ],
   "source": [
    "glm.fit = glm(y ~ x)\n",
    "cv.glm(data, glm.fit)$delta"
   ]
  },
  {
   "cell_type": "markdown",
   "id": "dc320bfe",
   "metadata": {},
   "source": [
    "#### ii. Y = β0 + β1X + β2X2 + \u0003"
   ]
  },
  {
   "cell_type": "code",
   "execution_count": 8,
   "id": "811c1dd3",
   "metadata": {},
   "outputs": [
    {
     "data": {
      "text/html": [
       "<style>\n",
       ".list-inline {list-style: none; margin:0; padding: 0}\n",
       ".list-inline>li {display: inline-block}\n",
       ".list-inline>li:not(:last-child)::after {content: \"\\00b7\"; padding: 0 .5ex}\n",
       "</style>\n",
       "<ol class=list-inline><li>0.937423637615552</li><li>0.937178917181123</li></ol>\n"
      ],
      "text/latex": [
       "\\begin{enumerate*}\n",
       "\\item 0.937423637615552\n",
       "\\item 0.937178917181123\n",
       "\\end{enumerate*}\n"
      ],
      "text/markdown": [
       "1. 0.937423637615552\n",
       "2. 0.937178917181123\n",
       "\n",
       "\n"
      ],
      "text/plain": [
       "[1] 0.9374236 0.9371789"
      ]
     },
     "metadata": {},
     "output_type": "display_data"
    }
   ],
   "source": [
    "glm.fit = glm(y ~ poly(x, 2))\n",
    "cv.glm(data, glm.fit)$delta"
   ]
  },
  {
   "cell_type": "markdown",
   "id": "8016e495",
   "metadata": {},
   "source": [
    "#### iii. Y = β0 + β1X + β2X2 + β3X3 + \u0003"
   ]
  },
  {
   "cell_type": "code",
   "execution_count": 9,
   "id": "a5b2f2c6",
   "metadata": {},
   "outputs": [
    {
     "data": {
      "text/html": [
       "<style>\n",
       ".list-inline {list-style: none; margin:0; padding: 0}\n",
       ".list-inline>li {display: inline-block}\n",
       ".list-inline>li:not(:last-child)::after {content: \"\\00b7\"; padding: 0 .5ex}\n",
       "</style>\n",
       "<ol class=list-inline><li>0.956621830108939</li><li>0.956253813731321</li></ol>\n"
      ],
      "text/latex": [
       "\\begin{enumerate*}\n",
       "\\item 0.956621830108939\n",
       "\\item 0.956253813731321\n",
       "\\end{enumerate*}\n"
      ],
      "text/markdown": [
       "1. 0.956621830108939\n",
       "2. 0.956253813731321\n",
       "\n",
       "\n"
      ],
      "text/plain": [
       "[1] 0.9566218 0.9562538"
      ]
     },
     "metadata": {},
     "output_type": "display_data"
    }
   ],
   "source": [
    "glm.fit = glm(y ~ poly(x, 3))\n",
    "cv.glm(data, glm.fit)$delta"
   ]
  },
  {
   "cell_type": "markdown",
   "id": "78032060",
   "metadata": {},
   "source": [
    "#### iv. Y = β0 + β1X + β2X2 + β3X3 + β4X4 + \u0003."
   ]
  },
  {
   "cell_type": "code",
   "execution_count": 10,
   "id": "e1995abe",
   "metadata": {},
   "outputs": [
    {
     "data": {
      "text/html": [
       "<style>\n",
       ".list-inline {list-style: none; margin:0; padding: 0}\n",
       ".list-inline>li {display: inline-block}\n",
       ".list-inline>li:not(:last-child)::after {content: \"\\00b7\"; padding: 0 .5ex}\n",
       "</style>\n",
       "<ol class=list-inline><li>0.953904892744804</li><li>0.953445283156601</li></ol>\n"
      ],
      "text/latex": [
       "\\begin{enumerate*}\n",
       "\\item 0.953904892744804\n",
       "\\item 0.953445283156601\n",
       "\\end{enumerate*}\n"
      ],
      "text/markdown": [
       "1. 0.953904892744804\n",
       "2. 0.953445283156601\n",
       "\n",
       "\n"
      ],
      "text/plain": [
       "[1] 0.9539049 0.9534453"
      ]
     },
     "metadata": {},
     "output_type": "display_data"
    }
   ],
   "source": [
    "glm.fit = glm(y ~ poly(x, 4))\n",
    "cv.glm(data, glm.fit)$delta"
   ]
  },
  {
   "cell_type": "markdown",
   "id": "4fd12b0f",
   "metadata": {},
   "source": [
    "#### (d) Repeat (c) using another random seed, and report your results. Are your results the same as what you got in (c)? Why?"
   ]
  },
  {
   "cell_type": "code",
   "execution_count": 11,
   "id": "f69c4161",
   "metadata": {},
   "outputs": [],
   "source": [
    "set.seed(30)"
   ]
  },
  {
   "cell_type": "code",
   "execution_count": 12,
   "id": "469abf66",
   "metadata": {},
   "outputs": [
    {
     "data": {
      "text/html": [
       "<style>\n",
       ".list-inline {list-style: none; margin:0; padding: 0}\n",
       ".list-inline>li {display: inline-block}\n",
       ".list-inline>li:not(:last-child)::after {content: \"\\00b7\"; padding: 0 .5ex}\n",
       "</style>\n",
       "<ol class=list-inline><li>7.28816160667281</li><li>7.28474411546929</li></ol>\n"
      ],
      "text/latex": [
       "\\begin{enumerate*}\n",
       "\\item 7.28816160667281\n",
       "\\item 7.28474411546929\n",
       "\\end{enumerate*}\n"
      ],
      "text/markdown": [
       "1. 7.28816160667281\n",
       "2. 7.28474411546929\n",
       "\n",
       "\n"
      ],
      "text/plain": [
       "[1] 7.288162 7.284744"
      ]
     },
     "metadata": {},
     "output_type": "display_data"
    }
   ],
   "source": [
    "glm.fit = glm(y ~ x)\n",
    "cv.glm(data, glm.fit)$delta"
   ]
  },
  {
   "cell_type": "code",
   "execution_count": 13,
   "id": "08282e62",
   "metadata": {},
   "outputs": [
    {
     "data": {
      "text/html": [
       "<style>\n",
       ".list-inline {list-style: none; margin:0; padding: 0}\n",
       ".list-inline>li {display: inline-block}\n",
       ".list-inline>li:not(:last-child)::after {content: \"\\00b7\"; padding: 0 .5ex}\n",
       "</style>\n",
       "<ol class=list-inline><li>0.937423637615552</li><li>0.937178917181123</li></ol>\n"
      ],
      "text/latex": [
       "\\begin{enumerate*}\n",
       "\\item 0.937423637615552\n",
       "\\item 0.937178917181123\n",
       "\\end{enumerate*}\n"
      ],
      "text/markdown": [
       "1. 0.937423637615552\n",
       "2. 0.937178917181123\n",
       "\n",
       "\n"
      ],
      "text/plain": [
       "[1] 0.9374236 0.9371789"
      ]
     },
     "metadata": {},
     "output_type": "display_data"
    }
   ],
   "source": [
    "glm.fit = glm(y ~ poly(x, 2))\n",
    "cv.glm(data, glm.fit)$delta"
   ]
  },
  {
   "cell_type": "code",
   "execution_count": 14,
   "id": "42e0e6d1",
   "metadata": {},
   "outputs": [
    {
     "data": {
      "text/html": [
       "<style>\n",
       ".list-inline {list-style: none; margin:0; padding: 0}\n",
       ".list-inline>li {display: inline-block}\n",
       ".list-inline>li:not(:last-child)::after {content: \"\\00b7\"; padding: 0 .5ex}\n",
       "</style>\n",
       "<ol class=list-inline><li>0.95662183010894</li><li>0.956253813731321</li></ol>\n"
      ],
      "text/latex": [
       "\\begin{enumerate*}\n",
       "\\item 0.95662183010894\n",
       "\\item 0.956253813731321\n",
       "\\end{enumerate*}\n"
      ],
      "text/markdown": [
       "1. 0.95662183010894\n",
       "2. 0.956253813731321\n",
       "\n",
       "\n"
      ],
      "text/plain": [
       "[1] 0.9566218 0.9562538"
      ]
     },
     "metadata": {},
     "output_type": "display_data"
    }
   ],
   "source": [
    "glm.fit = glm(y ~ poly(x, 3))\n",
    "cv.glm(data, glm.fit)$delta"
   ]
  },
  {
   "cell_type": "code",
   "execution_count": 15,
   "id": "153584d9",
   "metadata": {},
   "outputs": [
    {
     "data": {
      "text/html": [
       "<style>\n",
       ".list-inline {list-style: none; margin:0; padding: 0}\n",
       ".list-inline>li {display: inline-block}\n",
       ".list-inline>li:not(:last-child)::after {content: \"\\00b7\"; padding: 0 .5ex}\n",
       "</style>\n",
       "<ol class=list-inline><li>0.953904892744803</li><li>0.9534452831566</li></ol>\n"
      ],
      "text/latex": [
       "\\begin{enumerate*}\n",
       "\\item 0.953904892744803\n",
       "\\item 0.9534452831566\n",
       "\\end{enumerate*}\n"
      ],
      "text/markdown": [
       "1. 0.953904892744803\n",
       "2. 0.9534452831566\n",
       "\n",
       "\n"
      ],
      "text/plain": [
       "[1] 0.9539049 0.9534453"
      ]
     },
     "metadata": {},
     "output_type": "display_data"
    }
   ],
   "source": [
    "glm.fit = glm(y ~ poly(x, 4))\n",
    "cv.glm(data, glm.fit)$delta"
   ]
  },
  {
   "cell_type": "code",
   "execution_count": 16,
   "id": "48de952d",
   "metadata": {},
   "outputs": [],
   "source": [
    "# The results are the same even different seeds are used.\n",
    "# It is because it evaluates n folds of a single observation."
   ]
  },
  {
   "cell_type": "markdown",
   "id": "979991bb",
   "metadata": {},
   "source": [
    "#### (e) Which of the models in (c) had the smallest LOOCV error? Is this what you expected? Explain your answer."
   ]
  },
  {
   "cell_type": "code",
   "execution_count": 17,
   "id": "c506e205",
   "metadata": {},
   "outputs": [],
   "source": [
    "# The quadratic polynomial had the loweat LOOCV error, it is because it match more to the true form of Y."
   ]
  },
  {
   "cell_type": "markdown",
   "id": "da8709b5",
   "metadata": {},
   "source": [
    "#### (f) Comment on the statistical significance of the coefficient estimates that results from fitting each of the models in (c) using least squares. Do these results agree with the conclusions drawn based on the cross-validation results?"
   ]
  },
  {
   "cell_type": "code",
   "execution_count": 18,
   "id": "e24aaed0",
   "metadata": {},
   "outputs": [
    {
     "data": {
      "text/plain": [
       "\n",
       "Call:\n",
       "glm(formula = y ~ poly(x, degree = 1, raw = TRUE))\n",
       "\n",
       "Deviance Residuals: \n",
       "    Min       1Q   Median       3Q      Max  \n",
       "-9.5161  -0.6800   0.6812   1.5491   3.8183  \n",
       "\n",
       "Coefficients:\n",
       "                                Estimate Std. Error t value Pr(>|t|)    \n",
       "(Intercept)                      -1.6254     0.2619  -6.205 1.31e-08 ***\n",
       "poly(x, degree = 1, raw = TRUE)   0.6925     0.2909   2.380   0.0192 *  \n",
       "---\n",
       "Signif. codes:  0 '***' 0.001 '**' 0.01 '*' 0.05 '.' 0.1 ' ' 1\n",
       "\n",
       "(Dispersion parameter for gaussian family taken to be 6.760719)\n",
       "\n",
       "    Null deviance: 700.85  on 99  degrees of freedom\n",
       "Residual deviance: 662.55  on 98  degrees of freedom\n",
       "AIC: 478.88\n",
       "\n",
       "Number of Fisher Scoring iterations: 2\n"
      ]
     },
     "metadata": {},
     "output_type": "display_data"
    }
   ],
   "source": [
    "summary(glm(y~poly(x,degree=1,raw=TRUE)))"
   ]
  },
  {
   "cell_type": "code",
   "execution_count": 19,
   "id": "20196dc4",
   "metadata": {},
   "outputs": [
    {
     "data": {
      "text/plain": [
       "\n",
       "Call:\n",
       "glm(formula = y ~ poly(x, degree = 2, raw = TRUE))\n",
       "\n",
       "Deviance Residuals: \n",
       "    Min       1Q   Median       3Q      Max  \n",
       "-1.9650  -0.6254  -0.1288   0.5803   2.2700  \n",
       "\n",
       "Coefficients:\n",
       "                                 Estimate Std. Error t value Pr(>|t|)    \n",
       "(Intercept)                       0.05672    0.11766   0.482    0.631    \n",
       "poly(x, degree = 2, raw = TRUE)1  1.01716    0.10798   9.420  2.4e-15 ***\n",
       "poly(x, degree = 2, raw = TRUE)2 -2.11892    0.08477 -24.997  < 2e-16 ***\n",
       "---\n",
       "Signif. codes:  0 '***' 0.001 '**' 0.01 '*' 0.05 '.' 0.1 ' ' 1\n",
       "\n",
       "(Dispersion parameter for gaussian family taken to be 0.9178258)\n",
       "\n",
       "    Null deviance: 700.852  on 99  degrees of freedom\n",
       "Residual deviance:  89.029  on 97  degrees of freedom\n",
       "AIC: 280.17\n",
       "\n",
       "Number of Fisher Scoring iterations: 2\n"
      ]
     },
     "metadata": {},
     "output_type": "display_data"
    }
   ],
   "source": [
    "summary(glm(y~poly(x,degree=2,raw=TRUE)))"
   ]
  },
  {
   "cell_type": "code",
   "execution_count": 20,
   "id": "5cd622bc",
   "metadata": {},
   "outputs": [
    {
     "data": {
      "text/plain": [
       "\n",
       "Call:\n",
       "glm(formula = y ~ poly(x, degree = 3, raw = TRUE))\n",
       "\n",
       "Deviance Residuals: \n",
       "    Min       1Q   Median       3Q      Max  \n",
       "-1.9765  -0.6302  -0.1227   0.5545   2.2843  \n",
       "\n",
       "Coefficients:\n",
       "                                 Estimate Std. Error t value Pr(>|t|)    \n",
       "(Intercept)                       0.06151    0.11950   0.515    0.608    \n",
       "poly(x, degree = 3, raw = TRUE)1  0.97528    0.18728   5.208 1.09e-06 ***\n",
       "poly(x, degree = 3, raw = TRUE)2 -2.12379    0.08700 -24.411  < 2e-16 ***\n",
       "poly(x, degree = 3, raw = TRUE)3  0.01764    0.06429   0.274    0.784    \n",
       "---\n",
       "Signif. codes:  0 '***' 0.001 '**' 0.01 '*' 0.05 '.' 0.1 ' ' 1\n",
       "\n",
       "(Dispersion parameter for gaussian family taken to be 0.9266599)\n",
       "\n",
       "    Null deviance: 700.852  on 99  degrees of freedom\n",
       "Residual deviance:  88.959  on 96  degrees of freedom\n",
       "AIC: 282.09\n",
       "\n",
       "Number of Fisher Scoring iterations: 2\n"
      ]
     },
     "metadata": {},
     "output_type": "display_data"
    }
   ],
   "source": [
    "summary(glm(y~poly(x,degree=3,raw=TRUE)))"
   ]
  },
  {
   "cell_type": "code",
   "execution_count": 21,
   "id": "37ee59a6",
   "metadata": {},
   "outputs": [
    {
     "data": {
      "text/plain": [
       "\n",
       "Call:\n",
       "glm(formula = y ~ poly(x, degree = 4, raw = TRUE))\n",
       "\n",
       "Deviance Residuals: \n",
       "    Min       1Q   Median       3Q      Max  \n",
       "-2.0550  -0.6212  -0.1567   0.5952   2.2267  \n",
       "\n",
       "Coefficients:\n",
       "                                  Estimate Std. Error t value Pr(>|t|)    \n",
       "(Intercept)                       0.156703   0.139462   1.124    0.264    \n",
       "poly(x, degree = 4, raw = TRUE)1  1.030826   0.191337   5.387 5.17e-07 ***\n",
       "poly(x, degree = 4, raw = TRUE)2 -2.409898   0.234855 -10.261  < 2e-16 ***\n",
       "poly(x, degree = 4, raw = TRUE)3 -0.009133   0.067229  -0.136    0.892    \n",
       "poly(x, degree = 4, raw = TRUE)4  0.069785   0.053240   1.311    0.193    \n",
       "---\n",
       "Signif. codes:  0 '***' 0.001 '**' 0.01 '*' 0.05 '.' 0.1 ' ' 1\n",
       "\n",
       "(Dispersion parameter for gaussian family taken to be 0.9197797)\n",
       "\n",
       "    Null deviance: 700.852  on 99  degrees of freedom\n",
       "Residual deviance:  87.379  on 95  degrees of freedom\n",
       "AIC: 282.3\n",
       "\n",
       "Number of Fisher Scoring iterations: 2\n"
      ]
     },
     "metadata": {},
     "output_type": "display_data"
    }
   ],
   "source": [
    "summary(glm(y~poly(x,degree=4,raw=TRUE)))"
   ]
  },
  {
   "cell_type": "code",
   "execution_count": 22,
   "id": "d9a59d11",
   "metadata": {},
   "outputs": [],
   "source": [
    "# Degree=1 and 2 coefficients are statistically significant."
   ]
  },
  {
   "cell_type": "markdown",
   "id": "099ea014",
   "metadata": {},
   "source": [
    "## Exercise 1 (p.259, Chap.6)"
   ]
  },
  {
   "cell_type": "markdown",
   "id": "36ce1dde",
   "metadata": {},
   "source": [
    "#### 1. We perform best subset, forward stepwise, and backward stepwise selection on a single data set. For each approach, we obtain p + 1 models, containing 0, 1, 2,...,p predictors. Explain your answers:"
   ]
  },
  {
   "cell_type": "markdown",
   "id": "803c7cef",
   "metadata": {},
   "source": [
    "#### (a) Which of the three models with k predictors has the smallest training RSS?"
   ]
  },
  {
   "cell_type": "code",
   "execution_count": 23,
   "id": "7dc714c3",
   "metadata": {},
   "outputs": [],
   "source": [
    "# Best subset selection has the smallest training RSS because it fits a separate least squares regression for each possible combination of the p predictors, with the goal to identifying the one that is the best, it means smalest RSS"
   ]
  },
  {
   "cell_type": "markdown",
   "id": "5923c7d8",
   "metadata": {},
   "source": [
    "#### (b) Which of the three models with k predictors has the smallest test RSS?"
   ]
  },
  {
   "cell_type": "code",
   "execution_count": 24,
   "id": "d0e7a3bb",
   "metadata": {},
   "outputs": [],
   "source": [
    "# Best subset selection may have the smallest test RSS because it considers more models then the other methods. However, the other models might have better luck picking a model that fits the test data better."
   ]
  },
  {
   "cell_type": "markdown",
   "id": "16e1d5dc",
   "metadata": {},
   "source": [
    "#### (c) True or False:"
   ]
  },
  {
   "cell_type": "markdown",
   "id": "be5cb5c7",
   "metadata": {},
   "source": [
    "#### i. The predictors in the k-variable model identified by forward stepwise are a subset of the predictors in the (k+1)-variable model identified by forward stepwise selection."
   ]
  },
  {
   "cell_type": "code",
   "execution_count": 25,
   "id": "95d1963b",
   "metadata": {},
   "outputs": [],
   "source": [
    "# True"
   ]
  },
  {
   "cell_type": "markdown",
   "id": "ceea1c66",
   "metadata": {},
   "source": [
    "#### ii. The predictors in the k-variable model identified by backward stepwise are a subset of the predictors in the (k + 1)-variable model identified by backward stepwise selection."
   ]
  },
  {
   "cell_type": "code",
   "execution_count": 26,
   "id": "876a5570",
   "metadata": {},
   "outputs": [],
   "source": [
    "# True"
   ]
  },
  {
   "cell_type": "markdown",
   "id": "3fe8ba07",
   "metadata": {},
   "source": [
    "#### iii. The predictors in the k-variable model identified by backward stepwise are a subset of the predictors in the (k + 1)-variable model identified by forward stepwise selection."
   ]
  },
  {
   "cell_type": "code",
   "execution_count": 27,
   "id": "2d91194a",
   "metadata": {},
   "outputs": [],
   "source": [
    "# False"
   ]
  },
  {
   "cell_type": "markdown",
   "id": "3028eaf6",
   "metadata": {},
   "source": [
    "#### iv. The predictors in the k-variable model identified by forward stepwise are a subset of the predictors in the (k+1)-variable model identified by backward stepwise selection."
   ]
  },
  {
   "cell_type": "code",
   "execution_count": 28,
   "id": "2ec41edb",
   "metadata": {},
   "outputs": [],
   "source": [
    "# False"
   ]
  },
  {
   "cell_type": "markdown",
   "id": "2bc906da",
   "metadata": {},
   "source": [
    "#### v. The predictors in the k-variable model identified by best subset are a subset of the predictors in the (k + 1)-variable model identified by best subset selection."
   ]
  },
  {
   "cell_type": "code",
   "execution_count": 29,
   "id": "054996f3",
   "metadata": {},
   "outputs": [],
   "source": [
    "# False"
   ]
  },
  {
   "cell_type": "markdown",
   "id": "0803d32a",
   "metadata": {},
   "source": [
    "## Exercise 9 (p.263, Chap.6)"
   ]
  },
  {
   "cell_type": "markdown",
   "id": "d69007bd",
   "metadata": {},
   "source": [
    "#### 9. In this exercise, we will predict the number of applications received using the other variables in the College data set."
   ]
  },
  {
   "cell_type": "markdown",
   "id": "d259c7bf",
   "metadata": {},
   "source": [
    "#### (a) Split the data set into a training set and a test set."
   ]
  },
  {
   "cell_type": "code",
   "execution_count": 30,
   "id": "e57926ae",
   "metadata": {},
   "outputs": [
    {
     "data": {
      "text/html": [
       "0"
      ],
      "text/latex": [
       "0"
      ],
      "text/markdown": [
       "0"
      ],
      "text/plain": [
       "[1] 0"
      ]
     },
     "metadata": {},
     "output_type": "display_data"
    }
   ],
   "source": [
    "library(ISLR)\n",
    "set.seed(530)\n",
    "sum(is.na(College))"
   ]
  },
  {
   "cell_type": "code",
   "execution_count": 31,
   "id": "36d18de1",
   "metadata": {},
   "outputs": [],
   "source": [
    "trainsize = dim(College)[1] / 2\n",
    "train = sample(1:dim(College)[1], trainsize)\n",
    "test = -train\n",
    "College.train = College[train, ]\n",
    "College.test = College[test, ]"
   ]
  },
  {
   "cell_type": "markdown",
   "id": "d11d5287",
   "metadata": {},
   "source": [
    "#### (b) Fit a linear model using least squares on the training set, and report the test error obtained."
   ]
  },
  {
   "cell_type": "code",
   "execution_count": 32,
   "id": "59cccd46",
   "metadata": {},
   "outputs": [
    {
     "data": {
      "text/html": [
       "918181.753917566"
      ],
      "text/latex": [
       "918181.753917566"
      ],
      "text/markdown": [
       "918181.753917566"
      ],
      "text/plain": [
       "[1] 918181.8"
      ]
     },
     "metadata": {},
     "output_type": "display_data"
    }
   ],
   "source": [
    "lm.fit = lm(Apps~., data=College.train)\n",
    "lm.pred = predict(lm.fit, College.test)\n",
    "mean((College.test[, \"Apps\"] - lm.pred)^2)"
   ]
  },
  {
   "cell_type": "markdown",
   "id": "558a72da",
   "metadata": {},
   "source": [
    "#### (c) Fit a ridge regression model on the training set, with λ chosen by cross-validation. Report the test error obtained."
   ]
  },
  {
   "cell_type": "code",
   "execution_count": 33,
   "id": "0907e4ea",
   "metadata": {},
   "outputs": [
    {
     "name": "stderr",
     "output_type": "stream",
     "text": [
      "Loading required package: Matrix\n",
      "\n",
      "Loaded glmnet 4.1-2\n",
      "\n"
     ]
    }
   ],
   "source": [
    "library(glmnet)"
   ]
  },
  {
   "cell_type": "code",
   "execution_count": 34,
   "id": "348bae1b",
   "metadata": {},
   "outputs": [
    {
     "data": {
      "text/html": [
       "0.01"
      ],
      "text/latex": [
       "0.01"
      ],
      "text/markdown": [
       "0.01"
      ],
      "text/plain": [
       "[1] 0.01"
      ]
     },
     "metadata": {},
     "output_type": "display_data"
    }
   ],
   "source": [
    "train.mat = model.matrix(Apps~., data=College.train)\n",
    "test.mat = model.matrix(Apps~., data=College.test)\n",
    "grid = 10 ^ seq(4, -2, length=100)\n",
    "mod.ridge = cv.glmnet(train.mat, College.train[, \"Apps\"], alpha=0, lambda=grid, thresh=1e-12)\n",
    "lambda.best = mod.ridge$lambda.min\n",
    "lambda.best"
   ]
  },
  {
   "cell_type": "code",
   "execution_count": 35,
   "id": "1c4b2cf1",
   "metadata": {},
   "outputs": [
    {
     "data": {
      "text/html": [
       "918143.541025754"
      ],
      "text/latex": [
       "918143.541025754"
      ],
      "text/markdown": [
       "918143.541025754"
      ],
      "text/plain": [
       "[1] 918143.5"
      ]
     },
     "metadata": {},
     "output_type": "display_data"
    }
   ],
   "source": [
    "ridge.pred = predict(mod.ridge, newx=test.mat, s=lambda.best)\n",
    "mean((College.test[, \"Apps\"] - ridge.pred)^2)"
   ]
  },
  {
   "cell_type": "markdown",
   "id": "8c1ed302",
   "metadata": {},
   "source": [
    "#### (d) Fit a lasso model on the training set, with λ chosen by crossvalidation. Report the test error obtained, along with the number of non-zero coefficient estimates."
   ]
  },
  {
   "cell_type": "code",
   "execution_count": 36,
   "id": "6a26affd",
   "metadata": {},
   "outputs": [
    {
     "data": {
      "text/html": [
       "0.01"
      ],
      "text/latex": [
       "0.01"
      ],
      "text/markdown": [
       "0.01"
      ],
      "text/plain": [
       "[1] 0.01"
      ]
     },
     "metadata": {},
     "output_type": "display_data"
    }
   ],
   "source": [
    "mod.lasso = cv.glmnet(train.mat, College.train[, \"Apps\"], alpha=1, lambda=grid, thresh=1e-12)\n",
    "lambda.best = mod.lasso$lambda.min\n",
    "lambda.best"
   ]
  },
  {
   "cell_type": "code",
   "execution_count": 37,
   "id": "795f2aed",
   "metadata": {},
   "outputs": [
    {
     "data": {
      "text/html": [
       "918091.191413691"
      ],
      "text/latex": [
       "918091.191413691"
      ],
      "text/markdown": [
       "918091.191413691"
      ],
      "text/plain": [
       "[1] 918091.2"
      ]
     },
     "metadata": {},
     "output_type": "display_data"
    }
   ],
   "source": [
    "lasso.pred = predict(mod.lasso, newx=test.mat, s=lambda.best)\n",
    "mean((College.test[, \"Apps\"] - lasso.pred)^2)"
   ]
  },
  {
   "cell_type": "code",
   "execution_count": 38,
   "id": "da23720a",
   "metadata": {},
   "outputs": [
    {
     "data": {
      "text/plain": [
       "19 x 1 sparse Matrix of class \"dgCMatrix\"\n",
       "                       s1\n",
       "(Intercept) -471.39372069\n",
       "(Intercept)    .         \n",
       "PrivateYes  -491.04485135\n",
       "Accept         1.57033288\n",
       "Enroll        -0.75961467\n",
       "Top10perc     48.14698891\n",
       "Top25perc    -12.84690694\n",
       "F.Undergrad    0.04149116\n",
       "P.Undergrad    0.04438973\n",
       "Outstate      -0.08328388\n",
       "Room.Board     0.14943472\n",
       "Books          0.01532293\n",
       "Personal       0.02909954\n",
       "PhD           -8.39597537\n",
       "Terminal      -3.26800340\n",
       "S.F.Ratio     14.59298267\n",
       "perc.alumni   -0.04404771\n",
       "Expend         0.07712632\n",
       "Grad.Rate      8.28950241"
      ]
     },
     "metadata": {},
     "output_type": "display_data"
    }
   ],
   "source": [
    "mod.lasso = glmnet(model.matrix(Apps~., data=College), College[, \"Apps\"], alpha=1)\n",
    "predict(mod.lasso, s=lambda.best, type=\"coefficients\")"
   ]
  },
  {
   "cell_type": "markdown",
   "id": "8b9ce4d3",
   "metadata": {},
   "source": [
    "#### (e) Fit a PCR model on the training set, with M chosen by crossvalidation. Report the test error obtained, along with the value of M selected by cross-validation."
   ]
  },
  {
   "cell_type": "code",
   "execution_count": 39,
   "id": "f1c33082",
   "metadata": {},
   "outputs": [
    {
     "name": "stderr",
     "output_type": "stream",
     "text": [
      "\n",
      "Attaching package: 'pls'\n",
      "\n",
      "\n",
      "The following object is masked from 'package:stats':\n",
      "\n",
      "    loadings\n",
      "\n",
      "\n"
     ]
    }
   ],
   "source": [
    "library(pls)"
   ]
  },
  {
   "cell_type": "code",
   "execution_count": 40,
   "id": "6db86ffc",
   "metadata": {},
   "outputs": [
    {
     "data": {
      "image/png": "[encoded data removed]",
      "text/plain": [
       "Plot with title \"Apps\""
      ]
     },
     "metadata": {
      "image/png": {
       "height": 420,
       "width": 420
      }
     },
     "output_type": "display_data"
    }
   ],
   "source": [
    "pcr.fit = pcr(Apps~., data=College.train, scale=T, validation=\"CV\")\n",
    "validationplot(pcr.fit, val.type=\"MSEP\")"
   ]
  },
  {
   "cell_type": "code",
   "execution_count": 41,
   "id": "9ea4de8c",
   "metadata": {},
   "outputs": [
    {
     "name": "stderr",
     "output_type": "stream",
     "text": [
      "Warning message in mean.default((College.test[, \"Apps\"] - data.frame(pcr.pred))^2):\n",
      "\"argument is not numeric or logical: returning NA\"\n"
     ]
    },
    {
     "data": {
      "text/html": [
       "&lt;NA&gt;"
      ],
      "text/latex": [
       "<NA>"
      ],
      "text/markdown": [
       "&lt;NA&gt;"
      ],
      "text/plain": [
       "[1] NA"
      ]
     },
     "metadata": {},
     "output_type": "display_data"
    }
   ],
   "source": [
    "pcr.pred = predict(pcr.fit, College.test, ncomp=10)\n",
    "mean((College.test[, \"Apps\"] - data.frame(pcr.pred))^2)"
   ]
  },
  {
   "cell_type": "markdown",
   "id": "824174b0",
   "metadata": {},
   "source": [
    "#### (f) Fit a PLS model on the training set, with M chosen by crossvalidation. Report the test error obtained, along with the value of M selected by cross-validation."
   ]
  },
  {
   "cell_type": "code",
   "execution_count": 42,
   "id": "e4f8d3fa",
   "metadata": {},
   "outputs": [
    {
     "data": {
      "image/png": "[encoded data removed]",
      "text/plain": [
       "Plot with title \"Apps\""
      ]
     },
     "metadata": {
      "image/png": {
       "height": 420,
       "width": 420
      }
     },
     "output_type": "display_data"
    }
   ],
   "source": [
    "pls.fit = plsr(Apps~., data=College.train, scale=T, validation=\"CV\")\n",
    "validationplot(pls.fit, val.type=\"MSEP\")"
   ]
  },
  {
   "cell_type": "code",
   "execution_count": 43,
   "id": "d7f6d9b2",
   "metadata": {},
   "outputs": [
    {
     "name": "stderr",
     "output_type": "stream",
     "text": [
      "Warning message in mean.default((College.test[, \"Apps\"] - data.frame(pls.pred))^2):\n",
      "\"argument is not numeric or logical: returning NA\"\n"
     ]
    },
    {
     "data": {
      "text/html": [
       "&lt;NA&gt;"
      ],
      "text/latex": [
       "<NA>"
      ],
      "text/markdown": [
       "&lt;NA&gt;"
      ],
      "text/plain": [
       "[1] NA"
      ]
     },
     "metadata": {},
     "output_type": "display_data"
    }
   ],
   "source": [
    "pls.pred = predict(pls.fit, College.test, ncomp=10)\n",
    "mean((College.test[, \"Apps\"] - data.frame(pls.pred))^2)"
   ]
  },
  {
   "cell_type": "markdown",
   "id": "69381537",
   "metadata": {},
   "source": [
    "#### (g) Comment on the results obtained. How accurately can we predict the number of college applications received? Is there much difference among the test errors resulting from these five approaches?"
   ]
  },
  {
   "cell_type": "code",
   "execution_count": 44,
   "id": "34c05217",
   "metadata": {},
   "outputs": [
    {
     "name": "stderr",
     "output_type": "stream",
     "text": [
      "Warning message in mean.default((College.test[, \"Apps\"] - data.frame(pcr.pred))^2):\n",
      "\"argument is not numeric or logical: returning NA\"\n",
      "Warning message in mean.default((College.test[, \"Apps\"] - data.frame(pls.pred))^2):\n",
      "\"argument is not numeric or logical: returning NA\"\n"
     ]
    },
    {
     "data": {
      "image/png": "[encoded data removed]",
      "text/plain": [
       "Plot with title \"Test R-squared\""
      ]
     },
     "metadata": {
      "image/png": {
       "height": 420,
       "width": 420
      }
     },
     "output_type": "display_data"
    }
   ],
   "source": [
    "test.avg = mean(College.test[, \"Apps\"])\n",
    "lm.test.r2 = 1 - mean((College.test[, \"Apps\"] - lm.pred)^2) /mean((College.test[, \"Apps\"] - test.avg)^2)\n",
    "ridge.test.r2 = 1 - mean((College.test[, \"Apps\"] - ridge.pred)^2) /mean((College.test[, \"Apps\"] - test.avg)^2)\n",
    "lasso.test.r2 = 1 - mean((College.test[, \"Apps\"] - lasso.pred)^2) /mean((College.test[, \"Apps\"] - test.avg)^2)\n",
    "pcr.test.r2 = 1 - mean((College.test[, \"Apps\"] - data.frame(pcr.pred))^2) /mean((College.test[, \"Apps\"] - test.avg)^2)\n",
    "pls.test.r2 = 1 - mean((College.test[, \"Apps\"] - data.frame(pls.pred))^2) /mean((College.test[, \"Apps\"] - test.avg)^2)\n",
    "barplot(c(lm.test.r2, ridge.test.r2, lasso.test.r2, pcr.test.r2, pls.test.r2), col=\"red\", names.arg=c(\"OLS\", \"Ridge\", \"Lasso\", \"PCR\", \"PLS\"), main=\"Test R-squared\")"
   ]
  },
  {
   "cell_type": "code",
   "execution_count": 45,
   "id": "82ecc3a7",
   "metadata": {},
   "outputs": [],
   "source": [
    "# The plot shows that test R2 for all models except PCR are around 0.9, with PLS having slightly higher test R2R2 than others. PCR has a smaller test R2R2 of less than 0.8. All models except PCR predict college applications with high accuracy."
   ]
  },
  {
   "cell_type": "markdown",
   "id": "6054de8d",
   "metadata": {},
   "source": [
    "## Exercise 9 (p.299, Chap.7)"
   ]
  },
  {
   "cell_type": "markdown",
   "id": "a89d0eae",
   "metadata": {},
   "source": [
    "####  9. This question uses the variables dis (the weighted mean of distances to five Boston employment centers) and nox (nitrogen oxides concentration in parts per 10 million) from the Boston data. We will treat dis as the predictor and nox as the response."
   ]
  },
  {
   "cell_type": "markdown",
   "id": "935fd6f5",
   "metadata": {},
   "source": [
    "#### (a) Use the poly() function to fit a cubic polynomial regression to predict nox using dis. Report the regression output, and plot the resulting data and polynomial fits."
   ]
  },
  {
   "cell_type": "code",
   "execution_count": 46,
   "id": "ae851558",
   "metadata": {},
   "outputs": [],
   "source": [
    "set.seed(1)\n",
    "library(MASS)\n",
    "attach(Boston)"
   ]
  },
  {
   "cell_type": "code",
   "execution_count": 47,
   "id": "255f164f",
   "metadata": {},
   "outputs": [
    {
     "data": {
      "text/plain": [
       "\n",
       "Call:\n",
       "lm(formula = nox ~ poly(dis, 3), data = Boston)\n",
       "\n",
       "Residuals:\n",
       "      Min        1Q    Median        3Q       Max \n",
       "-0.121130 -0.040619 -0.009738  0.023385  0.194904 \n",
       "\n",
       "Coefficients:\n",
       "               Estimate Std. Error t value Pr(>|t|)    \n",
       "(Intercept)    0.554695   0.002759 201.021  < 2e-16 ***\n",
       "poly(dis, 3)1 -2.003096   0.062071 -32.271  < 2e-16 ***\n",
       "poly(dis, 3)2  0.856330   0.062071  13.796  < 2e-16 ***\n",
       "poly(dis, 3)3 -0.318049   0.062071  -5.124 4.27e-07 ***\n",
       "---\n",
       "Signif. codes:  0 '***' 0.001 '**' 0.01 '*' 0.05 '.' 0.1 ' ' 1\n",
       "\n",
       "Residual standard error: 0.06207 on 502 degrees of freedom\n",
       "Multiple R-squared:  0.7148,\tAdjusted R-squared:  0.7131 \n",
       "F-statistic: 419.3 on 3 and 502 DF,  p-value: < 2.2e-16\n"
      ]
     },
     "metadata": {},
     "output_type": "display_data"
    }
   ],
   "source": [
    "lm.fit = lm(nox ~ poly(dis, 3), data = Boston)\n",
    "summary(lm.fit)"
   ]
  },
  {
   "cell_type": "code",
   "execution_count": 48,
   "id": "bc43c7ba",
   "metadata": {},
   "outputs": [
    {
     "data": {
      "image/png": "[encoded data removed]",
      "text/plain": [
       "plot without title"
      ]
     },
     "metadata": {
      "image/png": {
       "height": 420,
       "width": 420
      }
     },
     "output_type": "display_data"
    }
   ],
   "source": [
    "dislim = range(dis)\n",
    "dis.grid = seq(from = dislim[1], to = dislim[2], by = 0.1)\n",
    "lm.pred = predict(lm.fit, list(dis = dis.grid))\n",
    "plot(nox ~ dis, data = Boston, col = \"darkgrey\")\n",
    "lines(dis.grid, lm.pred, col = \"red\", lwd = 2)"
   ]
  },
  {
   "cell_type": "markdown",
   "id": "601cea65",
   "metadata": {},
   "source": [
    "#### (b) Plot the polynomial fits for a range of different polynomial degrees (say, from 1 to 10), and report the associated residual sum of squares."
   ]
  },
  {
   "cell_type": "code",
   "execution_count": 49,
   "id": "a2ed2e37",
   "metadata": {},
   "outputs": [
    {
     "data": {
      "text/html": [
       "<style>\n",
       ".list-inline {list-style: none; margin:0; padding: 0}\n",
       ".list-inline>li {display: inline-block}\n",
       ".list-inline>li:not(:last-child)::after {content: \"\\00b7\"; padding: 0 .5ex}\n",
       "</style>\n",
       "<ol class=list-inline><li>2.76856285896928</li><li>2.03526186893526</li><li>1.93410670717907</li><li>1.93298132729859</li><li>1.9152899610843</li><li>1.87825729850816</li><li>1.84948361458298</li><li>1.83562968906769</li><li>1.83333080449159</li><li>1.83217112393134</li></ol>\n"
      ],
      "text/latex": [
       "\\begin{enumerate*}\n",
       "\\item 2.76856285896928\n",
       "\\item 2.03526186893526\n",
       "\\item 1.93410670717907\n",
       "\\item 1.93298132729859\n",
       "\\item 1.9152899610843\n",
       "\\item 1.87825729850816\n",
       "\\item 1.84948361458298\n",
       "\\item 1.83562968906769\n",
       "\\item 1.83333080449159\n",
       "\\item 1.83217112393134\n",
       "\\end{enumerate*}\n"
      ],
      "text/markdown": [
       "1. 2.76856285896928\n",
       "2. 2.03526186893526\n",
       "3. 1.93410670717907\n",
       "4. 1.93298132729859\n",
       "5. 1.9152899610843\n",
       "6. 1.87825729850816\n",
       "7. 1.84948361458298\n",
       "8. 1.83562968906769\n",
       "9. 1.83333080449159\n",
       "10. 1.83217112393134\n",
       "\n",
       "\n"
      ],
      "text/plain": [
       " [1] 2.768563 2.035262 1.934107 1.932981 1.915290 1.878257 1.849484 1.835630\n",
       " [9] 1.833331 1.832171"
      ]
     },
     "metadata": {},
     "output_type": "display_data"
    }
   ],
   "source": [
    "all.rss = rep(NA, 10)\n",
    "for (i in 1:10) {\n",
    "    lm.fit = lm(nox ~ poly(dis, i), data = Boston)\n",
    "    all.rss[i] = sum(lm.fit$residuals^2)\n",
    "}\n",
    "all.rss"
   ]
  },
  {
   "cell_type": "markdown",
   "id": "c182cd40",
   "metadata": {},
   "source": [
    "#### (c) Perform cross-validation or another approach to select the optimal degree for the polynomial, and explain your results."
   ]
  },
  {
   "cell_type": "code",
   "execution_count": 50,
   "id": "733d1779",
   "metadata": {},
   "outputs": [
    {
     "data": {
      "image/png": "[encoded data removed]",
      "text/plain": [
       "plot without title"
      ]
     },
     "metadata": {
      "image/png": {
       "height": 420,
       "width": 420
      }
     },
     "output_type": "display_data"
    }
   ],
   "source": [
    "library(boot)\n",
    "all.deltas = rep(NA, 10)\n",
    "for (i in 1:10) {\n",
    "    glm.fit = glm(nox ~ poly(dis, i), data = Boston)\n",
    "    all.deltas[i] = cv.glm(Boston, glm.fit, K = 10)$delta[2]\n",
    "}\n",
    "plot(1:10, all.deltas, xlab = \"Degree\", ylab = \"CV error\", type = \"l\", pch = 20, \n",
    "    lwd = 2)"
   ]
  },
  {
   "cell_type": "markdown",
   "id": "d0af9b66",
   "metadata": {},
   "source": [
    "#### (d) Use the bs() function to fit a regression spline to predict nox using dis. Report the output for the fit using four degrees of freedom. How did you choose the knots? Plot the resulting fit."
   ]
  },
  {
   "cell_type": "code",
   "execution_count": 54,
   "id": "b966bd2c",
   "metadata": {},
   "outputs": [
    {
     "data": {
      "text/plain": [
       "\n",
       "Call:\n",
       "lm(formula = nox ~ bs(dis, df = 4, knots = c(4, 7, 11)), data = Boston)\n",
       "\n",
       "Residuals:\n",
       "      Min        1Q    Median        3Q       Max \n",
       "-0.124567 -0.040355 -0.008702  0.024740  0.192920 \n",
       "\n",
       "Coefficients:\n",
       "                                      Estimate Std. Error t value Pr(>|t|)    \n",
       "(Intercept)                            0.73926    0.01331  55.537  < 2e-16 ***\n",
       "bs(dis, df = 4, knots = c(4, 7, 11))1 -0.08861    0.02504  -3.539  0.00044 ***\n",
       "bs(dis, df = 4, knots = c(4, 7, 11))2 -0.31341    0.01680 -18.658  < 2e-16 ***\n",
       "bs(dis, df = 4, knots = c(4, 7, 11))3 -0.26618    0.03147  -8.459 3.00e-16 ***\n",
       "bs(dis, df = 4, knots = c(4, 7, 11))4 -0.39802    0.04647  -8.565  < 2e-16 ***\n",
       "bs(dis, df = 4, knots = c(4, 7, 11))5 -0.25681    0.09001  -2.853  0.00451 ** \n",
       "bs(dis, df = 4, knots = c(4, 7, 11))6 -0.32926    0.06327  -5.204 2.85e-07 ***\n",
       "---\n",
       "Signif. codes:  0 '***' 0.001 '**' 0.01 '*' 0.05 '.' 0.1 ' ' 1\n",
       "\n",
       "Residual standard error: 0.06185 on 499 degrees of freedom\n",
       "Multiple R-squared:  0.7185,\tAdjusted R-squared:  0.7151 \n",
       "F-statistic: 212.3 on 6 and 499 DF,  p-value: < 2.2e-16\n"
      ]
     },
     "metadata": {},
     "output_type": "display_data"
    }
   ],
   "source": [
    "library(splines)\n",
    "sp.fit = lm(nox ~ bs(dis, df = 4, knots = c(4, 7, 11)), data = Boston)\n",
    "summary(sp.fit)"
   ]
  },
  {
   "cell_type": "code",
   "execution_count": 55,
   "id": "5c74c25a",
   "metadata": {},
   "outputs": [
    {
     "data": {
      "image/png": "[encoded data removed]",
      "text/plain": [
       "plot without title"
      ]
     },
     "metadata": {
      "image/png": {
       "height": 420,
       "width": 420
      }
     },
     "output_type": "display_data"
    }
   ],
   "source": [
    "sp.pred = predict(sp.fit, list(dis = dis.grid))\n",
    "plot(nox ~ dis, data = Boston, col = \"darkgrey\")\n",
    "lines(dis.grid, sp.pred, col = \"red\", lwd = 2)"
   ]
  },
  {
   "cell_type": "markdown",
   "id": "46497824",
   "metadata": {},
   "source": [
    "#### (e) Now fit a regression spline for a range of degrees of freedom, and plot the resulting fits and report the resulting RSS. Describe the results obtained."
   ]
  },
  {
   "cell_type": "code",
   "execution_count": 56,
   "id": "dc793563",
   "metadata": {},
   "outputs": [
    {
     "data": {
      "text/html": [
       "<style>\n",
       ".list-inline {list-style: none; margin:0; padding: 0}\n",
       ".list-inline>li {display: inline-block}\n",
       ".list-inline>li:not(:last-child)::after {content: \"\\00b7\"; padding: 0 .5ex}\n",
       "</style>\n",
       "<ol class=list-inline><li>1.93410670717907</li><li>1.92277499281193</li><li>1.84017280148852</li><li>1.83396590316021</li><li>1.82988444592328</li><li>1.81699505672523</li><li>1.82565251038706</li><li>1.79253488955613</li><li>1.79699182173143</li><li>1.78899914528888</li><li>1.78235042874344</li><li>1.78183805686312</li><li>1.78279784044131</li><li>1.78354576630177</li></ol>\n"
      ],
      "text/latex": [
       "\\begin{enumerate*}\n",
       "\\item 1.93410670717907\n",
       "\\item 1.92277499281193\n",
       "\\item 1.84017280148852\n",
       "\\item 1.83396590316021\n",
       "\\item 1.82988444592328\n",
       "\\item 1.81699505672523\n",
       "\\item 1.82565251038706\n",
       "\\item 1.79253488955613\n",
       "\\item 1.79699182173143\n",
       "\\item 1.78899914528888\n",
       "\\item 1.78235042874344\n",
       "\\item 1.78183805686312\n",
       "\\item 1.78279784044131\n",
       "\\item 1.78354576630177\n",
       "\\end{enumerate*}\n"
      ],
      "text/markdown": [
       "1. 1.93410670717907\n",
       "2. 1.92277499281193\n",
       "3. 1.84017280148852\n",
       "4. 1.83396590316021\n",
       "5. 1.82988444592328\n",
       "6. 1.81699505672523\n",
       "7. 1.82565251038706\n",
       "8. 1.79253488955613\n",
       "9. 1.79699182173143\n",
       "10. 1.78899914528888\n",
       "11. 1.78235042874344\n",
       "12. 1.78183805686312\n",
       "13. 1.78279784044131\n",
       "14. 1.78354576630177\n",
       "\n",
       "\n"
      ],
      "text/plain": [
       " [1] 1.934107 1.922775 1.840173 1.833966 1.829884 1.816995 1.825653 1.792535\n",
       " [9] 1.796992 1.788999 1.782350 1.781838 1.782798 1.783546"
      ]
     },
     "metadata": {},
     "output_type": "display_data"
    }
   ],
   "source": [
    "all.cv = rep(NA, 16)\n",
    "for (i in 3:16) {\n",
    "    lm.fit = lm(nox ~ bs(dis, df = i), data = Boston)\n",
    "    all.cv[i] = sum(lm.fit$residuals^2)\n",
    "}\n",
    "all.cv[-c(1, 2)]"
   ]
  },
  {
   "cell_type": "markdown",
   "id": "83718d91",
   "metadata": {},
   "source": [
    "#### (f) Perform cross-validation or another approach in order to select the best degrees of freedom for a regression spline on this data. Describe your results."
   ]
  },
  {
   "cell_type": "code",
   "execution_count": 57,
   "id": "c1c257b4",
   "metadata": {},
   "outputs": [
    {
     "name": "stderr",
     "output_type": "stream",
     "text": [
      "Warning message in bs(dis, degree = 3L, knots = numeric(0), Boundary.knots = c(1.1296, :\n",
      "\"some 'x' values beyond boundary knots may cause ill-conditioned bases\"\n",
      "Warning message in bs(dis, degree = 3L, knots = numeric(0), Boundary.knots = c(1.1296, :\n",
      "\"some 'x' values beyond boundary knots may cause ill-conditioned bases\"\n",
      "Warning message in bs(dis, degree = 3L, knots = numeric(0), Boundary.knots = c(1.137, :\n",
      "\"some 'x' values beyond boundary knots may cause ill-conditioned bases\"\n",
      "Warning message in bs(dis, degree = 3L, knots = numeric(0), Boundary.knots = c(1.137, :\n",
      "\"some 'x' values beyond boundary knots may cause ill-conditioned bases\"\n",
      "Warning message in bs(dis, degree = 3L, knots = c(`50%` = 3.3175), Boundary.knots = c(1.137, :\n",
      "\"some 'x' values beyond boundary knots may cause ill-conditioned bases\"\n",
      "Warning message in bs(dis, degree = 3L, knots = c(`50%` = 3.3175), Boundary.knots = c(1.137, :\n",
      "\"some 'x' values beyond boundary knots may cause ill-conditioned bases\"\n",
      "Warning message in bs(dis, degree = 3L, knots = c(`50%` = 3.1174), Boundary.knots = c(1.1296, :\n",
      "\"some 'x' values beyond boundary knots may cause ill-conditioned bases\"\n",
      "Warning message in bs(dis, degree = 3L, knots = c(`50%` = 3.1174), Boundary.knots = c(1.1296, :\n",
      "\"some 'x' values beyond boundary knots may cause ill-conditioned bases\"\n",
      "Warning message in bs(dis, degree = 3L, knots = c(`33.33333%` = 2.41306666666667, :\n",
      "\"some 'x' values beyond boundary knots may cause ill-conditioned bases\"\n",
      "Warning message in bs(dis, degree = 3L, knots = c(`33.33333%` = 2.41306666666667, :\n",
      "\"some 'x' values beyond boundary knots may cause ill-conditioned bases\"\n",
      "Warning message in bs(dis, degree = 3L, knots = c(`33.33333%` = 2.38186666666667, :\n",
      "\"some 'x' values beyond boundary knots may cause ill-conditioned bases\"\n",
      "Warning message in bs(dis, degree = 3L, knots = c(`33.33333%` = 2.38186666666667, :\n",
      "\"some 'x' values beyond boundary knots may cause ill-conditioned bases\"\n",
      "Warning message in bs(dis, degree = 3L, knots = c(`25%` = 2.08755, `50%` = 3.0921, :\n",
      "\"some 'x' values beyond boundary knots may cause ill-conditioned bases\"\n",
      "Warning message in bs(dis, degree = 3L, knots = c(`25%` = 2.08755, `50%` = 3.0921, :\n",
      "\"some 'x' values beyond boundary knots may cause ill-conditioned bases\"\n",
      "Warning message in bs(dis, degree = 3L, knots = c(`25%` = 2.10525, `50%` = 3.1523, :\n",
      "\"some 'x' values beyond boundary knots may cause ill-conditioned bases\"\n",
      "Warning message in bs(dis, degree = 3L, knots = c(`25%` = 2.10525, `50%` = 3.1523, :\n",
      "\"some 'x' values beyond boundary knots may cause ill-conditioned bases\"\n",
      "Warning message in bs(dis, degree = 3L, knots = c(`20%` = 1.9669, `40%` = 2.6403, :\n",
      "\"some 'x' values beyond boundary knots may cause ill-conditioned bases\"\n",
      "Warning message in bs(dis, degree = 3L, knots = c(`20%` = 1.9669, `40%` = 2.6403, :\n",
      "\"some 'x' values beyond boundary knots may cause ill-conditioned bases\"\n",
      "Warning message in bs(dis, degree = 3L, knots = c(`20%` = 1.94264, `40%` = 2.59774, :\n",
      "\"some 'x' values beyond boundary knots may cause ill-conditioned bases\"\n",
      "Warning message in bs(dis, degree = 3L, knots = c(`20%` = 1.94264, `40%` = 2.59774, :\n",
      "\"some 'x' values beyond boundary knots may cause ill-conditioned bases\"\n",
      "Warning message in bs(dis, degree = 3L, knots = c(`16.66667%` = 1.8651, `33.33333%` = 2.3841, :\n",
      "\"some 'x' values beyond boundary knots may cause ill-conditioned bases\"\n",
      "Warning message in bs(dis, degree = 3L, knots = c(`16.66667%` = 1.8651, `33.33333%` = 2.3841, :\n",
      "\"some 'x' values beyond boundary knots may cause ill-conditioned bases\"\n",
      "Warning message in bs(dis, degree = 3L, knots = c(`16.66667%` = 1.86746666666667, :\n",
      "\"some 'x' values beyond boundary knots may cause ill-conditioned bases\"\n",
      "Warning message in bs(dis, degree = 3L, knots = c(`16.66667%` = 1.86746666666667, :\n",
      "\"some 'x' values beyond boundary knots may cause ill-conditioned bases\"\n",
      "Warning message in bs(dis, degree = 3L, knots = c(`14.28571%` = 1.79777142857143, :\n",
      "\"some 'x' values beyond boundary knots may cause ill-conditioned bases\"\n",
      "Warning message in bs(dis, degree = 3L, knots = c(`14.28571%` = 1.79777142857143, :\n",
      "\"some 'x' values beyond boundary knots may cause ill-conditioned bases\"\n",
      "Warning message in bs(dis, degree = 3L, knots = c(`12.5%` = 1.719975, `25%` = 2.06855, :\n",
      "\"some 'x' values beyond boundary knots may cause ill-conditioned bases\"\n",
      "Warning message in bs(dis, degree = 3L, knots = c(`12.5%` = 1.719975, `25%` = 2.06855, :\n",
      "\"some 'x' values beyond boundary knots may cause ill-conditioned bases\"\n",
      "Warning message in bs(dis, degree = 3L, knots = c(`12.5%` = 1.7443625, `25%` = 2.087875, :\n",
      "\"some 'x' values beyond boundary knots may cause ill-conditioned bases\"\n",
      "Warning message in bs(dis, degree = 3L, knots = c(`12.5%` = 1.7443625, `25%` = 2.087875, :\n",
      "\"some 'x' values beyond boundary knots may cause ill-conditioned bases\"\n",
      "Warning message in bs(dis, degree = 3L, knots = c(`11.11111%` = 1.66865555555556, :\n",
      "\"some 'x' values beyond boundary knots may cause ill-conditioned bases\"\n",
      "Warning message in bs(dis, degree = 3L, knots = c(`11.11111%` = 1.66865555555556, :\n",
      "\"some 'x' values beyond boundary knots may cause ill-conditioned bases\"\n",
      "Warning message in bs(dis, degree = 3L, knots = c(`11.11111%` = 1.68835555555556, :\n",
      "\"some 'x' values beyond boundary knots may cause ill-conditioned bases\"\n",
      "Warning message in bs(dis, degree = 3L, knots = c(`11.11111%` = 1.68835555555556, :\n",
      "\"some 'x' values beyond boundary knots may cause ill-conditioned bases\"\n",
      "Warning message in bs(dis, degree = 3L, knots = c(`10%` = 1.66864, `20%` = 1.96376, :\n",
      "\"some 'x' values beyond boundary knots may cause ill-conditioned bases\"\n",
      "Warning message in bs(dis, degree = 3L, knots = c(`10%` = 1.66864, `20%` = 1.96376, :\n",
      "\"some 'x' values beyond boundary knots may cause ill-conditioned bases\"\n",
      "Warning message in bs(dis, degree = 3L, knots = c(`10%` = 1.6634, `20%` = 1.9512, :\n",
      "\"some 'x' values beyond boundary knots may cause ill-conditioned bases\"\n",
      "Warning message in bs(dis, degree = 3L, knots = c(`10%` = 1.6634, `20%` = 1.9512, :\n",
      "\"some 'x' values beyond boundary knots may cause ill-conditioned bases\"\n",
      "Warning message in bs(dis, degree = 3L, knots = c(`9.090909%` = 1.59007272727273, :\n",
      "\"some 'x' values beyond boundary knots may cause ill-conditioned bases\"\n",
      "Warning message in bs(dis, degree = 3L, knots = c(`9.090909%` = 1.59007272727273, :\n",
      "\"some 'x' values beyond boundary knots may cause ill-conditioned bases\"\n",
      "Warning message in bs(dis, degree = 3L, knots = c(`9.090909%` = 1.60841818181818, :\n",
      "\"some 'x' values beyond boundary knots may cause ill-conditioned bases\"\n",
      "Warning message in bs(dis, degree = 3L, knots = c(`9.090909%` = 1.60841818181818, :\n",
      "\"some 'x' values beyond boundary knots may cause ill-conditioned bases\"\n",
      "Warning message in bs(dis, degree = 3L, knots = c(`8.333333%` = 1.60996666666667, :\n",
      "\"some 'x' values beyond boundary knots may cause ill-conditioned bases\"\n",
      "Warning message in bs(dis, degree = 3L, knots = c(`8.333333%` = 1.60996666666667, :\n",
      "\"some 'x' values beyond boundary knots may cause ill-conditioned bases\"\n",
      "Warning message in bs(dis, degree = 3L, knots = c(`8.333333%` = 1.59125, `16.66667%` = 1.83066666666667, :\n",
      "\"some 'x' values beyond boundary knots may cause ill-conditioned bases\"\n",
      "Warning message in bs(dis, degree = 3L, knots = c(`8.333333%` = 1.59125, `16.66667%` = 1.83066666666667, :\n",
      "\"some 'x' values beyond boundary knots may cause ill-conditioned bases\"\n",
      "Warning message in bs(dis, degree = 3L, knots = c(`7.692308%` = 1.57254615384615, :\n",
      "\"some 'x' values beyond boundary knots may cause ill-conditioned bases\"\n",
      "Warning message in bs(dis, degree = 3L, knots = c(`7.692308%` = 1.57254615384615, :\n",
      "\"some 'x' values beyond boundary knots may cause ill-conditioned bases\"\n",
      "Warning message in bs(dis, degree = 3L, knots = c(`7.692308%` = 1.5916, `15.38462%` = 1.8629, :\n",
      "\"some 'x' values beyond boundary knots may cause ill-conditioned bases\"\n",
      "Warning message in bs(dis, degree = 3L, knots = c(`7.692308%` = 1.5916, `15.38462%` = 1.8629, :\n",
      "\"some 'x' values beyond boundary knots may cause ill-conditioned bases\"\n",
      "Warning message in bs(dis, degree = 3L, knots = c(`7.142857%` = 1.53135, `14.28571%` = 1.801, :\n",
      "\"some 'x' values beyond boundary knots may cause ill-conditioned bases\"\n",
      "Warning message in bs(dis, degree = 3L, knots = c(`7.142857%` = 1.53135, `14.28571%` = 1.801, :\n",
      "\"some 'x' values beyond boundary knots may cause ill-conditioned bases\"\n"
     ]
    },
    {
     "name": "stderr",
     "output_type": "stream",
     "text": [
      "Warning message in bs(dis, degree = 3L, knots = c(`7.142857%` = 1.5768, `14.28571%` = 1.7936, :\n",
      "\"some 'x' values beyond boundary knots may cause ill-conditioned bases\"\n",
      "Warning message in bs(dis, degree = 3L, knots = c(`7.142857%` = 1.5768, `14.28571%` = 1.7936, :\n",
      "\"some 'x' values beyond boundary knots may cause ill-conditioned bases\"\n"
     ]
    }
   ],
   "source": [
    "all.cv = rep(NA, 16)\n",
    "for (i in 3:16) {\n",
    "    lm.fit = glm(nox ~ bs(dis, df = i), data = Boston)\n",
    "    all.cv[i] = cv.glm(Boston, lm.fit, K = 10)$delta[2]\n",
    "}"
   ]
  },
  {
   "cell_type": "code",
   "execution_count": 58,
   "id": "357ef3a1",
   "metadata": {},
   "outputs": [
    {
     "data": {
      "image/png": "[encoded data removed]",
      "text/plain": [
       "plot without title"
      ]
     },
     "metadata": {
      "image/png": {
       "height": 420,
       "width": 420
      }
     },
     "output_type": "display_data"
    }
   ],
   "source": [
    "plot(3:16, all.cv[-c(1, 2)], lwd = 2, type = \"l\", xlab = \"df\", ylab = \"CV error\")"
   ]
  },
  {
   "cell_type": "markdown",
   "id": "a6227508",
   "metadata": {},
   "source": [
    "## Exercise 10 (p.300, Chap.7)"
   ]
  },
  {
   "cell_type": "markdown",
   "id": "8011eab9",
   "metadata": {},
   "source": [
    "#### 10. This question relates to the College data set."
   ]
  },
  {
   "cell_type": "markdown",
   "id": "bdf28567",
   "metadata": {},
   "source": [
    "#### (a) Split the data into a training set and a test set. Using out-of-state tuition as the response and the other variables as the predictors, perform forward stepwise selection on the training set in order to identify a satisfactory model that uses just a subset of the predictors."
   ]
  },
  {
   "cell_type": "code",
   "execution_count": 61,
   "id": "fd2e4b13",
   "metadata": {},
   "outputs": [
    {
     "data": {
      "image/png": "[encoded data removed]",
      "text/plain": [
       "plot without title"
      ]
     },
     "metadata": {
      "image/png": {
       "height": 420,
       "width": 420
      }
     },
     "output_type": "display_data"
    }
   ],
   "source": [
    "set.seed(530)\n",
    "library(ISLR)\n",
    "library(leaps)\n",
    "attach(College)\n",
    "train = sample(length(Outstate), length(Outstate)/2)\n",
    "test = -train\n",
    "College.train = College[train, ]\n",
    "College.test = College[test, ]\n",
    "reg.fit = regsubsets(Outstate ~ ., data = College.train, nvmax = 17, method = \"forward\")\n",
    "reg.summary = summary(reg.fit)\n",
    "par(mfrow = c(1, 3))\n",
    "plot(reg.summary$cp, xlab = \"Number of Variables\", ylab = \"Cp\", type = \"l\")\n",
    "min.cp = min(reg.summary$cp)\n",
    "std.cp = sd(reg.summary$cp)\n",
    "abline(h = min.cp + 0.2 * std.cp, col = \"red\", lty = 2)\n",
    "abline(h = min.cp - 0.2 * std.cp, col = \"red\", lty = 2)\n",
    "plot(reg.summary$bic, xlab = \"Number of Variables\", ylab = \"BIC\", type = \"l\")\n",
    "min.bic = min(reg.summary$bic)\n",
    "std.bic = sd(reg.summary$bic)\n",
    "abline(h = min.bic + 0.2 * std.bic, col = \"red\", lty = 2)\n",
    "abline(h = min.bic - 0.2 * std.bic, col = \"red\", lty = 2)\n",
    "plot(reg.summary$adjr2, xlab = \"Number of Variables\", ylab = \"Adjusted R2\", \n",
    "    type = \"l\", ylim = c(0.4, 0.84))\n",
    "max.adjr2 = max(reg.summary$adjr2)\n",
    "std.adjr2 = sd(reg.summary$adjr2)\n",
    "abline(h = max.adjr2 + 0.2 * std.adjr2, col = \"red\", lty = 2)\n",
    "abline(h = max.adjr2 - 0.2 * std.adjr2, col = \"red\", lty = 2)"
   ]
  },
  {
   "cell_type": "code",
   "execution_count": 62,
   "id": "0e2833df",
   "metadata": {},
   "outputs": [
    {
     "data": {
      "text/html": [
       "<style>\n",
       ".list-inline {list-style: none; margin:0; padding: 0}\n",
       ".list-inline>li {display: inline-block}\n",
       ".list-inline>li:not(:last-child)::after {content: \"\\00b7\"; padding: 0 .5ex}\n",
       "</style>\n",
       "<ol class=list-inline><li>'(Intercept)'</li><li>'PrivateYes'</li><li>'Room.Board'</li><li>'PhD'</li><li>'perc.alumni'</li><li>'Expend'</li><li>'Grad.Rate'</li></ol>\n"
      ],
      "text/latex": [
       "\\begin{enumerate*}\n",
       "\\item '(Intercept)'\n",
       "\\item 'PrivateYes'\n",
       "\\item 'Room.Board'\n",
       "\\item 'PhD'\n",
       "\\item 'perc.alumni'\n",
       "\\item 'Expend'\n",
       "\\item 'Grad.Rate'\n",
       "\\end{enumerate*}\n"
      ],
      "text/markdown": [
       "1. '(Intercept)'\n",
       "2. 'PrivateYes'\n",
       "3. 'Room.Board'\n",
       "4. 'PhD'\n",
       "5. 'perc.alumni'\n",
       "6. 'Expend'\n",
       "7. 'Grad.Rate'\n",
       "\n",
       "\n"
      ],
      "text/plain": [
       "[1] \"(Intercept)\" \"PrivateYes\"  \"Room.Board\"  \"PhD\"         \"perc.alumni\"\n",
       "[6] \"Expend\"      \"Grad.Rate\"  "
      ]
     },
     "metadata": {},
     "output_type": "display_data"
    }
   ],
   "source": [
    "reg.fit = regsubsets(Outstate ~ ., data = College, method = \"forward\")\n",
    "coefi = coef(reg.fit, id = 6)\n",
    "names(coefi)"
   ]
  },
  {
   "cell_type": "markdown",
   "id": "e5edc0e0",
   "metadata": {},
   "source": [
    "#### (b) Fit a GAM on the training data, using out-of-state tuition as the response and the features selected in the previous step as the predictors. Plot the results, and explain your findings."
   ]
  },
  {
   "cell_type": "code",
   "execution_count": 63,
   "id": "d386cb5d",
   "metadata": {},
   "outputs": [
    {
     "name": "stderr",
     "output_type": "stream",
     "text": [
      "Loading required package: foreach\n",
      "\n",
      "Loaded gam 1.20\n",
      "\n",
      "\n"
     ]
    }
   ],
   "source": [
    "library(gam)"
   ]
  },
  {
   "cell_type": "code",
   "execution_count": 64,
   "id": "f7649045",
   "metadata": {},
   "outputs": [
    {
     "data": {
      "image/png": "[encoded data removed]",
      "text/plain": [
       "plot without title"
      ]
     },
     "metadata": {
      "image/png": {
       "height": 420,
       "width": 420
      }
     },
     "output_type": "display_data"
    }
   ],
   "source": [
    "gam.fit = gam(Outstate ~ Private + s(Room.Board, df = 2) + s(PhD, df = 2) + \n",
    "    s(perc.alumni, df = 2) + s(Expend, df = 5) + s(Grad.Rate, df = 2), data = College.train)\n",
    "par(mfrow = c(2, 3))\n",
    "plot(gam.fit, se = T, col = \"blue\")"
   ]
  },
  {
   "cell_type": "markdown",
   "id": "7e867231",
   "metadata": {},
   "source": [
    "#### (c) Evaluate the model obtained on the test set, and explain the results obtained."
   ]
  },
  {
   "cell_type": "code",
   "execution_count": 65,
   "id": "07d3af69",
   "metadata": {},
   "outputs": [
    {
     "data": {
      "text/html": [
       "3553062.17050645"
      ],
      "text/latex": [
       "3553062.17050645"
      ],
      "text/markdown": [
       "3553062.17050645"
      ],
      "text/plain": [
       "[1] 3553062"
      ]
     },
     "metadata": {},
     "output_type": "display_data"
    }
   ],
   "source": [
    "gam.pred = predict(gam.fit, College.test)\n",
    "gam.err = mean((College.test$Outstate - gam.pred)^2)\n",
    "gam.err"
   ]
  },
  {
   "cell_type": "code",
   "execution_count": 66,
   "id": "f80b40b7",
   "metadata": {},
   "outputs": [
    {
     "data": {
      "text/html": [
       "0.774938915406795"
      ],
      "text/latex": [
       "0.774938915406795"
      ],
      "text/markdown": [
       "0.774938915406795"
      ],
      "text/plain": [
       "[1] 0.7749389"
      ]
     },
     "metadata": {},
     "output_type": "display_data"
    }
   ],
   "source": [
    "gam.tss = mean((College.test$Outstate - mean(College.test$Outstate))^2)\n",
    "test.rss = 1 - gam.err/gam.tss\n",
    "test.rss"
   ]
  },
  {
   "cell_type": "markdown",
   "id": "b0000914",
   "metadata": {},
   "source": [
    "#### (d) For which variables, if any, is there evidence of a non-linear relationship with the response?"
   ]
  },
  {
   "cell_type": "code",
   "execution_count": 67,
   "id": "f19e3eb5",
   "metadata": {},
   "outputs": [
    {
     "data": {
      "text/plain": [
       "\n",
       "Call: gam(formula = Outstate ~ Private + s(Room.Board, df = 2) + s(PhD, \n",
       "    df = 2) + s(perc.alumni, df = 2) + s(Expend, df = 5) + s(Grad.Rate, \n",
       "    df = 2), data = College.train)\n",
       "Deviance Residuals:\n",
       "    Min      1Q  Median      3Q     Max \n",
       "-5620.8 -1108.9   101.7  1319.5  4456.6 \n",
       "\n",
       "(Dispersion Parameter for gaussian family taken to be 3451049)\n",
       "\n",
       "    Null Deviance: 6416907560 on 387 degrees of freedom\n",
       "Residual Deviance: 1287239711 on 372.9996 degrees of freedom\n",
       "AIC: 6958.824 \n",
       "\n",
       "Number of Local Scoring Iterations: NA \n",
       "\n",
       "Anova for Parametric Effects\n",
       "                        Df     Sum Sq    Mean Sq F value  Pr(>F)    \n",
       "Private                  1 1690448735 1690448735 489.836 < 2e-16 ***\n",
       "s(Room.Board, df = 2)    1 1236056645 1236056645 358.168 < 2e-16 ***\n",
       "s(PhD, df = 2)           1  442396771  442396771 128.192 < 2e-16 ***\n",
       "s(perc.alumni, df = 2)   1  278146612  278146612  80.598 < 2e-16 ***\n",
       "s(Expend, df = 5)        1  521070929  521070929 150.989 < 2e-16 ***\n",
       "s(Grad.Rate, df = 2)     1   35523563   35523563  10.294 0.00145 ** \n",
       "Residuals              373 1287239711    3451049                    \n",
       "---\n",
       "Signif. codes:  0 '***' 0.001 '**' 0.01 '*' 0.05 '.' 0.1 ' ' 1\n",
       "\n",
       "Anova for Nonparametric Effects\n",
       "                       Npar Df  Npar F     Pr(F)    \n",
       "(Intercept)                                         \n",
       "Private                                             \n",
       "s(Room.Board, df = 2)        1  1.2031    0.2734    \n",
       "s(PhD, df = 2)               1  0.5563    0.4562    \n",
       "s(perc.alumni, df = 2)       1  0.8586    0.3547    \n",
       "s(Expend, df = 5)            4 18.7928 4.341e-14 ***\n",
       "s(Grad.Rate, df = 2)         1  1.5164    0.2189    \n",
       "---\n",
       "Signif. codes:  0 '***' 0.001 '**' 0.01 '*' 0.05 '.' 0.1 ' ' 1"
      ]
     },
     "metadata": {},
     "output_type": "display_data"
    }
   ],
   "source": [
    "summary(gam.fit)"
   ]
  },
  {
   "cell_type": "code",
   "execution_count": null,
   "id": "e6a18d37",
   "metadata": {},
   "outputs": [],
   "source": []
  }
 ],
 "metadata": {
  "kernelspec": {
   "display_name": "R",
   "language": "R",
   "name": "ir"
  },
  "language_info": {
   "codemirror_mode": "r",
   "file_extension": ".r",
   "mimetype": "text/x-r-source",
   "name": "R",
   "pygments_lexer": "r",
   "version": "4.0.5"
  }
 },
 "nbformat": 4,
 "nbformat_minor": 5
}

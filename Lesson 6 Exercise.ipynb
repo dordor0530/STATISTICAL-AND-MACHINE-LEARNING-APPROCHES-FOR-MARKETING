{
 "cells": [
  {
   "cell_type": "markdown",
   "id": "ee9135ea-6313-4e2b-986f-8eaedeab40aa",
   "metadata": {},
   "source": [
    "## Exercise 3 (p.414, Chap.10)"
   ]
  },
  {
   "cell_type": "markdown",
   "id": "fa8ba60f-10d8-4d2b-b873-73fbc20ce9a0",
   "metadata": {},
   "source": [
    "#### 3. In this problem, you will perform K-means clustering manually, with K = 2, on a small example with n = 6 observations and p = 2 features. The observations are as follows.\n",
    "\n",
    "##### Obs. X1 X2\n",
    "##### 1 1 4\n",
    "##### 2 1 3\n",
    "##### 3 0 4\n",
    "##### 4 5 1\n",
    "##### 5 6 2\n",
    "##### 6 4 0"
   ]
  },
  {
   "cell_type": "markdown",
   "id": "57f18c07-9737-4f87-a2f7-115d4a80e324",
   "metadata": {},
   "source": [
    "#### (a) Plot the observations."
   ]
  },
  {
   "cell_type": "code",
   "execution_count": 1,
   "id": "3f61b961-5f96-4786-a4f5-b66d2f628c76",
   "metadata": {},
   "outputs": [],
   "source": [
    "set.seed(530)\n",
    "X1 = c(1,1,0,5,6,4)\n",
    "X2 = c(4,3,4,1,2,0)\n",
    "X = cbind(X1,X2)"
   ]
  },
  {
   "cell_type": "code",
   "execution_count": 2,
   "id": "eae6eca0-29e6-4038-aa26-6cb4466231ea",
   "metadata": {},
   "outputs": [
    {
     "data": {
      "image/png": "[encoded data removed]",
      "text/plain": [
       "plot without title"
      ]
     },
     "metadata": {
      "image/png": {
       "height": 420,
       "width": 420
      }
     },
     "output_type": "display_data"
    }
   ],
   "source": [
    "plot(X[,1],X[,2])"
   ]
  },
  {
   "cell_type": "markdown",
   "id": "89c8a032-04b6-41ff-85ea-51a12767ed11",
   "metadata": {},
   "source": [
    "#### (b) Randomly assign a cluster label to each observation. You can use the sample() command in R to do this. Report the cluster labels for each observation."
   ]
  },
  {
   "cell_type": "code",
   "execution_count": 3,
   "id": "65091a9a-37de-4c79-b2a3-2d2114528809",
   "metadata": {},
   "outputs": [
    {
     "data": {
      "text/html": [
       "<style>\n",
       ".list-inline {list-style: none; margin:0; padding: 0}\n",
       ".list-inline>li {display: inline-block}\n",
       ".list-inline>li:not(:last-child)::after {content: \"\\00b7\"; padding: 0 .5ex}\n",
       "</style>\n",
       "<ol class=list-inline><li>1</li><li>2</li><li>2</li><li>2</li><li>1</li><li>1</li></ol>\n"
      ],
      "text/latex": [
       "\\begin{enumerate*}\n",
       "\\item 1\n",
       "\\item 2\n",
       "\\item 2\n",
       "\\item 2\n",
       "\\item 1\n",
       "\\item 1\n",
       "\\end{enumerate*}\n"
      ],
      "text/markdown": [
       "1. 1\n",
       "2. 2\n",
       "3. 2\n",
       "4. 2\n",
       "5. 1\n",
       "6. 1\n",
       "\n",
       "\n"
      ],
      "text/plain": [
       "[1] 1 2 2 2 1 1"
      ]
     },
     "metadata": {},
     "output_type": "display_data"
    }
   ],
   "source": [
    "labels = sample(2, nrow(X), replace=T)\n",
    "labels"
   ]
  },
  {
   "cell_type": "markdown",
   "id": "e4c3167c-9cf6-4fb8-aca6-5d7b9f5afd71",
   "metadata": {},
   "source": [
    "#### (c) Compute the centroid for each cluster."
   ]
  },
  {
   "cell_type": "code",
   "execution_count": 4,
   "id": "6196a41a-f434-45f2-9b6c-692990639c0b",
   "metadata": {},
   "outputs": [
    {
     "name": "stdout",
     "output_type": "stream",
     "text": [
      "[1] 3.666667 2.000000\n",
      "[1] 2.000000 2.666667\n"
     ]
    }
   ],
   "source": [
    "C1 = c(mean(X[labels==1, 1]), mean(X[labels==1, 2]))\n",
    "C2 = c(mean(X[labels==2, 1]), mean(X[labels==2, 2]))\n",
    "\n",
    "print(C1)\n",
    "print(C2)"
   ]
  },
  {
   "cell_type": "code",
   "execution_count": 5,
   "id": "c156e64a-aac2-48cb-9275-8c76c56b498f",
   "metadata": {},
   "outputs": [
    {
     "data": {
      "image/png": "[encoded data removed]",
      "text/plain": [
       "plot without title"
      ]
     },
     "metadata": {
      "image/png": {
       "height": 420,
       "width": 420
      }
     },
     "output_type": "display_data"
    }
   ],
   "source": [
    "plot(X[,1], X[,2], col=(labels+1), pch=20, cex=2)\n",
    "points(C1[1], C1[2], col=2, pch=4)\n",
    "points(C2[1], C2[2], col=3, pch=4)"
   ]
  },
  {
   "cell_type": "markdown",
   "id": "a1bae0ff-ffb3-4cae-9cd7-47cf82553ab2",
   "metadata": {},
   "source": [
    "#### (d) Assign each observation to the centroid to which it is closest, in terms of Euclidean distance. Report the cluster labels for each observation."
   ]
  },
  {
   "cell_type": "code",
   "execution_count": 6,
   "id": "25780bc9-a421-46ba-9642-365b2d2e7fe2",
   "metadata": {},
   "outputs": [
    {
     "data": {
      "text/html": [
       "<style>\n",
       ".list-inline {list-style: none; margin:0; padding: 0}\n",
       ".list-inline>li {display: inline-block}\n",
       ".list-inline>li:not(:last-child)::after {content: \"\\00b7\"; padding: 0 .5ex}\n",
       "</style>\n",
       "<ol class=list-inline><li>2</li><li>2</li><li>2</li><li>1</li><li>1</li><li>1</li></ol>\n"
      ],
      "text/latex": [
       "\\begin{enumerate*}\n",
       "\\item 2\n",
       "\\item 2\n",
       "\\item 2\n",
       "\\item 1\n",
       "\\item 1\n",
       "\\item 1\n",
       "\\end{enumerate*}\n"
      ],
      "text/markdown": [
       "1. 2\n",
       "2. 2\n",
       "3. 2\n",
       "4. 1\n",
       "5. 1\n",
       "6. 1\n",
       "\n",
       "\n"
      ],
      "text/plain": [
       "[1] 2 2 2 1 1 1"
      ]
     },
     "metadata": {},
     "output_type": "display_data"
    }
   ],
   "source": [
    "euclid = function(a, b) {\n",
    "  return(sqrt((a[1] - b[1])^2 + (a[2]-b[2])^2))\n",
    "}\n",
    "assign_labels = function(X, C1, C2) {\n",
    "  labels = rep(NA, nrow(X))\n",
    "  for (i in 1:nrow(X)) {\n",
    "    if (euclid(X[i,], C1) < euclid(X[i,], C2)) {\n",
    "      labels[i] = 1\n",
    "    } else {\n",
    "      labels[i] = 2\n",
    "    }\n",
    "  }\n",
    "  return(labels)\n",
    "}\n",
    "labels = assign_labels(X, C1, C2)\n",
    "labels"
   ]
  },
  {
   "cell_type": "markdown",
   "id": "41d43e5f-ea59-4580-8cbe-475ad92614bb",
   "metadata": {},
   "source": [
    "#### (e) Repeat (c) and (d) until the answers obtained stop changing."
   ]
  },
  {
   "cell_type": "code",
   "execution_count": 7,
   "id": "c93d900f-90e0-4e48-acde-8f61b3f71b06",
   "metadata": {},
   "outputs": [
    {
     "name": "stdout",
     "output_type": "stream",
     "text": [
      "[1] 5 1\n",
      "[1] 0.6666667 3.6666667\n"
     ]
    }
   ],
   "source": [
    "last_labels = rep(-1, 6)\n",
    "while (!all(last_labels == labels)) {\n",
    "  last_labels = labels\n",
    "  C1 = c(mean(X[labels==1, 1]), mean(X[labels==1, 2]))\n",
    "  C2 = c(mean(X[labels==2, 1]), mean(X[labels==2, 2]))\n",
    "  print(C1)\n",
    "  print(C2)\n",
    "  labels = assign_labels(X, C1, C2)\n",
    "}"
   ]
  },
  {
   "cell_type": "code",
   "execution_count": 8,
   "id": "1a0ecb9b-3c5b-47ea-95b1-4bea88959527",
   "metadata": {},
   "outputs": [
    {
     "data": {
      "text/html": [
       "<style>\n",
       ".list-inline {list-style: none; margin:0; padding: 0}\n",
       ".list-inline>li {display: inline-block}\n",
       ".list-inline>li:not(:last-child)::after {content: \"\\00b7\"; padding: 0 .5ex}\n",
       "</style>\n",
       "<ol class=list-inline><li>2</li><li>2</li><li>2</li><li>1</li><li>1</li><li>1</li></ol>\n"
      ],
      "text/latex": [
       "\\begin{enumerate*}\n",
       "\\item 2\n",
       "\\item 2\n",
       "\\item 2\n",
       "\\item 1\n",
       "\\item 1\n",
       "\\item 1\n",
       "\\end{enumerate*}\n"
      ],
      "text/markdown": [
       "1. 2\n",
       "2. 2\n",
       "3. 2\n",
       "4. 1\n",
       "5. 1\n",
       "6. 1\n",
       "\n",
       "\n"
      ],
      "text/plain": [
       "[1] 2 2 2 1 1 1"
      ]
     },
     "metadata": {},
     "output_type": "display_data"
    }
   ],
   "source": [
    "labels"
   ]
  },
  {
   "cell_type": "markdown",
   "id": "2499519f-c5e8-4995-b57c-a49c44b2582a",
   "metadata": {},
   "source": [
    "#### (f) In your plot from (a), color the observations according to the cluster labels obtained."
   ]
  },
  {
   "cell_type": "code",
   "execution_count": 9,
   "id": "42c56fe9-86b2-4728-aa74-3f995c4be497",
   "metadata": {},
   "outputs": [
    {
     "data": {
      "image/png": "[encoded data removed]",
      "text/plain": [
       "plot without title"
      ]
     },
     "metadata": {
      "image/png": {
       "height": 420,
       "width": 420
      }
     },
     "output_type": "display_data"
    }
   ],
   "source": [
    "plot(X[,1], X[,2], col=(labels+1), pch=20, cex=2)\n",
    "points(C1[1], C1[2], col=2, pch=4)\n",
    "points(C2[1], C2[2], col=3, pch=4)"
   ]
  },
  {
   "cell_type": "markdown",
   "id": "63484a1c-c868-43bf-a770-5a9b72630313",
   "metadata": {},
   "source": [
    "## Exercise 4 (p.414, Chap.10)"
   ]
  },
  {
   "cell_type": "markdown",
   "id": "2bb2887c-6cbf-4a7a-a6a0-55fd6035ba4a",
   "metadata": {},
   "source": [
    "#### 4. Suppose that for a particular data set, we perform hierarchical clustering using single linkage and using complete linkage. We obtain two dendrograms."
   ]
  },
  {
   "cell_type": "markdown",
   "id": "f7f3eff2-b0ea-43e5-b450-98770c91cfce",
   "metadata": {},
   "source": [
    "#### (a) At a certain point on the single linkage dendrogram, the clusters {1, 2, 3} and {4, 5} fuse. On the complete linkage dendrogram, the clusters {1, 2, 3} and {4, 5} also fuse at a certain point. Which fusion will occur higher on the tree, or will they fuse at the same height, or is there not enough information to tell?"
   ]
  },
  {
   "cell_type": "code",
   "execution_count": 10,
   "id": "327a3b97-ff8b-4097-849f-eb065a6d9b7c",
   "metadata": {},
   "outputs": [],
   "source": [
    "## The complete linkage dendrogram record the largest of the dissimilarities while single linkage dendrogram records the smalest of the dissimilarities.\n",
    "## Therefore, there is not enough information to tell."
   ]
  },
  {
   "cell_type": "markdown",
   "id": "9ab91a36-ef66-452d-8850-02fb26254cdb",
   "metadata": {},
   "source": [
    "#### (b) At a certain point on the single linkage dendrogram, the clusters {5} and {6} fuse. On the complete linkage dendrogram, the clusters {5} and {6} also fuse at a certain point. Which fusion will occur higher on the tree, or will they fuse at the same height, or is there not enough information to tell?"
   ]
  },
  {
   "cell_type": "code",
   "execution_count": 11,
   "id": "57f7a034-d032-4d17-acdb-de1720c1d6c7",
   "metadata": {},
   "outputs": [],
   "source": [
    "## They will fuse at the same height."
   ]
  },
  {
   "cell_type": "markdown",
   "id": "3de0bd9b-0d1e-4fb0-88d9-113f54714be9",
   "metadata": {},
   "source": [
    "## Exercise 8 (p.416, Chap.10)"
   ]
  },
  {
   "cell_type": "markdown",
   "id": "dbc27f61-d7d8-48a2-94e3-3ba5aa364e52",
   "metadata": {},
   "source": [
    "#### 8. In Section 10.2.3, a formula for calculating PVE was given in Equation 10.8. We also saw that the PVE can be obtained using the sdev output of the prcomp() function.\n",
    "\n",
    "#### On the USArrests data, calculate PVE in two ways:"
   ]
  },
  {
   "cell_type": "markdown",
   "id": "1bcb5fd6-4234-4b4a-9645-8c195ac26cd4",
   "metadata": {},
   "source": [
    "#### (a) Using the sdev output of the prcomp() function, as was done in Section 10.2.3."
   ]
  },
  {
   "cell_type": "code",
   "execution_count": 12,
   "id": "6cd9b5ed-6385-4ab0-8213-243086420515",
   "metadata": {},
   "outputs": [],
   "source": [
    "library(ISLR)\n",
    "set.seed(530)"
   ]
  },
  {
   "cell_type": "code",
   "execution_count": 13,
   "id": "2c312b68-0a7b-4612-8e1e-a5e256afa8da",
   "metadata": {},
   "outputs": [
    {
     "data": {
      "text/html": [
       "<style>\n",
       ".list-inline {list-style: none; margin:0; padding: 0}\n",
       ".list-inline>li {display: inline-block}\n",
       ".list-inline>li:not(:last-child)::after {content: \"\\00b7\"; padding: 0 .5ex}\n",
       "</style>\n",
       "<ol class=list-inline><li>0.620060394787374</li><li>0.24744128813496</li><li>0.0891407951452074</li><li>0.0433575219324588</li></ol>\n"
      ],
      "text/latex": [
       "\\begin{enumerate*}\n",
       "\\item 0.620060394787374\n",
       "\\item 0.24744128813496\n",
       "\\item 0.0891407951452074\n",
       "\\item 0.0433575219324588\n",
       "\\end{enumerate*}\n"
      ],
      "text/markdown": [
       "1. 0.620060394787374\n",
       "2. 0.24744128813496\n",
       "3. 0.0891407951452074\n",
       "4. 0.0433575219324588\n",
       "\n",
       "\n"
      ],
      "text/plain": [
       "[1] 0.62006039 0.24744129 0.08914080 0.04335752"
      ]
     },
     "metadata": {},
     "output_type": "display_data"
    }
   ],
   "source": [
    "pr_out = prcomp(USArrests, center=T, scale=T)\n",
    "pr_var = pr_out$sdev^2\n",
    "pve = pr_var / sum(pr_var)\n",
    "pve"
   ]
  },
  {
   "cell_type": "markdown",
   "id": "59f6a571-0a8e-44e9-a29b-8815a0deae6e",
   "metadata": {},
   "source": [
    "#### (b) By applying Equation 10.8 directly. That is, use the prcomp() function to compute the principal component loadings. Then, use those loadings in Equation 10.8 to obtain the PVE."
   ]
  },
  {
   "cell_type": "markdown",
   "id": "14d41cdd-c590-4c55-aa4a-1da21a6bf75d",
   "metadata": {},
   "source": [
    "#### These two approaches should give the same results.\n",
    "#### Hint: You will only obtain the same results in (a) and (b) if the same data is used in both cases. For instance, if in (a) you performed prcomp() using centered and scaled variables, then you must center and scale the variables before applying Equation 10.3 in (b)."
   ]
  },
  {
   "cell_type": "code",
   "execution_count": 14,
   "id": "cedcf38b-b957-40f6-b1e3-446092bab155",
   "metadata": {},
   "outputs": [
    {
     "data": {
      "text/html": [
       "<style>\n",
       ".list-inline {list-style: none; margin:0; padding: 0}\n",
       ".list-inline>li {display: inline-block}\n",
       ".list-inline>li:not(:last-child)::after {content: \"\\00b7\"; padding: 0 .5ex}\n",
       "</style>\n",
       "<ol class=list-inline><li>0.620060394787374</li><li>0.24744128813496</li><li>0.0891407951452075</li><li>0.0433575219324588</li></ol>\n"
      ],
      "text/latex": [
       "\\begin{enumerate*}\n",
       "\\item 0.620060394787374\n",
       "\\item 0.24744128813496\n",
       "\\item 0.0891407951452075\n",
       "\\item 0.0433575219324588\n",
       "\\end{enumerate*}\n"
      ],
      "text/markdown": [
       "1. 0.620060394787374\n",
       "2. 0.24744128813496\n",
       "3. 0.0891407951452075\n",
       "4. 0.0433575219324588\n",
       "\n",
       "\n"
      ],
      "text/plain": [
       "[1] 0.62006039 0.24744129 0.08914080 0.04335752"
      ]
     },
     "metadata": {},
     "output_type": "display_data"
    }
   ],
   "source": [
    "loadings = pr_out$rotation\n",
    "pve2 = rep(NA, 4)\n",
    "dmean = apply(USArrests, 2, mean)\n",
    "dsdev = sqrt(apply(USArrests, 2, var))\n",
    "dsc = sweep(USArrests, MARGIN=2, dmean, \"-\")\n",
    "dsc = sweep(dsc, MARGIN=2, dsdev, \"/\")\n",
    "for (i in 1:4) {\n",
    "  proto_x = sweep(dsc, MARGIN=2, loadings[,i], \"*\")\n",
    "  pc_x = apply(proto_x, 1, sum)\n",
    "  pve2[i] = sum(pc_x^2)\n",
    "}\n",
    "pve2 = pve2/sum(dsc^2)\n",
    "pve2"
   ]
  },
  {
   "cell_type": "markdown",
   "id": "658297b1-039e-4bfe-b058-242cc666551f",
   "metadata": {},
   "source": [
    "## Exercise 9 (p.416, Chap.10)"
   ]
  },
  {
   "cell_type": "markdown",
   "id": "9a36d358-3ce6-477d-b3bf-250cd9b97de2",
   "metadata": {},
   "source": [
    "#### 9. Consider the USArrests data. We will now perform hierarchical clustering on the states."
   ]
  },
  {
   "cell_type": "markdown",
   "id": "f35611e4-5951-4d78-bd6b-9e469b19c6a6",
   "metadata": {},
   "source": [
    "#### (a) Using hierarchical clustering with complete linkage and Euclidean distance, cluster the states."
   ]
  },
  {
   "cell_type": "code",
   "execution_count": 15,
   "id": "6836d99f-80b8-4814-aa0d-085ed3c5ad35",
   "metadata": {},
   "outputs": [],
   "source": [
    "library(ISLR)\n",
    "set.seed(530)"
   ]
  },
  {
   "cell_type": "code",
   "execution_count": 16,
   "id": "c1a5d2a8-a153-43f4-b9b3-52074f2724f7",
   "metadata": {},
   "outputs": [
    {
     "data": {
      "image/png": "[encoded data removed]",
      "text/plain": [
       "Plot with title \"Cluster Dendrogram\""
      ]
     },
     "metadata": {
      "image/png": {
       "height": 420,
       "width": 420
      }
     },
     "output_type": "display_data"
    }
   ],
   "source": [
    "hc_complete = hclust(dist(USArrests), method=\"complete\")\n",
    "plot(hc_complete)"
   ]
  },
  {
   "cell_type": "markdown",
   "id": "7b943f73-9560-4cd6-980a-03654710fd93",
   "metadata": {},
   "source": [
    "#### (b) Cut the dendrogram at a height that results in three distinct clusters. Which states belong to which clusters?"
   ]
  },
  {
   "cell_type": "code",
   "execution_count": 17,
   "id": "291d216b-f75d-4f5b-9763-6a3e6abf7125",
   "metadata": {},
   "outputs": [
    {
     "data": {
      "text/html": [
       "<style>\n",
       ".dl-inline {width: auto; margin:0; padding: 0}\n",
       ".dl-inline>dt, .dl-inline>dd {float: none; width: auto; display: inline-block}\n",
       ".dl-inline>dt::after {content: \":\\0020\"; padding-right: .5ex}\n",
       ".dl-inline>dt:not(:first-of-type) {padding-left: .5ex}\n",
       "</style><dl class=dl-inline><dt>Alabama</dt><dd>1</dd><dt>Alaska</dt><dd>1</dd><dt>Arizona</dt><dd>1</dd><dt>Arkansas</dt><dd>2</dd><dt>California</dt><dd>1</dd><dt>Colorado</dt><dd>2</dd><dt>Connecticut</dt><dd>3</dd><dt>Delaware</dt><dd>1</dd><dt>Florida</dt><dd>1</dd><dt>Georgia</dt><dd>2</dd><dt>Hawaii</dt><dd>3</dd><dt>Idaho</dt><dd>3</dd><dt>Illinois</dt><dd>1</dd><dt>Indiana</dt><dd>3</dd><dt>Iowa</dt><dd>3</dd><dt>Kansas</dt><dd>3</dd><dt>Kentucky</dt><dd>3</dd><dt>Louisiana</dt><dd>1</dd><dt>Maine</dt><dd>3</dd><dt>Maryland</dt><dd>1</dd><dt>Massachusetts</dt><dd>2</dd><dt>Michigan</dt><dd>1</dd><dt>Minnesota</dt><dd>3</dd><dt>Mississippi</dt><dd>1</dd><dt>Missouri</dt><dd>2</dd><dt>Montana</dt><dd>3</dd><dt>Nebraska</dt><dd>3</dd><dt>Nevada</dt><dd>1</dd><dt>New Hampshire</dt><dd>3</dd><dt>New Jersey</dt><dd>2</dd><dt>New Mexico</dt><dd>1</dd><dt>New York</dt><dd>1</dd><dt>North Carolina</dt><dd>1</dd><dt>North Dakota</dt><dd>3</dd><dt>Ohio</dt><dd>3</dd><dt>Oklahoma</dt><dd>2</dd><dt>Oregon</dt><dd>2</dd><dt>Pennsylvania</dt><dd>3</dd><dt>Rhode Island</dt><dd>2</dd><dt>South Carolina</dt><dd>1</dd><dt>South Dakota</dt><dd>3</dd><dt>Tennessee</dt><dd>2</dd><dt>Texas</dt><dd>2</dd><dt>Utah</dt><dd>3</dd><dt>Vermont</dt><dd>3</dd><dt>Virginia</dt><dd>2</dd><dt>Washington</dt><dd>2</dd><dt>West Virginia</dt><dd>3</dd><dt>Wisconsin</dt><dd>3</dd><dt>Wyoming</dt><dd>2</dd></dl>\n"
      ],
      "text/latex": [
       "\\begin{description*}\n",
       "\\item[Alabama] 1\n",
       "\\item[Alaska] 1\n",
       "\\item[Arizona] 1\n",
       "\\item[Arkansas] 2\n",
       "\\item[California] 1\n",
       "\\item[Colorado] 2\n",
       "\\item[Connecticut] 3\n",
       "\\item[Delaware] 1\n",
       "\\item[Florida] 1\n",
       "\\item[Georgia] 2\n",
       "\\item[Hawaii] 3\n",
       "\\item[Idaho] 3\n",
       "\\item[Illinois] 1\n",
       "\\item[Indiana] 3\n",
       "\\item[Iowa] 3\n",
       "\\item[Kansas] 3\n",
       "\\item[Kentucky] 3\n",
       "\\item[Louisiana] 1\n",
       "\\item[Maine] 3\n",
       "\\item[Maryland] 1\n",
       "\\item[Massachusetts] 2\n",
       "\\item[Michigan] 1\n",
       "\\item[Minnesota] 3\n",
       "\\item[Mississippi] 1\n",
       "\\item[Missouri] 2\n",
       "\\item[Montana] 3\n",
       "\\item[Nebraska] 3\n",
       "\\item[Nevada] 1\n",
       "\\item[New Hampshire] 3\n",
       "\\item[New Jersey] 2\n",
       "\\item[New Mexico] 1\n",
       "\\item[New York] 1\n",
       "\\item[North Carolina] 1\n",
       "\\item[North Dakota] 3\n",
       "\\item[Ohio] 3\n",
       "\\item[Oklahoma] 2\n",
       "\\item[Oregon] 2\n",
       "\\item[Pennsylvania] 3\n",
       "\\item[Rhode Island] 2\n",
       "\\item[South Carolina] 1\n",
       "\\item[South Dakota] 3\n",
       "\\item[Tennessee] 2\n",
       "\\item[Texas] 2\n",
       "\\item[Utah] 3\n",
       "\\item[Vermont] 3\n",
       "\\item[Virginia] 2\n",
       "\\item[Washington] 2\n",
       "\\item[West Virginia] 3\n",
       "\\item[Wisconsin] 3\n",
       "\\item[Wyoming] 2\n",
       "\\end{description*}\n"
      ],
      "text/markdown": [
       "Alabama\n",
       ":   1Alaska\n",
       ":   1Arizona\n",
       ":   1Arkansas\n",
       ":   2California\n",
       ":   1Colorado\n",
       ":   2Connecticut\n",
       ":   3Delaware\n",
       ":   1Florida\n",
       ":   1Georgia\n",
       ":   2Hawaii\n",
       ":   3Idaho\n",
       ":   3Illinois\n",
       ":   1Indiana\n",
       ":   3Iowa\n",
       ":   3Kansas\n",
       ":   3Kentucky\n",
       ":   3Louisiana\n",
       ":   1Maine\n",
       ":   3Maryland\n",
       ":   1Massachusetts\n",
       ":   2Michigan\n",
       ":   1Minnesota\n",
       ":   3Mississippi\n",
       ":   1Missouri\n",
       ":   2Montana\n",
       ":   3Nebraska\n",
       ":   3Nevada\n",
       ":   1New Hampshire\n",
       ":   3New Jersey\n",
       ":   2New Mexico\n",
       ":   1New York\n",
       ":   1North Carolina\n",
       ":   1North Dakota\n",
       ":   3Ohio\n",
       ":   3Oklahoma\n",
       ":   2Oregon\n",
       ":   2Pennsylvania\n",
       ":   3Rhode Island\n",
       ":   2South Carolina\n",
       ":   1South Dakota\n",
       ":   3Tennessee\n",
       ":   2Texas\n",
       ":   2Utah\n",
       ":   3Vermont\n",
       ":   3Virginia\n",
       ":   2Washington\n",
       ":   2West Virginia\n",
       ":   3Wisconsin\n",
       ":   3Wyoming\n",
       ":   2\n",
       "\n"
      ],
      "text/plain": [
       "       Alabama         Alaska        Arizona       Arkansas     California \n",
       "             1              1              1              2              1 \n",
       "      Colorado    Connecticut       Delaware        Florida        Georgia \n",
       "             2              3              1              1              2 \n",
       "        Hawaii          Idaho       Illinois        Indiana           Iowa \n",
       "             3              3              1              3              3 \n",
       "        Kansas       Kentucky      Louisiana          Maine       Maryland \n",
       "             3              3              1              3              1 \n",
       " Massachusetts       Michigan      Minnesota    Mississippi       Missouri \n",
       "             2              1              3              1              2 \n",
       "       Montana       Nebraska         Nevada  New Hampshire     New Jersey \n",
       "             3              3              1              3              2 \n",
       "    New Mexico       New York North Carolina   North Dakota           Ohio \n",
       "             1              1              1              3              3 \n",
       "      Oklahoma         Oregon   Pennsylvania   Rhode Island South Carolina \n",
       "             2              2              3              2              1 \n",
       "  South Dakota      Tennessee          Texas           Utah        Vermont \n",
       "             3              2              2              3              3 \n",
       "      Virginia     Washington  West Virginia      Wisconsin        Wyoming \n",
       "             2              2              3              3              2 "
      ]
     },
     "metadata": {},
     "output_type": "display_data"
    }
   ],
   "source": [
    "cutree(hc_complete, 3)"
   ]
  },
  {
   "cell_type": "code",
   "execution_count": 18,
   "id": "9f28da3c-308f-4b20-a1bd-f1485df1188f",
   "metadata": {},
   "outputs": [
    {
     "data": {
      "text/plain": [
       "\n",
       " 1  2  3 \n",
       "16 14 20 "
      ]
     },
     "metadata": {},
     "output_type": "display_data"
    }
   ],
   "source": [
    "table(cutree(hc_complete, 3))"
   ]
  },
  {
   "cell_type": "markdown",
   "id": "8e2d4f7d-93d7-48bd-8774-3bd816ebadf0",
   "metadata": {},
   "source": [
    "#### (c) Hierarchically cluster the states using complete linkage and Euclidean distance, after scaling the variables to have standard deviation one."
   ]
  },
  {
   "cell_type": "code",
   "execution_count": 19,
   "id": "1c9ad7f3-f0b2-4e7f-bec3-e0b0c00006e4",
   "metadata": {},
   "outputs": [
    {
     "data": {
      "image/png": "[encoded data removed]",
      "text/plain": [
       "Plot with title \"Cluster Dendrogram\""
      ]
     },
     "metadata": {
      "image/png": {
       "height": 420,
       "width": 420
      }
     },
     "output_type": "display_data"
    }
   ],
   "source": [
    "dsc = scale(USArrests)\n",
    "hcs_complete = hclust(dist(dsc), method=\"complete\")\n",
    "plot(hcs_complete)"
   ]
  },
  {
   "cell_type": "markdown",
   "id": "48c0bf20-88a7-43eb-9318-c38a30836431",
   "metadata": {
    "tags": []
   },
   "source": [
    "#### (d) What effect does scaling the variables have on the hierarchical clustering obtained? In your opinion, should the variables be scaled before the inter-observation dissimilarities are computed? Provide a justification for your answer."
   ]
  },
  {
   "cell_type": "code",
   "execution_count": 20,
   "id": "dc89c61d-7bd8-4df6-bc54-e72c15e17f7a",
   "metadata": {},
   "outputs": [
    {
     "data": {
      "text/html": [
       "<style>\n",
       ".dl-inline {width: auto; margin:0; padding: 0}\n",
       ".dl-inline>dt, .dl-inline>dd {float: none; width: auto; display: inline-block}\n",
       ".dl-inline>dt::after {content: \":\\0020\"; padding-right: .5ex}\n",
       ".dl-inline>dt:not(:first-of-type) {padding-left: .5ex}\n",
       "</style><dl class=dl-inline><dt>Alabama</dt><dd>1</dd><dt>Alaska</dt><dd>1</dd><dt>Arizona</dt><dd>2</dd><dt>Arkansas</dt><dd>3</dd><dt>California</dt><dd>2</dd><dt>Colorado</dt><dd>2</dd><dt>Connecticut</dt><dd>3</dd><dt>Delaware</dt><dd>3</dd><dt>Florida</dt><dd>2</dd><dt>Georgia</dt><dd>1</dd><dt>Hawaii</dt><dd>3</dd><dt>Idaho</dt><dd>3</dd><dt>Illinois</dt><dd>2</dd><dt>Indiana</dt><dd>3</dd><dt>Iowa</dt><dd>3</dd><dt>Kansas</dt><dd>3</dd><dt>Kentucky</dt><dd>3</dd><dt>Louisiana</dt><dd>1</dd><dt>Maine</dt><dd>3</dd><dt>Maryland</dt><dd>2</dd><dt>Massachusetts</dt><dd>3</dd><dt>Michigan</dt><dd>2</dd><dt>Minnesota</dt><dd>3</dd><dt>Mississippi</dt><dd>1</dd><dt>Missouri</dt><dd>3</dd><dt>Montana</dt><dd>3</dd><dt>Nebraska</dt><dd>3</dd><dt>Nevada</dt><dd>2</dd><dt>New Hampshire</dt><dd>3</dd><dt>New Jersey</dt><dd>3</dd><dt>New Mexico</dt><dd>2</dd><dt>New York</dt><dd>2</dd><dt>North Carolina</dt><dd>1</dd><dt>North Dakota</dt><dd>3</dd><dt>Ohio</dt><dd>3</dd><dt>Oklahoma</dt><dd>3</dd><dt>Oregon</dt><dd>3</dd><dt>Pennsylvania</dt><dd>3</dd><dt>Rhode Island</dt><dd>3</dd><dt>South Carolina</dt><dd>1</dd><dt>South Dakota</dt><dd>3</dd><dt>Tennessee</dt><dd>1</dd><dt>Texas</dt><dd>2</dd><dt>Utah</dt><dd>3</dd><dt>Vermont</dt><dd>3</dd><dt>Virginia</dt><dd>3</dd><dt>Washington</dt><dd>3</dd><dt>West Virginia</dt><dd>3</dd><dt>Wisconsin</dt><dd>3</dd><dt>Wyoming</dt><dd>3</dd></dl>\n"
      ],
      "text/latex": [
       "\\begin{description*}\n",
       "\\item[Alabama] 1\n",
       "\\item[Alaska] 1\n",
       "\\item[Arizona] 2\n",
       "\\item[Arkansas] 3\n",
       "\\item[California] 2\n",
       "\\item[Colorado] 2\n",
       "\\item[Connecticut] 3\n",
       "\\item[Delaware] 3\n",
       "\\item[Florida] 2\n",
       "\\item[Georgia] 1\n",
       "\\item[Hawaii] 3\n",
       "\\item[Idaho] 3\n",
       "\\item[Illinois] 2\n",
       "\\item[Indiana] 3\n",
       "\\item[Iowa] 3\n",
       "\\item[Kansas] 3\n",
       "\\item[Kentucky] 3\n",
       "\\item[Louisiana] 1\n",
       "\\item[Maine] 3\n",
       "\\item[Maryland] 2\n",
       "\\item[Massachusetts] 3\n",
       "\\item[Michigan] 2\n",
       "\\item[Minnesota] 3\n",
       "\\item[Mississippi] 1\n",
       "\\item[Missouri] 3\n",
       "\\item[Montana] 3\n",
       "\\item[Nebraska] 3\n",
       "\\item[Nevada] 2\n",
       "\\item[New Hampshire] 3\n",
       "\\item[New Jersey] 3\n",
       "\\item[New Mexico] 2\n",
       "\\item[New York] 2\n",
       "\\item[North Carolina] 1\n",
       "\\item[North Dakota] 3\n",
       "\\item[Ohio] 3\n",
       "\\item[Oklahoma] 3\n",
       "\\item[Oregon] 3\n",
       "\\item[Pennsylvania] 3\n",
       "\\item[Rhode Island] 3\n",
       "\\item[South Carolina] 1\n",
       "\\item[South Dakota] 3\n",
       "\\item[Tennessee] 1\n",
       "\\item[Texas] 2\n",
       "\\item[Utah] 3\n",
       "\\item[Vermont] 3\n",
       "\\item[Virginia] 3\n",
       "\\item[Washington] 3\n",
       "\\item[West Virginia] 3\n",
       "\\item[Wisconsin] 3\n",
       "\\item[Wyoming] 3\n",
       "\\end{description*}\n"
      ],
      "text/markdown": [
       "Alabama\n",
       ":   1Alaska\n",
       ":   1Arizona\n",
       ":   2Arkansas\n",
       ":   3California\n",
       ":   2Colorado\n",
       ":   2Connecticut\n",
       ":   3Delaware\n",
       ":   3Florida\n",
       ":   2Georgia\n",
       ":   1Hawaii\n",
       ":   3Idaho\n",
       ":   3Illinois\n",
       ":   2Indiana\n",
       ":   3Iowa\n",
       ":   3Kansas\n",
       ":   3Kentucky\n",
       ":   3Louisiana\n",
       ":   1Maine\n",
       ":   3Maryland\n",
       ":   2Massachusetts\n",
       ":   3Michigan\n",
       ":   2Minnesota\n",
       ":   3Mississippi\n",
       ":   1Missouri\n",
       ":   3Montana\n",
       ":   3Nebraska\n",
       ":   3Nevada\n",
       ":   2New Hampshire\n",
       ":   3New Jersey\n",
       ":   3New Mexico\n",
       ":   2New York\n",
       ":   2North Carolina\n",
       ":   1North Dakota\n",
       ":   3Ohio\n",
       ":   3Oklahoma\n",
       ":   3Oregon\n",
       ":   3Pennsylvania\n",
       ":   3Rhode Island\n",
       ":   3South Carolina\n",
       ":   1South Dakota\n",
       ":   3Tennessee\n",
       ":   1Texas\n",
       ":   2Utah\n",
       ":   3Vermont\n",
       ":   3Virginia\n",
       ":   3Washington\n",
       ":   3West Virginia\n",
       ":   3Wisconsin\n",
       ":   3Wyoming\n",
       ":   3\n",
       "\n"
      ],
      "text/plain": [
       "       Alabama         Alaska        Arizona       Arkansas     California \n",
       "             1              1              2              3              2 \n",
       "      Colorado    Connecticut       Delaware        Florida        Georgia \n",
       "             2              3              3              2              1 \n",
       "        Hawaii          Idaho       Illinois        Indiana           Iowa \n",
       "             3              3              2              3              3 \n",
       "        Kansas       Kentucky      Louisiana          Maine       Maryland \n",
       "             3              3              1              3              2 \n",
       " Massachusetts       Michigan      Minnesota    Mississippi       Missouri \n",
       "             3              2              3              1              3 \n",
       "       Montana       Nebraska         Nevada  New Hampshire     New Jersey \n",
       "             3              3              2              3              3 \n",
       "    New Mexico       New York North Carolina   North Dakota           Ohio \n",
       "             2              2              1              3              3 \n",
       "      Oklahoma         Oregon   Pennsylvania   Rhode Island South Carolina \n",
       "             3              3              3              3              1 \n",
       "  South Dakota      Tennessee          Texas           Utah        Vermont \n",
       "             3              1              2              3              3 \n",
       "      Virginia     Washington  West Virginia      Wisconsin        Wyoming \n",
       "             3              3              3              3              3 "
      ]
     },
     "metadata": {},
     "output_type": "display_data"
    }
   ],
   "source": [
    "cutree(hcs_complete, 3)"
   ]
  },
  {
   "cell_type": "code",
   "execution_count": 21,
   "id": "c5331c38-1909-4534-bbdf-81dfce61b52c",
   "metadata": {},
   "outputs": [
    {
     "data": {
      "text/plain": [
       "\n",
       " 1  2  3 \n",
       " 8 11 31 "
      ]
     },
     "metadata": {},
     "output_type": "display_data"
    }
   ],
   "source": [
    "table(cutree(hcs_complete, 3))"
   ]
  },
  {
   "cell_type": "code",
   "execution_count": 22,
   "id": "e9aacf67-b691-4575-bd1c-e7e3724b169d",
   "metadata": {},
   "outputs": [
    {
     "data": {
      "text/plain": [
       "   \n",
       "     1  2  3\n",
       "  1  6  2  0\n",
       "  2  9  2  0\n",
       "  3  1 10 20"
      ]
     },
     "metadata": {},
     "output_type": "display_data"
    }
   ],
   "source": [
    "table(cutree(hcs_complete, 3), cutree(hc_complete, 3))"
   ]
  },
  {
   "cell_type": "markdown",
   "id": "77657f09-1893-4cfb-8304-e36bd43b91a2",
   "metadata": {},
   "source": [
    "## Exercise 10 (p.417, Chap.10)"
   ]
  },
  {
   "cell_type": "markdown",
   "id": "cd97979e-7b42-44b9-86d6-06f3a9e61d2b",
   "metadata": {},
   "source": [
    "#### 10. In this problem, you will generate simulated data, and then perform PCA and K-means clustering on the data."
   ]
  },
  {
   "cell_type": "markdown",
   "id": "36c340d7-4fe1-4a1b-8122-65cf1d06c8f3",
   "metadata": {},
   "source": [
    "#### (a) Generate a simulated data set with 20 observations in each of three classes (i.e. 60 observations total), and 50 variables.\n",
    "#### Hint: There are a number of functions in R that you can use to generate data. One example is the rnorm() function; runif() is another option. Be sure to add a mean shift to the observations in each class so that there are three distinct classes."
   ]
  },
  {
   "cell_type": "code",
   "execution_count": 23,
   "id": "f3a20598-99e3-4bd0-9a35-bac471595216",
   "metadata": {},
   "outputs": [],
   "source": [
    "set.seed(530)\n",
    "x = matrix(rnorm(20*3*50, mean=0, sd=0.001), ncol=50)\n",
    "x[1:20, 2] = 1\n",
    "x[21:40, 1] = 2\n",
    "x[21:40, 2] = 2\n",
    "x[41:60, 1] = 1"
   ]
  },
  {
   "cell_type": "markdown",
   "id": "32ed17d9-fdf8-411a-98ad-9e29ade2d6fd",
   "metadata": {},
   "source": [
    "#### (b) Perform PCA on the 60 observations and plot the first two principal component score vectors. Use a different color to indicate the observations in each of the three classes. If the three classes appear separated in this plot, then continue on to part (c). If not, then return to part (a) and modify the simulation so that there is greater separation between the three classes. Do not continue to part (c) until the three classes show at least some separation in the first two principal component score vectors."
   ]
  },
  {
   "cell_type": "code",
   "execution_count": 24,
   "id": "22b339d5-c094-4471-a190-216a0a34cb2d",
   "metadata": {},
   "outputs": [
    {
     "data": {
      "text/plain": [
       "Importance of components:\n",
       "                         PC1    PC2      PC3      PC4      PC5     PC6      PC7\n",
       "Standard deviation     1.008 0.5822 0.001747 0.001702 0.001692 0.00164 0.001549\n",
       "Proportion of Variance 0.750 0.2500 0.000000 0.000000 0.000000 0.00000 0.000000\n",
       "Cumulative Proportion  0.750 1.0000 0.999970 0.999970 0.999970 0.99997 0.999980\n",
       "                            PC8      PC9     PC10     PC11     PC12     PC13\n",
       "Standard deviation     0.001515 0.001447 0.001408 0.001369 0.001355 0.001299\n",
       "Proportion of Variance 0.000000 0.000000 0.000000 0.000000 0.000000 0.000000\n",
       "Cumulative Proportion  0.999980 0.999980 0.999980 0.999980 0.999980 0.999990\n",
       "                           PC14     PC15     PC16     PC17     PC18     PC19\n",
       "Standard deviation     0.001266 0.001196 0.001168 0.001148 0.001088 0.001076\n",
       "Proportion of Variance 0.000000 0.000000 0.000000 0.000000 0.000000 0.000000\n",
       "Cumulative Proportion  0.999990 0.999990 0.999990 0.999990 0.999990 0.999990\n",
       "                           PC20  PC21      PC22      PC23      PC24      PC25\n",
       "Standard deviation     0.001017 0.001 0.0009561 0.0009285 0.0009042 0.0008427\n",
       "Proportion of Variance 0.000000 0.000 0.0000000 0.0000000 0.0000000 0.0000000\n",
       "Cumulative Proportion  0.999990 1.000 0.9999900 0.9999900 0.9999900 1.0000000\n",
       "                            PC26     PC27      PC28      PC29      PC30\n",
       "Standard deviation     0.0007886 0.000776 0.0007414 0.0007289 0.0007012\n",
       "Proportion of Variance 0.0000000 0.000000 0.0000000 0.0000000 0.0000000\n",
       "Cumulative Proportion  1.0000000 1.000000 1.0000000 1.0000000 1.0000000\n",
       "                            PC31      PC32      PC33     PC34     PC35\n",
       "Standard deviation     0.0006917 0.0006391 0.0006164 0.000583 0.000556\n",
       "Proportion of Variance 0.0000000 0.0000000 0.0000000 0.000000 0.000000\n",
       "Cumulative Proportion  1.0000000 1.0000000 1.0000000 1.000000 1.000000\n",
       "                            PC36    PC37      PC38      PC39      PC40     PC41\n",
       "Standard deviation     0.0004883 0.00047 0.0004525 0.0004301 0.0003852 0.000369\n",
       "Proportion of Variance 0.0000000 0.00000 0.0000000 0.0000000 0.0000000 0.000000\n",
       "Cumulative Proportion  1.0000000 1.00000 1.0000000 1.0000000 1.0000000 1.000000\n",
       "                            PC42      PC43      PC44      PC45      PC46\n",
       "Standard deviation     0.0003466 0.0003211 0.0003081 0.0002841 0.0002643\n",
       "Proportion of Variance 0.0000000 0.0000000 0.0000000 0.0000000 0.0000000\n",
       "Cumulative Proportion  1.0000000 1.0000000 1.0000000 1.0000000 1.0000000\n",
       "                            PC47      PC48      PC49      PC50\n",
       "Standard deviation     0.0002028 0.0001766 0.0001575 8.256e-05\n",
       "Proportion of Variance 0.0000000 0.0000000 0.0000000 0.000e+00\n",
       "Cumulative Proportion  1.0000000 1.0000000 1.0000000 1.000e+00"
      ]
     },
     "metadata": {},
     "output_type": "display_data"
    }
   ],
   "source": [
    "pca = prcomp(x)\n",
    "summary(pca)"
   ]
  },
  {
   "cell_type": "code",
   "execution_count": 25,
   "id": "8d907890-f7a1-4790-b6f6-682bf4cf1d26",
   "metadata": {},
   "outputs": [
    {
     "data": {
      "text/html": [
       "<table class=\"dataframe\">\n",
       "<caption>A matrix: 60 × 2 of type dbl</caption>\n",
       "<thead>\n",
       "\t<tr><th scope=col>PC1</th><th scope=col>PC2</th></tr>\n",
       "</thead>\n",
       "<tbody>\n",
       "\t<tr><td>-0.7063822</td><td>-7.064072e-01</td></tr>\n",
       "\t<tr><td>-0.7062843</td><td>-7.063092e-01</td></tr>\n",
       "\t<tr><td>-0.7063885</td><td>-7.064134e-01</td></tr>\n",
       "\t<tr><td>-0.7061067</td><td>-7.061320e-01</td></tr>\n",
       "\t<tr><td>-0.7074627</td><td>-7.074887e-01</td></tr>\n",
       "\t<tr><td>-0.7074247</td><td>-7.074501e-01</td></tr>\n",
       "\t<tr><td>-0.7073505</td><td>-7.073736e-01</td></tr>\n",
       "\t<tr><td>-0.7086725</td><td>-7.086943e-01</td></tr>\n",
       "\t<tr><td>-0.7068667</td><td>-7.068945e-01</td></tr>\n",
       "\t<tr><td>-0.7068174</td><td>-7.068430e-01</td></tr>\n",
       "\t<tr><td>-0.7080947</td><td>-7.081171e-01</td></tr>\n",
       "\t<tr><td>-0.7062795</td><td>-7.063034e-01</td></tr>\n",
       "\t<tr><td>-0.7073725</td><td>-7.073986e-01</td></tr>\n",
       "\t<tr><td>-0.7076312</td><td>-7.076559e-01</td></tr>\n",
       "\t<tr><td>-0.7056535</td><td>-7.056794e-01</td></tr>\n",
       "\t<tr><td>-0.7081444</td><td>-7.081702e-01</td></tr>\n",
       "\t<tr><td>-0.7072694</td><td>-7.072975e-01</td></tr>\n",
       "\t<tr><td>-0.7070672</td><td>-7.070926e-01</td></tr>\n",
       "\t<tr><td>-0.7069991</td><td>-7.070243e-01</td></tr>\n",
       "\t<tr><td>-0.7068765</td><td>-7.069024e-01</td></tr>\n",
       "\t<tr><td> 1.4141895</td><td> 2.440476e-05</td></tr>\n",
       "\t<tr><td> 1.4141891</td><td> 2.388492e-05</td></tr>\n",
       "\t<tr><td> 1.4141896</td><td> 2.652520e-05</td></tr>\n",
       "\t<tr><td> 1.4141887</td><td> 2.466733e-05</td></tr>\n",
       "\t<tr><td> 1.4141895</td><td> 2.304820e-05</td></tr>\n",
       "\t<tr><td> 1.4141880</td><td> 2.323689e-05</td></tr>\n",
       "\t<tr><td> 1.4141880</td><td> 2.402178e-05</td></tr>\n",
       "\t<tr><td> 1.4141890</td><td> 2.426212e-05</td></tr>\n",
       "\t<tr><td> 1.4141894</td><td> 2.564110e-05</td></tr>\n",
       "\t<tr><td> 1.4141902</td><td> 2.785844e-05</td></tr>\n",
       "\t<tr><td> 1.4141881</td><td> 2.457351e-05</td></tr>\n",
       "\t<tr><td> 1.4141895</td><td> 2.427627e-05</td></tr>\n",
       "\t<tr><td> 1.4141875</td><td> 2.137145e-05</td></tr>\n",
       "\t<tr><td> 1.4141882</td><td> 2.340381e-05</td></tr>\n",
       "\t<tr><td> 1.4141904</td><td> 2.800645e-05</td></tr>\n",
       "\t<tr><td> 1.4141883</td><td> 2.280622e-05</td></tr>\n",
       "\t<tr><td> 1.4141896</td><td> 2.566154e-05</td></tr>\n",
       "\t<tr><td> 1.4141885</td><td> 2.479275e-05</td></tr>\n",
       "\t<tr><td> 1.4141882</td><td> 2.785978e-05</td></tr>\n",
       "\t<tr><td> 1.4141893</td><td> 2.473404e-05</td></tr>\n",
       "\t<tr><td>-0.7070259</td><td> 7.069514e-01</td></tr>\n",
       "\t<tr><td>-0.7076692</td><td> 7.075937e-01</td></tr>\n",
       "\t<tr><td>-0.7070877</td><td> 7.070109e-01</td></tr>\n",
       "\t<tr><td>-0.7074363</td><td> 7.073571e-01</td></tr>\n",
       "\t<tr><td>-0.7073172</td><td> 7.072436e-01</td></tr>\n",
       "\t<tr><td>-0.7079351</td><td> 7.078639e-01</td></tr>\n",
       "\t<tr><td>-0.7061555</td><td> 7.060828e-01</td></tr>\n",
       "\t<tr><td>-0.7077910</td><td> 7.077187e-01</td></tr>\n",
       "\t<tr><td>-0.7059219</td><td> 7.058474e-01</td></tr>\n",
       "\t<tr><td>-0.7073118</td><td> 7.072358e-01</td></tr>\n",
       "\t<tr><td>-0.7066142</td><td> 7.065419e-01</td></tr>\n",
       "\t<tr><td>-0.7067897</td><td> 7.067148e-01</td></tr>\n",
       "\t<tr><td>-0.7064228</td><td> 7.063479e-01</td></tr>\n",
       "\t<tr><td>-0.7065016</td><td> 7.064283e-01</td></tr>\n",
       "\t<tr><td>-0.7071917</td><td> 7.071224e-01</td></tr>\n",
       "\t<tr><td>-0.7083818</td><td> 7.083117e-01</td></tr>\n",
       "\t<tr><td>-0.7075946</td><td> 7.075187e-01</td></tr>\n",
       "\t<tr><td>-0.7074356</td><td> 7.073600e-01</td></tr>\n",
       "\t<tr><td>-0.7067717</td><td> 7.066956e-01</td></tr>\n",
       "\t<tr><td>-0.7072792</td><td> 7.072059e-01</td></tr>\n",
       "</tbody>\n",
       "</table>\n"
      ],
      "text/latex": [
       "A matrix: 60 × 2 of type dbl\n",
       "\\begin{tabular}{ll}\n",
       " PC1 & PC2\\\\\n",
       "\\hline\n",
       "\t -0.7063822 & -7.064072e-01\\\\\n",
       "\t -0.7062843 & -7.063092e-01\\\\\n",
       "\t -0.7063885 & -7.064134e-01\\\\\n",
       "\t -0.7061067 & -7.061320e-01\\\\\n",
       "\t -0.7074627 & -7.074887e-01\\\\\n",
       "\t -0.7074247 & -7.074501e-01\\\\\n",
       "\t -0.7073505 & -7.073736e-01\\\\\n",
       "\t -0.7086725 & -7.086943e-01\\\\\n",
       "\t -0.7068667 & -7.068945e-01\\\\\n",
       "\t -0.7068174 & -7.068430e-01\\\\\n",
       "\t -0.7080947 & -7.081171e-01\\\\\n",
       "\t -0.7062795 & -7.063034e-01\\\\\n",
       "\t -0.7073725 & -7.073986e-01\\\\\n",
       "\t -0.7076312 & -7.076559e-01\\\\\n",
       "\t -0.7056535 & -7.056794e-01\\\\\n",
       "\t -0.7081444 & -7.081702e-01\\\\\n",
       "\t -0.7072694 & -7.072975e-01\\\\\n",
       "\t -0.7070672 & -7.070926e-01\\\\\n",
       "\t -0.7069991 & -7.070243e-01\\\\\n",
       "\t -0.7068765 & -7.069024e-01\\\\\n",
       "\t  1.4141895 &  2.440476e-05\\\\\n",
       "\t  1.4141891 &  2.388492e-05\\\\\n",
       "\t  1.4141896 &  2.652520e-05\\\\\n",
       "\t  1.4141887 &  2.466733e-05\\\\\n",
       "\t  1.4141895 &  2.304820e-05\\\\\n",
       "\t  1.4141880 &  2.323689e-05\\\\\n",
       "\t  1.4141880 &  2.402178e-05\\\\\n",
       "\t  1.4141890 &  2.426212e-05\\\\\n",
       "\t  1.4141894 &  2.564110e-05\\\\\n",
       "\t  1.4141902 &  2.785844e-05\\\\\n",
       "\t  1.4141881 &  2.457351e-05\\\\\n",
       "\t  1.4141895 &  2.427627e-05\\\\\n",
       "\t  1.4141875 &  2.137145e-05\\\\\n",
       "\t  1.4141882 &  2.340381e-05\\\\\n",
       "\t  1.4141904 &  2.800645e-05\\\\\n",
       "\t  1.4141883 &  2.280622e-05\\\\\n",
       "\t  1.4141896 &  2.566154e-05\\\\\n",
       "\t  1.4141885 &  2.479275e-05\\\\\n",
       "\t  1.4141882 &  2.785978e-05\\\\\n",
       "\t  1.4141893 &  2.473404e-05\\\\\n",
       "\t -0.7070259 &  7.069514e-01\\\\\n",
       "\t -0.7076692 &  7.075937e-01\\\\\n",
       "\t -0.7070877 &  7.070109e-01\\\\\n",
       "\t -0.7074363 &  7.073571e-01\\\\\n",
       "\t -0.7073172 &  7.072436e-01\\\\\n",
       "\t -0.7079351 &  7.078639e-01\\\\\n",
       "\t -0.7061555 &  7.060828e-01\\\\\n",
       "\t -0.7077910 &  7.077187e-01\\\\\n",
       "\t -0.7059219 &  7.058474e-01\\\\\n",
       "\t -0.7073118 &  7.072358e-01\\\\\n",
       "\t -0.7066142 &  7.065419e-01\\\\\n",
       "\t -0.7067897 &  7.067148e-01\\\\\n",
       "\t -0.7064228 &  7.063479e-01\\\\\n",
       "\t -0.7065016 &  7.064283e-01\\\\\n",
       "\t -0.7071917 &  7.071224e-01\\\\\n",
       "\t -0.7083818 &  7.083117e-01\\\\\n",
       "\t -0.7075946 &  7.075187e-01\\\\\n",
       "\t -0.7074356 &  7.073600e-01\\\\\n",
       "\t -0.7067717 &  7.066956e-01\\\\\n",
       "\t -0.7072792 &  7.072059e-01\\\\\n",
       "\\end{tabular}\n"
      ],
      "text/markdown": [
       "\n",
       "A matrix: 60 × 2 of type dbl\n",
       "\n",
       "| PC1 | PC2 |\n",
       "|---|---|\n",
       "| -0.7063822 | -7.064072e-01 |\n",
       "| -0.7062843 | -7.063092e-01 |\n",
       "| -0.7063885 | -7.064134e-01 |\n",
       "| -0.7061067 | -7.061320e-01 |\n",
       "| -0.7074627 | -7.074887e-01 |\n",
       "| -0.7074247 | -7.074501e-01 |\n",
       "| -0.7073505 | -7.073736e-01 |\n",
       "| -0.7086725 | -7.086943e-01 |\n",
       "| -0.7068667 | -7.068945e-01 |\n",
       "| -0.7068174 | -7.068430e-01 |\n",
       "| -0.7080947 | -7.081171e-01 |\n",
       "| -0.7062795 | -7.063034e-01 |\n",
       "| -0.7073725 | -7.073986e-01 |\n",
       "| -0.7076312 | -7.076559e-01 |\n",
       "| -0.7056535 | -7.056794e-01 |\n",
       "| -0.7081444 | -7.081702e-01 |\n",
       "| -0.7072694 | -7.072975e-01 |\n",
       "| -0.7070672 | -7.070926e-01 |\n",
       "| -0.7069991 | -7.070243e-01 |\n",
       "| -0.7068765 | -7.069024e-01 |\n",
       "|  1.4141895 |  2.440476e-05 |\n",
       "|  1.4141891 |  2.388492e-05 |\n",
       "|  1.4141896 |  2.652520e-05 |\n",
       "|  1.4141887 |  2.466733e-05 |\n",
       "|  1.4141895 |  2.304820e-05 |\n",
       "|  1.4141880 |  2.323689e-05 |\n",
       "|  1.4141880 |  2.402178e-05 |\n",
       "|  1.4141890 |  2.426212e-05 |\n",
       "|  1.4141894 |  2.564110e-05 |\n",
       "|  1.4141902 |  2.785844e-05 |\n",
       "|  1.4141881 |  2.457351e-05 |\n",
       "|  1.4141895 |  2.427627e-05 |\n",
       "|  1.4141875 |  2.137145e-05 |\n",
       "|  1.4141882 |  2.340381e-05 |\n",
       "|  1.4141904 |  2.800645e-05 |\n",
       "|  1.4141883 |  2.280622e-05 |\n",
       "|  1.4141896 |  2.566154e-05 |\n",
       "|  1.4141885 |  2.479275e-05 |\n",
       "|  1.4141882 |  2.785978e-05 |\n",
       "|  1.4141893 |  2.473404e-05 |\n",
       "| -0.7070259 |  7.069514e-01 |\n",
       "| -0.7076692 |  7.075937e-01 |\n",
       "| -0.7070877 |  7.070109e-01 |\n",
       "| -0.7074363 |  7.073571e-01 |\n",
       "| -0.7073172 |  7.072436e-01 |\n",
       "| -0.7079351 |  7.078639e-01 |\n",
       "| -0.7061555 |  7.060828e-01 |\n",
       "| -0.7077910 |  7.077187e-01 |\n",
       "| -0.7059219 |  7.058474e-01 |\n",
       "| -0.7073118 |  7.072358e-01 |\n",
       "| -0.7066142 |  7.065419e-01 |\n",
       "| -0.7067897 |  7.067148e-01 |\n",
       "| -0.7064228 |  7.063479e-01 |\n",
       "| -0.7065016 |  7.064283e-01 |\n",
       "| -0.7071917 |  7.071224e-01 |\n",
       "| -0.7083818 |  7.083117e-01 |\n",
       "| -0.7075946 |  7.075187e-01 |\n",
       "| -0.7074356 |  7.073600e-01 |\n",
       "| -0.7067717 |  7.066956e-01 |\n",
       "| -0.7072792 |  7.072059e-01 |\n",
       "\n"
      ],
      "text/plain": [
       "      PC1        PC2          \n",
       " [1,] -0.7063822 -7.064072e-01\n",
       " [2,] -0.7062843 -7.063092e-01\n",
       " [3,] -0.7063885 -7.064134e-01\n",
       " [4,] -0.7061067 -7.061320e-01\n",
       " [5,] -0.7074627 -7.074887e-01\n",
       " [6,] -0.7074247 -7.074501e-01\n",
       " [7,] -0.7073505 -7.073736e-01\n",
       " [8,] -0.7086725 -7.086943e-01\n",
       " [9,] -0.7068667 -7.068945e-01\n",
       "[10,] -0.7068174 -7.068430e-01\n",
       "[11,] -0.7080947 -7.081171e-01\n",
       "[12,] -0.7062795 -7.063034e-01\n",
       "[13,] -0.7073725 -7.073986e-01\n",
       "[14,] -0.7076312 -7.076559e-01\n",
       "[15,] -0.7056535 -7.056794e-01\n",
       "[16,] -0.7081444 -7.081702e-01\n",
       "[17,] -0.7072694 -7.072975e-01\n",
       "[18,] -0.7070672 -7.070926e-01\n",
       "[19,] -0.7069991 -7.070243e-01\n",
       "[20,] -0.7068765 -7.069024e-01\n",
       "[21,]  1.4141895  2.440476e-05\n",
       "[22,]  1.4141891  2.388492e-05\n",
       "[23,]  1.4141896  2.652520e-05\n",
       "[24,]  1.4141887  2.466733e-05\n",
       "[25,]  1.4141895  2.304820e-05\n",
       "[26,]  1.4141880  2.323689e-05\n",
       "[27,]  1.4141880  2.402178e-05\n",
       "[28,]  1.4141890  2.426212e-05\n",
       "[29,]  1.4141894  2.564110e-05\n",
       "[30,]  1.4141902  2.785844e-05\n",
       "[31,]  1.4141881  2.457351e-05\n",
       "[32,]  1.4141895  2.427627e-05\n",
       "[33,]  1.4141875  2.137145e-05\n",
       "[34,]  1.4141882  2.340381e-05\n",
       "[35,]  1.4141904  2.800645e-05\n",
       "[36,]  1.4141883  2.280622e-05\n",
       "[37,]  1.4141896  2.566154e-05\n",
       "[38,]  1.4141885  2.479275e-05\n",
       "[39,]  1.4141882  2.785978e-05\n",
       "[40,]  1.4141893  2.473404e-05\n",
       "[41,] -0.7070259  7.069514e-01\n",
       "[42,] -0.7076692  7.075937e-01\n",
       "[43,] -0.7070877  7.070109e-01\n",
       "[44,] -0.7074363  7.073571e-01\n",
       "[45,] -0.7073172  7.072436e-01\n",
       "[46,] -0.7079351  7.078639e-01\n",
       "[47,] -0.7061555  7.060828e-01\n",
       "[48,] -0.7077910  7.077187e-01\n",
       "[49,] -0.7059219  7.058474e-01\n",
       "[50,] -0.7073118  7.072358e-01\n",
       "[51,] -0.7066142  7.065419e-01\n",
       "[52,] -0.7067897  7.067148e-01\n",
       "[53,] -0.7064228  7.063479e-01\n",
       "[54,] -0.7065016  7.064283e-01\n",
       "[55,] -0.7071917  7.071224e-01\n",
       "[56,] -0.7083818  7.083117e-01\n",
       "[57,] -0.7075946  7.075187e-01\n",
       "[58,] -0.7074356  7.073600e-01\n",
       "[59,] -0.7067717  7.066956e-01\n",
       "[60,] -0.7072792  7.072059e-01"
      ]
     },
     "metadata": {},
     "output_type": "display_data"
    }
   ],
   "source": [
    "pca$x[,1:2]"
   ]
  },
  {
   "cell_type": "code",
   "execution_count": 26,
   "id": "d0ac8a55-3041-4717-9b17-2070192e6eb4",
   "metadata": {},
   "outputs": [
    {
     "data": {
      "image/png": "[encoded data removed]",
      "text/plain": [
       "plot without title"
      ]
     },
     "metadata": {
      "image/png": {
       "height": 420,
       "width": 420
      }
     },
     "output_type": "display_data"
    }
   ],
   "source": [
    "plot(pca$x[,1:2], col=2:4, xlab=\"Z1\", ylab=\"Z2\", pch=19) "
   ]
  },
  {
   "cell_type": "markdown",
   "id": "8a1b0cd7-2bab-4f12-8472-873bf80a2d5c",
   "metadata": {},
   "source": [
    "#### (c) Perform K-means clustering of the observations with K = 3. How well do the clusters that you obtained in K-means clustering compare to the true class labels?\n",
    "#### Hint: You can use the table() function in R to compare the true class labels to the class labels obtained by clustering. Be careful how you interpret the results: K-means clustering will arbitrarily number the clusters, so you cannot simply check whether the true class labels and clustering labels are the same."
   ]
  },
  {
   "cell_type": "code",
   "execution_count": 27,
   "id": "5ef3c6bf-6ac9-43b2-9f51-32bbfc13d4e2",
   "metadata": {},
   "outputs": [
    {
     "data": {
      "text/plain": [
       "   \n",
       "     1  2  3\n",
       "  1  0 20  0\n",
       "  2  0  0 20\n",
       "  3 20  0  0"
      ]
     },
     "metadata": {},
     "output_type": "display_data"
    }
   ],
   "source": [
    "km = kmeans(x, 3, nstart=20)\n",
    "table(km$cluster, c(rep(1,20), rep(2,20), rep(3,20)))"
   ]
  },
  {
   "cell_type": "markdown",
   "id": "6adfa56f-b19b-4cea-9777-7521123e1b8b",
   "metadata": {},
   "source": [
    "#### (d) Perform K-means clustering with K = 2. Describe your results."
   ]
  },
  {
   "cell_type": "code",
   "execution_count": 28,
   "id": "a6bb247e-894b-4eb3-a59a-c5f71ab181c0",
   "metadata": {},
   "outputs": [
    {
     "data": {
      "text/html": [
       "<style>\n",
       ".list-inline {list-style: none; margin:0; padding: 0}\n",
       ".list-inline>li {display: inline-block}\n",
       ".list-inline>li:not(:last-child)::after {content: \"\\00b7\"; padding: 0 .5ex}\n",
       "</style>\n",
       "<ol class=list-inline><li>2</li><li>2</li><li>2</li><li>2</li><li>2</li><li>2</li><li>2</li><li>2</li><li>2</li><li>2</li><li>2</li><li>2</li><li>2</li><li>2</li><li>2</li><li>2</li><li>2</li><li>2</li><li>2</li><li>2</li><li>1</li><li>1</li><li>1</li><li>1</li><li>1</li><li>1</li><li>1</li><li>1</li><li>1</li><li>1</li><li>1</li><li>1</li><li>1</li><li>1</li><li>1</li><li>1</li><li>1</li><li>1</li><li>1</li><li>1</li><li>2</li><li>2</li><li>2</li><li>2</li><li>2</li><li>2</li><li>2</li><li>2</li><li>2</li><li>2</li><li>2</li><li>2</li><li>2</li><li>2</li><li>2</li><li>2</li><li>2</li><li>2</li><li>2</li><li>2</li></ol>\n"
      ],
      "text/latex": [
       "\\begin{enumerate*}\n",
       "\\item 2\n",
       "\\item 2\n",
       "\\item 2\n",
       "\\item 2\n",
       "\\item 2\n",
       "\\item 2\n",
       "\\item 2\n",
       "\\item 2\n",
       "\\item 2\n",
       "\\item 2\n",
       "\\item 2\n",
       "\\item 2\n",
       "\\item 2\n",
       "\\item 2\n",
       "\\item 2\n",
       "\\item 2\n",
       "\\item 2\n",
       "\\item 2\n",
       "\\item 2\n",
       "\\item 2\n",
       "\\item 1\n",
       "\\item 1\n",
       "\\item 1\n",
       "\\item 1\n",
       "\\item 1\n",
       "\\item 1\n",
       "\\item 1\n",
       "\\item 1\n",
       "\\item 1\n",
       "\\item 1\n",
       "\\item 1\n",
       "\\item 1\n",
       "\\item 1\n",
       "\\item 1\n",
       "\\item 1\n",
       "\\item 1\n",
       "\\item 1\n",
       "\\item 1\n",
       "\\item 1\n",
       "\\item 1\n",
       "\\item 2\n",
       "\\item 2\n",
       "\\item 2\n",
       "\\item 2\n",
       "\\item 2\n",
       "\\item 2\n",
       "\\item 2\n",
       "\\item 2\n",
       "\\item 2\n",
       "\\item 2\n",
       "\\item 2\n",
       "\\item 2\n",
       "\\item 2\n",
       "\\item 2\n",
       "\\item 2\n",
       "\\item 2\n",
       "\\item 2\n",
       "\\item 2\n",
       "\\item 2\n",
       "\\item 2\n",
       "\\end{enumerate*}\n"
      ],
      "text/markdown": [
       "1. 2\n",
       "2. 2\n",
       "3. 2\n",
       "4. 2\n",
       "5. 2\n",
       "6. 2\n",
       "7. 2\n",
       "8. 2\n",
       "9. 2\n",
       "10. 2\n",
       "11. 2\n",
       "12. 2\n",
       "13. 2\n",
       "14. 2\n",
       "15. 2\n",
       "16. 2\n",
       "17. 2\n",
       "18. 2\n",
       "19. 2\n",
       "20. 2\n",
       "21. 1\n",
       "22. 1\n",
       "23. 1\n",
       "24. 1\n",
       "25. 1\n",
       "26. 1\n",
       "27. 1\n",
       "28. 1\n",
       "29. 1\n",
       "30. 1\n",
       "31. 1\n",
       "32. 1\n",
       "33. 1\n",
       "34. 1\n",
       "35. 1\n",
       "36. 1\n",
       "37. 1\n",
       "38. 1\n",
       "39. 1\n",
       "40. 1\n",
       "41. 2\n",
       "42. 2\n",
       "43. 2\n",
       "44. 2\n",
       "45. 2\n",
       "46. 2\n",
       "47. 2\n",
       "48. 2\n",
       "49. 2\n",
       "50. 2\n",
       "51. 2\n",
       "52. 2\n",
       "53. 2\n",
       "54. 2\n",
       "55. 2\n",
       "56. 2\n",
       "57. 2\n",
       "58. 2\n",
       "59. 2\n",
       "60. 2\n",
       "\n",
       "\n"
      ],
      "text/plain": [
       " [1] 2 2 2 2 2 2 2 2 2 2 2 2 2 2 2 2 2 2 2 2 1 1 1 1 1 1 1 1 1 1 1 1 1 1 1 1 1 1\n",
       "[39] 1 1 2 2 2 2 2 2 2 2 2 2 2 2 2 2 2 2 2 2 2 2"
      ]
     },
     "metadata": {},
     "output_type": "display_data"
    }
   ],
   "source": [
    "km = kmeans(x, 2, nstart=20)\n",
    "km$cluster"
   ]
  },
  {
   "cell_type": "markdown",
   "id": "bf28daea-abfc-4f05-b14d-3cc0d1058408",
   "metadata": {},
   "source": [
    "#### (e) Now perform K-means clustering with K = 4, and describe your results."
   ]
  },
  {
   "cell_type": "code",
   "execution_count": 29,
   "id": "39462386-6523-4283-98e0-6fd44c9402da",
   "metadata": {},
   "outputs": [
    {
     "data": {
      "text/html": [
       "<style>\n",
       ".list-inline {list-style: none; margin:0; padding: 0}\n",
       ".list-inline>li {display: inline-block}\n",
       ".list-inline>li:not(:last-child)::after {content: \"\\00b7\"; padding: 0 .5ex}\n",
       "</style>\n",
       "<ol class=list-inline><li>1</li><li>1</li><li>1</li><li>1</li><li>1</li><li>1</li><li>1</li><li>1</li><li>1</li><li>1</li><li>1</li><li>1</li><li>1</li><li>1</li><li>1</li><li>1</li><li>1</li><li>1</li><li>1</li><li>1</li><li>3</li><li>3</li><li>2</li><li>3</li><li>3</li><li>2</li><li>3</li><li>2</li><li>3</li><li>3</li><li>2</li><li>3</li><li>2</li><li>2</li><li>2</li><li>3</li><li>2</li><li>2</li><li>3</li><li>3</li><li>4</li><li>4</li><li>4</li><li>4</li><li>4</li><li>4</li><li>4</li><li>4</li><li>4</li><li>4</li><li>4</li><li>4</li><li>4</li><li>4</li><li>4</li><li>4</li><li>4</li><li>4</li><li>4</li><li>4</li></ol>\n"
      ],
      "text/latex": [
       "\\begin{enumerate*}\n",
       "\\item 1\n",
       "\\item 1\n",
       "\\item 1\n",
       "\\item 1\n",
       "\\item 1\n",
       "\\item 1\n",
       "\\item 1\n",
       "\\item 1\n",
       "\\item 1\n",
       "\\item 1\n",
       "\\item 1\n",
       "\\item 1\n",
       "\\item 1\n",
       "\\item 1\n",
       "\\item 1\n",
       "\\item 1\n",
       "\\item 1\n",
       "\\item 1\n",
       "\\item 1\n",
       "\\item 1\n",
       "\\item 3\n",
       "\\item 3\n",
       "\\item 2\n",
       "\\item 3\n",
       "\\item 3\n",
       "\\item 2\n",
       "\\item 3\n",
       "\\item 2\n",
       "\\item 3\n",
       "\\item 3\n",
       "\\item 2\n",
       "\\item 3\n",
       "\\item 2\n",
       "\\item 2\n",
       "\\item 2\n",
       "\\item 3\n",
       "\\item 2\n",
       "\\item 2\n",
       "\\item 3\n",
       "\\item 3\n",
       "\\item 4\n",
       "\\item 4\n",
       "\\item 4\n",
       "\\item 4\n",
       "\\item 4\n",
       "\\item 4\n",
       "\\item 4\n",
       "\\item 4\n",
       "\\item 4\n",
       "\\item 4\n",
       "\\item 4\n",
       "\\item 4\n",
       "\\item 4\n",
       "\\item 4\n",
       "\\item 4\n",
       "\\item 4\n",
       "\\item 4\n",
       "\\item 4\n",
       "\\item 4\n",
       "\\item 4\n",
       "\\end{enumerate*}\n"
      ],
      "text/markdown": [
       "1. 1\n",
       "2. 1\n",
       "3. 1\n",
       "4. 1\n",
       "5. 1\n",
       "6. 1\n",
       "7. 1\n",
       "8. 1\n",
       "9. 1\n",
       "10. 1\n",
       "11. 1\n",
       "12. 1\n",
       "13. 1\n",
       "14. 1\n",
       "15. 1\n",
       "16. 1\n",
       "17. 1\n",
       "18. 1\n",
       "19. 1\n",
       "20. 1\n",
       "21. 3\n",
       "22. 3\n",
       "23. 2\n",
       "24. 3\n",
       "25. 3\n",
       "26. 2\n",
       "27. 3\n",
       "28. 2\n",
       "29. 3\n",
       "30. 3\n",
       "31. 2\n",
       "32. 3\n",
       "33. 2\n",
       "34. 2\n",
       "35. 2\n",
       "36. 3\n",
       "37. 2\n",
       "38. 2\n",
       "39. 3\n",
       "40. 3\n",
       "41. 4\n",
       "42. 4\n",
       "43. 4\n",
       "44. 4\n",
       "45. 4\n",
       "46. 4\n",
       "47. 4\n",
       "48. 4\n",
       "49. 4\n",
       "50. 4\n",
       "51. 4\n",
       "52. 4\n",
       "53. 4\n",
       "54. 4\n",
       "55. 4\n",
       "56. 4\n",
       "57. 4\n",
       "58. 4\n",
       "59. 4\n",
       "60. 4\n",
       "\n",
       "\n"
      ],
      "text/plain": [
       " [1] 1 1 1 1 1 1 1 1 1 1 1 1 1 1 1 1 1 1 1 1 3 3 2 3 3 2 3 2 3 3 2 3 2 2 2 3 2 2\n",
       "[39] 3 3 4 4 4 4 4 4 4 4 4 4 4 4 4 4 4 4 4 4 4 4"
      ]
     },
     "metadata": {},
     "output_type": "display_data"
    }
   ],
   "source": [
    "km = kmeans(x, 4, nstart=20)\n",
    "km$cluster"
   ]
  },
  {
   "cell_type": "markdown",
   "id": "4a1d1f26-5398-446f-98b3-a1fe52a64ed1",
   "metadata": {},
   "source": [
    "#### (f) Now perform K-means clustering with K = 3 on the first two principal component score vectors, rather than on the raw data. That is, perform K-means clustering on the 60 × 2 matrix of which the first column is the first principal component score vector, and the second column is the second principal component score vector. Comment on the results."
   ]
  },
  {
   "cell_type": "code",
   "execution_count": 30,
   "id": "7df7e1ed-0372-4c53-9ebd-3e80373ef22c",
   "metadata": {},
   "outputs": [
    {
     "data": {
      "text/plain": [
       "   \n",
       "     1  2  3\n",
       "  1 20  0  0\n",
       "  2  0 20  0\n",
       "  3  0  0 20"
      ]
     },
     "metadata": {},
     "output_type": "display_data"
    }
   ],
   "source": [
    "km = kmeans(pca$x[,1:2], 3, nstart=20)\n",
    "table(km$cluster, c(rep(1,20), rep(2,20), rep(3,20)))"
   ]
  },
  {
   "cell_type": "markdown",
   "id": "dccd216d-0064-4ddd-8fb8-b583edf2c0cd",
   "metadata": {},
   "source": [
    "#### (g) Using the scale() function, perform K-means clustering with K = 3 on the data after scaling each variable to have standard deviation one. How do these results compare to those obtained in (b)? Explain."
   ]
  },
  {
   "cell_type": "code",
   "execution_count": 31,
   "id": "1df97762-0ba4-4ac0-9ba2-6a326b54d6f4",
   "metadata": {},
   "outputs": [
    {
     "data": {
      "text/html": [
       "<style>\n",
       ".list-inline {list-style: none; margin:0; padding: 0}\n",
       ".list-inline>li {display: inline-block}\n",
       ".list-inline>li:not(:last-child)::after {content: \"\\00b7\"; padding: 0 .5ex}\n",
       "</style>\n",
       "<ol class=list-inline><li>3</li><li>3</li><li>3</li><li>3</li><li>3</li><li>2</li><li>3</li><li>2</li><li>3</li><li>3</li><li>3</li><li>3</li><li>3</li><li>3</li><li>3</li><li>3</li><li>1</li><li>3</li><li>3</li><li>1</li><li>1</li><li>1</li><li>1</li><li>1</li><li>1</li><li>2</li><li>1</li><li>1</li><li>2</li><li>1</li><li>2</li><li>1</li><li>3</li><li>2</li><li>2</li><li>1</li><li>2</li><li>2</li><li>2</li><li>2</li><li>3</li><li>3</li><li>3</li><li>3</li><li>1</li><li>2</li><li>2</li><li>2</li><li>3</li><li>3</li><li>2</li><li>3</li><li>3</li><li>2</li><li>2</li><li>2</li><li>3</li><li>3</li><li>3</li><li>2</li></ol>\n"
      ],
      "text/latex": [
       "\\begin{enumerate*}\n",
       "\\item 3\n",
       "\\item 3\n",
       "\\item 3\n",
       "\\item 3\n",
       "\\item 3\n",
       "\\item 2\n",
       "\\item 3\n",
       "\\item 2\n",
       "\\item 3\n",
       "\\item 3\n",
       "\\item 3\n",
       "\\item 3\n",
       "\\item 3\n",
       "\\item 3\n",
       "\\item 3\n",
       "\\item 3\n",
       "\\item 1\n",
       "\\item 3\n",
       "\\item 3\n",
       "\\item 1\n",
       "\\item 1\n",
       "\\item 1\n",
       "\\item 1\n",
       "\\item 1\n",
       "\\item 1\n",
       "\\item 2\n",
       "\\item 1\n",
       "\\item 1\n",
       "\\item 2\n",
       "\\item 1\n",
       "\\item 2\n",
       "\\item 1\n",
       "\\item 3\n",
       "\\item 2\n",
       "\\item 2\n",
       "\\item 1\n",
       "\\item 2\n",
       "\\item 2\n",
       "\\item 2\n",
       "\\item 2\n",
       "\\item 3\n",
       "\\item 3\n",
       "\\item 3\n",
       "\\item 3\n",
       "\\item 1\n",
       "\\item 2\n",
       "\\item 2\n",
       "\\item 2\n",
       "\\item 3\n",
       "\\item 3\n",
       "\\item 2\n",
       "\\item 3\n",
       "\\item 3\n",
       "\\item 2\n",
       "\\item 2\n",
       "\\item 2\n",
       "\\item 3\n",
       "\\item 3\n",
       "\\item 3\n",
       "\\item 2\n",
       "\\end{enumerate*}\n"
      ],
      "text/markdown": [
       "1. 3\n",
       "2. 3\n",
       "3. 3\n",
       "4. 3\n",
       "5. 3\n",
       "6. 2\n",
       "7. 3\n",
       "8. 2\n",
       "9. 3\n",
       "10. 3\n",
       "11. 3\n",
       "12. 3\n",
       "13. 3\n",
       "14. 3\n",
       "15. 3\n",
       "16. 3\n",
       "17. 1\n",
       "18. 3\n",
       "19. 3\n",
       "20. 1\n",
       "21. 1\n",
       "22. 1\n",
       "23. 1\n",
       "24. 1\n",
       "25. 1\n",
       "26. 2\n",
       "27. 1\n",
       "28. 1\n",
       "29. 2\n",
       "30. 1\n",
       "31. 2\n",
       "32. 1\n",
       "33. 3\n",
       "34. 2\n",
       "35. 2\n",
       "36. 1\n",
       "37. 2\n",
       "38. 2\n",
       "39. 2\n",
       "40. 2\n",
       "41. 3\n",
       "42. 3\n",
       "43. 3\n",
       "44. 3\n",
       "45. 1\n",
       "46. 2\n",
       "47. 2\n",
       "48. 2\n",
       "49. 3\n",
       "50. 3\n",
       "51. 2\n",
       "52. 3\n",
       "53. 3\n",
       "54. 2\n",
       "55. 2\n",
       "56. 2\n",
       "57. 3\n",
       "58. 3\n",
       "59. 3\n",
       "60. 2\n",
       "\n",
       "\n"
      ],
      "text/plain": [
       " [1] 3 3 3 3 3 2 3 2 3 3 3 3 3 3 3 3 1 3 3 1 1 1 1 1 1 2 1 1 2 1 2 1 3 2 2 1 2 2\n",
       "[39] 2 2 3 3 3 3 1 2 2 2 3 3 2 3 3 2 2 2 3 3 3 2"
      ]
     },
     "metadata": {},
     "output_type": "display_data"
    }
   ],
   "source": [
    "km = kmeans(scale(x), 3, nstart=20)\n",
    "km$cluster"
   ]
  },
  {
   "cell_type": "code",
   "execution_count": null,
   "id": "17c2dbba-2b01-4972-9708-d199aefbc4fd",
   "metadata": {},
   "outputs": [],
   "source": []
  }
 ],
 "metadata": {
  "kernelspec": {
   "display_name": "R",
   "language": "R",
   "name": "ir"
  },
  "language_info": {
   "codemirror_mode": "r",
   "file_extension": ".r",
   "mimetype": "text/x-r-source",
   "name": "R",
   "pygments_lexer": "r",
   "version": "4.0.5"
  }
 },
 "nbformat": 4,
 "nbformat_minor": 5
}

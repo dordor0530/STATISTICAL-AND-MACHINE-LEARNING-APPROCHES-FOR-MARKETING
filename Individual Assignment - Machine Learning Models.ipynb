{
 "cells": [
  {
   "cell_type": "code",
   "execution_count": 1,
   "id": "716ac8d8",
   "metadata": {},
   "outputs": [
    {
     "name": "stderr",
     "output_type": "stream",
     "text": [
      "Loading required package: ggplot2\n",
      "\n",
      "Loading required package: lattice\n",
      "\n",
      "Loading required package: ParamHelpers\n",
      "\n",
      "Warning message: 'mlr' is in 'maintenance-only' mode since July 2019.\n",
      "Future development will only happen in 'mlr3'\n",
      "(<https://mlr3.mlr-org.com>). Due to the focus on 'mlr3' there might be\n",
      "uncaught bugs meanwhile in {mlr} - please consider switching.\n",
      "\n",
      "\n",
      "Attaching package: 'mlr'\n",
      "\n",
      "\n",
      "The following object is masked from 'package:caret':\n",
      "\n",
      "    train\n",
      "\n",
      "\n",
      "Loading required package: grid\n",
      "\n",
      "Loading required package: mvtnorm\n",
      "\n",
      "Loading required package: modeltools\n",
      "\n",
      "Loading required package: stats4\n",
      "\n",
      "Loading required package: strucchange\n",
      "\n",
      "Loading required package: zoo\n",
      "\n",
      "\n",
      "Attaching package: 'zoo'\n",
      "\n",
      "\n",
      "The following objects are masked from 'package:base':\n",
      "\n",
      "    as.Date, as.Date.numeric\n",
      "\n",
      "\n",
      "Loading required package: sandwich\n",
      "\n",
      "Type 'citation(\"pROC\")' for a citation.\n",
      "\n",
      "\n",
      "Attaching package: 'pROC'\n",
      "\n",
      "\n",
      "The following objects are masked from 'package:stats':\n",
      "\n",
      "    cov, smooth, var\n",
      "\n",
      "\n",
      "randomForest 4.6-14\n",
      "\n",
      "Type rfNews() to see new features/changes/bug fixes.\n",
      "\n",
      "\n",
      "Attaching package: 'randomForest'\n",
      "\n",
      "\n",
      "The following object is masked from 'package:ggplot2':\n",
      "\n",
      "    margin\n",
      "\n",
      "\n",
      "Loaded gbm 2.1.8\n",
      "\n",
      "\n",
      "Attaching package: 'MLmetrics'\n",
      "\n",
      "\n",
      "The following objects are masked from 'package:caret':\n",
      "\n",
      "    MAE, RMSE\n",
      "\n",
      "\n",
      "The following object is masked from 'package:base':\n",
      "\n",
      "    Recall\n",
      "\n",
      "\n"
     ]
    },
    {
     "data": {
      "text/html": [
       "'R version 4.0.5 (2021-03-31)'"
      ],
      "text/latex": [
       "'R version 4.0.5 (2021-03-31)'"
      ],
      "text/markdown": [
       "'R version 4.0.5 (2021-03-31)'"
      ],
      "text/plain": [
       "[1] \"R version 4.0.5 (2021-03-31)\""
      ]
     },
     "metadata": {},
     "output_type": "display_data"
    }
   ],
   "source": [
    "# Set environment params\n",
    "Sys.setenv(LANG='en')  # English\n",
    "\n",
    "# Import libraries\n",
    "library(data.table)    # Data manipulate\n",
    "library(caret)         # ML toolkit\n",
    "library(mlr)           # ML toolkit\n",
    "library(party)         # Data processing\n",
    "library(pROC)          # AUC, ROC\n",
    "library(rpart)         # Decision tree\n",
    "library(randomForest)  # Bagging and RF\n",
    "library(tree)          # CART model\n",
    "library(gbm)           # Boosting tree\n",
    "library(class)         # KNN\n",
    "library(modeest)\n",
    "library(MASS)\n",
    "library(MLmetrics)\n",
    "\n",
    "# Resize plot\n",
    "library(repr)  # String and binary representations\n",
    "#options(repr.plot.width=4, repr.plot.height=4)\n",
    "\n",
    "R.version.string"
   ]
  },
  {
   "cell_type": "code",
   "execution_count": 2,
   "id": "e44cc4d2-cc79-4535-9da9-c62b5e338858",
   "metadata": {},
   "outputs": [
    {
     "name": "stdout",
     "output_type": "stream",
     "text": [
      "'data.frame':\t20000 obs. of  25 variables:\n",
      " $ cust_id                   : int  18895 25102 28867 1842 3371 29925 29940 11638 4761 6746 ...\n",
      " $ LIMIT_BAL                 : int  70000 390000 60000 140000 50000 20000 50000 250000 320000 300000 ...\n",
      " $ SEX                       : int  1 2 1 2 1 1 1 1 2 1 ...\n",
      " $ EDUCATION                 : int  3 2 1 2 1 2 3 2 2 1 ...\n",
      " $ MARRIAGE                  : int  2 2 2 1 2 2 2 2 2 1 ...\n",
      " $ AGE                       : int  34 26 27 55 29 37 44 30 36 35 ...\n",
      " $ PAY_0                     : int  0 2 0 0 2 0 0 0 -2 0 ...\n",
      " $ PAY_2                     : int  0 2 0 0 2 0 0 0 -2 0 ...\n",
      " $ PAY_3                     : int  0 2 0 0 2 0 0 0 -2 0 ...\n",
      " $ PAY_4                     : int  0 0 0 0 0 0 2 -1 -2 0 ...\n",
      " $ PAY_5                     : int  0 0 0 0 0 0 0 2 -2 0 ...\n",
      " $ PAY_6                     : int  0 0 2 0 -2 0 0 -1 -2 0 ...\n",
      " $ BILL_AMT1                 : int  53972 185111 21387 108038 7881 20009 NA 5724 29862 91282 ...\n",
      " $ BILL_AMT2                 : int  23149 172865 22416 110216 10415 20602 50525 6729 33785 45885 ...\n",
      " $ BILL_AMT3                 : int  23968 153795 23444 84516 3997 21255 51463 4973 4900 35329 ...\n",
      " $ BILL_AMT4                 : int  25559 140387 26038 72391 1047 19105 49952 9693 15813 29368 ...\n",
      " $ BILL_AMT5                 : int  26134 128112 28607 61298 0 19609 19584 799 0 18833 ...\n",
      " $ BILL_AMT6                 : int  26715 115514 27997 62193 0 19283 19080 4295 0 93329 ...\n",
      " $ PAY_AMT1                  : int  1700 5000 1378 4200 3000 1700 1762 2000 5000 3260 ...\n",
      " $ PAY_AMT2                  : int  1500 3000 1406 2822 0 1600 4800 2305 4905 2240 ...\n",
      " $ PAY_AMT3                  : int  2000 5000 3000 2336 1000 1200 0 4720 15873 1505 ...\n",
      " $ PAY_AMT4                  : int  1000 4548 3000 2588 0 1000 837 0 0 1250 ...\n",
      " $ PAY_AMT5                  : int  1000 4100 0 2250 0 900 700 4305 0 80934 ...\n",
      " $ PAY_AMT6                  : int  2000 3300 923 2491 0 1000 1000 0 21657 2700 ...\n",
      " $ default.payment.next.month: int  0 0 1 0 1 0 0 0 1 0 ...\n"
     ]
    }
   ],
   "source": [
    "credit = read.csv('credit_default_train.csv')\n",
    "str(credit)"
   ]
  },
  {
   "cell_type": "code",
   "execution_count": 3,
   "id": "8cfc7b6a-4ff4-4b66-8753-1554e2ebc1ff",
   "metadata": {},
   "outputs": [
    {
     "data": {
      "text/html": [
       "<table class=\"dataframe\">\n",
       "<caption>A data.frame: 6 × 25</caption>\n",
       "<thead>\n",
       "\t<tr><th></th><th scope=col>cust_id</th><th scope=col>LIMIT_BAL</th><th scope=col>SEX</th><th scope=col>EDUCATION</th><th scope=col>MARRIAGE</th><th scope=col>AGE</th><th scope=col>PAY_0</th><th scope=col>PAY_2</th><th scope=col>PAY_3</th><th scope=col>PAY_4</th><th scope=col>⋯</th><th scope=col>BILL_AMT4</th><th scope=col>BILL_AMT5</th><th scope=col>BILL_AMT6</th><th scope=col>PAY_AMT1</th><th scope=col>PAY_AMT2</th><th scope=col>PAY_AMT3</th><th scope=col>PAY_AMT4</th><th scope=col>PAY_AMT5</th><th scope=col>PAY_AMT6</th><th scope=col>default.payment.next.month</th></tr>\n",
       "\t<tr><th></th><th scope=col>&lt;int&gt;</th><th scope=col>&lt;int&gt;</th><th scope=col>&lt;int&gt;</th><th scope=col>&lt;int&gt;</th><th scope=col>&lt;int&gt;</th><th scope=col>&lt;int&gt;</th><th scope=col>&lt;int&gt;</th><th scope=col>&lt;int&gt;</th><th scope=col>&lt;int&gt;</th><th scope=col>&lt;int&gt;</th><th scope=col>⋯</th><th scope=col>&lt;int&gt;</th><th scope=col>&lt;int&gt;</th><th scope=col>&lt;int&gt;</th><th scope=col>&lt;int&gt;</th><th scope=col>&lt;int&gt;</th><th scope=col>&lt;int&gt;</th><th scope=col>&lt;int&gt;</th><th scope=col>&lt;int&gt;</th><th scope=col>&lt;int&gt;</th><th scope=col>&lt;int&gt;</th></tr>\n",
       "</thead>\n",
       "<tbody>\n",
       "\t<tr><th scope=row>1</th><td>18895</td><td> 70000</td><td>1</td><td>3</td><td>2</td><td>34</td><td>0</td><td>0</td><td>0</td><td>0</td><td>⋯</td><td> 25559</td><td> 26134</td><td> 26715</td><td>1700</td><td>1500</td><td>2000</td><td>1000</td><td>1000</td><td>2000</td><td>0</td></tr>\n",
       "\t<tr><th scope=row>2</th><td>25102</td><td>390000</td><td>2</td><td>2</td><td>2</td><td>26</td><td>2</td><td>2</td><td>2</td><td>0</td><td>⋯</td><td>140387</td><td>128112</td><td>115514</td><td>5000</td><td>3000</td><td>5000</td><td>4548</td><td>4100</td><td>3300</td><td>0</td></tr>\n",
       "\t<tr><th scope=row>3</th><td>28867</td><td> 60000</td><td>1</td><td>1</td><td>2</td><td>27</td><td>0</td><td>0</td><td>0</td><td>0</td><td>⋯</td><td> 26038</td><td> 28607</td><td> 27997</td><td>1378</td><td>1406</td><td>3000</td><td>3000</td><td>   0</td><td> 923</td><td>1</td></tr>\n",
       "\t<tr><th scope=row>4</th><td> 1842</td><td>140000</td><td>2</td><td>2</td><td>1</td><td>55</td><td>0</td><td>0</td><td>0</td><td>0</td><td>⋯</td><td> 72391</td><td> 61298</td><td> 62193</td><td>4200</td><td>2822</td><td>2336</td><td>2588</td><td>2250</td><td>2491</td><td>0</td></tr>\n",
       "\t<tr><th scope=row>5</th><td> 3371</td><td> 50000</td><td>1</td><td>1</td><td>2</td><td>29</td><td>2</td><td>2</td><td>2</td><td>0</td><td>⋯</td><td>  1047</td><td>     0</td><td>     0</td><td>3000</td><td>   0</td><td>1000</td><td>   0</td><td>   0</td><td>   0</td><td>1</td></tr>\n",
       "\t<tr><th scope=row>6</th><td>29925</td><td> 20000</td><td>1</td><td>2</td><td>2</td><td>37</td><td>0</td><td>0</td><td>0</td><td>0</td><td>⋯</td><td> 19105</td><td> 19609</td><td> 19283</td><td>1700</td><td>1600</td><td>1200</td><td>1000</td><td> 900</td><td>1000</td><td>0</td></tr>\n",
       "</tbody>\n",
       "</table>\n"
      ],
      "text/latex": [
       "A data.frame: 6 × 25\n",
       "\\begin{tabular}{r|lllllllllllllllllllll}\n",
       "  & cust\\_id & LIMIT\\_BAL & SEX & EDUCATION & MARRIAGE & AGE & PAY\\_0 & PAY\\_2 & PAY\\_3 & PAY\\_4 & ⋯ & BILL\\_AMT4 & BILL\\_AMT5 & BILL\\_AMT6 & PAY\\_AMT1 & PAY\\_AMT2 & PAY\\_AMT3 & PAY\\_AMT4 & PAY\\_AMT5 & PAY\\_AMT6 & default.payment.next.month\\\\\n",
       "  & <int> & <int> & <int> & <int> & <int> & <int> & <int> & <int> & <int> & <int> & ⋯ & <int> & <int> & <int> & <int> & <int> & <int> & <int> & <int> & <int> & <int>\\\\\n",
       "\\hline\n",
       "\t1 & 18895 &  70000 & 1 & 3 & 2 & 34 & 0 & 0 & 0 & 0 & ⋯ &  25559 &  26134 &  26715 & 1700 & 1500 & 2000 & 1000 & 1000 & 2000 & 0\\\\\n",
       "\t2 & 25102 & 390000 & 2 & 2 & 2 & 26 & 2 & 2 & 2 & 0 & ⋯ & 140387 & 128112 & 115514 & 5000 & 3000 & 5000 & 4548 & 4100 & 3300 & 0\\\\\n",
       "\t3 & 28867 &  60000 & 1 & 1 & 2 & 27 & 0 & 0 & 0 & 0 & ⋯ &  26038 &  28607 &  27997 & 1378 & 1406 & 3000 & 3000 &    0 &  923 & 1\\\\\n",
       "\t4 &  1842 & 140000 & 2 & 2 & 1 & 55 & 0 & 0 & 0 & 0 & ⋯ &  72391 &  61298 &  62193 & 4200 & 2822 & 2336 & 2588 & 2250 & 2491 & 0\\\\\n",
       "\t5 &  3371 &  50000 & 1 & 1 & 2 & 29 & 2 & 2 & 2 & 0 & ⋯ &   1047 &      0 &      0 & 3000 &    0 & 1000 &    0 &    0 &    0 & 1\\\\\n",
       "\t6 & 29925 &  20000 & 1 & 2 & 2 & 37 & 0 & 0 & 0 & 0 & ⋯ &  19105 &  19609 &  19283 & 1700 & 1600 & 1200 & 1000 &  900 & 1000 & 0\\\\\n",
       "\\end{tabular}\n"
      ],
      "text/markdown": [
       "\n",
       "A data.frame: 6 × 25\n",
       "\n",
       "| <!--/--> | cust_id &lt;int&gt; | LIMIT_BAL &lt;int&gt; | SEX &lt;int&gt; | EDUCATION &lt;int&gt; | MARRIAGE &lt;int&gt; | AGE &lt;int&gt; | PAY_0 &lt;int&gt; | PAY_2 &lt;int&gt; | PAY_3 &lt;int&gt; | PAY_4 &lt;int&gt; | ⋯ ⋯ | BILL_AMT4 &lt;int&gt; | BILL_AMT5 &lt;int&gt; | BILL_AMT6 &lt;int&gt; | PAY_AMT1 &lt;int&gt; | PAY_AMT2 &lt;int&gt; | PAY_AMT3 &lt;int&gt; | PAY_AMT4 &lt;int&gt; | PAY_AMT5 &lt;int&gt; | PAY_AMT6 &lt;int&gt; | default.payment.next.month &lt;int&gt; |\n",
       "|---|---|---|---|---|---|---|---|---|---|---|---|---|---|---|---|---|---|---|---|---|---|\n",
       "| 1 | 18895 |  70000 | 1 | 3 | 2 | 34 | 0 | 0 | 0 | 0 | ⋯ |  25559 |  26134 |  26715 | 1700 | 1500 | 2000 | 1000 | 1000 | 2000 | 0 |\n",
       "| 2 | 25102 | 390000 | 2 | 2 | 2 | 26 | 2 | 2 | 2 | 0 | ⋯ | 140387 | 128112 | 115514 | 5000 | 3000 | 5000 | 4548 | 4100 | 3300 | 0 |\n",
       "| 3 | 28867 |  60000 | 1 | 1 | 2 | 27 | 0 | 0 | 0 | 0 | ⋯ |  26038 |  28607 |  27997 | 1378 | 1406 | 3000 | 3000 |    0 |  923 | 1 |\n",
       "| 4 |  1842 | 140000 | 2 | 2 | 1 | 55 | 0 | 0 | 0 | 0 | ⋯ |  72391 |  61298 |  62193 | 4200 | 2822 | 2336 | 2588 | 2250 | 2491 | 0 |\n",
       "| 5 |  3371 |  50000 | 1 | 1 | 2 | 29 | 2 | 2 | 2 | 0 | ⋯ |   1047 |      0 |      0 | 3000 |    0 | 1000 |    0 |    0 |    0 | 1 |\n",
       "| 6 | 29925 |  20000 | 1 | 2 | 2 | 37 | 0 | 0 | 0 | 0 | ⋯ |  19105 |  19609 |  19283 | 1700 | 1600 | 1200 | 1000 |  900 | 1000 | 0 |\n",
       "\n"
      ],
      "text/plain": [
       "  cust_id LIMIT_BAL SEX EDUCATION MARRIAGE AGE PAY_0 PAY_2 PAY_3 PAY_4 <U+22EF>       \n",
       "1 18895    70000    1   3         2        34  0     0     0     0     <U+22EF>\n",
       "2 25102   390000    2   2         2        26  2     2     2     0     <U+22EF>\n",
       "3 28867    60000    1   1         2        27  0     0     0     0     <U+22EF>\n",
       "4  1842   140000    2   2         1        55  0     0     0     0     <U+22EF>\n",
       "5  3371    50000    1   1         2        29  2     2     2     0     <U+22EF>\n",
       "6 29925    20000    1   2         2        37  0     0     0     0     <U+22EF>\n",
       "  BILL_AMT4 BILL_AMT5 BILL_AMT6 PAY_AMT1 PAY_AMT2 PAY_AMT3 PAY_AMT4 PAY_AMT5\n",
       "1  25559     26134     26715    1700     1500     2000     1000     1000    \n",
       "2 140387    128112    115514    5000     3000     5000     4548     4100    \n",
       "3  26038     28607     27997    1378     1406     3000     3000        0    \n",
       "4  72391     61298     62193    4200     2822     2336     2588     2250    \n",
       "5   1047         0         0    3000        0     1000        0        0    \n",
       "6  19105     19609     19283    1700     1600     1200     1000      900    \n",
       "  PAY_AMT6 default.payment.next.month\n",
       "1 2000     0                         \n",
       "2 3300     0                         \n",
       "3  923     1                         \n",
       "4 2491     0                         \n",
       "5    0     1                         \n",
       "6 1000     0                         "
      ]
     },
     "metadata": {},
     "output_type": "display_data"
    }
   ],
   "source": [
    "# Show the data\n",
    "head(credit)"
   ]
  },
  {
   "cell_type": "markdown",
   "id": "b4a9c6e2-08b4-46a6-b0f5-7c751ae46532",
   "metadata": {},
   "source": [
    "#### 1.1. Split data"
   ]
  },
  {
   "cell_type": "code",
   "execution_count": 4,
   "id": "803a8269-cf3e-4af6-a708-0f39494054b9",
   "metadata": {},
   "outputs": [],
   "source": [
    "# Train test spliting\n",
    "set.seed(123)\n",
    "train_idx <- createDataPartition(credit[, 'default.payment.next.month'], p=.7, list=FALSE)\n",
    "\n",
    "# Train dataset\n",
    "train <- credit[train_idx, ]\n",
    "\n",
    "# Test dataset\n",
    "test <- credit[-train_idx, ]"
   ]
  },
  {
   "cell_type": "code",
   "execution_count": 5,
   "id": "10992d96-3428-4917-aa1b-602304960558",
   "metadata": {},
   "outputs": [
    {
     "name": "stdout",
     "output_type": "stream",
     "text": [
      "'data.frame':\t14000 obs. of  25 variables:\n",
      " $ cust_id                   : int  18895 25102 1842 3371 29925 29940 4761 6746 26203 2757 ...\n",
      " $ LIMIT_BAL                 : int  70000 390000 140000 50000 20000 50000 320000 300000 500000 80000 ...\n",
      " $ SEX                       : int  1 2 2 1 1 1 2 1 1 2 ...\n",
      " $ EDUCATION                 : int  3 2 2 1 2 3 2 1 1 2 ...\n",
      " $ MARRIAGE                  : int  2 2 1 2 2 2 2 1 1 2 ...\n",
      " $ AGE                       : int  34 26 55 29 37 44 36 35 41 29 ...\n",
      " $ PAY_0                     : int  0 2 0 2 0 0 -2 0 -1 0 ...\n",
      " $ PAY_2                     : int  0 2 0 2 0 0 -2 0 -1 0 ...\n",
      " $ PAY_3                     : int  0 2 0 2 0 0 -2 0 -1 0 ...\n",
      " $ PAY_4                     : int  0 0 0 0 0 2 -2 0 -2 2 ...\n",
      " $ PAY_5                     : int  0 0 0 0 0 0 -2 0 -1 2 ...\n",
      " $ PAY_6                     : int  0 0 0 -2 0 0 -2 0 -1 0 ...\n",
      " $ BILL_AMT1                 : int  53972 185111 108038 7881 20009 NA 29862 91282 719 59520 ...\n",
      " $ BILL_AMT2                 : int  23149 172865 110216 10415 20602 50525 33785 45885 1550 60492 ...\n",
      " $ BILL_AMT3                 : int  23968 153795 84516 3997 21255 51463 4900 35329 -50 62160 ...\n",
      " $ BILL_AMT4                 : int  25559 140387 72391 1047 19105 49952 15813 29368 -50 64714 ...\n",
      " $ BILL_AMT5                 : int  26134 128112 61298 0 19609 19584 0 18833 10037 62420 ...\n",
      " $ BILL_AMT6                 : int  26715 115514 62193 0 19283 19080 0 93329 79 62990 ...\n",
      " $ PAY_AMT1                  : int  1700 5000 4200 3000 1700 1762 5000 3260 1558 2753 ...\n",
      " $ PAY_AMT2                  : int  1500 3000 2822 0 1600 4800 4905 2240 0 3438 ...\n",
      " $ PAY_AMT3                  : int  2000 5000 2336 1000 1200 0 15873 1505 0 4400 ...\n",
      " $ PAY_AMT4                  : int  1000 4548 2588 0 1000 837 0 1250 10087 0 ...\n",
      " $ PAY_AMT5                  : int  1000 4100 2250 0 900 700 0 80934 79 2400 ...\n",
      " $ PAY_AMT6                  : int  2000 3300 2491 0 1000 1000 21657 2700 471 9974 ...\n",
      " $ default.payment.next.month: int  0 0 0 1 0 0 1 0 0 1 ...\n"
     ]
    }
   ],
   "source": [
    "# Check the data\n",
    "str(train)"
   ]
  },
  {
   "cell_type": "code",
   "execution_count": 6,
   "id": "085d507c-1ed6-4dd0-b428-f307cc40a43d",
   "metadata": {},
   "outputs": [
    {
     "data": {
      "text/plain": [
       "\n",
       "    0     1 \n",
       "10902  3098 "
      ]
     },
     "metadata": {},
     "output_type": "display_data"
    }
   ],
   "source": [
    "# Check the target variable distribution\n",
    "table(train$default.payment.next.month)"
   ]
  },
  {
   "cell_type": "code",
   "execution_count": 7,
   "id": "fb8930ef-b531-4982-ac9f-63c1647da26e",
   "metadata": {},
   "outputs": [
    {
     "name": "stdout",
     "output_type": "stream",
     "text": [
      "'data.frame':\t6000 obs. of  25 variables:\n",
      " $ cust_id                   : int  28867 11638 16128 2888 12499 19364 17431 23451 3004 3995 ...\n",
      " $ LIMIT_BAL                 : int  60000 250000 90000 20000 30000 80000 100000 30000 50000 100000 ...\n",
      " $ SEX                       : int  1 1 2 1 1 2 1 2 2 2 ...\n",
      " $ EDUCATION                 : int  1 2 2 1 2 2 3 3 3 2 ...\n",
      " $ MARRIAGE                  : int  2 2 2 2 1 2 2 1 1 1 ...\n",
      " $ AGE                       : int  27 30 32 38 36 27 32 38 35 35 ...\n",
      " $ PAY_0                     : int  0 0 -2 0 1 -1 2 -2 0 -1 ...\n",
      " $ PAY_2                     : int  0 0 -2 0 3 0 2 -2 0 -1 ...\n",
      " $ PAY_3                     : int  0 0 -2 0 2 0 0 -2 0 -1 ...\n",
      " $ PAY_4                     : int  0 -1 -2 0 5 0 0 -2 0 0 ...\n",
      " $ PAY_5                     : int  0 2 -2 2 4 0 0 -2 0 0 ...\n",
      " $ PAY_6                     : int  2 -1 -2 0 3 0 0 -2 0 -1 ...\n",
      " $ BILL_AMT1                 : int  21387 5724 573 16787 18811 45198 103540 1535 49930 29048 ...\n",
      " $ BILL_AMT2                 : int  22416 6729 0 17912 18225 45572 98205 835 48261 0 ...\n",
      " $ BILL_AMT3                 : int  23444 4973 0 18706 22630 40910 12605 8927 49027 4069 ...\n",
      " $ BILL_AMT4                 : int  26038 9693 0 20086 21988 40969 10437 5371 49564 37069 ...\n",
      " $ BILL_AMT5                 : int  28607 799 0 19632 21057 41275 7920 0 28609 20233 ...\n",
      " $ BILL_AMT6                 : int  27997 4295 0 20160 25412 41637 7350 1996 28302 22227 ...\n",
      " $ PAY_AMT1                  : int  1378 2000 157 1700 0 2000 254 835 2300 0 ...\n",
      " $ PAY_AMT2                  : int  1406 2305 0 1400 5000 2000 1418 8939 3000 4069 ...\n",
      " $ PAY_AMT3                  : int  3000 4720 0 1684 0 1600 250 5480 2503 33000 ...\n",
      " $ PAY_AMT4                  : int  3000 0 0 0 0 1500 306 0 NA 20000 ...\n",
      " $ PAY_AMT5                  : int  0 4305 0 1000 5000 1550 524 1996 1204 22227 ...\n",
      " $ PAY_AMT6                  : int  923 0 0 850 0 1600 23910 0 2000 20000 ...\n",
      " $ default.payment.next.month: int  1 0 0 0 0 1 0 0 0 0 ...\n"
     ]
    }
   ],
   "source": [
    "# Check the data\n",
    "str(test)"
   ]
  },
  {
   "cell_type": "code",
   "execution_count": 8,
   "id": "e9347bd8-8a1c-4405-aa7f-97dab9cb3b9c",
   "metadata": {
    "tags": []
   },
   "outputs": [
    {
     "data": {
      "text/plain": [
       "\n",
       "   0    1 \n",
       "4684 1316 "
      ]
     },
     "metadata": {},
     "output_type": "display_data"
    }
   ],
   "source": [
    "# Check the target variable distribution\n",
    "table(test$default.payment.next.month)"
   ]
  },
  {
   "cell_type": "markdown",
   "id": "33f4e5b4-c5c0-49ca-8b90-66d95cde1409",
   "metadata": {},
   "source": [
    "#### 1.2a Data Processing (Train)"
   ]
  },
  {
   "cell_type": "code",
   "execution_count": 9,
   "id": "743558b3-4d7c-440c-aee5-01b697e9e926",
   "metadata": {},
   "outputs": [],
   "source": [
    "# List of numerical and catergorical variables\n",
    "iv_vars <- colnames(train)[2:(ncol(train)-1)]\n",
    "dv_var <- colnames(train)[ncol(train)]\n",
    "num_vars <- c('LIMIT_BAL', 'AGE',\n",
    "            'BILL_AMT1', 'BILL_AMT2', 'BILL_AMT3', 'BILL_AMT4', 'BILL_AMT5', 'BILL_AMT6',\n",
    "            'PAY_AMT1', 'PAY_AMT2', 'PAY_AMT3', 'PAY_AMT4', 'PAY_AMT5', 'PAY_AMT6')\n",
    "cat_vars <- c('SEX', 'EDUCATION', 'MARRIAGE',\n",
    "            'PAY_0', 'PAY_2', 'PAY_3', 'PAY_4', 'PAY_5', 'PAY_6')"
   ]
  },
  {
   "cell_type": "code",
   "execution_count": 10,
   "id": "627bb28a-14e1-4309-8b8b-4e65e50dcd2c",
   "metadata": {},
   "outputs": [
    {
     "name": "stdout",
     "output_type": "stream",
     "text": [
      "[1] \"Total NAs: 3159\"\n"
     ]
    },
    {
     "data": {
      "text/html": [
       "<style>\n",
       ".dl-inline {width: auto; margin:0; padding: 0}\n",
       ".dl-inline>dt, .dl-inline>dd {float: none; width: auto; display: inline-block}\n",
       ".dl-inline>dt::after {content: \":\\0020\"; padding-right: .5ex}\n",
       ".dl-inline>dt:not(:first-of-type) {padding-left: .5ex}\n",
       "</style><dl class=dl-inline><dt>LIMIT_BAL</dt><dd>143</dd><dt>SEX</dt><dd>114</dd><dt>EDUCATION</dt><dd>147</dd><dt>MARRIAGE</dt><dd>120</dd><dt>AGE</dt><dd>160</dd><dt>PAY_0</dt><dd>133</dd><dt>PAY_2</dt><dd>150</dd><dt>PAY_3</dt><dd>152</dd><dt>PAY_4</dt><dd>147</dd><dt>PAY_5</dt><dd>131</dd><dt>PAY_6</dt><dd>145</dd><dt>BILL_AMT1</dt><dd>136</dd><dt>BILL_AMT2</dt><dd>141</dd><dt>BILL_AMT3</dt><dd>124</dd><dt>BILL_AMT4</dt><dd>116</dd><dt>BILL_AMT5</dt><dd>132</dd><dt>BILL_AMT6</dt><dd>151</dd><dt>PAY_AMT1</dt><dd>141</dd><dt>PAY_AMT2</dt><dd>128</dd><dt>PAY_AMT3</dt><dd>149</dd><dt>PAY_AMT4</dt><dd>127</dd><dt>PAY_AMT5</dt><dd>133</dd><dt>PAY_AMT6</dt><dd>139</dd></dl>\n"
      ],
      "text/latex": [
       "\\begin{description*}\n",
       "\\item[LIMIT\\textbackslash{}\\_BAL] 143\n",
       "\\item[SEX] 114\n",
       "\\item[EDUCATION] 147\n",
       "\\item[MARRIAGE] 120\n",
       "\\item[AGE] 160\n",
       "\\item[PAY\\textbackslash{}\\_0] 133\n",
       "\\item[PAY\\textbackslash{}\\_2] 150\n",
       "\\item[PAY\\textbackslash{}\\_3] 152\n",
       "\\item[PAY\\textbackslash{}\\_4] 147\n",
       "\\item[PAY\\textbackslash{}\\_5] 131\n",
       "\\item[PAY\\textbackslash{}\\_6] 145\n",
       "\\item[BILL\\textbackslash{}\\_AMT1] 136\n",
       "\\item[BILL\\textbackslash{}\\_AMT2] 141\n",
       "\\item[BILL\\textbackslash{}\\_AMT3] 124\n",
       "\\item[BILL\\textbackslash{}\\_AMT4] 116\n",
       "\\item[BILL\\textbackslash{}\\_AMT5] 132\n",
       "\\item[BILL\\textbackslash{}\\_AMT6] 151\n",
       "\\item[PAY\\textbackslash{}\\_AMT1] 141\n",
       "\\item[PAY\\textbackslash{}\\_AMT2] 128\n",
       "\\item[PAY\\textbackslash{}\\_AMT3] 149\n",
       "\\item[PAY\\textbackslash{}\\_AMT4] 127\n",
       "\\item[PAY\\textbackslash{}\\_AMT5] 133\n",
       "\\item[PAY\\textbackslash{}\\_AMT6] 139\n",
       "\\end{description*}\n"
      ],
      "text/markdown": [
       "LIMIT_BAL\n",
       ":   143SEX\n",
       ":   114EDUCATION\n",
       ":   147MARRIAGE\n",
       ":   120AGE\n",
       ":   160PAY_0\n",
       ":   133PAY_2\n",
       ":   150PAY_3\n",
       ":   152PAY_4\n",
       ":   147PAY_5\n",
       ":   131PAY_6\n",
       ":   145BILL_AMT1\n",
       ":   136BILL_AMT2\n",
       ":   141BILL_AMT3\n",
       ":   124BILL_AMT4\n",
       ":   116BILL_AMT5\n",
       ":   132BILL_AMT6\n",
       ":   151PAY_AMT1\n",
       ":   141PAY_AMT2\n",
       ":   128PAY_AMT3\n",
       ":   149PAY_AMT4\n",
       ":   127PAY_AMT5\n",
       ":   133PAY_AMT6\n",
       ":   139\n",
       "\n"
      ],
      "text/plain": [
       "LIMIT_BAL       SEX EDUCATION  MARRIAGE       AGE     PAY_0     PAY_2     PAY_3 \n",
       "      143       114       147       120       160       133       150       152 \n",
       "    PAY_4     PAY_5     PAY_6 BILL_AMT1 BILL_AMT2 BILL_AMT3 BILL_AMT4 BILL_AMT5 \n",
       "      147       131       145       136       141       124       116       132 \n",
       "BILL_AMT6  PAY_AMT1  PAY_AMT2  PAY_AMT3  PAY_AMT4  PAY_AMT5  PAY_AMT6 \n",
       "      151       141       128       149       127       133       139 "
      ]
     },
     "metadata": {},
     "output_type": "display_data"
    }
   ],
   "source": [
    "# Check missing values\n",
    "print(paste(\"Total NAs:\", sum(apply(is.na(train[iv_vars]), 2, sum))))\n",
    "apply(is.na(train[iv_vars]), 2, sum)"
   ]
  },
  {
   "cell_type": "code",
   "execution_count": 11,
   "id": "8619d314-4af0-4e6c-b085-6e75efc00355",
   "metadata": {},
   "outputs": [],
   "source": [
    "# Calculating the median of num_vars\n",
    "a <- median(train$LIMIT_BAL, na.rm=TRUE)\n",
    "b <- median(train$AGE, na.rm=TRUE)\n",
    "c <- median(train$BILL_AMT1, na.rm=TRUE)\n",
    "d <- median(train$BILL_AMT2, na.rm=TRUE)\n",
    "e <- median(train$BILL_AMT3, na.rm=TRUE)\n",
    "f <- median(train$BILL_AMT4, na.rm=TRUE)\n",
    "g <- median(train$BILL_AMT5, na.rm=TRUE)\n",
    "h <- median(train$BILL_AMT6, na.rm=TRUE)\n",
    "i <- median(train$PAY_AMT1, na.rm=TRUE)\n",
    "j <- median(train$PAY_AMT2, na.rm=TRUE)\n",
    "k <- median(train$PAY_AMT3, na.rm=TRUE)\n",
    "l <- median(train$PAY_AMT4, na.rm=TRUE)\n",
    "m <- median(train$PAY_AMT5, na.rm=TRUE)\n",
    "n <- median(train$PAY_AMT6, na.rm=TRUE)"
   ]
  },
  {
   "cell_type": "code",
   "execution_count": 12,
   "id": "25df7c34-9966-4c06-892d-1fe28be6d2e3",
   "metadata": {},
   "outputs": [],
   "source": [
    "# Filling num_vars with median\n",
    "train$LIMIT_BAL[is.na(train$LIMIT_BAL)] <- a\n",
    "train$AGE[is.na(train$AGE)] <- b\n",
    "train$BILL_AMT1[is.na(train$BILL_AMT1)] <- c\n",
    "train$BILL_AMT2[is.na(train$BILL_AMT2)] <- d\n",
    "train$BILL_AMT3[is.na(train$BILL_AMT3)] <- e\n",
    "train$BILL_AMT4[is.na(train$BILL_AMT4)] <- f\n",
    "train$BILL_AMT5[is.na(train$BILL_AMT5)] <- g\n",
    "train$BILL_AMT6[is.na(train$BILL_AMT6)] <- h\n",
    "train$PAY_AMT1[is.na(train$PAY_AMT1)] <- i\n",
    "train$PAY_AMT2[is.na(train$PAY_AMT2)] <- j\n",
    "train$PAY_AMT3[is.na(train$PAY_AMT3)] <- k\n",
    "train$PAY_AMT4[is.na(train$PAY_AMT4)] <- l\n",
    "train$PAY_AMT5[is.na(train$PAY_AMT5)] <- m\n",
    "train$PAY_AMT6[is.na(train$PAY_AMT6)] <- n"
   ]
  },
  {
   "cell_type": "code",
   "execution_count": 13,
   "id": "4d58a8ef-7590-42c4-8fa2-4c5acdd7a05e",
   "metadata": {},
   "outputs": [],
   "source": [
    "# Calculating the mode of cat_vars\n",
    "o <- mlv(train$SEX, method = \"mfv\")\n",
    "p <- mlv(train$EDUCATION, method = \"mfv\")\n",
    "q <- mlv(train$MARRIAGE, method = \"mfv\")\n",
    "r <- mlv(train$PAY_0, method = \"mfv\")\n",
    "s <- mlv(train$PAY_2, method = \"mfv\")\n",
    "t <- mlv(train$PAY_3, method = \"mfv\")\n",
    "u <- mlv(train$PAY_4, method = \"mfv\")\n",
    "v <- mlv(train$PAY_5, method = \"mfv\")\n",
    "w <- mlv(train$PAY_6, method = \"mfv\")"
   ]
  },
  {
   "cell_type": "code",
   "execution_count": 14,
   "id": "c706b6d7-ed3c-4d36-a311-b122632453bf",
   "metadata": {},
   "outputs": [],
   "source": [
    "# Filling cat_vars with mode\n",
    "train$SEX[is.na(train$SEX)] <- o\n",
    "train$EDUCATION[is.na(train$EDUCATION)] <- p\n",
    "train$MARRIAGE[is.na(train$MARRIAGE)] <- q\n",
    "train$PAY_0[is.na(train$PAY_0)] <- r\n",
    "train$PAY_2[is.na(train$PAY_2)] <- s\n",
    "train$PAY_3[is.na(train$PAY_3)] <- t\n",
    "train$PAY_4[is.na(train$PAY_4)] <- u\n",
    "train$PAY_5[is.na(train$PAY_5)] <- v\n",
    "train$PAY_6[is.na(train$PAY_6)] <- w"
   ]
  },
  {
   "cell_type": "code",
   "execution_count": 15,
   "id": "6d709c6d-7583-4341-88d8-1bcde880a242",
   "metadata": {},
   "outputs": [],
   "source": [
    "# turning the target variable into factor\n",
    "train_f <- train\n",
    "train_f$default.payment.next.month<-as.factor(train_f$default.payment.next.month)"
   ]
  },
  {
   "cell_type": "code",
   "execution_count": 16,
   "id": "3be41555-5885-4b10-9515-fd681f35a170",
   "metadata": {},
   "outputs": [
    {
     "name": "stdout",
     "output_type": "stream",
     "text": [
      "'data.frame':\t14000 obs. of  25 variables:\n",
      " $ cust_id                   : int  18895 25102 1842 3371 29925 29940 4761 6746 26203 2757 ...\n",
      " $ LIMIT_BAL                 : int  70000 390000 140000 50000 20000 50000 320000 300000 500000 80000 ...\n",
      " $ SEX                       : int  1 2 2 1 1 1 2 1 1 2 ...\n",
      " $ EDUCATION                 : int  3 2 2 1 2 3 2 1 1 2 ...\n",
      " $ MARRIAGE                  : int  2 2 1 2 2 2 2 1 1 2 ...\n",
      " $ AGE                       : num  34 26 55 29 37 44 36 35 41 29 ...\n",
      " $ PAY_0                     : int  0 2 0 2 0 0 -2 0 -1 0 ...\n",
      " $ PAY_2                     : int  0 2 0 2 0 0 -2 0 -1 0 ...\n",
      " $ PAY_3                     : int  0 2 0 2 0 0 -2 0 -1 0 ...\n",
      " $ PAY_4                     : int  0 0 0 0 0 2 -2 0 -2 2 ...\n",
      " $ PAY_5                     : int  0 0 0 0 0 0 -2 0 -1 2 ...\n",
      " $ PAY_6                     : int  0 0 0 -2 0 0 -2 0 -1 0 ...\n",
      " $ BILL_AMT1                 : num  53972 185111 108038 7881 20009 ...\n",
      " $ BILL_AMT2                 : int  23149 172865 110216 10415 20602 50525 33785 45885 1550 60492 ...\n",
      " $ BILL_AMT3                 : num  23968 153795 84516 3997 21255 ...\n",
      " $ BILL_AMT4                 : num  25559 140387 72391 1047 19105 ...\n",
      " $ BILL_AMT5                 : num  26134 128112 61298 0 19609 ...\n",
      " $ BILL_AMT6                 : int  26715 115514 62193 0 19283 19080 0 93329 79 62990 ...\n",
      " $ PAY_AMT1                  : int  1700 5000 4200 3000 1700 1762 5000 3260 1558 2753 ...\n",
      " $ PAY_AMT2                  : num  1500 3000 2822 0 1600 ...\n",
      " $ PAY_AMT3                  : int  2000 5000 2336 1000 1200 0 15873 1505 0 4400 ...\n",
      " $ PAY_AMT4                  : int  1000 4548 2588 0 1000 837 0 1250 10087 0 ...\n",
      " $ PAY_AMT5                  : int  1000 4100 2250 0 900 700 0 80934 79 2400 ...\n",
      " $ PAY_AMT6                  : int  2000 3300 2491 0 1000 1000 21657 2700 471 9974 ...\n",
      " $ default.payment.next.month: int  0 0 0 1 0 0 1 0 0 1 ...\n",
      "'data.frame':\t14000 obs. of  25 variables:\n",
      " $ cust_id                   : int  18895 25102 1842 3371 29925 29940 4761 6746 26203 2757 ...\n",
      " $ LIMIT_BAL                 : int  70000 390000 140000 50000 20000 50000 320000 300000 500000 80000 ...\n",
      " $ SEX                       : int  1 2 2 1 1 1 2 1 1 2 ...\n",
      " $ EDUCATION                 : int  3 2 2 1 2 3 2 1 1 2 ...\n",
      " $ MARRIAGE                  : int  2 2 1 2 2 2 2 1 1 2 ...\n",
      " $ AGE                       : num  34 26 55 29 37 44 36 35 41 29 ...\n",
      " $ PAY_0                     : int  0 2 0 2 0 0 -2 0 -1 0 ...\n",
      " $ PAY_2                     : int  0 2 0 2 0 0 -2 0 -1 0 ...\n",
      " $ PAY_3                     : int  0 2 0 2 0 0 -2 0 -1 0 ...\n",
      " $ PAY_4                     : int  0 0 0 0 0 2 -2 0 -2 2 ...\n",
      " $ PAY_5                     : int  0 0 0 0 0 0 -2 0 -1 2 ...\n",
      " $ PAY_6                     : int  0 0 0 -2 0 0 -2 0 -1 0 ...\n",
      " $ BILL_AMT1                 : num  53972 185111 108038 7881 20009 ...\n",
      " $ BILL_AMT2                 : int  23149 172865 110216 10415 20602 50525 33785 45885 1550 60492 ...\n",
      " $ BILL_AMT3                 : num  23968 153795 84516 3997 21255 ...\n",
      " $ BILL_AMT4                 : num  25559 140387 72391 1047 19105 ...\n",
      " $ BILL_AMT5                 : num  26134 128112 61298 0 19609 ...\n",
      " $ BILL_AMT6                 : int  26715 115514 62193 0 19283 19080 0 93329 79 62990 ...\n",
      " $ PAY_AMT1                  : int  1700 5000 4200 3000 1700 1762 5000 3260 1558 2753 ...\n",
      " $ PAY_AMT2                  : num  1500 3000 2822 0 1600 ...\n",
      " $ PAY_AMT3                  : int  2000 5000 2336 1000 1200 0 15873 1505 0 4400 ...\n",
      " $ PAY_AMT4                  : int  1000 4548 2588 0 1000 837 0 1250 10087 0 ...\n",
      " $ PAY_AMT5                  : int  1000 4100 2250 0 900 700 0 80934 79 2400 ...\n",
      " $ PAY_AMT6                  : int  2000 3300 2491 0 1000 1000 21657 2700 471 9974 ...\n",
      " $ default.payment.next.month: Factor w/ 2 levels \"0\",\"1\": 1 1 1 2 1 1 2 1 1 2 ...\n"
     ]
    }
   ],
   "source": [
    "str(train)\n",
    "str(train_f)"
   ]
  },
  {
   "cell_type": "code",
   "execution_count": 17,
   "id": "c2479c86-7c6c-4d54-9976-45b03907aea8",
   "metadata": {},
   "outputs": [
    {
     "name": "stdout",
     "output_type": "stream",
     "text": [
      "[1] \"Total NAs: 0\"\n"
     ]
    },
    {
     "data": {
      "text/html": [
       "<style>\n",
       ".dl-inline {width: auto; margin:0; padding: 0}\n",
       ".dl-inline>dt, .dl-inline>dd {float: none; width: auto; display: inline-block}\n",
       ".dl-inline>dt::after {content: \":\\0020\"; padding-right: .5ex}\n",
       ".dl-inline>dt:not(:first-of-type) {padding-left: .5ex}\n",
       "</style><dl class=dl-inline><dt>LIMIT_BAL</dt><dd>0</dd><dt>SEX</dt><dd>0</dd><dt>EDUCATION</dt><dd>0</dd><dt>MARRIAGE</dt><dd>0</dd><dt>AGE</dt><dd>0</dd><dt>PAY_0</dt><dd>0</dd><dt>PAY_2</dt><dd>0</dd><dt>PAY_3</dt><dd>0</dd><dt>PAY_4</dt><dd>0</dd><dt>PAY_5</dt><dd>0</dd><dt>PAY_6</dt><dd>0</dd><dt>BILL_AMT1</dt><dd>0</dd><dt>BILL_AMT2</dt><dd>0</dd><dt>BILL_AMT3</dt><dd>0</dd><dt>BILL_AMT4</dt><dd>0</dd><dt>BILL_AMT5</dt><dd>0</dd><dt>BILL_AMT6</dt><dd>0</dd><dt>PAY_AMT1</dt><dd>0</dd><dt>PAY_AMT2</dt><dd>0</dd><dt>PAY_AMT3</dt><dd>0</dd><dt>PAY_AMT4</dt><dd>0</dd><dt>PAY_AMT5</dt><dd>0</dd><dt>PAY_AMT6</dt><dd>0</dd></dl>\n"
      ],
      "text/latex": [
       "\\begin{description*}\n",
       "\\item[LIMIT\\textbackslash{}\\_BAL] 0\n",
       "\\item[SEX] 0\n",
       "\\item[EDUCATION] 0\n",
       "\\item[MARRIAGE] 0\n",
       "\\item[AGE] 0\n",
       "\\item[PAY\\textbackslash{}\\_0] 0\n",
       "\\item[PAY\\textbackslash{}\\_2] 0\n",
       "\\item[PAY\\textbackslash{}\\_3] 0\n",
       "\\item[PAY\\textbackslash{}\\_4] 0\n",
       "\\item[PAY\\textbackslash{}\\_5] 0\n",
       "\\item[PAY\\textbackslash{}\\_6] 0\n",
       "\\item[BILL\\textbackslash{}\\_AMT1] 0\n",
       "\\item[BILL\\textbackslash{}\\_AMT2] 0\n",
       "\\item[BILL\\textbackslash{}\\_AMT3] 0\n",
       "\\item[BILL\\textbackslash{}\\_AMT4] 0\n",
       "\\item[BILL\\textbackslash{}\\_AMT5] 0\n",
       "\\item[BILL\\textbackslash{}\\_AMT6] 0\n",
       "\\item[PAY\\textbackslash{}\\_AMT1] 0\n",
       "\\item[PAY\\textbackslash{}\\_AMT2] 0\n",
       "\\item[PAY\\textbackslash{}\\_AMT3] 0\n",
       "\\item[PAY\\textbackslash{}\\_AMT4] 0\n",
       "\\item[PAY\\textbackslash{}\\_AMT5] 0\n",
       "\\item[PAY\\textbackslash{}\\_AMT6] 0\n",
       "\\end{description*}\n"
      ],
      "text/markdown": [
       "LIMIT_BAL\n",
       ":   0SEX\n",
       ":   0EDUCATION\n",
       ":   0MARRIAGE\n",
       ":   0AGE\n",
       ":   0PAY_0\n",
       ":   0PAY_2\n",
       ":   0PAY_3\n",
       ":   0PAY_4\n",
       ":   0PAY_5\n",
       ":   0PAY_6\n",
       ":   0BILL_AMT1\n",
       ":   0BILL_AMT2\n",
       ":   0BILL_AMT3\n",
       ":   0BILL_AMT4\n",
       ":   0BILL_AMT5\n",
       ":   0BILL_AMT6\n",
       ":   0PAY_AMT1\n",
       ":   0PAY_AMT2\n",
       ":   0PAY_AMT3\n",
       ":   0PAY_AMT4\n",
       ":   0PAY_AMT5\n",
       ":   0PAY_AMT6\n",
       ":   0\n",
       "\n"
      ],
      "text/plain": [
       "LIMIT_BAL       SEX EDUCATION  MARRIAGE       AGE     PAY_0     PAY_2     PAY_3 \n",
       "        0         0         0         0         0         0         0         0 \n",
       "    PAY_4     PAY_5     PAY_6 BILL_AMT1 BILL_AMT2 BILL_AMT3 BILL_AMT4 BILL_AMT5 \n",
       "        0         0         0         0         0         0         0         0 \n",
       "BILL_AMT6  PAY_AMT1  PAY_AMT2  PAY_AMT3  PAY_AMT4  PAY_AMT5  PAY_AMT6 \n",
       "        0         0         0         0         0         0         0 "
      ]
     },
     "metadata": {},
     "output_type": "display_data"
    }
   ],
   "source": [
    "# Check missing values\n",
    "print(paste(\"Total NAs:\", sum(apply(is.na(train[iv_vars]), 2, sum))))\n",
    "apply(is.na(train[iv_vars]), 2, sum)"
   ]
  },
  {
   "cell_type": "markdown",
   "id": "18a626da-a9da-4fcb-85e7-50455b8a0607",
   "metadata": {},
   "source": [
    "#### 1.2b Data Processing (Test)"
   ]
  },
  {
   "cell_type": "code",
   "execution_count": 18,
   "id": "e78faf2f-02b7-4ebd-a76e-1e2e0626ad18",
   "metadata": {},
   "outputs": [],
   "source": [
    "# List of numerical and catergorical variables\n",
    "iv_vars <- colnames(test)[2:(ncol(test)-1)]\n",
    "dv_var <- colnames(test)[ncol(test)]\n",
    "num_vars <- c('LIMIT_BAL', 'AGE',\n",
    "            'BILL_AMT1', 'BILL_AMT2', 'BILL_AMT3', 'BILL_AMT4', 'BILL_AMT5', 'BILL_AMT6',\n",
    "            'PAY_AMT1', 'PAY_AMT2', 'PAY_AMT3', 'PAY_AMT4', 'PAY_AMT5', 'PAY_AMT6')\n",
    "cat_vars <- c('SEX', 'EDUCATION', 'MARRIAGE',\n",
    "            'PAY_0', 'PAY_2', 'PAY_3', 'PAY_4', 'PAY_5', 'PAY_6')"
   ]
  },
  {
   "cell_type": "code",
   "execution_count": 19,
   "id": "1da5ea55-9b6b-42f0-9496-45ab0a5d194a",
   "metadata": {},
   "outputs": [
    {
     "name": "stdout",
     "output_type": "stream",
     "text": [
      "[1] \"Total NAs: 1289\"\n"
     ]
    },
    {
     "data": {
      "text/html": [
       "<style>\n",
       ".dl-inline {width: auto; margin:0; padding: 0}\n",
       ".dl-inline>dt, .dl-inline>dd {float: none; width: auto; display: inline-block}\n",
       ".dl-inline>dt::after {content: \":\\0020\"; padding-right: .5ex}\n",
       ".dl-inline>dt:not(:first-of-type) {padding-left: .5ex}\n",
       "</style><dl class=dl-inline><dt>LIMIT_BAL</dt><dd>59</dd><dt>SEX</dt><dd>47</dd><dt>EDUCATION</dt><dd>52</dd><dt>MARRIAGE</dt><dd>50</dd><dt>AGE</dt><dd>54</dd><dt>PAY_0</dt><dd>62</dd><dt>PAY_2</dt><dd>69</dd><dt>PAY_3</dt><dd>65</dd><dt>PAY_4</dt><dd>52</dd><dt>PAY_5</dt><dd>54</dd><dt>PAY_6</dt><dd>58</dd><dt>BILL_AMT1</dt><dd>49</dd><dt>BILL_AMT2</dt><dd>68</dd><dt>BILL_AMT3</dt><dd>51</dd><dt>BILL_AMT4</dt><dd>49</dd><dt>BILL_AMT5</dt><dd>49</dd><dt>BILL_AMT6</dt><dd>46</dd><dt>PAY_AMT1</dt><dd>63</dd><dt>PAY_AMT2</dt><dd>56</dd><dt>PAY_AMT3</dt><dd>63</dd><dt>PAY_AMT4</dt><dd>70</dd><dt>PAY_AMT5</dt><dd>46</dd><dt>PAY_AMT6</dt><dd>57</dd></dl>\n"
      ],
      "text/latex": [
       "\\begin{description*}\n",
       "\\item[LIMIT\\textbackslash{}\\_BAL] 59\n",
       "\\item[SEX] 47\n",
       "\\item[EDUCATION] 52\n",
       "\\item[MARRIAGE] 50\n",
       "\\item[AGE] 54\n",
       "\\item[PAY\\textbackslash{}\\_0] 62\n",
       "\\item[PAY\\textbackslash{}\\_2] 69\n",
       "\\item[PAY\\textbackslash{}\\_3] 65\n",
       "\\item[PAY\\textbackslash{}\\_4] 52\n",
       "\\item[PAY\\textbackslash{}\\_5] 54\n",
       "\\item[PAY\\textbackslash{}\\_6] 58\n",
       "\\item[BILL\\textbackslash{}\\_AMT1] 49\n",
       "\\item[BILL\\textbackslash{}\\_AMT2] 68\n",
       "\\item[BILL\\textbackslash{}\\_AMT3] 51\n",
       "\\item[BILL\\textbackslash{}\\_AMT4] 49\n",
       "\\item[BILL\\textbackslash{}\\_AMT5] 49\n",
       "\\item[BILL\\textbackslash{}\\_AMT6] 46\n",
       "\\item[PAY\\textbackslash{}\\_AMT1] 63\n",
       "\\item[PAY\\textbackslash{}\\_AMT2] 56\n",
       "\\item[PAY\\textbackslash{}\\_AMT3] 63\n",
       "\\item[PAY\\textbackslash{}\\_AMT4] 70\n",
       "\\item[PAY\\textbackslash{}\\_AMT5] 46\n",
       "\\item[PAY\\textbackslash{}\\_AMT6] 57\n",
       "\\end{description*}\n"
      ],
      "text/markdown": [
       "LIMIT_BAL\n",
       ":   59SEX\n",
       ":   47EDUCATION\n",
       ":   52MARRIAGE\n",
       ":   50AGE\n",
       ":   54PAY_0\n",
       ":   62PAY_2\n",
       ":   69PAY_3\n",
       ":   65PAY_4\n",
       ":   52PAY_5\n",
       ":   54PAY_6\n",
       ":   58BILL_AMT1\n",
       ":   49BILL_AMT2\n",
       ":   68BILL_AMT3\n",
       ":   51BILL_AMT4\n",
       ":   49BILL_AMT5\n",
       ":   49BILL_AMT6\n",
       ":   46PAY_AMT1\n",
       ":   63PAY_AMT2\n",
       ":   56PAY_AMT3\n",
       ":   63PAY_AMT4\n",
       ":   70PAY_AMT5\n",
       ":   46PAY_AMT6\n",
       ":   57\n",
       "\n"
      ],
      "text/plain": [
       "LIMIT_BAL       SEX EDUCATION  MARRIAGE       AGE     PAY_0     PAY_2     PAY_3 \n",
       "       59        47        52        50        54        62        69        65 \n",
       "    PAY_4     PAY_5     PAY_6 BILL_AMT1 BILL_AMT2 BILL_AMT3 BILL_AMT4 BILL_AMT5 \n",
       "       52        54        58        49        68        51        49        49 \n",
       "BILL_AMT6  PAY_AMT1  PAY_AMT2  PAY_AMT3  PAY_AMT4  PAY_AMT5  PAY_AMT6 \n",
       "       46        63        56        63        70        46        57 "
      ]
     },
     "metadata": {},
     "output_type": "display_data"
    }
   ],
   "source": [
    "# Check missing values\n",
    "print(paste(\"Total NAs:\", sum(apply(is.na(test[iv_vars]), 2, sum))))\n",
    "apply(is.na(test[iv_vars]), 2, sum)"
   ]
  },
  {
   "cell_type": "code",
   "execution_count": 20,
   "id": "b8e97684-5801-4cac-8663-4b5f5a03b3d9",
   "metadata": {},
   "outputs": [],
   "source": [
    "# Filling num_vars with train median\n",
    "test$LIMIT_BAL[is.na(test$LIMIT_BAL)] <- a\n",
    "test$AGE[is.na(test$AGE)] <- b\n",
    "test$BILL_AMT1[is.na(test$BILL_AMT1)] <- c\n",
    "test$BILL_AMT2[is.na(test$BILL_AMT2)] <- d\n",
    "test$BILL_AMT3[is.na(test$BILL_AMT3)] <- e\n",
    "test$BILL_AMT4[is.na(test$BILL_AMT4)] <- f\n",
    "test$BILL_AMT5[is.na(test$BILL_AMT5)] <- g\n",
    "test$BILL_AMT6[is.na(test$BILL_AMT6)] <- h\n",
    "test$PAY_AMT1[is.na(test$PAY_AMT1)] <- i\n",
    "test$PAY_AMT2[is.na(test$PAY_AMT2)] <- j\n",
    "test$PAY_AMT3[is.na(test$PAY_AMT3)] <- k\n",
    "test$PAY_AMT4[is.na(test$PAY_AMT4)] <- l\n",
    "test$PAY_AMT5[is.na(test$PAY_AMT5)] <- m\n",
    "test$PAY_AMT6[is.na(test$PAY_AMT6)] <- n"
   ]
  },
  {
   "cell_type": "code",
   "execution_count": 21,
   "id": "bc1ea784-db06-4b5d-9b25-8e3dc2f41598",
   "metadata": {},
   "outputs": [],
   "source": [
    "# Filling num_vars with train mode\n",
    "test$SEX[is.na(test$SEX)] <- o\n",
    "test$EDUCATION[is.na(test$EDUCATION)] <- p\n",
    "test$MARRIAGE[is.na(test$MARRIAGE)] <- q\n",
    "test$PAY_0[is.na(test$PAY_0)] <- r\n",
    "test$PAY_2[is.na(test$PAY_2)] <- s\n",
    "test$PAY_3[is.na(test$PAY_3)] <- t\n",
    "test$PAY_4[is.na(test$PAY_4)] <- u\n",
    "test$PAY_5[is.na(test$PAY_5)] <- v\n",
    "test$PAY_6[is.na(test$PAY_6)] <- w"
   ]
  },
  {
   "cell_type": "code",
   "execution_count": 22,
   "id": "13399e6d-780f-4b72-a58c-68fcda29db1f",
   "metadata": {},
   "outputs": [],
   "source": [
    "# turning the target variable into factor\n",
    "test_f <- test\n",
    "test_f$default.payment.next.month<-as.factor(test_f$default.payment.next.month)"
   ]
  },
  {
   "cell_type": "code",
   "execution_count": 23,
   "id": "42c020f2-b891-4ae7-bf37-f8ffb548728d",
   "metadata": {},
   "outputs": [
    {
     "name": "stdout",
     "output_type": "stream",
     "text": [
      "[1] \"Total NAs: 0\"\n"
     ]
    },
    {
     "data": {
      "text/html": [
       "<style>\n",
       ".dl-inline {width: auto; margin:0; padding: 0}\n",
       ".dl-inline>dt, .dl-inline>dd {float: none; width: auto; display: inline-block}\n",
       ".dl-inline>dt::after {content: \":\\0020\"; padding-right: .5ex}\n",
       ".dl-inline>dt:not(:first-of-type) {padding-left: .5ex}\n",
       "</style><dl class=dl-inline><dt>LIMIT_BAL</dt><dd>0</dd><dt>SEX</dt><dd>0</dd><dt>EDUCATION</dt><dd>0</dd><dt>MARRIAGE</dt><dd>0</dd><dt>AGE</dt><dd>0</dd><dt>PAY_0</dt><dd>0</dd><dt>PAY_2</dt><dd>0</dd><dt>PAY_3</dt><dd>0</dd><dt>PAY_4</dt><dd>0</dd><dt>PAY_5</dt><dd>0</dd><dt>PAY_6</dt><dd>0</dd><dt>BILL_AMT1</dt><dd>0</dd><dt>BILL_AMT2</dt><dd>0</dd><dt>BILL_AMT3</dt><dd>0</dd><dt>BILL_AMT4</dt><dd>0</dd><dt>BILL_AMT5</dt><dd>0</dd><dt>BILL_AMT6</dt><dd>0</dd><dt>PAY_AMT1</dt><dd>0</dd><dt>PAY_AMT2</dt><dd>0</dd><dt>PAY_AMT3</dt><dd>0</dd><dt>PAY_AMT4</dt><dd>0</dd><dt>PAY_AMT5</dt><dd>0</dd><dt>PAY_AMT6</dt><dd>0</dd></dl>\n"
      ],
      "text/latex": [
       "\\begin{description*}\n",
       "\\item[LIMIT\\textbackslash{}\\_BAL] 0\n",
       "\\item[SEX] 0\n",
       "\\item[EDUCATION] 0\n",
       "\\item[MARRIAGE] 0\n",
       "\\item[AGE] 0\n",
       "\\item[PAY\\textbackslash{}\\_0] 0\n",
       "\\item[PAY\\textbackslash{}\\_2] 0\n",
       "\\item[PAY\\textbackslash{}\\_3] 0\n",
       "\\item[PAY\\textbackslash{}\\_4] 0\n",
       "\\item[PAY\\textbackslash{}\\_5] 0\n",
       "\\item[PAY\\textbackslash{}\\_6] 0\n",
       "\\item[BILL\\textbackslash{}\\_AMT1] 0\n",
       "\\item[BILL\\textbackslash{}\\_AMT2] 0\n",
       "\\item[BILL\\textbackslash{}\\_AMT3] 0\n",
       "\\item[BILL\\textbackslash{}\\_AMT4] 0\n",
       "\\item[BILL\\textbackslash{}\\_AMT5] 0\n",
       "\\item[BILL\\textbackslash{}\\_AMT6] 0\n",
       "\\item[PAY\\textbackslash{}\\_AMT1] 0\n",
       "\\item[PAY\\textbackslash{}\\_AMT2] 0\n",
       "\\item[PAY\\textbackslash{}\\_AMT3] 0\n",
       "\\item[PAY\\textbackslash{}\\_AMT4] 0\n",
       "\\item[PAY\\textbackslash{}\\_AMT5] 0\n",
       "\\item[PAY\\textbackslash{}\\_AMT6] 0\n",
       "\\end{description*}\n"
      ],
      "text/markdown": [
       "LIMIT_BAL\n",
       ":   0SEX\n",
       ":   0EDUCATION\n",
       ":   0MARRIAGE\n",
       ":   0AGE\n",
       ":   0PAY_0\n",
       ":   0PAY_2\n",
       ":   0PAY_3\n",
       ":   0PAY_4\n",
       ":   0PAY_5\n",
       ":   0PAY_6\n",
       ":   0BILL_AMT1\n",
       ":   0BILL_AMT2\n",
       ":   0BILL_AMT3\n",
       ":   0BILL_AMT4\n",
       ":   0BILL_AMT5\n",
       ":   0BILL_AMT6\n",
       ":   0PAY_AMT1\n",
       ":   0PAY_AMT2\n",
       ":   0PAY_AMT3\n",
       ":   0PAY_AMT4\n",
       ":   0PAY_AMT5\n",
       ":   0PAY_AMT6\n",
       ":   0\n",
       "\n"
      ],
      "text/plain": [
       "LIMIT_BAL       SEX EDUCATION  MARRIAGE       AGE     PAY_0     PAY_2     PAY_3 \n",
       "        0         0         0         0         0         0         0         0 \n",
       "    PAY_4     PAY_5     PAY_6 BILL_AMT1 BILL_AMT2 BILL_AMT3 BILL_AMT4 BILL_AMT5 \n",
       "        0         0         0         0         0         0         0         0 \n",
       "BILL_AMT6  PAY_AMT1  PAY_AMT2  PAY_AMT3  PAY_AMT4  PAY_AMT5  PAY_AMT6 \n",
       "        0         0         0         0         0         0         0 "
      ]
     },
     "metadata": {},
     "output_type": "display_data"
    }
   ],
   "source": [
    "# Check missing values\n",
    "print(paste(\"Total NAs:\", sum(apply(is.na(test[iv_vars]), 2, sum))))\n",
    "apply(is.na(test[iv_vars]), 2, sum)"
   ]
  },
  {
   "cell_type": "code",
   "execution_count": 24,
   "id": "a092a29d-7f8f-44ce-87b2-a39fe6d693b1",
   "metadata": {},
   "outputs": [
    {
     "name": "stdout",
     "output_type": "stream",
     "text": [
      "'data.frame':\t6000 obs. of  25 variables:\n",
      " $ cust_id                   : int  28867 11638 16128 2888 12499 19364 17431 23451 3004 3995 ...\n",
      " $ LIMIT_BAL                 : int  60000 250000 90000 20000 30000 80000 100000 30000 50000 100000 ...\n",
      " $ SEX                       : int  1 1 2 1 1 2 1 2 2 2 ...\n",
      " $ EDUCATION                 : int  1 2 2 1 2 2 3 3 3 2 ...\n",
      " $ MARRIAGE                  : int  2 2 2 2 1 2 2 1 1 1 ...\n",
      " $ AGE                       : num  27 30 32 38 36 27 32 38 35 35 ...\n",
      " $ PAY_0                     : int  0 0 -2 0 1 -1 2 -2 0 -1 ...\n",
      " $ PAY_2                     : int  0 0 -2 0 3 0 2 -2 0 -1 ...\n",
      " $ PAY_3                     : int  0 0 -2 0 2 0 0 -2 0 -1 ...\n",
      " $ PAY_4                     : int  0 -1 -2 0 5 0 0 -2 0 0 ...\n",
      " $ PAY_5                     : int  0 2 -2 2 4 0 0 -2 0 0 ...\n",
      " $ PAY_6                     : int  2 -1 -2 0 3 0 0 -2 0 -1 ...\n",
      " $ BILL_AMT1                 : num  21387 5724 573 16787 18811 ...\n",
      " $ BILL_AMT2                 : int  22416 6729 0 17912 18225 45572 98205 835 48261 0 ...\n",
      " $ BILL_AMT3                 : num  23444 4973 0 18706 22630 ...\n",
      " $ BILL_AMT4                 : num  26038 9693 0 20086 21988 ...\n",
      " $ BILL_AMT5                 : num  28607 799 0 19632 21057 ...\n",
      " $ BILL_AMT6                 : int  27997 4295 0 20160 25412 41637 7350 1996 28302 22227 ...\n",
      " $ PAY_AMT1                  : int  1378 2000 157 1700 0 2000 254 835 2300 0 ...\n",
      " $ PAY_AMT2                  : num  1406 2305 0 1400 5000 ...\n",
      " $ PAY_AMT3                  : int  3000 4720 0 1684 0 1600 250 5480 2503 33000 ...\n",
      " $ PAY_AMT4                  : int  3000 0 0 0 0 1500 306 0 1500 20000 ...\n",
      " $ PAY_AMT5                  : int  0 4305 0 1000 5000 1550 524 1996 1204 22227 ...\n",
      " $ PAY_AMT6                  : int  923 0 0 850 0 1600 23910 0 2000 20000 ...\n",
      " $ default.payment.next.month: int  1 0 0 0 0 1 0 0 0 0 ...\n",
      "'data.frame':\t6000 obs. of  25 variables:\n",
      " $ cust_id                   : int  28867 11638 16128 2888 12499 19364 17431 23451 3004 3995 ...\n",
      " $ LIMIT_BAL                 : int  60000 250000 90000 20000 30000 80000 100000 30000 50000 100000 ...\n",
      " $ SEX                       : int  1 1 2 1 1 2 1 2 2 2 ...\n",
      " $ EDUCATION                 : int  1 2 2 1 2 2 3 3 3 2 ...\n",
      " $ MARRIAGE                  : int  2 2 2 2 1 2 2 1 1 1 ...\n",
      " $ AGE                       : num  27 30 32 38 36 27 32 38 35 35 ...\n",
      " $ PAY_0                     : int  0 0 -2 0 1 -1 2 -2 0 -1 ...\n",
      " $ PAY_2                     : int  0 0 -2 0 3 0 2 -2 0 -1 ...\n",
      " $ PAY_3                     : int  0 0 -2 0 2 0 0 -2 0 -1 ...\n",
      " $ PAY_4                     : int  0 -1 -2 0 5 0 0 -2 0 0 ...\n",
      " $ PAY_5                     : int  0 2 -2 2 4 0 0 -2 0 0 ...\n",
      " $ PAY_6                     : int  2 -1 -2 0 3 0 0 -2 0 -1 ...\n",
      " $ BILL_AMT1                 : num  21387 5724 573 16787 18811 ...\n",
      " $ BILL_AMT2                 : int  22416 6729 0 17912 18225 45572 98205 835 48261 0 ...\n",
      " $ BILL_AMT3                 : num  23444 4973 0 18706 22630 ...\n",
      " $ BILL_AMT4                 : num  26038 9693 0 20086 21988 ...\n",
      " $ BILL_AMT5                 : num  28607 799 0 19632 21057 ...\n",
      " $ BILL_AMT6                 : int  27997 4295 0 20160 25412 41637 7350 1996 28302 22227 ...\n",
      " $ PAY_AMT1                  : int  1378 2000 157 1700 0 2000 254 835 2300 0 ...\n",
      " $ PAY_AMT2                  : num  1406 2305 0 1400 5000 ...\n",
      " $ PAY_AMT3                  : int  3000 4720 0 1684 0 1600 250 5480 2503 33000 ...\n",
      " $ PAY_AMT4                  : int  3000 0 0 0 0 1500 306 0 1500 20000 ...\n",
      " $ PAY_AMT5                  : int  0 4305 0 1000 5000 1550 524 1996 1204 22227 ...\n",
      " $ PAY_AMT6                  : int  923 0 0 850 0 1600 23910 0 2000 20000 ...\n",
      " $ default.payment.next.month: Factor w/ 2 levels \"0\",\"1\": 2 1 1 1 1 2 1 1 1 1 ...\n"
     ]
    }
   ],
   "source": [
    "str(test)\n",
    "str(test_f)"
   ]
  },
  {
   "cell_type": "markdown",
   "id": "34cb6b79-a4cf-4de6-8cfb-ee2c8da4db8b",
   "metadata": {},
   "source": [
    "#### 1.3 Modelling"
   ]
  },
  {
   "cell_type": "markdown",
   "id": "e86e6b2e-ad3f-435c-908b-ae791a8095fe",
   "metadata": {},
   "source": [
    "#### 1.3a Logistic Regression"
   ]
  },
  {
   "cell_type": "code",
   "execution_count": 25,
   "id": "c909f866-588f-4a65-b3f5-572b4b8d70f1",
   "metadata": {},
   "outputs": [
    {
     "data": {
      "text/plain": [
       "\n",
       "Call:\n",
       "glm(formula = default.payment.next.month ~ ., family = \"binomial\", \n",
       "    data = train)\n",
       "\n",
       "Deviance Residuals: \n",
       "    Min       1Q   Median       3Q      Max  \n",
       "-3.0795  -0.7043  -0.5527  -0.2882   3.1836  \n",
       "\n",
       "Coefficients:\n",
       "              Estimate Std. Error z value Pr(>|z|)    \n",
       "(Intercept) -5.690e-01  1.785e-01  -3.187 0.001436 ** \n",
       "cust_id     -1.646e-06  2.512e-06  -0.655 0.512242    \n",
       "LIMIT_BAL   -5.901e-07  2.271e-07  -2.598 0.009376 ** \n",
       "SEX         -1.038e-01  4.493e-02  -2.310 0.020873 *  \n",
       "EDUCATION   -1.044e-01  3.080e-02  -3.389 0.000701 ***\n",
       "MARRIAGE    -1.378e-01  4.640e-02  -2.971 0.002969 ** \n",
       "AGE          3.725e-03  2.615e-03   1.425 0.154290    \n",
       "PAY_0        5.709e-01  2.608e-02  21.890  < 2e-16 ***\n",
       "PAY_2        5.683e-02  2.940e-02   1.933 0.053248 .  \n",
       "PAY_3        6.498e-02  3.268e-02   1.989 0.046734 *  \n",
       "PAY_4        3.396e-02  3.605e-02   0.942 0.346282    \n",
       "PAY_5        6.879e-02  3.847e-02   1.788 0.073776 .  \n",
       "PAY_6       -1.245e-02  3.220e-02  -0.387 0.698917    \n",
       "BILL_AMT1   -4.749e-06  1.379e-06  -3.444 0.000573 ***\n",
       "BILL_AMT2    1.141e-06  1.756e-06   0.649 0.516026    \n",
       "BILL_AMT3    3.089e-06  1.639e-06   1.884 0.059514 .  \n",
       "BILL_AMT4   -1.117e-06  1.661e-06  -0.673 0.501116    \n",
       "BILL_AMT5   -6.230e-07  1.932e-06  -0.323 0.747053    \n",
       "BILL_AMT6    1.518e-06  1.649e-06   0.921 0.357264    \n",
       "PAY_AMT1    -1.185e-05  3.171e-06  -3.735 0.000187 ***\n",
       "PAY_AMT2    -1.204e-05  3.158e-06  -3.813 0.000137 ***\n",
       "PAY_AMT3    -1.952e-06  2.424e-06  -0.805 0.420686    \n",
       "PAY_AMT4    -5.213e-06  2.564e-06  -2.033 0.042052 *  \n",
       "PAY_AMT5    -7.390e-06  2.817e-06  -2.623 0.008711 ** \n",
       "PAY_AMT6    -1.648e-06  1.804e-06  -0.914 0.360948    \n",
       "---\n",
       "Signif. codes:  0 '***' 0.001 '**' 0.01 '*' 0.05 '.' 0.1 ' ' 1\n",
       "\n",
       "(Dispersion parameter for binomial family taken to be 1)\n",
       "\n",
       "    Null deviance: 14799  on 13999  degrees of freedom\n",
       "Residual deviance: 13094  on 13975  degrees of freedom\n",
       "AIC: 13144\n",
       "\n",
       "Number of Fisher Scoring iterations: 6\n"
      ]
     },
     "metadata": {},
     "output_type": "display_data"
    }
   ],
   "source": [
    "# Fit Logistic Regression model\n",
    "md_logreg <- glm(default.payment.next.month ~ ., data=train, family='binomial')\n",
    "summary(md_logreg)"
   ]
  },
  {
   "cell_type": "markdown",
   "id": "109fc9e4-5cd2-4c74-90c7-27ab4c318f87",
   "metadata": {},
   "source": [
    "#### 1.4a Feature Selection - Logistic Regression"
   ]
  },
  {
   "cell_type": "code",
   "execution_count": 26,
   "id": "334be504-7307-4d3d-a59b-0ba0ee94cf17",
   "metadata": {},
   "outputs": [
    {
     "data": {
      "text/plain": [
       "\n",
       "Call:\n",
       "glm(formula = default.payment.next.month ~ LIMIT_BAL + SEX + \n",
       "    EDUCATION + MARRIAGE + PAY_0 + PAY_3 + BILL_AMT1 + PAY_AMT1 + \n",
       "    PAY_AMT2 + PAY_AMT4 + PAY_AMT5, family = \"binomial\", data = train)\n",
       "\n",
       "Deviance Residuals: \n",
       "    Min       1Q   Median       3Q      Max  \n",
       "-3.0530  -0.7016  -0.5566  -0.3015   3.1297  \n",
       "\n",
       "Coefficients:\n",
       "              Estimate Std. Error z value Pr(>|z|)    \n",
       "(Intercept) -4.376e-01  1.289e-01  -3.395 0.000687 ***\n",
       "LIMIT_BAL   -7.366e-07  2.196e-07  -3.355 0.000794 ***\n",
       "SEX         -1.096e-01  4.440e-02  -2.470 0.013526 *  \n",
       "EDUCATION   -9.735e-02  3.020e-02  -3.223 0.001267 ** \n",
       "MARRIAGE    -1.654e-01  4.276e-02  -3.869 0.000109 ***\n",
       "PAY_0        6.063e-01  2.385e-02  25.421  < 2e-16 ***\n",
       "PAY_3        1.585e-01  2.096e-02   7.558 4.08e-14 ***\n",
       "BILL_AMT1   -1.283e-06  3.803e-07  -3.374 0.000740 ***\n",
       "PAY_AMT1    -1.106e-05  2.993e-06  -3.697 0.000218 ***\n",
       "PAY_AMT2    -8.670e-06  2.719e-06  -3.189 0.001427 ** \n",
       "PAY_AMT4    -5.717e-06  2.323e-06  -2.461 0.013851 *  \n",
       "PAY_AMT5    -6.550e-06  2.463e-06  -2.659 0.007838 ** \n",
       "---\n",
       "Signif. codes:  0 '***' 0.001 '**' 0.01 '*' 0.05 '.' 0.1 ' ' 1\n",
       "\n",
       "(Dispersion parameter for binomial family taken to be 1)\n",
       "\n",
       "    Null deviance: 14799  on 13999  degrees of freedom\n",
       "Residual deviance: 13129  on 13988  degrees of freedom\n",
       "AIC: 13153\n",
       "\n",
       "Number of Fisher Scoring iterations: 6\n"
      ]
     },
     "metadata": {},
     "output_type": "display_data"
    }
   ],
   "source": [
    "# Feature selection of the model for logistic regression\n",
    "# Choose the p-value < 0.05, further choose it until all p-value of the selected features are < 0.05\n",
    "# Fit logistic regression model with only signiificant variables\n",
    "md_logreg <- glm(default.payment.next.month ~ LIMIT_BAL + SEX + EDUCATION + MARRIAGE + PAY_0 + PAY_3 + BILL_AMT1 + PAY_AMT1 + PAY_AMT2 + PAY_AMT4 + PAY_AMT5, data=train, family='binomial')\n",
    "summary(md_logreg)"
   ]
  },
  {
   "cell_type": "code",
   "execution_count": 27,
   "id": "bc71d3c0-3b4d-480e-93f4-f0d88df6f71a",
   "metadata": {},
   "outputs": [
    {
     "data": {
      "text/html": [
       "<style>\n",
       ".dl-inline {width: auto; margin:0; padding: 0}\n",
       ".dl-inline>dt, .dl-inline>dd {float: none; width: auto; display: inline-block}\n",
       ".dl-inline>dt::after {content: \":\\0020\"; padding-right: .5ex}\n",
       ".dl-inline>dt:not(:first-of-type) {padding-left: .5ex}\n",
       "</style><dl class=dl-inline><dt>1</dt><dd>0.208322219713154</dd><dt>2</dt><dd>0.422620024923535</dd><dt>4</dt><dd>0.204359131027131</dd><dt>5</dt><dd>0.616296425015587</dd><dt>6</dt><dd>0.239119523423283</dd><dt>7</dt><dd>0.213148817622885</dd></dl>\n"
      ],
      "text/latex": [
       "\\begin{description*}\n",
       "\\item[1] 0.208322219713154\n",
       "\\item[2] 0.422620024923535\n",
       "\\item[4] 0.204359131027131\n",
       "\\item[5] 0.616296425015587\n",
       "\\item[6] 0.239119523423283\n",
       "\\item[7] 0.213148817622885\n",
       "\\end{description*}\n"
      ],
      "text/markdown": [
       "1\n",
       ":   0.2083222197131542\n",
       ":   0.4226200249235354\n",
       ":   0.2043591310271315\n",
       ":   0.6162964250155876\n",
       ":   0.2391195234232837\n",
       ":   0.213148817622885\n",
       "\n"
      ],
      "text/plain": [
       "        1         2         4         5         6         7 \n",
       "0.2083222 0.4226200 0.2043591 0.6162964 0.2391195 0.2131488 "
      ]
     },
     "metadata": {},
     "output_type": "display_data"
    },
    {
     "data": {
      "text/html": [
       "<style>\n",
       ".dl-inline {width: auto; margin:0; padding: 0}\n",
       ".dl-inline>dt, .dl-inline>dd {float: none; width: auto; display: inline-block}\n",
       ".dl-inline>dt::after {content: \":\\0020\"; padding-right: .5ex}\n",
       ".dl-inline>dt:not(:first-of-type) {padding-left: .5ex}\n",
       "</style><dl class=dl-inline><dt>3</dt><dd>0.251300229253941</dd><dt>8</dt><dd>0.208394813049779</dd><dt>12</dt><dd>0.058377517411892</dd><dt>19</dt><dd>0.259372631070893</dd><dt>23</dt><dd>0.473391926932576</dd><dt>24</dt><dd>0.123051488633754</dd></dl>\n"
      ],
      "text/latex": [
       "\\begin{description*}\n",
       "\\item[3] 0.251300229253941\n",
       "\\item[8] 0.208394813049779\n",
       "\\item[12] 0.058377517411892\n",
       "\\item[19] 0.259372631070893\n",
       "\\item[23] 0.473391926932576\n",
       "\\item[24] 0.123051488633754\n",
       "\\end{description*}\n"
      ],
      "text/markdown": [
       "3\n",
       ":   0.2513002292539418\n",
       ":   0.20839481304977912\n",
       ":   0.05837751741189219\n",
       ":   0.25937263107089323\n",
       ":   0.47339192693257624\n",
       ":   0.123051488633754\n",
       "\n"
      ],
      "text/plain": [
       "         3          8         12         19         23         24 \n",
       "0.25130023 0.20839481 0.05837752 0.25937263 0.47339193 0.12305149 "
      ]
     },
     "metadata": {},
     "output_type": "display_data"
    }
   ],
   "source": [
    "# Make prediction on both train and test data\n",
    "pred_train_prob <- predict(md_logreg, newdata=train, type='response')\n",
    "head(pred_train_prob)\n",
    "\n",
    "pred_test_prob <- predict(md_logreg, newdata=test, type='response')\n",
    "head(pred_test_prob)"
   ]
  },
  {
   "cell_type": "code",
   "execution_count": 28,
   "id": "b2b50f7f-d760-4695-acd5-c40981a9c3aa",
   "metadata": {},
   "outputs": [
    {
     "name": "stdout",
     "output_type": "stream",
     "text": [
      "[1] \"Confusion matrix:\"\n"
     ]
    },
    {
     "data": {
      "text/plain": [
       "          \n",
       "pred_train     0     1\n",
       "         0 10630  2420\n",
       "         1   272   678"
      ]
     },
     "metadata": {},
     "output_type": "display_data"
    },
    {
     "data": {
      "text/plain": [
       "          \n",
       "pred_train     0     1\n",
       "         0 10630  2420\n",
       "         1   272   678"
      ]
     },
     "metadata": {},
     "output_type": "display_data"
    },
    {
     "name": "stdout",
     "output_type": "stream",
     "text": [
      "[1] \"Accuracy = 0.807714\"\n",
      "[1] \"Error = 0.192286\"\n",
      "[1] \"Precision = 0.713684\"\n",
      "[1] \"Sensitivity (TPR) = 0.218851\"\n",
      "[1] \"Specificity (TNR) = 0.97505\"\n"
     ]
    },
    {
     "name": "stderr",
     "output_type": "stream",
     "text": [
      "Setting levels: control = 0, case = 1\n",
      "\n",
      "Setting direction: controls < cases\n",
      "\n"
     ]
    },
    {
     "name": "stdout",
     "output_type": "stream",
     "text": [
      "[1] \"AUC = 0.764121798749748\"\n"
     ]
    }
   ],
   "source": [
    "# Evaluation model on test\n",
    "threshold <- 0.5  # Decision threshold\n",
    "pred_train <- rep(0, length(pred_train_prob))\n",
    "pred_train[pred_train_prob > threshold] <- 1\n",
    "\n",
    "# Confusion matrix\n",
    "print('Confusion matrix:')\n",
    "table(pred_train, train$default.payment.next.month)\n",
    "\n",
    "table(pred_train, train$default.payment.next.month)\n",
    "acc <- mean(pred_train == train$default.payment.next.month)\n",
    "TP <- table(pred_train, train$default.payment.next.month)[2, 2]\n",
    "TN <- table(pred_train, train$default.payment.next.month)[1, 1]\n",
    "FP <- table(pred_train, train$default.payment.next.month)[2, 1]\n",
    "FN <- table(pred_train, train$default.payment.next.month)[1, 2]\n",
    "\n",
    "print(paste('Accuracy =', round(acc, 6)))\n",
    "print(paste('Error =', round(1-acc, 6)))\n",
    "print(paste('Precision =', round(TP / (TP + FP), 6)))\n",
    "print(paste('Sensitivity (TPR) =', round(TP / (TP + FN), 6)))\n",
    "print(paste('Specificity (TNR) =', round(TN / (TN + FP), 6)))\n",
    "\n",
    "# AUC\n",
    "pred_roc <- pROC::roc(pred_train, train$default.payment.next.month)\n",
    "pred_auc <- pROC::auc(pred_roc)\n",
    "print(paste('AUC =', pred_auc))"
   ]
  },
  {
   "cell_type": "code",
   "execution_count": 29,
   "id": "6d67f58b-cd97-40a0-beca-1384a1b04be4",
   "metadata": {},
   "outputs": [
    {
     "name": "stdout",
     "output_type": "stream",
     "text": [
      "[1] \"Confusion matrix:\"\n"
     ]
    },
    {
     "data": {
      "text/plain": [
       "         \n",
       "pred_test    0    1\n",
       "        0 4565 1044\n",
       "        1  119  272"
      ]
     },
     "metadata": {},
     "output_type": "display_data"
    },
    {
     "data": {
      "text/plain": [
       "         \n",
       "pred_test    0    1\n",
       "        0 4565 1044\n",
       "        1  119  272"
      ]
     },
     "metadata": {},
     "output_type": "display_data"
    },
    {
     "name": "stdout",
     "output_type": "stream",
     "text": [
      "[1] \"Accuracy = 0.806167\"\n",
      "[1] \"Error = 0.193833\"\n",
      "[1] \"Precision = 0.695652\"\n",
      "[1] \"Sensitivity (TPR) = 0.206687\"\n",
      "[1] \"Specificity (TNR) = 0.974594\"\n"
     ]
    },
    {
     "name": "stderr",
     "output_type": "stream",
     "text": [
      "Setting levels: control = 0, case = 1\n",
      "\n",
      "Setting direction: controls < cases\n",
      "\n"
     ]
    },
    {
     "name": "stdout",
     "output_type": "stream",
     "text": [
      "[1] \"AUC = 0.754761369538087\"\n"
     ]
    }
   ],
   "source": [
    "# Evaluation model on test\n",
    "threshold <- 0.5  # Decision threshold\n",
    "pred_test <- rep(0, length(pred_test_prob))\n",
    "pred_test[pred_test_prob > threshold] <- 1\n",
    "\n",
    "# Confusion matrix\n",
    "print('Confusion matrix:')\n",
    "table(pred_test, test$default.payment.next.month)\n",
    "\n",
    "table(pred_test, test$default.payment.next.month)\n",
    "acc <- mean(pred_test == test$default.payment.next.month)\n",
    "TP <- table(pred_test, test$default.payment.next.month)[2, 2]\n",
    "TN <- table(pred_test, test$default.payment.next.month)[1, 1]\n",
    "FP <- table(pred_test, test$default.payment.next.month)[2, 1]\n",
    "FN <- table(pred_test, test$default.payment.next.month)[1, 2]\n",
    "\n",
    "print(paste('Accuracy =', round(acc, 6)))\n",
    "print(paste('Error =', round(1-acc, 6)))\n",
    "print(paste('Precision =', round(TP / (TP + FP), 6)))\n",
    "print(paste('Sensitivity (TPR) =', round(TP / (TP + FN), 6)))\n",
    "print(paste('Specificity (TNR) =', round(TN / (TN + FP), 6)))\n",
    "\n",
    "# AUC\n",
    "pred_roc <- pROC::roc(pred_test, test$default.payment.next.month)\n",
    "pred_auc <- pROC::auc(pred_roc)\n",
    "print(paste('AUC =', pred_auc))"
   ]
  },
  {
   "cell_type": "markdown",
   "id": "a3a91424-4961-4fa6-97bb-1c94021cd55d",
   "metadata": {},
   "source": [
    "#### 1.5a Logistic Regression - Cross-Validation"
   ]
  },
  {
   "cell_type": "code",
   "execution_count": 30,
   "id": "e79a27b0-7dfb-4ed3-9dce-261e353fa449",
   "metadata": {},
   "outputs": [
    {
     "name": "stderr",
     "output_type": "stream",
     "text": [
      "Warning message:\n",
      "\"glm.fit: fitted probabilities numerically 0 or 1 occurred\"\n"
     ]
    },
    {
     "data": {
      "text/plain": [
       "Generalized Linear Model \n",
       "\n",
       "14000 samples\n",
       "   11 predictor\n",
       "    2 classes: '0', '1' \n",
       "\n",
       "No pre-processing\n",
       "Resampling: Cross-Validated (10 fold) \n",
       "Summary of sample sizes: 12600, 12600, 12600, 12600, 12600, 12600, ... \n",
       "Resampling results:\n",
       "\n",
       "  Accuracy   Kappa    \n",
       "  0.8069286  0.2536482\n"
      ]
     },
     "metadata": {},
     "output_type": "display_data"
    }
   ],
   "source": [
    "train_control <- trainControl(method = \"cv\", number = 10)\n",
    "\n",
    "# train the model on training set\n",
    "model <- caret::train(as.factor(default.payment.next.month) ~ LIMIT_BAL + SEX + EDUCATION + MARRIAGE + PAY_0 + PAY_3 + BILL_AMT1 + PAY_AMT1 + PAY_AMT2 + PAY_AMT4 + PAY_AMT5,\n",
    "               data = train,\n",
    "               trControl = train_control,\n",
    "               method = \"glm\",\n",
    "               family=binomial)\n",
    "\n",
    "# print cv scores\n",
    "model"
   ]
  },
  {
   "cell_type": "markdown",
   "id": "653699e1-acaf-4316-8a1c-c92245dade24",
   "metadata": {},
   "source": [
    "#### 1.3b Decision Tree"
   ]
  },
  {
   "cell_type": "code",
   "execution_count": 31,
   "id": "54a54db0-52ab-4ed3-a1c8-78169ace1db2",
   "metadata": {},
   "outputs": [],
   "source": [
    "md_regtree <- tree(default.payment.next.month ~ ., data=train)"
   ]
  },
  {
   "cell_type": "code",
   "execution_count": 32,
   "id": "29232d51-ce86-4beb-8baa-771d4cee8b4b",
   "metadata": {},
   "outputs": [
    {
     "data": {
      "image/png": "[encoded data removed]",
      "text/plain": [
       "plot without title"
      ]
     },
     "metadata": {
      "image/png": {
       "height": 360,
       "width": 900
      }
     },
     "output_type": "display_data"
    }
   ],
   "source": [
    "# Plot the regression tree\n",
    "options(repr.plot.width=15, repr.plot.height=6)\n",
    "plot(md_regtree, type='uniform')\n",
    "text(md_regtree, pretty=0)"
   ]
  },
  {
   "cell_type": "code",
   "execution_count": 33,
   "id": "8d4938b7-88af-4b5a-b8a4-870a604bf5fe",
   "metadata": {},
   "outputs": [
    {
     "data": {
      "text/plain": [
       "node), split, n, deviance, yval\n",
       "      * denotes terminal node\n",
       "\n",
       "1) root 14000 2412.0 0.2213  \n",
       "  2) PAY_0 < 1.5 12556 1751.0 0.1675  \n",
       "    4) PAY_2 < 1.5 11486 1432.0 0.1460  \n",
       "      8) PAY_AMT3 < 889.5 3430  582.6 0.2169 *\n",
       "      9) PAY_AMT3 > 889.5 8056  824.9 0.1158 *\n",
       "    5) PAY_2 > 1.5 1070  256.4 0.3981 *\n",
       "  3) PAY_0 > 1.5 1444  309.4 0.6891 *"
      ]
     },
     "metadata": {},
     "output_type": "display_data"
    }
   ],
   "source": [
    "md_regtree"
   ]
  },
  {
   "cell_type": "code",
   "execution_count": 34,
   "id": "db0855df-4273-4038-8086-89811393b8b5",
   "metadata": {},
   "outputs": [
    {
     "name": "stdout",
     "output_type": "stream",
     "text": [
      "[1] \"Root: 2412.4569\"\n",
      "[1] \"1st left branch: 1750.7693\"\n",
      "[1] \"1st right branch: 309.3871\"\n"
     ]
    }
   ],
   "source": [
    "# RSS at the root (or 1st node)\n",
    "node_1 <- train\n",
    "rss_node_1 <- sum((node_1$default.payment.next.month - mean(node_1$default.payment.next.month)) ^ 2)\n",
    "\n",
    "# RSS at the first left branch (or 2nd node)\n",
    "node_2 <- node_1[node_1$PAY_0 < 1.5, ]\n",
    "rss_node_2 <- sum((node_2$default.payment.next.month - mean(node_2$default.payment.next.month)) ^ 2)\n",
    "\n",
    "# RSS at the first right branch (or 3rd node)\n",
    "node_3 <- node_1[node_1$PAY_0 > 1.5, ]\n",
    "rss_node_3 <- sum((node_3$default.payment.next.month - mean(node_3$default.payment.next.month)) ^ 2)\n",
    "\n",
    "# Compare RSS\n",
    "print(paste(\"Root:\", round(rss_node_1, 4)))  # Max RSS, root (no split)\n",
    "print(paste(\"1st left branch:\", round(rss_node_2, 4)))  # First split, left branch\n",
    "print(paste(\"1st right branch:\", round(rss_node_3, 4)))  # Second split, right branch"
   ]
  },
  {
   "cell_type": "code",
   "execution_count": 35,
   "id": "59a49876-62bb-4a83-94ce-1fe9970726a5",
   "metadata": {},
   "outputs": [
    {
     "data": {
      "text/plain": [
       "$size\n",
       "[1] 4 3 2 1\n",
       "\n",
       "$dev\n",
       "[1] 1986.953 1999.424 2060.665 2412.504\n",
       "\n",
       "$k\n",
       "[1]      -Inf  24.58708  62.22144 352.30046\n",
       "\n",
       "$method\n",
       "[1] \"deviance\"\n",
       "\n",
       "attr(,\"class\")\n",
       "[1] \"prune\"         \"tree.sequence\""
      ]
     },
     "metadata": {},
     "output_type": "display_data"
    }
   ],
   "source": [
    "# Prune the Regression Tree #Cross Validation (delete one by one) -->\n",
    "set.seed(1)\n",
    "cv_regtree <- cv.tree(md_regtree)\n",
    "cv_regtree"
   ]
  },
  {
   "cell_type": "code",
   "execution_count": 36,
   "id": "d50e9263-83e8-4190-a90f-d55bccc77c96",
   "metadata": {},
   "outputs": [
    {
     "name": "stdout",
     "output_type": "stream",
     "text": [
      "[1] \"Best tree size = 4\"\n",
      "[1] \"Best RSS = 1986.95258977564\"\n",
      "[1] \"Best alpha = -Inf\"\n"
     ]
    }
   ],
   "source": [
    "# Best tree size\n",
    "min_idx <- which.min(cv_regtree$dev)\n",
    "tree_size <- cv_regtree$size[min_idx]\n",
    "tree_dev <- cv_regtree$dev[min_idx]\n",
    "tree_k <- cv_regtree$k[min_idx]\n",
    "\n",
    "print(paste0('Best tree size = ', tree_size))\n",
    "print(paste0('Best RSS = ', tree_dev))\n",
    "print(paste0('Best alpha = ', tree_k))"
   ]
  },
  {
   "cell_type": "code",
   "execution_count": 37,
   "id": "f48f8ab4-c13a-4e88-acd7-7bc0bea45888",
   "metadata": {},
   "outputs": [
    {
     "data": {
      "image/png": "[encoded data removed]",
      "text/plain": [
       "Plot with title \"Best alpha = -Inf\""
      ]
     },
     "metadata": {
      "image/png": {
       "height": 600,
       "width": 480
      }
     },
     "output_type": "display_data"
    }
   ],
   "source": [
    "# Show the Decision Tree\n",
    "options(repr.plot.width=8, repr.plot.height=10)\n",
    "par(mfrow=c(2, 1))\n",
    "\n",
    "# Tree size, number of nodes\n",
    "plot(cv_regtree$size, cv_regtree$dev, type='b', cex=0.7,\n",
    "     xlab='Tree size', ylab='RSS', main=paste0('Best tree size = ', tree_size)\n",
    "    )\n",
    "abline(v=tree_size, col='red')  # Best tree size\n",
    "\n",
    "# Cost-complexity param, alpha\n",
    "plot(cv_regtree$k, cv_regtree$dev, type='b', cex=0.7,\n",
    "     xlab='Cost-complexity parameter', ylab='RSS',\n",
    "     main=paste0('Best alpha = ', round(tree_k, 3))\n",
    "    )\n",
    "abline(v=tree_k, col='red')  # Best tree size"
   ]
  },
  {
   "cell_type": "code",
   "execution_count": 38,
   "id": "4c34d2a7-9394-413f-bd7e-bbb4232df24e",
   "metadata": {},
   "outputs": [
    {
     "data": {
      "image/png": "[encoded data removed]",
      "text/plain": [
       "plot without title"
      ]
     },
     "metadata": {
      "image/png": {
       "height": 360,
       "width": 900
      }
     },
     "output_type": "display_data"
    }
   ],
   "source": [
    "# Prune the tree\n",
    "prune_regtree <- prune.tree(md_regtree, best=4)\n",
    "\n",
    "# Show the tree\n",
    "options(repr.plot.width=15, repr.plot.height=6)\n",
    "plot(prune_regtree, type='uniform')\n",
    "text(prune_regtree, pretty=0)"
   ]
  },
  {
   "cell_type": "code",
   "execution_count": 39,
   "id": "a13cc74e-affd-4467-9e1a-2a03312bff65",
   "metadata": {},
   "outputs": [
    {
     "data": {
      "text/html": [
       "0.0305930427839427"
      ],
      "text/latex": [
       "0.0305930427839427"
      ],
      "text/markdown": [
       "0.0305930427839427"
      ],
      "text/plain": [
       "[1] 0.03059304"
      ]
     },
     "metadata": {},
     "output_type": "display_data"
    },
    {
     "data": {
      "text/html": [
       "0.0305930427839427"
      ],
      "text/latex": [
       "0.0305930427839427"
      ],
      "text/markdown": [
       "0.0305930427839427"
      ],
      "text/plain": [
       "[1] 0.03059304"
      ]
     },
     "metadata": {},
     "output_type": "display_data"
    }
   ],
   "source": [
    "# RSS full Regression Tree\n",
    "pred_full_regtree <- predict(md_regtree, newdata=test)\n",
    "pred_full_regtree_f <- ifelse(pred_full_regtree > 0.5,1,0)\n",
    "    \n",
    "mse_full_regtree <- mean((pred_full_regtree - mean(test$default.payment.next.month)) ^ 2)\n",
    "mse_full_regtree\n",
    "\n",
    "# RSS pruned Regression Tree\n",
    "pred_pruned_regtree <- predict(prune_regtree, newdata=test)\n",
    "pred_pruned_regtree_f <- ifelse(pred_pruned_regtree > 0.5,1,0)\n",
    "\n",
    "mse_pruned_regtree <- mean((pred_pruned_regtree - mean(test$default.payment.next.month)) ^ 2)\n",
    "mse_pruned_regtree"
   ]
  },
  {
   "cell_type": "code",
   "execution_count": 40,
   "id": "d9334548-5964-4694-8682-73549a5fce92",
   "metadata": {},
   "outputs": [
    {
     "data": {
      "image/png": "[encoded data removed]",
      "text/plain": [
       "Plot with title \"Tree size = 4, alpha = -Inf\""
      ]
     },
     "metadata": {
      "image/png": {
       "height": 360,
       "width": 900
      }
     },
     "output_type": "display_data"
    },
    {
     "data": {
      "image/png": "[encoded data removed]",
      "text/plain": [
       "Plot with title \"Tree size = 3, alpha = 24.587\""
      ]
     },
     "metadata": {
      "image/png": {
       "height": 360,
       "width": 900
      }
     },
     "output_type": "display_data"
    },
    {
     "data": {
      "image/png": "[encoded data removed]",
      "text/plain": [
       "Plot with title \"Tree size = 2, alpha = 62.221\""
      ]
     },
     "metadata": {
      "image/png": {
       "height": 360,
       "width": 900
      }
     },
     "output_type": "display_data"
    }
   ],
   "source": [
    "for (i in 1:(length(cv_regtree$size)-1)) {\n",
    "    \n",
    "    # Prune the tree\n",
    "    tree_size = cv_regtree$size[i]\n",
    "    alpha = cv_regtree$k[i]\n",
    "    prune_regtree_temp <- prune.tree(md_regtree, best=tree_size)\n",
    "\n",
    "    # Show the tree\n",
    "    plot(prune_regtree_temp, type='uniform')\n",
    "    text(prune_regtree_temp, pretty=0)\n",
    "    title(main=paste0('Tree size = ', tree_size, ', alpha = ', round(alpha, 3)))\n",
    "    }"
   ]
  },
  {
   "cell_type": "code",
   "execution_count": 41,
   "id": "9e4df61d-0a66-4332-a2f8-625783b84dab",
   "metadata": {},
   "outputs": [
    {
     "data": {
      "text/plain": [
       "                      \n",
       "pred_tr_full_regtree_f     0     1\n",
       "                     0 10453  2103\n",
       "                     1   449   995"
      ]
     },
     "metadata": {},
     "output_type": "display_data"
    },
    {
     "name": "stdout",
     "output_type": "stream",
     "text": [
      "[1] \"Accuracy = 0.817714285714286\"\n"
     ]
    },
    {
     "name": "stderr",
     "output_type": "stream",
     "text": [
      "Setting levels: control = 0, case = 1\n",
      "\n",
      "Setting direction: controls < cases\n",
      "\n"
     ]
    },
    {
     "name": "stdout",
     "output_type": "stream",
     "text": [
      "[1] \"AUC = 0.63999492396548\"\n"
     ]
    },
    {
     "data": {
      "text/plain": [
       "                        \n",
       "pred_tr_pruned_regtree_f     0     1\n",
       "                       0 10453  2103\n",
       "                       1   449   995"
      ]
     },
     "metadata": {},
     "output_type": "display_data"
    },
    {
     "name": "stdout",
     "output_type": "stream",
     "text": [
      "[1] \"Accuracy = 0.817714285714286\"\n"
     ]
    },
    {
     "name": "stderr",
     "output_type": "stream",
     "text": [
      "Setting levels: control = 0, case = 1\n",
      "\n",
      "Setting direction: controls < cases\n",
      "\n"
     ]
    },
    {
     "name": "stdout",
     "output_type": "stream",
     "text": [
      "[1] \"AUC = 0.63999492396548\"\n"
     ]
    }
   ],
   "source": [
    "# RSS full Regression Tree\n",
    "pred_tr_full_regtree <- predict(md_regtree, newdata=train)\n",
    "pred_tr_full_regtree_f <- ifelse(pred_tr_full_regtree > 0.5,1,0)\n",
    "\n",
    "# RSS pruned Regression Tree\n",
    "pred_tr_pruned_regtree <- predict(prune_regtree, newdata=train)\n",
    "pred_tr_pruned_regtree_f <- ifelse(pred_tr_pruned_regtree > 0.5,1,0)\n",
    "\n",
    "# RSS full Regression Tree\n",
    "# Evaluation: confusion matrix\n",
    "table(pred_tr_full_regtree_f, train$default.payment.next.month)\n",
    "\n",
    "# Accuracy\n",
    "print(paste0('Accuracy = ', Accuracy(pred_tr_full_regtree_f, train$default.payment.next.month)))\n",
    "\n",
    "# AUC\n",
    "print(paste0('AUC = ', pROC::auc(pROC::roc(train$default.payment.next.month, pred_tr_full_regtree_f))))\n",
    "\n",
    "# RSS pruned Regression Tree\n",
    "# Evaluation: confusion matrix\n",
    "table(pred_tr_pruned_regtree_f, train$default.payment.next.month)\n",
    "\n",
    "# Accuracy\n",
    "print(paste0('Accuracy = ', Accuracy(pred_tr_pruned_regtree_f, train$default.payment.next.month)))\n",
    "\n",
    "# AUC\n",
    "print(paste0('AUC = ', pROC::auc(pROC::roc(train$default.payment.next.month, pred_tr_pruned_regtree_f))))"
   ]
  },
  {
   "cell_type": "code",
   "execution_count": 42,
   "id": "b5f5dc49-000d-46ae-aed8-cdb3cb0edc51",
   "metadata": {},
   "outputs": [
    {
     "data": {
      "text/plain": [
       "                   \n",
       "pred_full_regtree_f    0    1\n",
       "                  0 4489  911\n",
       "                  1  195  405"
      ]
     },
     "metadata": {},
     "output_type": "display_data"
    },
    {
     "name": "stdout",
     "output_type": "stream",
     "text": [
      "[1] \"Accuracy = 0.815666666666667\"\n"
     ]
    },
    {
     "name": "stderr",
     "output_type": "stream",
     "text": [
      "Setting levels: control = 0, case = 1\n",
      "\n",
      "Setting direction: controls < cases\n",
      "\n"
     ]
    },
    {
     "name": "stdout",
     "output_type": "stream",
     "text": [
      "[1] \"AUC = 0.633059837667647\"\n"
     ]
    }
   ],
   "source": [
    "# Evaluation: confusion matrix\n",
    "table(pred_full_regtree_f, test$default.payment.next.month)\n",
    "\n",
    "# Accuracy\n",
    "print(paste0('Accuracy = ', Accuracy(pred_full_regtree_f, test$default.payment.next.month)))\n",
    "\n",
    "# AUC\n",
    "print(paste0('AUC = ', pROC::auc(pROC::roc(test$default.payment.next.month, pred_full_regtree_f))))"
   ]
  },
  {
   "cell_type": "code",
   "execution_count": 43,
   "id": "c5c69deb-ba73-4ba2-b1f1-23afffe575c5",
   "metadata": {},
   "outputs": [
    {
     "data": {
      "text/plain": [
       "                     \n",
       "pred_pruned_regtree_f    0    1\n",
       "                    0 4489  911\n",
       "                    1  195  405"
      ]
     },
     "metadata": {},
     "output_type": "display_data"
    },
    {
     "name": "stdout",
     "output_type": "stream",
     "text": [
      "[1] \"Accuracy = 0.815666666666667\"\n"
     ]
    },
    {
     "name": "stderr",
     "output_type": "stream",
     "text": [
      "Setting levels: control = 0, case = 1\n",
      "\n",
      "Setting direction: controls < cases\n",
      "\n"
     ]
    },
    {
     "name": "stdout",
     "output_type": "stream",
     "text": [
      "[1] \"AUC = 0.633059837667647\"\n"
     ]
    }
   ],
   "source": [
    "# Evaluation: confusion matrix\n",
    "table(pred_pruned_regtree_f, test$default.payment.next.month)\n",
    "\n",
    "# Accuracy\n",
    "print(paste0('Accuracy = ', Accuracy(pred_pruned_regtree_f, test$default.payment.next.month)))\n",
    "\n",
    "# AUC\n",
    "print(paste0('AUC = ', pROC::auc(pROC::roc(test$default.payment.next.month, pred_pruned_regtree_f))))"
   ]
  },
  {
   "cell_type": "markdown",
   "id": "3d8ce058-1879-4c16-bdda-3224bdd1f38d",
   "metadata": {},
   "source": [
    "#### 1.3c Boosting Tree"
   ]
  },
  {
   "cell_type": "code",
   "execution_count": 44,
   "id": "8f66b3c2-f528-4fc7-8a9d-8d6130369de2",
   "metadata": {},
   "outputs": [],
   "source": [
    "# Fit boosting tree\n",
    "set.seed(1)\n",
    "md_boosttree <- gbm(default.payment.next.month ~ ., data=train,\n",
    "                    distribution='gaussian',\n",
    "                    n.trees=5000,  # Number of boosting iteration #stable\n",
    "                    interaction.depth=4)  # Maximum nodes per tree #flexibility"
   ]
  },
  {
   "cell_type": "code",
   "execution_count": 45,
   "id": "7d1f007d-bdbe-4f94-bb34-9f0f90a9938d",
   "metadata": {},
   "outputs": [
    {
     "data": {
      "text/html": [
       "0.157375958125511"
      ],
      "text/latex": [
       "0.157375958125511"
      ],
      "text/markdown": [
       "0.157375958125511"
      ],
      "text/plain": [
       "[1] 0.157376"
      ]
     },
     "metadata": {},
     "output_type": "display_data"
    }
   ],
   "source": [
    "# Make prediction\n",
    "pred <- predict(md_boosttree, newdata=test, n.trees=5000)\n",
    "\n",
    "# MSE\n",
    "mean((pred - test$default.payment.next.month) ^ 2)"
   ]
  },
  {
   "cell_type": "code",
   "execution_count": 46,
   "id": "5461e8e1-7044-4e91-9cd0-3734971941cc",
   "metadata": {},
   "outputs": [
    {
     "data": {
      "text/html": [
       "0.137390880309572"
      ],
      "text/latex": [
       "0.137390880309572"
      ],
      "text/markdown": [
       "0.137390880309572"
      ],
      "text/plain": [
       "[1] 0.1373909"
      ]
     },
     "metadata": {},
     "output_type": "display_data"
    }
   ],
   "source": [
    "# Fit boosting model with different shrinkage param, default alpha = 0.001 #shrinkage=lumda\n",
    "set.seed(3)\n",
    "md_boosttree <- gbm(default.payment.next.month ~ ., data=train, distribution='gaussian',\n",
    "                    n.trees=5000, interaction.depth=4, shrinkage=0.01,\n",
    "                    verbose=F)\n",
    "\n",
    "# Make prediction\n",
    "pred_boost <- predict(md_boosttree, newdata=test, n.trees=5000)\n",
    "\n",
    "# Evaluation: MSE\n",
    "mean((pred_boost - test$default.payment.next.month) ^ 2)"
   ]
  },
  {
   "cell_type": "code",
   "execution_count": 47,
   "id": "a5137d02-b300-461e-b78f-eb9a552ea98f",
   "metadata": {},
   "outputs": [
    {
     "data": {
      "text/html": [
       "<table class=\"dataframe\">\n",
       "<caption>A data.frame: 24 × 2</caption>\n",
       "<thead>\n",
       "\t<tr><th></th><th scope=col>var</th><th scope=col>rel.inf</th></tr>\n",
       "\t<tr><th></th><th scope=col>&lt;chr&gt;</th><th scope=col>&lt;dbl&gt;</th></tr>\n",
       "</thead>\n",
       "<tbody>\n",
       "\t<tr><th scope=row>PAY_0</th><td>PAY_0    </td><td>28.4645583</td></tr>\n",
       "\t<tr><th scope=row>cust_id</th><td>cust_id  </td><td> 6.5455623</td></tr>\n",
       "\t<tr><th scope=row>BILL_AMT1</th><td>BILL_AMT1</td><td> 5.5127818</td></tr>\n",
       "\t<tr><th scope=row>LIMIT_BAL</th><td>LIMIT_BAL</td><td> 4.6869408</td></tr>\n",
       "\t<tr><th scope=row>PAY_AMT1</th><td>PAY_AMT1 </td><td> 4.3115046</td></tr>\n",
       "\t<tr><th scope=row>PAY_2</th><td>PAY_2    </td><td> 4.2376750</td></tr>\n",
       "\t<tr><th scope=row>BILL_AMT2</th><td>BILL_AMT2</td><td> 3.6661558</td></tr>\n",
       "\t<tr><th scope=row>PAY_AMT2</th><td>PAY_AMT2 </td><td> 3.6305612</td></tr>\n",
       "\t<tr><th scope=row>AGE</th><td>AGE      </td><td> 3.4800706</td></tr>\n",
       "\t<tr><th scope=row>BILL_AMT3</th><td>BILL_AMT3</td><td> 3.3924674</td></tr>\n",
       "\t<tr><th scope=row>BILL_AMT5</th><td>BILL_AMT5</td><td> 3.3783883</td></tr>\n",
       "\t<tr><th scope=row>PAY_AMT3</th><td>PAY_AMT3 </td><td> 3.1384548</td></tr>\n",
       "\t<tr><th scope=row>PAY_AMT5</th><td>PAY_AMT5 </td><td> 3.1150494</td></tr>\n",
       "\t<tr><th scope=row>BILL_AMT6</th><td>BILL_AMT6</td><td> 3.0663602</td></tr>\n",
       "\t<tr><th scope=row>BILL_AMT4</th><td>BILL_AMT4</td><td> 2.9840684</td></tr>\n",
       "\t<tr><th scope=row>PAY_AMT6</th><td>PAY_AMT6 </td><td> 2.9489163</td></tr>\n",
       "\t<tr><th scope=row>PAY_AMT4</th><td>PAY_AMT4 </td><td> 2.9057758</td></tr>\n",
       "\t<tr><th scope=row>PAY_3</th><td>PAY_3    </td><td> 2.5222431</td></tr>\n",
       "\t<tr><th scope=row>PAY_4</th><td>PAY_4    </td><td> 2.2320062</td></tr>\n",
       "\t<tr><th scope=row>PAY_6</th><td>PAY_6    </td><td> 2.0558707</td></tr>\n",
       "\t<tr><th scope=row>PAY_5</th><td>PAY_5    </td><td> 1.7634966</td></tr>\n",
       "\t<tr><th scope=row>EDUCATION</th><td>EDUCATION</td><td> 0.8520761</td></tr>\n",
       "\t<tr><th scope=row>MARRIAGE</th><td>MARRIAGE </td><td> 0.7812927</td></tr>\n",
       "\t<tr><th scope=row>SEX</th><td>SEX      </td><td> 0.3277235</td></tr>\n",
       "</tbody>\n",
       "</table>\n"
      ],
      "text/latex": [
       "A data.frame: 24 × 2\n",
       "\\begin{tabular}{r|ll}\n",
       "  & var & rel.inf\\\\\n",
       "  & <chr> & <dbl>\\\\\n",
       "\\hline\n",
       "\tPAY\\_0 & PAY\\_0     & 28.4645583\\\\\n",
       "\tcust\\_id & cust\\_id   &  6.5455623\\\\\n",
       "\tBILL\\_AMT1 & BILL\\_AMT1 &  5.5127818\\\\\n",
       "\tLIMIT\\_BAL & LIMIT\\_BAL &  4.6869408\\\\\n",
       "\tPAY\\_AMT1 & PAY\\_AMT1  &  4.3115046\\\\\n",
       "\tPAY\\_2 & PAY\\_2     &  4.2376750\\\\\n",
       "\tBILL\\_AMT2 & BILL\\_AMT2 &  3.6661558\\\\\n",
       "\tPAY\\_AMT2 & PAY\\_AMT2  &  3.6305612\\\\\n",
       "\tAGE & AGE       &  3.4800706\\\\\n",
       "\tBILL\\_AMT3 & BILL\\_AMT3 &  3.3924674\\\\\n",
       "\tBILL\\_AMT5 & BILL\\_AMT5 &  3.3783883\\\\\n",
       "\tPAY\\_AMT3 & PAY\\_AMT3  &  3.1384548\\\\\n",
       "\tPAY\\_AMT5 & PAY\\_AMT5  &  3.1150494\\\\\n",
       "\tBILL\\_AMT6 & BILL\\_AMT6 &  3.0663602\\\\\n",
       "\tBILL\\_AMT4 & BILL\\_AMT4 &  2.9840684\\\\\n",
       "\tPAY\\_AMT6 & PAY\\_AMT6  &  2.9489163\\\\\n",
       "\tPAY\\_AMT4 & PAY\\_AMT4  &  2.9057758\\\\\n",
       "\tPAY\\_3 & PAY\\_3     &  2.5222431\\\\\n",
       "\tPAY\\_4 & PAY\\_4     &  2.2320062\\\\\n",
       "\tPAY\\_6 & PAY\\_6     &  2.0558707\\\\\n",
       "\tPAY\\_5 & PAY\\_5     &  1.7634966\\\\\n",
       "\tEDUCATION & EDUCATION &  0.8520761\\\\\n",
       "\tMARRIAGE & MARRIAGE  &  0.7812927\\\\\n",
       "\tSEX & SEX       &  0.3277235\\\\\n",
       "\\end{tabular}\n"
      ],
      "text/markdown": [
       "\n",
       "A data.frame: 24 × 2\n",
       "\n",
       "| <!--/--> | var &lt;chr&gt; | rel.inf &lt;dbl&gt; |\n",
       "|---|---|---|\n",
       "| PAY_0 | PAY_0     | 28.4645583 |\n",
       "| cust_id | cust_id   |  6.5455623 |\n",
       "| BILL_AMT1 | BILL_AMT1 |  5.5127818 |\n",
       "| LIMIT_BAL | LIMIT_BAL |  4.6869408 |\n",
       "| PAY_AMT1 | PAY_AMT1  |  4.3115046 |\n",
       "| PAY_2 | PAY_2     |  4.2376750 |\n",
       "| BILL_AMT2 | BILL_AMT2 |  3.6661558 |\n",
       "| PAY_AMT2 | PAY_AMT2  |  3.6305612 |\n",
       "| AGE | AGE       |  3.4800706 |\n",
       "| BILL_AMT3 | BILL_AMT3 |  3.3924674 |\n",
       "| BILL_AMT5 | BILL_AMT5 |  3.3783883 |\n",
       "| PAY_AMT3 | PAY_AMT3  |  3.1384548 |\n",
       "| PAY_AMT5 | PAY_AMT5  |  3.1150494 |\n",
       "| BILL_AMT6 | BILL_AMT6 |  3.0663602 |\n",
       "| BILL_AMT4 | BILL_AMT4 |  2.9840684 |\n",
       "| PAY_AMT6 | PAY_AMT6  |  2.9489163 |\n",
       "| PAY_AMT4 | PAY_AMT4  |  2.9057758 |\n",
       "| PAY_3 | PAY_3     |  2.5222431 |\n",
       "| PAY_4 | PAY_4     |  2.2320062 |\n",
       "| PAY_6 | PAY_6     |  2.0558707 |\n",
       "| PAY_5 | PAY_5     |  1.7634966 |\n",
       "| EDUCATION | EDUCATION |  0.8520761 |\n",
       "| MARRIAGE | MARRIAGE  |  0.7812927 |\n",
       "| SEX | SEX       |  0.3277235 |\n",
       "\n"
      ],
      "text/plain": [
       "          var       rel.inf   \n",
       "PAY_0     PAY_0     28.4645583\n",
       "cust_id   cust_id    6.5455623\n",
       "BILL_AMT1 BILL_AMT1  5.5127818\n",
       "LIMIT_BAL LIMIT_BAL  4.6869408\n",
       "PAY_AMT1  PAY_AMT1   4.3115046\n",
       "PAY_2     PAY_2      4.2376750\n",
       "BILL_AMT2 BILL_AMT2  3.6661558\n",
       "PAY_AMT2  PAY_AMT2   3.6305612\n",
       "AGE       AGE        3.4800706\n",
       "BILL_AMT3 BILL_AMT3  3.3924674\n",
       "BILL_AMT5 BILL_AMT5  3.3783883\n",
       "PAY_AMT3  PAY_AMT3   3.1384548\n",
       "PAY_AMT5  PAY_AMT5   3.1150494\n",
       "BILL_AMT6 BILL_AMT6  3.0663602\n",
       "BILL_AMT4 BILL_AMT4  2.9840684\n",
       "PAY_AMT6  PAY_AMT6   2.9489163\n",
       "PAY_AMT4  PAY_AMT4   2.9057758\n",
       "PAY_3     PAY_3      2.5222431\n",
       "PAY_4     PAY_4      2.2320062\n",
       "PAY_6     PAY_6      2.0558707\n",
       "PAY_5     PAY_5      1.7634966\n",
       "EDUCATION EDUCATION  0.8520761\n",
       "MARRIAGE  MARRIAGE   0.7812927\n",
       "SEX       SEX        0.3277235"
      ]
     },
     "metadata": {},
     "output_type": "display_data"
    },
    {
     "data": {
      "image/png": "[encoded data removed]",
      "text/plain": [
       "plot without title"
      ]
     },
     "metadata": {
      "image/png": {
       "height": 390,
       "width": 360
      }
     },
     "output_type": "display_data"
    }
   ],
   "source": [
    "options(repr.plot.width=6, repr.plot.height=6.5)\n",
    "summary(md_boosttree)"
   ]
  },
  {
   "cell_type": "code",
   "execution_count": 48,
   "id": "01242280-5fc1-482f-8032-5c5b4e4e2f4e",
   "metadata": {},
   "outputs": [
    {
     "data": {
      "image/png": "[encoded data removed]",
      "text/plain": [
       "plot without title"
      ]
     },
     "metadata": {
      "image/png": {
       "height": 240,
       "width": 480
      }
     },
     "output_type": "display_data"
    },
    {
     "data": {
      "image/png": "[encoded data removed]",
      "text/plain": [
       "plot without title"
      ]
     },
     "metadata": {
      "image/png": {
       "height": 240,
       "width": 480
      }
     },
     "output_type": "display_data"
    }
   ],
   "source": [
    "# Partial dependence plots\n",
    "options(repr.plot.width=8, repr.plot.height=4)\n",
    "par(mfrow=c(2, 1))\n",
    "plot(md_boosttree, i='PAY_0')\n",
    "plot(md_boosttree, i='BILL_AMT1')"
   ]
  },
  {
   "cell_type": "code",
   "execution_count": 49,
   "id": "5fc4789d-082c-4a01-8ad8-46fc2bbf3d09",
   "metadata": {},
   "outputs": [
    {
     "data": {
      "text/plain": [
       "               \n",
       "pred_tr_boost_1     0     1\n",
       "              0 10484  1834\n",
       "              1   418  1264"
      ]
     },
     "metadata": {},
     "output_type": "display_data"
    },
    {
     "name": "stdout",
     "output_type": "stream",
     "text": [
      "[1] \"Accuracy = 0.839142857142857\"\n"
     ]
    },
    {
     "name": "stderr",
     "output_type": "stream",
     "text": [
      "Setting levels: control = 0, case = 1\n",
      "\n",
      "Setting direction: controls < cases\n",
      "\n"
     ]
    },
    {
     "name": "stdout",
     "output_type": "stream",
     "text": [
      "[1] \"AUC = 0.684831787961508\"\n"
     ]
    }
   ],
   "source": [
    "# Make prediction\n",
    "pred_tr_boost <- predict(md_boosttree, newdata=train, n.trees=5000)\n",
    "pred_tr_boost_1 <- ifelse(pred_tr_boost > 0.5,1,0)\n",
    "\n",
    "# Evaluation: confusion matrix\n",
    "table(pred_tr_boost_1, train$default.payment.next.month)\n",
    "\n",
    "# Accuracy\n",
    "print(paste0('Accuracy = ', Accuracy(pred_tr_boost_1, train$default.payment.next.month)))\n",
    "\n",
    "# AUC\n",
    "print(paste0('AUC = ', pROC::auc(pROC::roc(train$default.payment.next.month, pred_tr_boost_1))))"
   ]
  },
  {
   "cell_type": "code",
   "execution_count": 50,
   "id": "75addbb8-f0fd-4e98-a4c6-bc7771ac8564",
   "metadata": {},
   "outputs": [
    {
     "data": {
      "text/plain": [
       "            \n",
       "pred_boost_1    0    1\n",
       "           0 4451  855\n",
       "           1  233  461"
      ]
     },
     "metadata": {},
     "output_type": "display_data"
    },
    {
     "name": "stdout",
     "output_type": "stream",
     "text": [
      "[1] \"Accuracy = 0.818666666666667\"\n"
     ]
    },
    {
     "name": "stderr",
     "output_type": "stream",
     "text": [
      "Setting levels: control = 0, case = 1\n",
      "\n",
      "Setting direction: controls < cases\n",
      "\n"
     ]
    },
    {
     "name": "stdout",
     "output_type": "stream",
     "text": [
      "[1] \"AUC = 0.650280071328639\"\n"
     ]
    }
   ],
   "source": [
    "pred_boost_1 <- ifelse(pred_boost > 0.5,1,0)\n",
    "\n",
    "# Evaluation: confusion matrix\n",
    "table(pred_boost_1, test$default.payment.next.month)\n",
    "\n",
    "# Accuracy\n",
    "print(paste0('Accuracy = ', Accuracy(pred_boost_1, test$default.payment.next.month)))\n",
    "\n",
    "# AUC\n",
    "print(paste0('AUC = ', pROC::auc(pROC::roc(test$default.payment.next.month, pred_boost_1))))"
   ]
  },
  {
   "cell_type": "markdown",
   "id": "d63fe7e7-d1e8-436f-958f-9e717f306fdf",
   "metadata": {},
   "source": [
    "#### 1.4c Boosting Tree - Feature Selection"
   ]
  },
  {
   "cell_type": "code",
   "execution_count": 51,
   "id": "b08f130d-ad56-4001-bce1-9e7fa2cd5d57",
   "metadata": {},
   "outputs": [
    {
     "data": {
      "text/html": [
       "0.140477799182644"
      ],
      "text/latex": [
       "0.140477799182644"
      ],
      "text/markdown": [
       "0.140477799182644"
      ],
      "text/plain": [
       "[1] 0.1404778"
      ]
     },
     "metadata": {},
     "output_type": "display_data"
    }
   ],
   "source": [
    "# Feature Selection - Top 5 Highest Relative Influence\n",
    "set.seed(3)\n",
    "md_boosttree_1 <- gbm(default.payment.next.month ~ PAY_0 + BILL_AMT1 + LIMIT_BAL + PAY_AMT1 + PAY_2, data=train, distribution='gaussian',\n",
    "                    n.trees=5000, interaction.depth=4, shrinkage=0.01,\n",
    "                    verbose=F)\n",
    "\n",
    "# Make prediction\n",
    "pred_adj_boost <- predict(md_boosttree_1, newdata=test, n.trees=5000)\n",
    "\n",
    "# Evaluation: MSE\n",
    "mean((pred_adj_boost - test$default.payment.next.month) ^ 2)"
   ]
  },
  {
   "cell_type": "code",
   "execution_count": 52,
   "id": "029a67c9-d6f9-4c76-89c8-cdce5c3cd6d6",
   "metadata": {},
   "outputs": [
    {
     "data": {
      "text/plain": [
       "                   \n",
       "pred_adj_tr_boost_1     0     1\n",
       "                  0 10455  1991\n",
       "                  1   447  1107"
      ]
     },
     "metadata": {},
     "output_type": "display_data"
    },
    {
     "name": "stdout",
     "output_type": "stream",
     "text": [
      "[1] \"Accuracy = 0.825857142857143\"\n"
     ]
    },
    {
     "name": "stderr",
     "output_type": "stream",
     "text": [
      "Setting levels: control = 0, case = 1\n",
      "\n",
      "Setting direction: controls < cases\n",
      "\n"
     ]
    },
    {
     "name": "stdout",
     "output_type": "stream",
     "text": [
      "[1] \"AUC = 0.658162828433705\"\n"
     ]
    }
   ],
   "source": [
    "# Make prediction\n",
    "pred_adj_tr_boost <- predict(md_boosttree_1, newdata=train, n.trees=5000)\n",
    "pred_adj_tr_boost_1 <- ifelse(pred_adj_tr_boost > 0.5,1,0)\n",
    "\n",
    "# Evaluation: confusion matrix\n",
    "table(pred_adj_tr_boost_1, train$default.payment.next.month)\n",
    "\n",
    "# Accuracy\n",
    "print(paste0('Accuracy = ', Accuracy(pred_adj_tr_boost_1, train$default.payment.next.month)))\n",
    "\n",
    "# AUC\n",
    "print(paste0('AUC = ', pROC::auc(pROC::roc(train$default.payment.next.month, pred_adj_tr_boost_1))))"
   ]
  },
  {
   "cell_type": "code",
   "execution_count": 53,
   "id": "d14f6cf8-a560-41b6-a088-fa01a9e58d2e",
   "metadata": {},
   "outputs": [
    {
     "data": {
      "text/plain": [
       "                \n",
       "pred_adj_boost_1    0    1\n",
       "               0 4468  882\n",
       "               1  216  434"
      ]
     },
     "metadata": {},
     "output_type": "display_data"
    },
    {
     "name": "stdout",
     "output_type": "stream",
     "text": [
      "[1] \"Accuracy = 0.817\"\n"
     ]
    },
    {
     "name": "stderr",
     "output_type": "stream",
     "text": [
      "Setting levels: control = 0, case = 1\n",
      "\n",
      "Setting direction: controls < cases\n",
      "\n"
     ]
    },
    {
     "name": "stdout",
     "output_type": "stream",
     "text": [
      "[1] \"AUC = 0.641836400966622\"\n"
     ]
    }
   ],
   "source": [
    "pred_adj_boost_1 <- ifelse(pred_adj_boost > 0.5,1,0)\n",
    "\n",
    "# Evaluation: confusion matrix\n",
    "table(pred_adj_boost_1, test$default.payment.next.month)\n",
    "\n",
    "# Accuracy\n",
    "print(paste0('Accuracy = ', Accuracy(pred_adj_boost_1, test$default.payment.next.month)))\n",
    "\n",
    "# AUC\n",
    "print(paste0('AUC = ', pROC::auc(pROC::roc(test$default.payment.next.month, pred_adj_boost_1))))"
   ]
  },
  {
   "cell_type": "markdown",
   "id": "13a3cb26-24ec-474d-b789-354f2a291d74",
   "metadata": {},
   "source": [
    "#### 1.5c Boosting Tree - Cross Validation"
   ]
  },
  {
   "cell_type": "code",
   "execution_count": 54,
   "id": "61eb6126-ddb5-4930-b237-b14907da2d7e",
   "metadata": {},
   "outputs": [
    {
     "name": "stdout",
     "output_type": "stream",
     "text": [
      "Iter   TrainDeviance   ValidDeviance   StepSize   Improve\n",
      "     1        1.0292             nan     0.1000    0.0138\n",
      "     2        1.0070             nan     0.1000    0.0102\n",
      "     3        0.9913             nan     0.1000    0.0079\n",
      "     4        0.9796             nan     0.1000    0.0059\n",
      "     5        0.9684             nan     0.1000    0.0059\n",
      "     6        0.9591             nan     0.1000    0.0046\n",
      "     7        0.9513             nan     0.1000    0.0039\n",
      "     8        0.9450             nan     0.1000    0.0032\n",
      "     9        0.9392             nan     0.1000    0.0027\n",
      "    10        0.9342             nan     0.1000    0.0024\n",
      "    20        0.9113             nan     0.1000    0.0007\n",
      "    40        0.8965             nan     0.1000    0.0001\n",
      "    60        0.8911             nan     0.1000    0.0000\n",
      "    80        0.8883             nan     0.1000   -0.0000\n",
      "   100        0.8860             nan     0.1000    0.0000\n",
      "   120        0.8846             nan     0.1000   -0.0001\n",
      "   140        0.8833             nan     0.1000   -0.0001\n",
      "   150        0.8829             nan     0.1000   -0.0000\n",
      "\n",
      "Iter   TrainDeviance   ValidDeviance   StepSize   Improve\n",
      "     1        1.0239             nan     0.1000    0.0161\n",
      "     2        1.0004             nan     0.1000    0.0116\n",
      "     3        0.9818             nan     0.1000    0.0092\n",
      "     4        0.9672             nan     0.1000    0.0067\n",
      "     5        0.9556             nan     0.1000    0.0055\n",
      "     6        0.9467             nan     0.1000    0.0042\n",
      "     7        0.9391             nan     0.1000    0.0038\n",
      "     8        0.9333             nan     0.1000    0.0031\n",
      "     9        0.9271             nan     0.1000    0.0028\n",
      "    10        0.9221             nan     0.1000    0.0024\n",
      "    20        0.8982             nan     0.1000    0.0006\n",
      "    40        0.8840             nan     0.1000    0.0000\n",
      "    60        0.8783             nan     0.1000    0.0000\n",
      "    80        0.8743             nan     0.1000   -0.0001\n",
      "   100        0.8714             nan     0.1000   -0.0000\n",
      "   120        0.8690             nan     0.1000   -0.0001\n",
      "   140        0.8673             nan     0.1000   -0.0000\n",
      "   150        0.8660             nan     0.1000   -0.0001\n",
      "\n",
      "Iter   TrainDeviance   ValidDeviance   StepSize   Improve\n",
      "     1        1.0226             nan     0.1000    0.0173\n",
      "     2        0.9978             nan     0.1000    0.0123\n",
      "     3        0.9783             nan     0.1000    0.0100\n",
      "     4        0.9629             nan     0.1000    0.0072\n",
      "     5        0.9504             nan     0.1000    0.0061\n",
      "     6        0.9405             nan     0.1000    0.0049\n",
      "     7        0.9321             nan     0.1000    0.0043\n",
      "     8        0.9248             nan     0.1000    0.0035\n",
      "     9        0.9188             nan     0.1000    0.0028\n",
      "    10        0.9134             nan     0.1000    0.0024\n",
      "    20        0.8897             nan     0.1000    0.0003\n",
      "    40        0.8773             nan     0.1000   -0.0001\n",
      "    60        0.8702             nan     0.1000   -0.0001\n",
      "    80        0.8660             nan     0.1000   -0.0001\n",
      "   100        0.8621             nan     0.1000   -0.0001\n",
      "   120        0.8590             nan     0.1000   -0.0001\n",
      "   140        0.8562             nan     0.1000   -0.0001\n",
      "   150        0.8546             nan     0.1000   -0.0001\n",
      "\n",
      "Iter   TrainDeviance   ValidDeviance   StepSize   Improve\n",
      "     1        1.0294             nan     0.1000    0.0132\n",
      "     2        1.0098             nan     0.1000    0.0095\n",
      "     3        0.9928             nan     0.1000    0.0087\n",
      "     4        0.9792             nan     0.1000    0.0068\n",
      "     5        0.9693             nan     0.1000    0.0050\n",
      "     6        0.9601             nan     0.1000    0.0047\n",
      "     7        0.9531             nan     0.1000    0.0034\n",
      "     8        0.9459             nan     0.1000    0.0032\n",
      "     9        0.9400             nan     0.1000    0.0030\n",
      "    10        0.9358             nan     0.1000    0.0021\n",
      "    20        0.9127             nan     0.1000    0.0006\n",
      "    40        0.8974             nan     0.1000    0.0002\n",
      "    60        0.8919             nan     0.1000    0.0000\n",
      "    80        0.8892             nan     0.1000    0.0000\n",
      "   100        0.8873             nan     0.1000    0.0000\n",
      "   120        0.8858             nan     0.1000   -0.0000\n",
      "   140        0.8848             nan     0.1000    0.0000\n",
      "   150        0.8844             nan     0.1000   -0.0000\n",
      "\n",
      "Iter   TrainDeviance   ValidDeviance   StepSize   Improve\n",
      "     1        1.0250             nan     0.1000    0.0166\n",
      "     2        1.0006             nan     0.1000    0.0115\n",
      "     3        0.9824             nan     0.1000    0.0091\n",
      "     4        0.9681             nan     0.1000    0.0070\n",
      "     5        0.9560             nan     0.1000    0.0055\n",
      "     6        0.9468             nan     0.1000    0.0043\n",
      "     7        0.9391             nan     0.1000    0.0040\n",
      "     8        0.9332             nan     0.1000    0.0030\n",
      "     9        0.9275             nan     0.1000    0.0025\n",
      "    10        0.9227             nan     0.1000    0.0021\n",
      "    20        0.8971             nan     0.1000    0.0006\n",
      "    40        0.8850             nan     0.1000    0.0000\n",
      "    60        0.8794             nan     0.1000   -0.0001\n",
      "    80        0.8760             nan     0.1000   -0.0001\n",
      "   100        0.8730             nan     0.1000   -0.0001\n",
      "   120        0.8709             nan     0.1000   -0.0001\n",
      "   140        0.8686             nan     0.1000   -0.0001\n",
      "   150        0.8675             nan     0.1000   -0.0001\n",
      "\n",
      "Iter   TrainDeviance   ValidDeviance   StepSize   Improve\n",
      "     1        1.0218             nan     0.1000    0.0175\n",
      "     2        0.9961             nan     0.1000    0.0128\n",
      "     3        0.9779             nan     0.1000    0.0097\n",
      "     4        0.9616             nan     0.1000    0.0078\n",
      "     5        0.9502             nan     0.1000    0.0057\n",
      "     6        0.9398             nan     0.1000    0.0051\n",
      "     7        0.9312             nan     0.1000    0.0041\n",
      "     8        0.9246             nan     0.1000    0.0034\n",
      "     9        0.9189             nan     0.1000    0.0025\n",
      "    10        0.9140             nan     0.1000    0.0023\n",
      "    20        0.8893             nan     0.1000    0.0006\n",
      "    40        0.8782             nan     0.1000   -0.0000\n",
      "    60        0.8731             nan     0.1000   -0.0000\n",
      "    80        0.8691             nan     0.1000   -0.0001\n",
      "   100        0.8648             nan     0.1000    0.0000\n",
      "   120        0.8612             nan     0.1000   -0.0002\n",
      "   140        0.8583             nan     0.1000   -0.0002\n",
      "   150        0.8571             nan     0.1000   -0.0002\n",
      "\n",
      "Iter   TrainDeviance   ValidDeviance   StepSize   Improve\n",
      "     1        1.0271             nan     0.1000    0.0149\n",
      "     2        1.0054             nan     0.1000    0.0103\n",
      "     3        0.9894             nan     0.1000    0.0083\n",
      "     4        0.9763             nan     0.1000    0.0063\n",
      "     5        0.9645             nan     0.1000    0.0059\n",
      "     6        0.9558             nan     0.1000    0.0044\n",
      "     7        0.9480             nan     0.1000    0.0041\n",
      "     8        0.9423             nan     0.1000    0.0029\n",
      "     9        0.9358             nan     0.1000    0.0031\n",
      "    10        0.9307             nan     0.1000    0.0025\n",
      "    20        0.9068             nan     0.1000    0.0007\n",
      "    40        0.8914             nan     0.1000    0.0001\n",
      "    60        0.8863             nan     0.1000   -0.0000\n",
      "    80        0.8834             nan     0.1000    0.0000\n",
      "   100        0.8817             nan     0.1000   -0.0000\n",
      "   120        0.8802             nan     0.1000   -0.0001\n",
      "   140        0.8792             nan     0.1000   -0.0000\n",
      "   150        0.8787             nan     0.1000   -0.0000\n",
      "\n",
      "Iter   TrainDeviance   ValidDeviance   StepSize   Improve\n",
      "     1        1.0230             nan     0.1000    0.0168\n",
      "     2        0.9985             nan     0.1000    0.0120\n",
      "     3        0.9803             nan     0.1000    0.0093\n",
      "     4        0.9665             nan     0.1000    0.0072\n",
      "     5        0.9542             nan     0.1000    0.0058\n",
      "     6        0.9444             nan     0.1000    0.0048\n",
      "     7        0.9367             nan     0.1000    0.0040\n",
      "     8        0.9299             nan     0.1000    0.0033\n",
      "     9        0.9238             nan     0.1000    0.0030\n",
      "    10        0.9182             nan     0.1000    0.0024\n",
      "    20        0.8927             nan     0.1000    0.0006\n",
      "    40        0.8794             nan     0.1000    0.0001\n",
      "    60        0.8731             nan     0.1000   -0.0001\n",
      "    80        0.8693             nan     0.1000   -0.0001\n",
      "   100        0.8663             nan     0.1000   -0.0001\n",
      "   120        0.8636             nan     0.1000   -0.0001\n",
      "   140        0.8615             nan     0.1000   -0.0000\n",
      "   150        0.8603             nan     0.1000   -0.0001\n",
      "\n",
      "Iter   TrainDeviance   ValidDeviance   StepSize   Improve\n",
      "     1        1.0209             nan     0.1000    0.0178\n",
      "     2        0.9959             nan     0.1000    0.0127\n",
      "     3        0.9752             nan     0.1000    0.0099\n",
      "     4        0.9585             nan     0.1000    0.0077\n",
      "     5        0.9458             nan     0.1000    0.0059\n",
      "     6        0.9354             nan     0.1000    0.0051\n",
      "     7        0.9275             nan     0.1000    0.0038\n",
      "     8        0.9207             nan     0.1000    0.0031\n",
      "     9        0.9152             nan     0.1000    0.0027\n",
      "    10        0.9099             nan     0.1000    0.0024\n",
      "    20        0.8850             nan     0.1000    0.0005\n",
      "    40        0.8735             nan     0.1000   -0.0001\n",
      "    60        0.8675             nan     0.1000   -0.0001\n",
      "    80        0.8627             nan     0.1000    0.0000\n",
      "   100        0.8588             nan     0.1000   -0.0001\n",
      "   120        0.8561             nan     0.1000   -0.0001\n",
      "   140        0.8532             nan     0.1000   -0.0001\n",
      "   150        0.8515             nan     0.1000   -0.0001\n",
      "\n",
      "Iter   TrainDeviance   ValidDeviance   StepSize   Improve\n",
      "     1        1.0301             nan     0.1000    0.0131\n",
      "     2        1.0102             nan     0.1000    0.0093\n",
      "     3        0.9921             nan     0.1000    0.0087\n",
      "     4        0.9798             nan     0.1000    0.0062\n",
      "     5        0.9708             nan     0.1000    0.0046\n",
      "     6        0.9610             nan     0.1000    0.0047\n",
      "     7        0.9519             nan     0.1000    0.0045\n",
      "     8        0.9453             nan     0.1000    0.0031\n",
      "     9        0.9392             nan     0.1000    0.0030\n",
      "    10        0.9348             nan     0.1000    0.0020\n",
      "    20        0.9122             nan     0.1000    0.0007\n",
      "    40        0.8983             nan     0.1000    0.0001\n",
      "    60        0.8933             nan     0.1000   -0.0000\n",
      "    80        0.8904             nan     0.1000    0.0000\n",
      "   100        0.8884             nan     0.1000    0.0000\n",
      "   120        0.8871             nan     0.1000    0.0000\n",
      "   140        0.8862             nan     0.1000   -0.0000\n",
      "   150        0.8858             nan     0.1000   -0.0001\n",
      "\n",
      "Iter   TrainDeviance   ValidDeviance   StepSize   Improve\n",
      "     1        1.0244             nan     0.1000    0.0163\n",
      "     2        1.0008             nan     0.1000    0.0120\n",
      "     3        0.9829             nan     0.1000    0.0090\n",
      "     4        0.9694             nan     0.1000    0.0070\n",
      "     5        0.9577             nan     0.1000    0.0061\n",
      "     6        0.9489             nan     0.1000    0.0046\n",
      "     7        0.9410             nan     0.1000    0.0037\n",
      "     8        0.9345             nan     0.1000    0.0032\n",
      "     9        0.9286             nan     0.1000    0.0029\n",
      "    10        0.9234             nan     0.1000    0.0025\n",
      "    20        0.8988             nan     0.1000    0.0005\n",
      "    40        0.8857             nan     0.1000    0.0001\n",
      "    60        0.8807             nan     0.1000   -0.0001\n",
      "    80        0.8765             nan     0.1000   -0.0001\n",
      "   100        0.8737             nan     0.1000   -0.0000\n",
      "   120        0.8712             nan     0.1000   -0.0000\n",
      "   140        0.8688             nan     0.1000   -0.0000\n",
      "   150        0.8675             nan     0.1000    0.0000\n",
      "\n",
      "Iter   TrainDeviance   ValidDeviance   StepSize   Improve\n",
      "     1        1.0218             nan     0.1000    0.0176\n",
      "     2        0.9967             nan     0.1000    0.0122\n",
      "     3        0.9777             nan     0.1000    0.0094\n",
      "     4        0.9625             nan     0.1000    0.0077\n",
      "     5        0.9506             nan     0.1000    0.0060\n",
      "     6        0.9410             nan     0.1000    0.0049\n",
      "     7        0.9330             nan     0.1000    0.0040\n",
      "     8        0.9263             nan     0.1000    0.0033\n",
      "     9        0.9200             nan     0.1000    0.0029\n",
      "    10        0.9153             nan     0.1000    0.0024\n",
      "    20        0.8921             nan     0.1000    0.0004\n",
      "    40        0.8786             nan     0.1000    0.0002\n",
      "    60        0.8734             nan     0.1000   -0.0000\n",
      "    80        0.8693             nan     0.1000   -0.0001\n",
      "   100        0.8651             nan     0.1000   -0.0001\n",
      "   120        0.8610             nan     0.1000   -0.0001\n",
      "   140        0.8579             nan     0.1000   -0.0001\n",
      "   150        0.8562             nan     0.1000   -0.0001\n",
      "\n",
      "Iter   TrainDeviance   ValidDeviance   StepSize   Improve\n",
      "     1        1.0290             nan     0.1000    0.0135\n",
      "     2        1.0104             nan     0.1000    0.0097\n",
      "     3        0.9933             nan     0.1000    0.0087\n",
      "     4        0.9805             nan     0.1000    0.0062\n",
      "     5        0.9688             nan     0.1000    0.0058\n",
      "     6        0.9597             nan     0.1000    0.0046\n",
      "     7        0.9514             nan     0.1000    0.0038\n",
      "     8        0.9457             nan     0.1000    0.0030\n",
      "     9        0.9405             nan     0.1000    0.0023\n",
      "    10        0.9356             nan     0.1000    0.0025\n",
      "    20        0.9125             nan     0.1000    0.0005\n",
      "    40        0.8983             nan     0.1000    0.0000\n",
      "    60        0.8929             nan     0.1000    0.0000\n",
      "    80        0.8902             nan     0.1000   -0.0000\n",
      "   100        0.8884             nan     0.1000   -0.0000\n",
      "   120        0.8873             nan     0.1000   -0.0001\n",
      "   140        0.8864             nan     0.1000   -0.0001\n",
      "   150        0.8859             nan     0.1000   -0.0000\n",
      "\n",
      "Iter   TrainDeviance   ValidDeviance   StepSize   Improve\n",
      "     1        1.0248             nan     0.1000    0.0164\n",
      "     2        1.0009             nan     0.1000    0.0116\n",
      "     3        0.9830             nan     0.1000    0.0091\n",
      "     4        0.9692             nan     0.1000    0.0070\n",
      "     5        0.9581             nan     0.1000    0.0056\n",
      "     6        0.9489             nan     0.1000    0.0044\n",
      "     7        0.9412             nan     0.1000    0.0037\n",
      "     8        0.9348             nan     0.1000    0.0031\n",
      "     9        0.9291             nan     0.1000    0.0027\n",
      "    10        0.9240             nan     0.1000    0.0024\n",
      "    20        0.8992             nan     0.1000    0.0005\n",
      "    40        0.8869             nan     0.1000   -0.0000\n",
      "    60        0.8827             nan     0.1000   -0.0001\n",
      "    80        0.8793             nan     0.1000    0.0000\n",
      "   100        0.8765             nan     0.1000   -0.0001\n",
      "   120        0.8737             nan     0.1000   -0.0000\n",
      "   140        0.8715             nan     0.1000   -0.0001\n",
      "   150        0.8706             nan     0.1000   -0.0001\n",
      "\n",
      "Iter   TrainDeviance   ValidDeviance   StepSize   Improve\n",
      "     1        1.0227             nan     0.1000    0.0173\n",
      "     2        0.9987             nan     0.1000    0.0127\n",
      "     3        0.9784             nan     0.1000    0.0094\n",
      "     4        0.9630             nan     0.1000    0.0076\n",
      "     5        0.9508             nan     0.1000    0.0057\n",
      "     6        0.9408             nan     0.1000    0.0047\n",
      "     7        0.9327             nan     0.1000    0.0037\n",
      "     8        0.9260             nan     0.1000    0.0033\n",
      "     9        0.9199             nan     0.1000    0.0028\n",
      "    10        0.9152             nan     0.1000    0.0021\n",
      "    20        0.8921             nan     0.1000    0.0006\n",
      "    40        0.8793             nan     0.1000    0.0000\n",
      "    60        0.8733             nan     0.1000   -0.0001\n",
      "    80        0.8695             nan     0.1000   -0.0000\n",
      "   100        0.8662             nan     0.1000   -0.0001\n",
      "   120        0.8639             nan     0.1000   -0.0001\n",
      "   140        0.8611             nan     0.1000   -0.0001\n",
      "   150        0.8599             nan     0.1000   -0.0001\n",
      "\n",
      "Iter   TrainDeviance   ValidDeviance   StepSize   Improve\n",
      "     1        1.0289             nan     0.1000    0.0140\n",
      "     2        1.0093             nan     0.1000    0.0102\n",
      "     3        0.9916             nan     0.1000    0.0089\n",
      "     4        0.9787             nan     0.1000    0.0061\n",
      "     5        0.9679             nan     0.1000    0.0054\n",
      "     6        0.9577             nan     0.1000    0.0050\n",
      "     7        0.9507             nan     0.1000    0.0035\n",
      "     8        0.9435             nan     0.1000    0.0036\n",
      "     9        0.9381             nan     0.1000    0.0027\n",
      "    10        0.9335             nan     0.1000    0.0020\n",
      "    20        0.9105             nan     0.1000    0.0007\n",
      "    40        0.8952             nan     0.1000    0.0002\n",
      "    60        0.8900             nan     0.1000    0.0000\n",
      "    80        0.8871             nan     0.1000   -0.0000\n",
      "   100        0.8850             nan     0.1000    0.0000\n",
      "   120        0.8838             nan     0.1000   -0.0000\n",
      "   140        0.8825             nan     0.1000   -0.0000\n",
      "   150        0.8821             nan     0.1000   -0.0000\n",
      "\n",
      "Iter   TrainDeviance   ValidDeviance   StepSize   Improve\n",
      "     1        1.0243             nan     0.1000    0.0169\n",
      "     2        0.9994             nan     0.1000    0.0117\n",
      "     3        0.9814             nan     0.1000    0.0092\n",
      "     4        0.9668             nan     0.1000    0.0071\n",
      "     5        0.9544             nan     0.1000    0.0054\n",
      "     6        0.9453             nan     0.1000    0.0046\n",
      "     7        0.9379             nan     0.1000    0.0037\n",
      "     8        0.9313             nan     0.1000    0.0029\n",
      "     9        0.9258             nan     0.1000    0.0027\n",
      "    10        0.9208             nan     0.1000    0.0023\n",
      "    20        0.8953             nan     0.1000    0.0006\n",
      "    40        0.8825             nan     0.1000   -0.0000\n",
      "    60        0.8766             nan     0.1000    0.0000\n",
      "    80        0.8722             nan     0.1000   -0.0000\n",
      "   100        0.8695             nan     0.1000   -0.0001\n",
      "   120        0.8676             nan     0.1000   -0.0002\n",
      "   140        0.8652             nan     0.1000   -0.0001\n",
      "   150        0.8641             nan     0.1000   -0.0000\n",
      "\n",
      "Iter   TrainDeviance   ValidDeviance   StepSize   Improve\n",
      "     1        1.0217             nan     0.1000    0.0176\n",
      "     2        0.9966             nan     0.1000    0.0128\n",
      "     3        0.9765             nan     0.1000    0.0092\n",
      "     4        0.9612             nan     0.1000    0.0073\n",
      "     5        0.9484             nan     0.1000    0.0064\n",
      "     6        0.9382             nan     0.1000    0.0052\n",
      "     7        0.9289             nan     0.1000    0.0041\n",
      "     8        0.9218             nan     0.1000    0.0032\n",
      "     9        0.9154             nan     0.1000    0.0028\n",
      "    10        0.9103             nan     0.1000    0.0023\n",
      "    20        0.8876             nan     0.1000    0.0003\n",
      "    40        0.8750             nan     0.1000    0.0001\n",
      "    60        0.8694             nan     0.1000   -0.0000\n",
      "    80        0.8649             nan     0.1000   -0.0000\n",
      "   100        0.8617             nan     0.1000   -0.0002\n",
      "   120        0.8589             nan     0.1000   -0.0001\n",
      "   140        0.8559             nan     0.1000   -0.0001\n",
      "   150        0.8545             nan     0.1000   -0.0001\n",
      "\n",
      "Iter   TrainDeviance   ValidDeviance   StepSize   Improve\n",
      "     1        1.0295             nan     0.1000    0.0140\n",
      "     2        1.0109             nan     0.1000    0.0094\n",
      "     3        0.9931             nan     0.1000    0.0091\n",
      "     4        0.9792             nan     0.1000    0.0070\n",
      "     5        0.9694             nan     0.1000    0.0047\n",
      "     6        0.9599             nan     0.1000    0.0049\n",
      "     7        0.9520             nan     0.1000    0.0037\n",
      "     8        0.9462             nan     0.1000    0.0029\n",
      "     9        0.9404             nan     0.1000    0.0027\n",
      "    10        0.9350             nan     0.1000    0.0025\n",
      "    20        0.9126             nan     0.1000    0.0006\n",
      "    40        0.8984             nan     0.1000    0.0001\n",
      "    60        0.8928             nan     0.1000    0.0001\n",
      "    80        0.8898             nan     0.1000   -0.0000\n",
      "   100        0.8878             nan     0.1000    0.0000\n",
      "   120        0.8863             nan     0.1000   -0.0000\n",
      "   140        0.8852             nan     0.1000   -0.0001\n",
      "   150        0.8847             nan     0.1000   -0.0000\n",
      "\n",
      "Iter   TrainDeviance   ValidDeviance   StepSize   Improve\n",
      "     1        1.0253             nan     0.1000    0.0162\n",
      "     2        1.0010             nan     0.1000    0.0122\n",
      "     3        0.9832             nan     0.1000    0.0089\n",
      "     4        0.9695             nan     0.1000    0.0069\n",
      "     5        0.9578             nan     0.1000    0.0056\n",
      "     6        0.9486             nan     0.1000    0.0043\n",
      "     7        0.9404             nan     0.1000    0.0036\n",
      "     8        0.9346             nan     0.1000    0.0028\n",
      "     9        0.9285             nan     0.1000    0.0028\n",
      "    10        0.9233             nan     0.1000    0.0024\n",
      "    20        0.8995             nan     0.1000    0.0003\n",
      "    40        0.8863             nan     0.1000   -0.0001\n",
      "    60        0.8802             nan     0.1000    0.0000\n",
      "    80        0.8760             nan     0.1000   -0.0001\n",
      "   100        0.8727             nan     0.1000    0.0001\n",
      "   120        0.8702             nan     0.1000   -0.0000\n",
      "   140        0.8678             nan     0.1000   -0.0000\n",
      "   150        0.8672             nan     0.1000   -0.0001\n",
      "\n",
      "Iter   TrainDeviance   ValidDeviance   StepSize   Improve\n",
      "     1        1.0249             nan     0.1000    0.0164\n",
      "     2        0.9993             nan     0.1000    0.0128\n",
      "     3        0.9801             nan     0.1000    0.0094\n",
      "     4        0.9653             nan     0.1000    0.0075\n",
      "     5        0.9533             nan     0.1000    0.0062\n",
      "     6        0.9431             nan     0.1000    0.0051\n",
      "     7        0.9351             nan     0.1000    0.0040\n",
      "     8        0.9286             nan     0.1000    0.0032\n",
      "     9        0.9225             nan     0.1000    0.0029\n",
      "    10        0.9169             nan     0.1000    0.0028\n",
      "    20        0.8922             nan     0.1000    0.0006\n",
      "    40        0.8793             nan     0.1000   -0.0000\n",
      "    60        0.8725             nan     0.1000   -0.0001\n",
      "    80        0.8683             nan     0.1000   -0.0001\n",
      "   100        0.8646             nan     0.1000   -0.0001\n",
      "   120        0.8618             nan     0.1000   -0.0001\n",
      "   140        0.8592             nan     0.1000   -0.0002\n",
      "   150        0.8578             nan     0.1000   -0.0001\n",
      "\n",
      "Iter   TrainDeviance   ValidDeviance   StepSize   Improve\n",
      "     1        1.0300             nan     0.1000    0.0134\n",
      "     2        1.0100             nan     0.1000    0.0099\n",
      "     3        0.9920             nan     0.1000    0.0084\n",
      "     4        0.9803             nan     0.1000    0.0057\n",
      "     5        0.9687             nan     0.1000    0.0055\n",
      "     6        0.9613             nan     0.1000    0.0040\n",
      "     7        0.9529             nan     0.1000    0.0038\n",
      "     8        0.9472             nan     0.1000    0.0028\n",
      "     9        0.9416             nan     0.1000    0.0028\n",
      "    10        0.9370             nan     0.1000    0.0022\n",
      "    20        0.9130             nan     0.1000    0.0005\n",
      "    40        0.8979             nan     0.1000    0.0001\n",
      "    60        0.8930             nan     0.1000    0.0000\n",
      "    80        0.8904             nan     0.1000    0.0000\n",
      "   100        0.8886             nan     0.1000   -0.0000\n",
      "   120        0.8875             nan     0.1000   -0.0000\n",
      "   140        0.8866             nan     0.1000   -0.0000\n",
      "   150        0.8862             nan     0.1000   -0.0000\n",
      "\n",
      "Iter   TrainDeviance   ValidDeviance   StepSize   Improve\n",
      "     1        1.0251             nan     0.1000    0.0159\n",
      "     2        1.0012             nan     0.1000    0.0118\n",
      "     3        0.9826             nan     0.1000    0.0085\n",
      "     4        0.9685             nan     0.1000    0.0070\n",
      "     5        0.9576             nan     0.1000    0.0055\n",
      "     6        0.9481             nan     0.1000    0.0043\n",
      "     7        0.9407             nan     0.1000    0.0035\n",
      "     8        0.9340             nan     0.1000    0.0032\n",
      "     9        0.9283             nan     0.1000    0.0029\n",
      "    10        0.9233             nan     0.1000    0.0022\n",
      "    20        0.8982             nan     0.1000    0.0004\n",
      "    40        0.8854             nan     0.1000   -0.0000\n",
      "    60        0.8803             nan     0.1000   -0.0000\n",
      "    80        0.8772             nan     0.1000   -0.0001\n",
      "   100        0.8739             nan     0.1000    0.0000\n",
      "   120        0.8716             nan     0.1000   -0.0000\n",
      "   140        0.8693             nan     0.1000   -0.0001\n",
      "   150        0.8686             nan     0.1000   -0.0001\n",
      "\n",
      "Iter   TrainDeviance   ValidDeviance   StepSize   Improve\n",
      "     1        1.0240             nan     0.1000    0.0169\n",
      "     2        1.0000             nan     0.1000    0.0126\n",
      "     3        0.9812             nan     0.1000    0.0098\n",
      "     4        0.9656             nan     0.1000    0.0076\n",
      "     5        0.9537             nan     0.1000    0.0056\n",
      "     6        0.9433             nan     0.1000    0.0051\n",
      "     7        0.9346             nan     0.1000    0.0041\n",
      "     8        0.9276             nan     0.1000    0.0033\n",
      "     9        0.9218             nan     0.1000    0.0027\n",
      "    10        0.9166             nan     0.1000    0.0024\n",
      "    20        0.8923             nan     0.1000    0.0006\n",
      "    40        0.8791             nan     0.1000    0.0000\n",
      "    60        0.8730             nan     0.1000   -0.0001\n",
      "    80        0.8686             nan     0.1000    0.0000\n",
      "   100        0.8649             nan     0.1000   -0.0001\n",
      "   120        0.8611             nan     0.1000   -0.0001\n",
      "   140        0.8574             nan     0.1000   -0.0001\n",
      "   150        0.8559             nan     0.1000   -0.0001\n",
      "\n",
      "Iter   TrainDeviance   ValidDeviance   StepSize   Improve\n",
      "     1        1.0283             nan     0.1000    0.0133\n",
      "     2        1.0085             nan     0.1000    0.0100\n",
      "     3        0.9943             nan     0.1000    0.0072\n",
      "     4        0.9800             nan     0.1000    0.0071\n",
      "     5        0.9688             nan     0.1000    0.0057\n",
      "     6        0.9615             nan     0.1000    0.0038\n",
      "     7        0.9547             nan     0.1000    0.0031\n",
      "     8        0.9475             nan     0.1000    0.0035\n",
      "     9        0.9412             nan     0.1000    0.0030\n",
      "    10        0.9365             nan     0.1000    0.0023\n",
      "    20        0.9137             nan     0.1000    0.0006\n",
      "    40        0.8991             nan     0.1000    0.0000\n",
      "    60        0.8936             nan     0.1000   -0.0001\n",
      "    80        0.8910             nan     0.1000   -0.0000\n",
      "   100        0.8894             nan     0.1000   -0.0000\n",
      "   120        0.8884             nan     0.1000   -0.0001\n",
      "   140        0.8872             nan     0.1000   -0.0000\n",
      "   150        0.8868             nan     0.1000   -0.0000\n",
      "\n",
      "Iter   TrainDeviance   ValidDeviance   StepSize   Improve\n",
      "     1        1.0246             nan     0.1000    0.0156\n",
      "     2        1.0014             nan     0.1000    0.0118\n",
      "     3        0.9833             nan     0.1000    0.0086\n",
      "     4        0.9691             nan     0.1000    0.0068\n",
      "     5        0.9573             nan     0.1000    0.0057\n",
      "     6        0.9484             nan     0.1000    0.0042\n",
      "     7        0.9407             nan     0.1000    0.0038\n",
      "     8        0.9342             nan     0.1000    0.0031\n",
      "     9        0.9288             nan     0.1000    0.0027\n",
      "    10        0.9239             nan     0.1000    0.0022\n",
      "    20        0.8990             nan     0.1000    0.0006\n",
      "    40        0.8866             nan     0.1000    0.0001\n",
      "    60        0.8814             nan     0.1000   -0.0000\n",
      "    80        0.8771             nan     0.1000   -0.0001\n",
      "   100        0.8744             nan     0.1000    0.0001\n",
      "   120        0.8720             nan     0.1000   -0.0001\n",
      "   140        0.8698             nan     0.1000   -0.0001\n",
      "   150        0.8687             nan     0.1000   -0.0000\n",
      "\n",
      "Iter   TrainDeviance   ValidDeviance   StepSize   Improve\n",
      "     1        1.0229             nan     0.1000    0.0171\n",
      "     2        0.9991             nan     0.1000    0.0123\n",
      "     3        0.9804             nan     0.1000    0.0095\n",
      "     4        0.9657             nan     0.1000    0.0077\n",
      "     5        0.9533             nan     0.1000    0.0057\n",
      "     6        0.9433             nan     0.1000    0.0048\n",
      "     7        0.9346             nan     0.1000    0.0042\n",
      "     8        0.9272             nan     0.1000    0.0033\n",
      "     9        0.9212             nan     0.1000    0.0027\n",
      "    10        0.9161             nan     0.1000    0.0025\n",
      "    20        0.8923             nan     0.1000    0.0005\n",
      "    40        0.8799             nan     0.1000   -0.0000\n",
      "    60        0.8735             nan     0.1000   -0.0002\n",
      "    80        0.8697             nan     0.1000   -0.0001\n",
      "   100        0.8662             nan     0.1000   -0.0001\n",
      "   120        0.8630             nan     0.1000   -0.0001\n",
      "   140        0.8598             nan     0.1000   -0.0001\n",
      "   150        0.8589             nan     0.1000   -0.0002\n",
      "\n",
      "Iter   TrainDeviance   ValidDeviance   StepSize   Improve\n",
      "     1        1.0305             nan     0.1000    0.0130\n",
      "     2        1.0112             nan     0.1000    0.0097\n",
      "     3        0.9974             nan     0.1000    0.0069\n",
      "     4        0.9830             nan     0.1000    0.0073\n",
      "     5        0.9709             nan     0.1000    0.0059\n",
      "     6        0.9631             nan     0.1000    0.0036\n",
      "     7        0.9555             nan     0.1000    0.0040\n",
      "     8        0.9483             nan     0.1000    0.0034\n",
      "     9        0.9428             nan     0.1000    0.0026\n",
      "    10        0.9380             nan     0.1000    0.0024\n",
      "    20        0.9162             nan     0.1000    0.0005\n",
      "    40        0.9024             nan     0.1000    0.0001\n",
      "    60        0.8976             nan     0.1000    0.0000\n",
      "    80        0.8949             nan     0.1000   -0.0001\n",
      "   100        0.8933             nan     0.1000   -0.0000\n",
      "   120        0.8918             nan     0.1000   -0.0000\n",
      "   140        0.8907             nan     0.1000    0.0000\n",
      "   150        0.8903             nan     0.1000   -0.0001\n",
      "\n",
      "Iter   TrainDeviance   ValidDeviance   StepSize   Improve\n",
      "     1        1.0254             nan     0.1000    0.0157\n",
      "     2        1.0016             nan     0.1000    0.0113\n",
      "     3        0.9842             nan     0.1000    0.0084\n",
      "     4        0.9701             nan     0.1000    0.0070\n",
      "     5        0.9591             nan     0.1000    0.0054\n",
      "     6        0.9504             nan     0.1000    0.0044\n",
      "     7        0.9429             nan     0.1000    0.0035\n",
      "     8        0.9369             nan     0.1000    0.0027\n",
      "     9        0.9318             nan     0.1000    0.0024\n",
      "    10        0.9273             nan     0.1000    0.0021\n",
      "    20        0.9033             nan     0.1000    0.0006\n",
      "    40        0.8910             nan     0.1000    0.0001\n",
      "    60        0.8851             nan     0.1000   -0.0000\n",
      "    80        0.8814             nan     0.1000   -0.0000\n",
      "   100        0.8784             nan     0.1000    0.0001\n",
      "   120        0.8758             nan     0.1000   -0.0000\n",
      "   140        0.8736             nan     0.1000   -0.0000\n",
      "   150        0.8727             nan     0.1000   -0.0001\n",
      "\n",
      "Iter   TrainDeviance   ValidDeviance   StepSize   Improve\n",
      "     1        1.0230             nan     0.1000    0.0166\n",
      "     2        0.9984             nan     0.1000    0.0126\n",
      "     3        0.9798             nan     0.1000    0.0091\n",
      "     4        0.9649             nan     0.1000    0.0073\n",
      "     5        0.9539             nan     0.1000    0.0054\n",
      "     6        0.9442             nan     0.1000    0.0047\n",
      "     7        0.9363             nan     0.1000    0.0038\n",
      "     8        0.9300             nan     0.1000    0.0030\n",
      "     9        0.9243             nan     0.1000    0.0026\n",
      "    10        0.9193             nan     0.1000    0.0025\n",
      "    20        0.8964             nan     0.1000    0.0002\n",
      "    40        0.8837             nan     0.1000    0.0001\n",
      "    60        0.8776             nan     0.1000   -0.0001\n",
      "    80        0.8734             nan     0.1000   -0.0000\n",
      "   100        0.8705             nan     0.1000   -0.0002\n",
      "   120        0.8666             nan     0.1000   -0.0000\n",
      "   140        0.8638             nan     0.1000   -0.0001\n",
      "   150        0.8624             nan     0.1000   -0.0000\n",
      "\n",
      "Iter   TrainDeviance   ValidDeviance   StepSize   Improve\n",
      "     1        1.0237             nan     0.1000    0.0160\n",
      "     2        1.0001             nan     0.1000    0.0111\n",
      "     3        0.9815             nan     0.1000    0.0089\n",
      "     4        0.9676             nan     0.1000    0.0069\n",
      "     5        0.9569             nan     0.1000    0.0055\n",
      "     6        0.9478             nan     0.1000    0.0043\n",
      "     7        0.9399             nan     0.1000    0.0039\n",
      "     8        0.9334             nan     0.1000    0.0031\n",
      "     9        0.9279             nan     0.1000    0.0027\n",
      "    10        0.9232             nan     0.1000    0.0023\n",
      "    20        0.8979             nan     0.1000    0.0006\n",
      "    40        0.8851             nan     0.1000    0.0001\n",
      "    60        0.8801             nan     0.1000    0.0000\n",
      "    80        0.8767             nan     0.1000    0.0001\n",
      "   100        0.8738             nan     0.1000   -0.0001\n",
      "\n"
     ]
    },
    {
     "data": {
      "text/plain": [
       "Stochastic Gradient Boosting \n",
       "\n",
       "14000 samples\n",
       "    5 predictor\n",
       "    2 classes: '0', '1' \n",
       "\n",
       "No pre-processing\n",
       "Resampling: Cross-Validated (10 fold) \n",
       "Summary of sample sizes: 12600, 12599, 12600, 12600, 12600, 12600, ... \n",
       "Resampling results across tuning parameters:\n",
       "\n",
       "  interaction.depth  n.trees  Accuracy   Kappa    \n",
       "  1                   50      0.8159289  0.3320898\n",
       "  1                  100      0.8156435  0.3395711\n",
       "  1                  150      0.8162148  0.3437941\n",
       "  2                   50      0.8174293  0.3466710\n",
       "  2                  100      0.8177150  0.3517483\n",
       "  2                  150      0.8170009  0.3506044\n",
       "  3                   50      0.8175010  0.3475417\n",
       "  3                  100      0.8167150  0.3478111\n",
       "  3                  150      0.8172865  0.3514140\n",
       "\n",
       "Tuning parameter 'shrinkage' was held constant at a value of 0.1\n",
       "\n",
       "Tuning parameter 'n.minobsinnode' was held constant at a value of 10\n",
       "Accuracy was used to select the optimal model using the largest value.\n",
       "The final values used for the model were n.trees = 100, interaction.depth =\n",
       " 2, shrinkage = 0.1 and n.minobsinnode = 10."
      ]
     },
     "metadata": {},
     "output_type": "display_data"
    }
   ],
   "source": [
    "train_control <- trainControl(method = \"cv\", number = 10)\n",
    "\n",
    "# train the model on training set\n",
    "model <- caret::train(as.factor(default.payment.next.month) ~ PAY_0 + BILL_AMT1 + LIMIT_BAL + PAY_AMT1 + PAY_2,\n",
    "               data = train,\n",
    "               trControl = train_control,\n",
    "               method = \"gbm\")\n",
    "\n",
    "# print cv result\n",
    "model"
   ]
  },
  {
   "cell_type": "code",
   "execution_count": 55,
   "id": "9b19af6c-c371-434d-a894-27ef21cbe541",
   "metadata": {},
   "outputs": [
    {
     "data": {
      "text/html": [
       "0.142395629906177"
      ],
      "text/latex": [
       "0.142395629906177"
      ],
      "text/markdown": [
       "0.142395629906177"
      ],
      "text/plain": [
       "[1] 0.1423956"
      ]
     },
     "metadata": {},
     "output_type": "display_data"
    }
   ],
   "source": [
    "# Feature Selection - Top 5 Highest Relative Influence\n",
    "set.seed(3)\n",
    "md_boosttree_1 <- gbm(default.payment.next.month ~ PAY_0 + BILL_AMT1 + LIMIT_BAL + PAY_AMT1 + PAY_2, data=train, distribution='gaussian',\n",
    "                    n.trees=150, interaction.depth=3, shrinkage=0.01,\n",
    "                    verbose=F)\n",
    "\n",
    "# Make prediction\n",
    "pred_adj_boost <- predict(md_boosttree_1, newdata=test, n.trees=150)\n",
    "\n",
    "# Evaluation: MSE\n",
    "mean((pred_adj_boost - test$default.payment.next.month) ^ 2)"
   ]
  },
  {
   "cell_type": "code",
   "execution_count": 56,
   "id": "67d8bc21-9949-40b8-84ed-aba83e16e3a4",
   "metadata": {},
   "outputs": [
    {
     "data": {
      "text/plain": [
       "                   \n",
       "pred_adj_tr_boost_1     0     1\n",
       "                  0 10453  2103\n",
       "                  1   449   995"
      ]
     },
     "metadata": {},
     "output_type": "display_data"
    },
    {
     "name": "stdout",
     "output_type": "stream",
     "text": [
      "[1] \"Accuracy = 0.817714285714286\"\n"
     ]
    },
    {
     "name": "stderr",
     "output_type": "stream",
     "text": [
      "Setting levels: control = 0, case = 1\n",
      "\n",
      "Setting direction: controls < cases\n",
      "\n"
     ]
    },
    {
     "name": "stdout",
     "output_type": "stream",
     "text": [
      "[1] \"AUC = 0.63999492396548\"\n"
     ]
    }
   ],
   "source": [
    "# Make prediction\n",
    "pred_adj_tr_boost <- predict(md_boosttree_1, newdata=train, n.trees=150)\n",
    "pred_adj_tr_boost_1 <- ifelse(pred_adj_tr_boost > 0.5,1,0)\n",
    "\n",
    "# Evaluation: confusion matrix\n",
    "table(pred_adj_tr_boost_1, train$default.payment.next.month)\n",
    "\n",
    "# Accuracy\n",
    "print(paste0('Accuracy = ', Accuracy(pred_adj_tr_boost_1, train$default.payment.next.month)))\n",
    "\n",
    "# AUC\n",
    "print(paste0('AUC = ', pROC::auc(pROC::roc(train$default.payment.next.month, pred_adj_tr_boost_1))))"
   ]
  },
  {
   "cell_type": "code",
   "execution_count": 57,
   "id": "9956bada-cd6d-4bd0-9e2e-f481f19c9d72",
   "metadata": {},
   "outputs": [
    {
     "data": {
      "text/plain": [
       "                \n",
       "pred_adj_boost_1    0    1\n",
       "               0 4489  911\n",
       "               1  195  405"
      ]
     },
     "metadata": {},
     "output_type": "display_data"
    },
    {
     "name": "stdout",
     "output_type": "stream",
     "text": [
      "[1] \"Accuracy = 0.815666666666667\"\n"
     ]
    },
    {
     "name": "stderr",
     "output_type": "stream",
     "text": [
      "Setting levels: control = 0, case = 1\n",
      "\n",
      "Setting direction: controls < cases\n",
      "\n"
     ]
    },
    {
     "name": "stdout",
     "output_type": "stream",
     "text": [
      "[1] \"AUC = 0.633059837667647\"\n"
     ]
    }
   ],
   "source": [
    "pred_adj_boost_1 <- ifelse(pred_adj_boost > 0.5,1,0)\n",
    "\n",
    "# Evaluation: confusion matrix\n",
    "table(pred_adj_boost_1, test$default.payment.next.month)\n",
    "\n",
    "# Accuracy\n",
    "print(paste0('Accuracy = ', Accuracy(pred_adj_boost_1, test$default.payment.next.month)))\n",
    "\n",
    "# AUC\n",
    "print(paste0('AUC = ', pROC::auc(pROC::roc(test$default.payment.next.month, pred_adj_boost_1))))"
   ]
  },
  {
   "cell_type": "markdown",
   "id": "a34302f7-0b27-4bff-b99f-6448dc246965",
   "metadata": {},
   "source": [
    "#### 1.3d Random Forest"
   ]
  },
  {
   "cell_type": "code",
   "execution_count": 58,
   "id": "9f6b2e96-9626-4cda-8664-b696ce9ee6a1",
   "metadata": {},
   "outputs": [
    {
     "name": "stderr",
     "output_type": "stream",
     "text": [
      "Warning message in randomForest.default(m, y, ...):\n",
      "\"The response has five or fewer unique values.  Are you sure you want to do regression?\"\n"
     ]
    },
    {
     "data": {
      "text/plain": [
       "\n",
       "Call:\n",
       " randomForest(formula = default.payment.next.month ~ ., data = train,      mtry = 3, importance = T) \n",
       "               Type of random forest: regression\n",
       "                     Number of trees: 500\n",
       "No. of variables tried at each split: 3\n",
       "\n",
       "          Mean of squared residuals: 0.1376118\n",
       "                    % Var explained: 20.14"
      ]
     },
     "metadata": {},
     "output_type": "display_data"
    }
   ],
   "source": [
    "# Fit random forests model\n",
    "md_rf <- randomForest(default.payment.next.month ~ ., data=train, mtry=3, importance=T)\n",
    "md_rf"
   ]
  },
  {
   "cell_type": "code",
   "execution_count": 59,
   "id": "2ee0751e-c7f1-4cb8-adef-5567899ba457",
   "metadata": {},
   "outputs": [
    {
     "data": {
      "text/html": [
       "0.138457235325955"
      ],
      "text/latex": [
       "0.138457235325955"
      ],
      "text/markdown": [
       "0.138457235325955"
      ],
      "text/plain": [
       "[1] 0.1384572"
      ]
     },
     "metadata": {},
     "output_type": "display_data"
    },
    {
     "data": {
      "image/png": "[encoded data removed]",
      "text/plain": [
       "plot without title"
      ]
     },
     "metadata": {
      "image/png": {
       "height": 390,
       "width": 360
      }
     },
     "output_type": "display_data"
    }
   ],
   "source": [
    "# Make prediction\n",
    "pred_rf <- predict(md_rf, newdata=test)\n",
    "\n",
    "options(repr.plot.width=6, repr.plot.height=6.5)\n",
    "plot(pred_rf, test$default.payment.next.month, cex=0.7)\n",
    "abline(0, 1, col='red')\n",
    "\n",
    "# MSE\n",
    "mean((pred_rf - test$default.payment.next.month) ^ 2)"
   ]
  },
  {
   "cell_type": "code",
   "execution_count": 60,
   "id": "f305b809-3c1b-4fba-83b7-2c39a2be8ac6",
   "metadata": {},
   "outputs": [
    {
     "data": {
      "text/html": [
       "<table class=\"dataframe\">\n",
       "<caption>A matrix: 24 × 2 of type dbl</caption>\n",
       "<thead>\n",
       "\t<tr><th></th><th scope=col>%IncMSE</th><th scope=col>IncNodePurity</th></tr>\n",
       "</thead>\n",
       "<tbody>\n",
       "\t<tr><th scope=row>cust_id</th><td> 0.9005533</td><td>128.11856</td></tr>\n",
       "\t<tr><th scope=row>LIMIT_BAL</th><td>22.9321722</td><td>103.46662</td></tr>\n",
       "\t<tr><th scope=row>SEX</th><td> 1.0066648</td><td> 18.67297</td></tr>\n",
       "\t<tr><th scope=row>EDUCATION</th><td> 0.8478667</td><td> 34.41012</td></tr>\n",
       "\t<tr><th scope=row>MARRIAGE</th><td> 8.5456015</td><td> 23.65765</td></tr>\n",
       "\t<tr><th scope=row>AGE</th><td>11.5743680</td><td>103.37701</td></tr>\n",
       "\t<tr><th scope=row>PAY_0</th><td>85.7663301</td><td>202.49115</td></tr>\n",
       "\t<tr><th scope=row>PAY_2</th><td>38.4413595</td><td> 93.02556</td></tr>\n",
       "\t<tr><th scope=row>PAY_3</th><td>34.6592547</td><td> 62.22638</td></tr>\n",
       "\t<tr><th scope=row>PAY_4</th><td>34.9769288</td><td> 58.84175</td></tr>\n",
       "\t<tr><th scope=row>PAY_5</th><td>28.4907538</td><td> 45.73984</td></tr>\n",
       "\t<tr><th scope=row>PAY_6</th><td>31.9484684</td><td> 47.26714</td></tr>\n",
       "\t<tr><th scope=row>BILL_AMT1</th><td>34.2663540</td><td>114.05467</td></tr>\n",
       "\t<tr><th scope=row>BILL_AMT2</th><td>40.1836598</td><td>105.47456</td></tr>\n",
       "\t<tr><th scope=row>BILL_AMT3</th><td>44.7587471</td><td>104.20314</td></tr>\n",
       "\t<tr><th scope=row>BILL_AMT4</th><td>39.4715253</td><td> 98.39016</td></tr>\n",
       "\t<tr><th scope=row>BILL_AMT5</th><td>34.6938188</td><td> 97.73881</td></tr>\n",
       "\t<tr><th scope=row>BILL_AMT6</th><td>35.0384343</td><td> 98.12870</td></tr>\n",
       "\t<tr><th scope=row>PAY_AMT1</th><td>35.1335217</td><td>104.23240</td></tr>\n",
       "\t<tr><th scope=row>PAY_AMT2</th><td>31.9726493</td><td> 97.37573</td></tr>\n",
       "\t<tr><th scope=row>PAY_AMT3</th><td>35.8533940</td><td> 90.55653</td></tr>\n",
       "\t<tr><th scope=row>PAY_AMT4</th><td>30.5996622</td><td> 88.86533</td></tr>\n",
       "\t<tr><th scope=row>PAY_AMT5</th><td>34.6388084</td><td> 87.01346</td></tr>\n",
       "\t<tr><th scope=row>PAY_AMT6</th><td>25.2770167</td><td> 88.94616</td></tr>\n",
       "</tbody>\n",
       "</table>\n"
      ],
      "text/latex": [
       "A matrix: 24 × 2 of type dbl\n",
       "\\begin{tabular}{r|ll}\n",
       "  & \\%IncMSE & IncNodePurity\\\\\n",
       "\\hline\n",
       "\tcust\\_id &  0.9005533 & 128.11856\\\\\n",
       "\tLIMIT\\_BAL & 22.9321722 & 103.46662\\\\\n",
       "\tSEX &  1.0066648 &  18.67297\\\\\n",
       "\tEDUCATION &  0.8478667 &  34.41012\\\\\n",
       "\tMARRIAGE &  8.5456015 &  23.65765\\\\\n",
       "\tAGE & 11.5743680 & 103.37701\\\\\n",
       "\tPAY\\_0 & 85.7663301 & 202.49115\\\\\n",
       "\tPAY\\_2 & 38.4413595 &  93.02556\\\\\n",
       "\tPAY\\_3 & 34.6592547 &  62.22638\\\\\n",
       "\tPAY\\_4 & 34.9769288 &  58.84175\\\\\n",
       "\tPAY\\_5 & 28.4907538 &  45.73984\\\\\n",
       "\tPAY\\_6 & 31.9484684 &  47.26714\\\\\n",
       "\tBILL\\_AMT1 & 34.2663540 & 114.05467\\\\\n",
       "\tBILL\\_AMT2 & 40.1836598 & 105.47456\\\\\n",
       "\tBILL\\_AMT3 & 44.7587471 & 104.20314\\\\\n",
       "\tBILL\\_AMT4 & 39.4715253 &  98.39016\\\\\n",
       "\tBILL\\_AMT5 & 34.6938188 &  97.73881\\\\\n",
       "\tBILL\\_AMT6 & 35.0384343 &  98.12870\\\\\n",
       "\tPAY\\_AMT1 & 35.1335217 & 104.23240\\\\\n",
       "\tPAY\\_AMT2 & 31.9726493 &  97.37573\\\\\n",
       "\tPAY\\_AMT3 & 35.8533940 &  90.55653\\\\\n",
       "\tPAY\\_AMT4 & 30.5996622 &  88.86533\\\\\n",
       "\tPAY\\_AMT5 & 34.6388084 &  87.01346\\\\\n",
       "\tPAY\\_AMT6 & 25.2770167 &  88.94616\\\\\n",
       "\\end{tabular}\n"
      ],
      "text/markdown": [
       "\n",
       "A matrix: 24 × 2 of type dbl\n",
       "\n",
       "| <!--/--> | %IncMSE | IncNodePurity |\n",
       "|---|---|---|\n",
       "| cust_id |  0.9005533 | 128.11856 |\n",
       "| LIMIT_BAL | 22.9321722 | 103.46662 |\n",
       "| SEX |  1.0066648 |  18.67297 |\n",
       "| EDUCATION |  0.8478667 |  34.41012 |\n",
       "| MARRIAGE |  8.5456015 |  23.65765 |\n",
       "| AGE | 11.5743680 | 103.37701 |\n",
       "| PAY_0 | 85.7663301 | 202.49115 |\n",
       "| PAY_2 | 38.4413595 |  93.02556 |\n",
       "| PAY_3 | 34.6592547 |  62.22638 |\n",
       "| PAY_4 | 34.9769288 |  58.84175 |\n",
       "| PAY_5 | 28.4907538 |  45.73984 |\n",
       "| PAY_6 | 31.9484684 |  47.26714 |\n",
       "| BILL_AMT1 | 34.2663540 | 114.05467 |\n",
       "| BILL_AMT2 | 40.1836598 | 105.47456 |\n",
       "| BILL_AMT3 | 44.7587471 | 104.20314 |\n",
       "| BILL_AMT4 | 39.4715253 |  98.39016 |\n",
       "| BILL_AMT5 | 34.6938188 |  97.73881 |\n",
       "| BILL_AMT6 | 35.0384343 |  98.12870 |\n",
       "| PAY_AMT1 | 35.1335217 | 104.23240 |\n",
       "| PAY_AMT2 | 31.9726493 |  97.37573 |\n",
       "| PAY_AMT3 | 35.8533940 |  90.55653 |\n",
       "| PAY_AMT4 | 30.5996622 |  88.86533 |\n",
       "| PAY_AMT5 | 34.6388084 |  87.01346 |\n",
       "| PAY_AMT6 | 25.2770167 |  88.94616 |\n",
       "\n"
      ],
      "text/plain": [
       "          %IncMSE    IncNodePurity\n",
       "cust_id    0.9005533 128.11856    \n",
       "LIMIT_BAL 22.9321722 103.46662    \n",
       "SEX        1.0066648  18.67297    \n",
       "EDUCATION  0.8478667  34.41012    \n",
       "MARRIAGE   8.5456015  23.65765    \n",
       "AGE       11.5743680 103.37701    \n",
       "PAY_0     85.7663301 202.49115    \n",
       "PAY_2     38.4413595  93.02556    \n",
       "PAY_3     34.6592547  62.22638    \n",
       "PAY_4     34.9769288  58.84175    \n",
       "PAY_5     28.4907538  45.73984    \n",
       "PAY_6     31.9484684  47.26714    \n",
       "BILL_AMT1 34.2663540 114.05467    \n",
       "BILL_AMT2 40.1836598 105.47456    \n",
       "BILL_AMT3 44.7587471 104.20314    \n",
       "BILL_AMT4 39.4715253  98.39016    \n",
       "BILL_AMT5 34.6938188  97.73881    \n",
       "BILL_AMT6 35.0384343  98.12870    \n",
       "PAY_AMT1  35.1335217 104.23240    \n",
       "PAY_AMT2  31.9726493  97.37573    \n",
       "PAY_AMT3  35.8533940  90.55653    \n",
       "PAY_AMT4  30.5996622  88.86533    \n",
       "PAY_AMT5  34.6388084  87.01346    \n",
       "PAY_AMT6  25.2770167  88.94616    "
      ]
     },
     "metadata": {},
     "output_type": "display_data"
    }
   ],
   "source": [
    "# Feature importance\n",
    "importance(md_rf)"
   ]
  },
  {
   "cell_type": "code",
   "execution_count": 61,
   "id": "4ba40c92-ece4-4a2a-ab6d-d8a7e5191c3e",
   "metadata": {},
   "outputs": [
    {
     "data": {
      "image/png": "[encoded data removed]",
      "text/plain": [
       "Plot with title \"Variable Importance - RF\""
      ]
     },
     "metadata": {
      "image/png": {
       "height": 390,
       "width": 360
      }
     },
     "output_type": "display_data"
    }
   ],
   "source": [
    "# Plot feature importance\n",
    "options(repr.plot.width=6, repr.plot.height=6.5)\n",
    "varImpPlot(md_rf, type=2, main='Variable Importance - RF')"
   ]
  },
  {
   "cell_type": "code",
   "execution_count": 62,
   "id": "801cdab7-993a-43e4-9814-a1b1101b0a2b",
   "metadata": {},
   "outputs": [
    {
     "data": {
      "text/plain": [
       "            \n",
       "pred_tr_rf_1     0     1\n",
       "           0 10891   110\n",
       "           1    11  2988"
      ]
     },
     "metadata": {},
     "output_type": "display_data"
    },
    {
     "name": "stdout",
     "output_type": "stream",
     "text": [
      "[1] \"Accuracy = 0.991357142857143\"\n"
     ]
    },
    {
     "name": "stderr",
     "output_type": "stream",
     "text": [
      "Setting levels: control = 0, case = 1\n",
      "\n",
      "Setting direction: controls < cases\n",
      "\n"
     ]
    },
    {
     "name": "stdout",
     "output_type": "stream",
     "text": [
      "[1] \"AUC = 0.981742116128442\"\n"
     ]
    }
   ],
   "source": [
    "# Make prediction\n",
    "pred_tr_rf <- predict(md_rf, newdata=train)\n",
    "pred_tr_rf_1 <- ifelse(pred_tr_rf > 0.5,1,0)\n",
    "\n",
    "# Evaluation: confusion matrix\n",
    "table(pred_tr_rf_1, train$default.payment.next.month)\n",
    "\n",
    "# Accuracy\n",
    "print(paste0('Accuracy = ', Accuracy(pred_tr_rf_1, train$default.payment.next.month)))\n",
    "\n",
    "# AUC\n",
    "print(paste0('AUC = ', pROC::auc(pROC::roc(train$default.payment.next.month, pred_tr_rf_1))))"
   ]
  },
  {
   "cell_type": "code",
   "execution_count": 63,
   "id": "c7b757e1-5a56-44e6-a212-77ef9b9da578",
   "metadata": {},
   "outputs": [
    {
     "data": {
      "text/plain": [
       "         \n",
       "pred_rf_1    0    1\n",
       "        0 4426  867\n",
       "        1  258  449"
      ]
     },
     "metadata": {},
     "output_type": "display_data"
    },
    {
     "name": "stdout",
     "output_type": "stream",
     "text": [
      "[1] \"Accuracy = 0.8125\"\n"
     ]
    },
    {
     "name": "stderr",
     "output_type": "stream",
     "text": [
      "Setting levels: control = 0, case = 1\n",
      "\n",
      "Setting direction: controls < cases\n",
      "\n"
     ]
    },
    {
     "name": "stdout",
     "output_type": "stream",
     "text": [
      "[1] \"AUC = 0.643052141546336\"\n"
     ]
    }
   ],
   "source": [
    "pred_rf_1 <- ifelse(pred_rf > 0.5,1,0)\n",
    "\n",
    "# Evaluation: confusion matrix\n",
    "table(pred_rf_1, test$default.payment.next.month)\n",
    "\n",
    "# Accuracy\n",
    "print(paste0('Accuracy = ', Accuracy(pred_rf_1, test$default.payment.next.month)))\n",
    "\n",
    "# AUC\n",
    "print(paste0('AUC = ', pROC::auc(pROC::roc(test$default.payment.next.month, pred_rf_1))))"
   ]
  },
  {
   "cell_type": "code",
   "execution_count": 64,
   "id": "ddb27138-9217-428f-8dff-19f8a7a838e5",
   "metadata": {},
   "outputs": [],
   "source": [
    "#### Overfitting"
   ]
  },
  {
   "cell_type": "markdown",
   "id": "19eedabc-c827-4c55-9986-a4c971467fea",
   "metadata": {},
   "source": [
    "#### 1.4d Random Forest - Variable selection based on Feature Importance"
   ]
  },
  {
   "cell_type": "code",
   "execution_count": 65,
   "id": "bec8409e-5cb1-4bc5-a679-4921d69a2b61",
   "metadata": {},
   "outputs": [
    {
     "name": "stderr",
     "output_type": "stream",
     "text": [
      "Warning message in randomForest.default(m, y, ...):\n",
      "\"The response has five or fewer unique values.  Are you sure you want to do regression?\"\n"
     ]
    },
    {
     "data": {
      "text/plain": [
       "\n",
       "Call:\n",
       " randomForest(formula = default.payment.next.month ~ PAY_0 + BILL_AMT1 +      BILL_AMT2 + AGE + LIMIT_BAL, data = train, mtry = 2, importance = T) \n",
       "               Type of random forest: regression\n",
       "                     Number of trees: 500\n",
       "No. of variables tried at each split: 2\n",
       "\n",
       "          Mean of squared residuals: 0.1485149\n",
       "                    % Var explained: 13.81"
      ]
     },
     "metadata": {},
     "output_type": "display_data"
    }
   ],
   "source": [
    "# Fit random forests model\n",
    "md_rf1 <- randomForest(default.payment.next.month ~ PAY_0 + BILL_AMT1 + BILL_AMT2 + AGE + LIMIT_BAL, data=train, mtry=2, importance=T)\n",
    "md_rf1"
   ]
  },
  {
   "cell_type": "code",
   "execution_count": 66,
   "id": "e3d395e9-2d3f-44b4-b96a-ed3b6c777036",
   "metadata": {},
   "outputs": [
    {
     "data": {
      "text/html": [
       "0.14820327179347"
      ],
      "text/latex": [
       "0.14820327179347"
      ],
      "text/markdown": [
       "0.14820327179347"
      ],
      "text/plain": [
       "[1] 0.1482033"
      ]
     },
     "metadata": {},
     "output_type": "display_data"
    },
    {
     "data": {
      "image/png": "[encoded data removed]",
      "text/plain": [
       "plot without title"
      ]
     },
     "metadata": {
      "image/png": {
       "height": 390,
       "width": 360
      }
     },
     "output_type": "display_data"
    }
   ],
   "source": [
    "# Make prediction\n",
    "pred_adj_rf <- predict(md_rf1, newdata=test)\n",
    "\n",
    "options(repr.plot.width=6, repr.plot.height=6.5)\n",
    "plot(pred_adj_rf, test$default.payment.next.month, cex=0.7)\n",
    "abline(0, 1, col='red')\n",
    "\n",
    "# MSE\n",
    "mean((pred_adj_rf - test$default.payment.next.month) ^ 2)"
   ]
  },
  {
   "cell_type": "code",
   "execution_count": 67,
   "id": "2aa7e9cb-2e15-45f7-b32f-59abded65c8e",
   "metadata": {},
   "outputs": [
    {
     "data": {
      "text/plain": [
       "                \n",
       "pred_adj_tr_rf_1     0     1\n",
       "               0 10879   388\n",
       "               1    23  2710"
      ]
     },
     "metadata": {},
     "output_type": "display_data"
    },
    {
     "name": "stdout",
     "output_type": "stream",
     "text": [
      "[1] \"Accuracy = 0.970642857142857\"\n"
     ]
    },
    {
     "name": "stderr",
     "output_type": "stream",
     "text": [
      "Setting levels: control = 0, case = 1\n",
      "\n",
      "Setting direction: controls < cases\n",
      "\n"
     ]
    },
    {
     "name": "stdout",
     "output_type": "stream",
     "text": [
      "[1] \"AUC = 0.936324101843302\"\n"
     ]
    }
   ],
   "source": [
    "# Make prediction\n",
    "pred_adj_tr_rf <- predict(md_rf1, newdata=train)\n",
    "pred_adj_tr_rf_1 <- ifelse(pred_adj_tr_rf > 0.5,1,0)\n",
    "\n",
    "# Evaluation: confusion matrix\n",
    "table(pred_adj_tr_rf_1, train$default.payment.next.month)\n",
    "\n",
    "# Accuracy\n",
    "print(paste0('Accuracy = ', Accuracy(pred_adj_tr_rf_1, train$default.payment.next.month)))\n",
    "\n",
    "# AUC\n",
    "print(paste0('AUC = ', pROC::auc(pROC::roc(train$default.payment.next.month, pred_adj_tr_rf_1))))"
   ]
  },
  {
   "cell_type": "code",
   "execution_count": 68,
   "id": "076f025d-cef3-499d-9f66-81864f10e6f7",
   "metadata": {},
   "outputs": [
    {
     "data": {
      "text/plain": [
       "            \n",
       "pred_adj_rf1    0    1\n",
       "           0 4389  868\n",
       "           1  295  448"
      ]
     },
     "metadata": {},
     "output_type": "display_data"
    },
    {
     "name": "stdout",
     "output_type": "stream",
     "text": [
      "[1] \"Accuracy = 0.806166666666667\"\n"
     ]
    },
    {
     "name": "stderr",
     "output_type": "stream",
     "text": [
      "Setting levels: control = 0, case = 1\n",
      "\n",
      "Setting direction: controls < cases\n",
      "\n"
     ]
    },
    {
     "name": "stdout",
     "output_type": "stream",
     "text": [
      "[1] \"AUC = 0.638722586623544\"\n"
     ]
    }
   ],
   "source": [
    "pred_adj_rf1 <- ifelse(pred_adj_rf > 0.5,1,0)\n",
    "\n",
    "# Evaluation: confusion matrix\n",
    "table(pred_adj_rf1, test$default.payment.next.month)\n",
    "\n",
    "# Accuracy\n",
    "print(paste0('Accuracy = ', Accuracy(pred_adj_rf1, test$default.payment.next.month)))\n",
    "\n",
    "# AUC\n",
    "print(paste0('AUC = ', pROC::auc(pROC::roc(test$default.payment.next.month, pred_adj_rf1))))"
   ]
  },
  {
   "cell_type": "code",
   "execution_count": 69,
   "id": "d1e89711-b663-4fbb-bf74-11b8b2cfa533",
   "metadata": {},
   "outputs": [],
   "source": [
    "#### Overfitting"
   ]
  },
  {
   "cell_type": "markdown",
   "id": "fb99968b-702a-4f25-9ec4-59bb5fde2cb0",
   "metadata": {},
   "source": [
    "#### 1.5d Random Forest - Cross Validation"
   ]
  },
  {
   "cell_type": "code",
   "execution_count": 70,
   "id": "f03e3a50-c89b-4630-857b-0007bb42348f",
   "metadata": {},
   "outputs": [
    {
     "data": {
      "text/plain": [
       "Random Forest \n",
       "\n",
       "14000 samples\n",
       "    5 predictor\n",
       "    2 classes: '0', '1' \n",
       "\n",
       "No pre-processing\n",
       "Resampling: Cross-Validated (10 fold) \n",
       "Summary of sample sizes: 12600, 12601, 12600, 12599, 12599, 12600, ... \n",
       "Resampling results across tuning parameters:\n",
       "\n",
       "  mtry  Accuracy   Kappa    \n",
       "  2     0.8024311  0.3204094\n",
       "  3     0.7967880  0.3120268\n",
       "  5     0.7926445  0.3037573\n",
       "\n",
       "Accuracy was used to select the optimal model using the largest value.\n",
       "The final value used for the model was mtry = 2."
      ]
     },
     "metadata": {},
     "output_type": "display_data"
    }
   ],
   "source": [
    "train_control <- trainControl(method = \"cv\", number = 10)\n",
    "\n",
    "# train the model on training set\n",
    "model <- caret::train(as.factor(default.payment.next.month) ~ PAY_0 + BILL_AMT1 + BILL_AMT2 + AGE + LIMIT_BAL,\n",
    "               data = train,\n",
    "               trControl = train_control,\n",
    "               method = \"rf\")\n",
    "\n",
    "# print cv result\n",
    "model"
   ]
  },
  {
   "cell_type": "markdown",
   "id": "b677abf1-3176-4849-824f-fce50a77020e",
   "metadata": {},
   "source": [
    "#### 1.3e K-Nearest Neighbors (KNN)"
   ]
  },
  {
   "cell_type": "code",
   "execution_count": 71,
   "id": "97a3ed2f-610e-469b-b7a9-ed43b2428d34",
   "metadata": {},
   "outputs": [
    {
     "name": "stdout",
     "output_type": "stream",
     "text": [
      "[1] \"Confusion matrix:\"\n"
     ]
    },
    {
     "data": {
      "text/plain": [
       "         \n",
       "knn1_pred    0    1\n",
       "        0 4271 1087\n",
       "        1  413  229"
      ]
     },
     "metadata": {},
     "output_type": "display_data"
    },
    {
     "name": "stdout",
     "output_type": "stream",
     "text": [
      "[1] \"Accuracy = 0.75 %\"\n"
     ]
    },
    {
     "name": "stderr",
     "output_type": "stream",
     "text": [
      "Setting levels: control = 0, case = 1\n",
      "\n",
      "Setting direction: controls < cases\n",
      "\n"
     ]
    },
    {
     "name": "stdout",
     "output_type": "stream",
     "text": [
      "[1] \"AUC = 0.576911806260531\"\n"
     ]
    }
   ],
   "source": [
    "# k = 5\n",
    "set.seed(123)\n",
    "knn1_pred <- knn(train=train[, iv_vars],\n",
    "                 test=test[, iv_vars],\n",
    "                 cl=train$default.payment.next.month,\n",
    "                 k=5)\n",
    "\n",
    "# Confusion matrix\n",
    "print('Confusion matrix:')\n",
    "table(knn1_pred, test$default.payment.next.month)\n",
    "\n",
    "# Accuracy\n",
    "acc <- mean(knn1_pred == test$default.payment.next.month)\n",
    "print(paste('Accuracy =', round(acc, 6), '%'))\n",
    "\n",
    "# AUC\n",
    "pred_roc <- pROC::roc(knn1_pred, test$default.payment.next.month)\n",
    "pred_auc <- pROC::auc(pred_roc)\n",
    "print(paste('AUC =', pred_auc))"
   ]
  },
  {
   "cell_type": "code",
   "execution_count": 72,
   "id": "3cea9838-771b-47d2-884b-cb712610e760",
   "metadata": {},
   "outputs": [
    {
     "name": "stdout",
     "output_type": "stream",
     "text": [
      "[1] \"Confusion matrix:\"\n"
     ]
    },
    {
     "data": {
      "text/plain": [
       "         \n",
       "knn1_pred     0     1\n",
       "        0 10373  2102\n",
       "        1   529   996"
      ]
     },
     "metadata": {},
     "output_type": "display_data"
    },
    {
     "name": "stdout",
     "output_type": "stream",
     "text": [
      "[1] \"Accuracy = 0.812071 %\"\n"
     ]
    },
    {
     "name": "stderr",
     "output_type": "stream",
     "text": [
      "Setting levels: control = 0, case = 1\n",
      "\n",
      "Setting direction: controls < cases\n",
      "\n"
     ]
    },
    {
     "name": "stdout",
     "output_type": "stream",
     "text": [
      "[1] \"AUC = 0.742308880055192\"\n"
     ]
    }
   ],
   "source": [
    "# k = 5\n",
    "set.seed(123)\n",
    "knn1_pred <- knn(train=train[, iv_vars],\n",
    "                 test=train[, iv_vars],\n",
    "                 cl=train$default.payment.next.month,\n",
    "                 k=5)\n",
    "\n",
    "# Confusion matrix\n",
    "print('Confusion matrix:')\n",
    "table(knn1_pred, train$default.payment.next.month)\n",
    "\n",
    "# Accuracy\n",
    "acc <- mean(knn1_pred == train$default.payment.next.month)\n",
    "print(paste('Accuracy =', round(acc, 6), '%'))\n",
    "\n",
    "# AUC\n",
    "pred_roc <- pROC::roc(knn1_pred, train$default.payment.next.month)\n",
    "pred_auc <- pROC::auc(pred_roc)\n",
    "print(paste('AUC =', pred_auc))"
   ]
  },
  {
   "cell_type": "markdown",
   "id": "ec537afc-2f76-40e5-b3af-7841491c140e",
   "metadata": {},
   "source": [
    "#### 1.4e KNN - Feature Selection"
   ]
  },
  {
   "cell_type": "code",
   "execution_count": 73,
   "id": "143389b1-3961-443e-acce-12bed375e203",
   "metadata": {},
   "outputs": [
    {
     "name": "stdout",
     "output_type": "stream",
     "text": [
      "[1] \"Confusion matrix:\"\n"
     ]
    },
    {
     "data": {
      "text/plain": [
       "         \n",
       "knn2_pred    0    1\n",
       "        0 4441 1034\n",
       "        1  243  282"
      ]
     },
     "metadata": {},
     "output_type": "display_data"
    },
    {
     "name": "stdout",
     "output_type": "stream",
     "text": [
      "[1] \"Accuracy = 0.787167 %\"\n"
     ]
    },
    {
     "name": "stderr",
     "output_type": "stream",
     "text": [
      "Setting levels: control = 0, case = 1\n",
      "\n",
      "Setting direction: controls < cases\n",
      "\n"
     ]
    },
    {
     "name": "stdout",
     "output_type": "stream",
     "text": [
      "[1] \"AUC = 0.674142204827136\"\n"
     ]
    }
   ],
   "source": [
    "# k = 5\n",
    "set.seed(123)\n",
    "knn2_pred <- knn(train=train[, c('PAY_0', 'PAY_AMT2')],\n",
    "                 test=test[, c('PAY_0', 'PAY_AMT2')],\n",
    "                 cl=train$default.payment.next.month,\n",
    "                 k=5)\n",
    "\n",
    "# Confusion matrix\n",
    "print('Confusion matrix:')\n",
    "table(knn2_pred, test$default.payment.next.month)\n",
    "\n",
    "# Accuracy\n",
    "acc <- mean(knn2_pred == test$default.payment.next.month)\n",
    "print(paste('Accuracy =', round(acc, 6), '%'))\n",
    "\n",
    "# AUC\n",
    "pred_roc <- pROC::roc(knn2_pred, test$default.payment.next.month)\n",
    "pred_auc <- pROC::auc(pred_roc)\n",
    "print(paste('AUC =', pred_auc))"
   ]
  },
  {
   "cell_type": "code",
   "execution_count": 74,
   "id": "97279e99-d3a1-4f87-a965-d875e4462de1",
   "metadata": {},
   "outputs": [
    {
     "name": "stdout",
     "output_type": "stream",
     "text": [
      "[1] \"Confusion matrix:\"\n"
     ]
    },
    {
     "data": {
      "text/plain": [
       "         \n",
       "knn2_pred     0     1\n",
       "        0 10497  2184\n",
       "        1   405   914"
      ]
     },
     "metadata": {},
     "output_type": "display_data"
    },
    {
     "name": "stdout",
     "output_type": "stream",
     "text": [
      "[1] \"Accuracy = 0.815071 %\"\n"
     ]
    },
    {
     "name": "stderr",
     "output_type": "stream",
     "text": [
      "Setting levels: control = 0, case = 1\n",
      "\n",
      "Setting direction: controls < cases\n",
      "\n"
     ]
    },
    {
     "name": "stdout",
     "output_type": "stream",
     "text": [
      "[1] \"AUC = 0.760361519406724\"\n"
     ]
    }
   ],
   "source": [
    "# k = 5\n",
    "set.seed(123)\n",
    "knn2_pred <- knn(train=train[, c('PAY_0', 'PAY_AMT2')],\n",
    "                 test=train[, c('PAY_0', 'PAY_AMT2')],\n",
    "                 cl=train$default.payment.next.month,\n",
    "                 k=5)\n",
    "\n",
    "# Confusion matrix\n",
    "print('Confusion matrix:')\n",
    "table(knn2_pred, train$default.payment.next.month)\n",
    "\n",
    "# Accuracy\n",
    "acc <- mean(knn2_pred == train$default.payment.next.month)\n",
    "print(paste('Accuracy =', round(acc, 6), '%'))\n",
    "\n",
    "# AUC\n",
    "pred_roc <- pROC::roc(knn2_pred, train$default.payment.next.month)\n",
    "pred_auc <- pROC::auc(pred_roc)\n",
    "print(paste('AUC =', pred_auc))"
   ]
  },
  {
   "cell_type": "markdown",
   "id": "209b54cf-fa70-48fc-9e5a-b83e9f2d6822",
   "metadata": {},
   "source": [
    "#### 1.5e KNN - Cross-Validation"
   ]
  },
  {
   "cell_type": "code",
   "execution_count": 75,
   "id": "dfc3b2ca-b8d1-44f1-bda4-6b79b0ce334b",
   "metadata": {},
   "outputs": [
    {
     "data": {
      "text/plain": [
       "k-Nearest Neighbors \n",
       "\n",
       "14000 samples\n",
       "    2 predictor\n",
       "    2 classes: '0', '1' \n",
       "\n",
       "No pre-processing\n",
       "Resampling: Cross-Validated (10 fold) \n",
       "Summary of sample sizes: 12601, 12600, 12600, 12599, 12600, 12600, ... \n",
       "Resampling results across tuning parameters:\n",
       "\n",
       "  k  Accuracy   Kappa    \n",
       "  5  0.7952870  0.2414873\n",
       "  7  0.7955009  0.2321406\n",
       "  9  0.7996433  0.2327442\n",
       "\n",
       "Accuracy was used to select the optimal model using the largest value.\n",
       "The final value used for the model was k = 9."
      ]
     },
     "metadata": {},
     "output_type": "display_data"
    }
   ],
   "source": [
    "train_control <- trainControl(method = \"cv\", number = 10)\n",
    "\n",
    "# train the model on training set\n",
    "model <- caret::train(as.factor(default.payment.next.month) ~ PAY_0 + PAY_AMT2,\n",
    "               data = train,\n",
    "               trControl = train_control,\n",
    "               method = \"knn\")\n",
    "\n",
    "# print cv result\n",
    "model"
   ]
  },
  {
   "cell_type": "code",
   "execution_count": 76,
   "id": "1923db67-f77a-4799-b8c9-c58182a732b9",
   "metadata": {},
   "outputs": [
    {
     "name": "stdout",
     "output_type": "stream",
     "text": [
      "[1] \"Confusion matrix:\"\n"
     ]
    },
    {
     "data": {
      "text/plain": [
       "         \n",
       "knn2_pred    0    1\n",
       "        0 4534 1078\n",
       "        1  150  238"
      ]
     },
     "metadata": {},
     "output_type": "display_data"
    },
    {
     "name": "stdout",
     "output_type": "stream",
     "text": [
      "[1] \"Accuracy = 0.795333 %\"\n"
     ]
    },
    {
     "name": "stderr",
     "output_type": "stream",
     "text": [
      "Setting levels: control = 0, case = 1\n",
      "\n",
      "Setting direction: controls < cases\n",
      "\n"
     ]
    },
    {
     "name": "stdout",
     "output_type": "stream",
     "text": [
      "[1] \"AUC = 0.710656839908591\"\n"
     ]
    }
   ],
   "source": [
    "# k = 9\n",
    "set.seed(123)\n",
    "knn2_pred <- knn(train=train[, c('PAY_0', 'PAY_AMT2')],\n",
    "                 test=test[, c('PAY_0', 'PAY_AMT2')],\n",
    "                 cl=train$default.payment.next.month,\n",
    "                 k=9)\n",
    "\n",
    "# Confusion matrix\n",
    "print('Confusion matrix:')\n",
    "table(knn2_pred, test$default.payment.next.month)\n",
    "\n",
    "# Accuracy\n",
    "acc <- mean(knn2_pred == test$default.payment.next.month)\n",
    "print(paste('Accuracy =', round(acc, 6), '%'))\n",
    "\n",
    "# AUC\n",
    "pred_roc <- pROC::roc(knn2_pred, test$default.payment.next.month)\n",
    "pred_auc <- pROC::auc(pred_roc)\n",
    "print(paste('AUC =', pred_auc))"
   ]
  },
  {
   "cell_type": "code",
   "execution_count": 77,
   "id": "68679f71-2842-4231-bf6d-3389c8c1a96f",
   "metadata": {},
   "outputs": [
    {
     "name": "stdout",
     "output_type": "stream",
     "text": [
      "[1] \"Confusion matrix:\"\n"
     ]
    },
    {
     "data": {
      "text/plain": [
       "         \n",
       "knn2_pred     0     1\n",
       "        0 10584  2374\n",
       "        1   318   724"
      ]
     },
     "metadata": {},
     "output_type": "display_data"
    },
    {
     "name": "stdout",
     "output_type": "stream",
     "text": [
      "[1] \"Accuracy = 0.807714 %\"\n"
     ]
    },
    {
     "name": "stderr",
     "output_type": "stream",
     "text": [
      "Setting levels: control = 0, case = 1\n",
      "\n",
      "Setting direction: controls < cases\n",
      "\n"
     ]
    },
    {
     "name": "stdout",
     "output_type": "stream",
     "text": [
      "[1] \"AUC = 0.755805186637236\"\n"
     ]
    }
   ],
   "source": [
    "# k = 9\n",
    "set.seed(123)\n",
    "knn2_pred <- knn(train=train[, c('PAY_0', 'PAY_AMT2')],\n",
    "                 test=train[, c('PAY_0', 'PAY_AMT2')],\n",
    "                 cl=train$default.payment.next.month,\n",
    "                 k=9)\n",
    "\n",
    "# Confusion matrix\n",
    "print('Confusion matrix:')\n",
    "table(knn2_pred, train$default.payment.next.month)\n",
    "\n",
    "# Accuracy\n",
    "acc <- mean(knn2_pred == train$default.payment.next.month)\n",
    "print(paste('Accuracy =', round(acc, 6), '%'))\n",
    "\n",
    "# AUC\n",
    "pred_roc <- pROC::roc(knn2_pred, train$default.payment.next.month)\n",
    "pred_auc <- pROC::auc(pred_roc)\n",
    "print(paste('AUC =', pred_auc))"
   ]
  }
 ],
 "metadata": {
  "kernelspec": {
   "display_name": "R",
   "language": "R",
   "name": "ir"
  },
  "language_info": {
   "codemirror_mode": "r",
   "file_extension": ".r",
   "mimetype": "text/x-r-source",
   "name": "R",
   "pygments_lexer": "r",
   "version": "4.0.5"
  }
 },
 "nbformat": 4,
 "nbformat_minor": 5
}

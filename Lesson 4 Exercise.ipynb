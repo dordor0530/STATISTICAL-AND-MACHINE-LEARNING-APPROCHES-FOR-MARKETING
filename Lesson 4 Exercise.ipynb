{
 "cells": [
  {
   "cell_type": "markdown",
   "id": "2857c12f",
   "metadata": {},
   "source": [
    "## Exercise 3 (p.332, Chap.8)"
   ]
  },
  {
   "cell_type": "markdown",
   "id": "cf4aa1a6",
   "metadata": {},
   "source": [
    "#### Consider the Gini index, classification error, and entropy in a simple classification setting with two classes. Create a single plot that displays each of these quantities as a function of ˆpm1. The x-axis should display ˆpm1, ranging from 0 to 1, and the y-axis should display the value of the Gini index, classification error, and entropy.\n",
    "#### Hint: In a setting with two classes, pˆm1 = 1 − pˆm2. You could make this plot by hand, but it will be much easier to make in R."
   ]
  },
  {
   "cell_type": "code",
   "execution_count": 1,
   "id": "a1fa67c6",
   "metadata": {},
   "outputs": [
    {
     "data": {
      "image/png": "[encoded data removed]",
      "text/plain": [
       "plot without title"
      ]
     },
     "metadata": {
      "image/png": {
       "height": 420,
       "width": 420
      }
     },
     "output_type": "display_data"
    }
   ],
   "source": [
    "p=seq(0,1,0.01)\n",
    "gini=p*(1-p)*2\n",
    "entropy=-(p*log(p)+(1-p)*log(1-p))\n",
    "ce=1-pmax(p,1-p)\n",
    "matplot(p,cbind(gini,entropy,ce),col=c('black','red','green'))"
   ]
  },
  {
   "cell_type": "markdown",
   "id": "20d9e72b",
   "metadata": {},
   "source": [
    "## Exercise 5 (p.332, Chap.8)"
   ]
  },
  {
   "cell_type": "markdown",
   "id": "280dcb78",
   "metadata": {},
   "source": [
    "#### 5. Suppose we produce ten bootstrapped samples from a data set containing red and green classes. We then apply a classification tree to each bootstrapped sample and, for a specific value of X, produce 10 estimates of P(Class is Red|X):\n",
    "#### 0.1, 0.15, 0.2, 0.2, 0.55, 0.6, 0.6, 0.65, 0.7, and 0.75.\n",
    "#### There are two common ways to combine these results together into a single class prediction. One is the majority vote approach discussed in this chapter. The second approach is to classify based on the average probability. In this example, what is the final classification under each of these two approaches?"
   ]
  },
  {
   "cell_type": "code",
   "execution_count": 2,
   "id": "ec73ed9a",
   "metadata": {},
   "outputs": [],
   "source": [
    "p = c(0.1, 0.15, 0.2, 0.2, 0.55, 0.6, 0.6, 0.65, 0.7, 0.75)"
   ]
  },
  {
   "cell_type": "code",
   "execution_count": 3,
   "id": "82475492",
   "metadata": {},
   "outputs": [
    {
     "data": {
      "text/html": [
       "TRUE"
      ],
      "text/latex": [
       "TRUE"
      ],
      "text/markdown": [
       "TRUE"
      ],
      "text/plain": [
       "[1] TRUE"
      ]
     },
     "metadata": {},
     "output_type": "display_data"
    }
   ],
   "source": [
    "# Majority vote approach\n",
    "sum(p >= 0.5) > sum(p < 0.5)"
   ]
  },
  {
   "cell_type": "code",
   "execution_count": 4,
   "id": "21598737",
   "metadata": {},
   "outputs": [],
   "source": [
    "# The number of red predictions is greater than the number of green predictions based on a 50% threshold, thus RED."
   ]
  },
  {
   "cell_type": "code",
   "execution_count": 5,
   "id": "dc61f86e",
   "metadata": {},
   "outputs": [
    {
     "data": {
      "text/html": [
       "0.45"
      ],
      "text/latex": [
       "0.45"
      ],
      "text/markdown": [
       "0.45"
      ],
      "text/plain": [
       "[1] 0.45"
      ]
     },
     "metadata": {},
     "output_type": "display_data"
    }
   ],
   "source": [
    "# Average probability approach\n",
    "mean(p)"
   ]
  },
  {
   "cell_type": "code",
   "execution_count": 6,
   "id": "9a1d9de4",
   "metadata": {},
   "outputs": [],
   "source": [
    "# The average of the probabilities is less than the 50% threshold, thus GREEN."
   ]
  },
  {
   "cell_type": "markdown",
   "id": "b0d558cc",
   "metadata": {},
   "source": [
    "## Exercise 8 (p.333, Chap.8)"
   ]
  },
  {
   "cell_type": "markdown",
   "id": "a41a9da8",
   "metadata": {},
   "source": [
    "#### 8. In the lab, a classification tree was applied to the Carseats data set after converting Sales into a qualitative response variable. Now we will seek to predict Sales using regression trees and related approaches, treating the response as a quantitative variable."
   ]
  },
  {
   "cell_type": "markdown",
   "id": "116fc983",
   "metadata": {},
   "source": [
    "#### (a) Split the data set into a training set and a test set."
   ]
  },
  {
   "cell_type": "code",
   "execution_count": 7,
   "id": "96eaeca6",
   "metadata": {},
   "outputs": [],
   "source": [
    "library(ISLR)\n",
    "attach(Carseats)\n",
    "set.seed(530)\n",
    "\n",
    "train = sample(dim(Carseats)[1], dim(Carseats)[1]/2)\n",
    "Carseats_train = Carseats[train, ]\n",
    "Carseats_test = Carseats[-train, ]"
   ]
  },
  {
   "cell_type": "markdown",
   "id": "6e43a1f6",
   "metadata": {},
   "source": [
    "#### (b) Fit a regression tree to the training set. Plot the tree, and inter\u0002pret the results. What test MSE do you obtain?"
   ]
  },
  {
   "cell_type": "code",
   "execution_count": 8,
   "id": "e365b1ff",
   "metadata": {},
   "outputs": [
    {
     "data": {
      "text/plain": [
       "\n",
       "Regression tree:\n",
       "tree(formula = Sales ~ ., data = Carseats_train)\n",
       "Variables actually used in tree construction:\n",
       "[1] \"ShelveLoc\"   \"Price\"       \"Age\"         \"Advertising\" \"CompPrice\"  \n",
       "Number of terminal nodes:  17 \n",
       "Residual mean deviance:  2.093 = 383 / 183 \n",
       "Distribution of residuals:\n",
       "    Min.  1st Qu.   Median     Mean  3rd Qu.     Max. \n",
       "-3.71000 -0.86490  0.03527  0.00000  0.91650  3.69000 "
      ]
     },
     "metadata": {},
     "output_type": "display_data"
    }
   ],
   "source": [
    "library(tree)\n",
    "tree_carseats = tree(Sales ~ ., data = Carseats_train)\n",
    "summary(tree_carseats)"
   ]
  },
  {
   "cell_type": "code",
   "execution_count": 9,
   "id": "9f17a925",
   "metadata": {},
   "outputs": [
    {
     "data": {
      "image/png": "[encoded data removed]",
      "text/plain": [
       "plot without title"
      ]
     },
     "metadata": {
      "image/png": {
       "height": 420,
       "width": 420
      }
     },
     "output_type": "display_data"
    }
   ],
   "source": [
    "plot(tree_carseats)\n",
    "text(tree_carseats, pretty = 0)"
   ]
  },
  {
   "cell_type": "code",
   "execution_count": 11,
   "id": "3f4692b9",
   "metadata": {},
   "outputs": [
    {
     "data": {
      "text/html": [
       "5.32130659115152"
      ],
      "text/latex": [
       "5.32130659115152"
      ],
      "text/markdown": [
       "5.32130659115152"
      ],
      "text/plain": [
       "[1] 5.321307"
      ]
     },
     "metadata": {},
     "output_type": "display_data"
    }
   ],
   "source": [
    "pred_carseats = predict(tree_carseats, Carseats_test)\n",
    "mean((Carseats_test$Sales - pred_carseats)^2)"
   ]
  },
  {
   "cell_type": "code",
   "execution_count": null,
   "id": "296a38ff",
   "metadata": {},
   "outputs": [],
   "source": [
    "# The test MSE is about 5.32"
   ]
  },
  {
   "cell_type": "markdown",
   "id": "75c5a99f",
   "metadata": {},
   "source": [
    "#### (c) Use cross-validation in order to determine the optimal level of tree complexity. Does pruning the tree improve the test MSE?"
   ]
  },
  {
   "cell_type": "code",
   "execution_count": 12,
   "id": "cd4e82b2",
   "metadata": {},
   "outputs": [
    {
     "data": {
      "image/png": "[encoded data removed]",
      "text/plain": [
       "plot without title"
      ]
     },
     "metadata": {
      "image/png": {
       "height": 420,
       "width": 420
      }
     },
     "output_type": "display_data"
    }
   ],
   "source": [
    "cv_carseats = cv.tree(tree_carseats, FUN = prune.tree)\n",
    "par(mfrow = c(1, 2))\n",
    "plot(cv_carseats$size, cv_carseats$dev, type = \"b\")\n",
    "plot(cv_carseats$k, cv_carseats$dev, type = \"b\")"
   ]
  },
  {
   "cell_type": "code",
   "execution_count": 13,
   "id": "80aae39a",
   "metadata": {},
   "outputs": [
    {
     "data": {
      "image/png": "[encoded data removed]",
      "text/plain": [
       "plot without title"
      ]
     },
     "metadata": {
      "image/png": {
       "height": 420,
       "width": 420
      }
     },
     "output_type": "display_data"
    }
   ],
   "source": [
    "# Best size = 15\n",
    "pruned_carseats = prune.tree(tree_carseats, best = 15)\n",
    "par(mfrow = c(1, 1))\n",
    "plot(pruned_carseats)\n",
    "text(pruned_carseats, pretty = 0)"
   ]
  },
  {
   "cell_type": "code",
   "execution_count": 14,
   "id": "d6de6b50",
   "metadata": {},
   "outputs": [
    {
     "data": {
      "text/html": [
       "5.28782509469762"
      ],
      "text/latex": [
       "5.28782509469762"
      ],
      "text/markdown": [
       "5.28782509469762"
      ],
      "text/plain": [
       "[1] 5.287825"
      ]
     },
     "metadata": {},
     "output_type": "display_data"
    }
   ],
   "source": [
    "pred_pruned = predict(pruned_carseats, Carseats_test)\n",
    "mean((Carseats_test$Sales - pred_pruned)^2)"
   ]
  },
  {
   "cell_type": "code",
   "execution_count": null,
   "id": "7bc1af57",
   "metadata": {},
   "outputs": [],
   "source": [
    "# Pruning the tree in this case increases the test MSE to 5.29"
   ]
  },
  {
   "cell_type": "markdown",
   "id": "bd685a97",
   "metadata": {},
   "source": [
    "#### (d) Use the bagging approach in order to analyze this data. What test MSE do you obtain? Use the importance() function to determine which variables are most important."
   ]
  },
  {
   "cell_type": "code",
   "execution_count": 15,
   "id": "55dacdab",
   "metadata": {},
   "outputs": [
    {
     "name": "stderr",
     "output_type": "stream",
     "text": [
      "randomForest 4.6-14\n",
      "\n",
      "Type rfNews() to see new features/changes/bug fixes.\n",
      "\n"
     ]
    },
    {
     "data": {
      "text/html": [
       "3.36070221540492"
      ],
      "text/latex": [
       "3.36070221540492"
      ],
      "text/markdown": [
       "3.36070221540492"
      ],
      "text/plain": [
       "[1] 3.360702"
      ]
     },
     "metadata": {},
     "output_type": "display_data"
    }
   ],
   "source": [
    "library(randomForest)\n",
    "bag_carseats = randomForest(Sales ~ ., data = Carseats_train, mtry = 10, ntree = 500, \n",
    "    importance = T)\n",
    "bag_pred = predict(bag_carseats, Carseats_test)\n",
    "mean((Carseats_test$Sales - bag_pred)^2)"
   ]
  },
  {
   "cell_type": "code",
   "execution_count": 16,
   "id": "882bfce4",
   "metadata": {},
   "outputs": [
    {
     "data": {
      "text/html": [
       "<table class=\"dataframe\">\n",
       "<caption>A matrix: 10 × 2 of type dbl</caption>\n",
       "<thead>\n",
       "\t<tr><th></th><th scope=col>%IncMSE</th><th scope=col>IncNodePurity</th></tr>\n",
       "</thead>\n",
       "<tbody>\n",
       "\t<tr><th scope=row>CompPrice</th><td>21.4113877</td><td>149.391202</td></tr>\n",
       "\t<tr><th scope=row>Income</th><td> 0.1683101</td><td> 68.020865</td></tr>\n",
       "\t<tr><th scope=row>Advertising</th><td>15.7088993</td><td>148.405590</td></tr>\n",
       "\t<tr><th scope=row>Population</th><td>-0.9065363</td><td> 53.207292</td></tr>\n",
       "\t<tr><th scope=row>Price</th><td>43.9986469</td><td>316.969970</td></tr>\n",
       "\t<tr><th scope=row>ShelveLoc</th><td>47.9530420</td><td>343.309535</td></tr>\n",
       "\t<tr><th scope=row>Age</th><td>18.9302907</td><td>154.189028</td></tr>\n",
       "\t<tr><th scope=row>Education</th><td> 1.2968054</td><td> 50.142155</td></tr>\n",
       "\t<tr><th scope=row>Urban</th><td>-2.5022467</td><td>  5.647240</td></tr>\n",
       "\t<tr><th scope=row>US</th><td> 2.4758350</td><td>  6.029274</td></tr>\n",
       "</tbody>\n",
       "</table>\n"
      ],
      "text/latex": [
       "A matrix: 10 × 2 of type dbl\n",
       "\\begin{tabular}{r|ll}\n",
       "  & \\%IncMSE & IncNodePurity\\\\\n",
       "\\hline\n",
       "\tCompPrice & 21.4113877 & 149.391202\\\\\n",
       "\tIncome &  0.1683101 &  68.020865\\\\\n",
       "\tAdvertising & 15.7088993 & 148.405590\\\\\n",
       "\tPopulation & -0.9065363 &  53.207292\\\\\n",
       "\tPrice & 43.9986469 & 316.969970\\\\\n",
       "\tShelveLoc & 47.9530420 & 343.309535\\\\\n",
       "\tAge & 18.9302907 & 154.189028\\\\\n",
       "\tEducation &  1.2968054 &  50.142155\\\\\n",
       "\tUrban & -2.5022467 &   5.647240\\\\\n",
       "\tUS &  2.4758350 &   6.029274\\\\\n",
       "\\end{tabular}\n"
      ],
      "text/markdown": [
       "\n",
       "A matrix: 10 × 2 of type dbl\n",
       "\n",
       "| <!--/--> | %IncMSE | IncNodePurity |\n",
       "|---|---|---|\n",
       "| CompPrice | 21.4113877 | 149.391202 |\n",
       "| Income |  0.1683101 |  68.020865 |\n",
       "| Advertising | 15.7088993 | 148.405590 |\n",
       "| Population | -0.9065363 |  53.207292 |\n",
       "| Price | 43.9986469 | 316.969970 |\n",
       "| ShelveLoc | 47.9530420 | 343.309535 |\n",
       "| Age | 18.9302907 | 154.189028 |\n",
       "| Education |  1.2968054 |  50.142155 |\n",
       "| Urban | -2.5022467 |   5.647240 |\n",
       "| US |  2.4758350 |   6.029274 |\n",
       "\n"
      ],
      "text/plain": [
       "            %IncMSE    IncNodePurity\n",
       "CompPrice   21.4113877 149.391202   \n",
       "Income       0.1683101  68.020865   \n",
       "Advertising 15.7088993 148.405590   \n",
       "Population  -0.9065363  53.207292   \n",
       "Price       43.9986469 316.969970   \n",
       "ShelveLoc   47.9530420 343.309535   \n",
       "Age         18.9302907 154.189028   \n",
       "Education    1.2968054  50.142155   \n",
       "Urban       -2.5022467   5.647240   \n",
       "US           2.4758350   6.029274   "
      ]
     },
     "metadata": {},
     "output_type": "display_data"
    }
   ],
   "source": [
    "importance(bag_carseats)"
   ]
  },
  {
   "cell_type": "code",
   "execution_count": null,
   "id": "23bebfe1",
   "metadata": {},
   "outputs": [],
   "source": [
    "# Bagging improves the test MSE to 3.36. We also see that Price, ShelveLoc and Age are three most important predictors of Sale."
   ]
  },
  {
   "cell_type": "markdown",
   "id": "432dac47",
   "metadata": {},
   "source": [
    "#### (e) Use random forests to analyze this data. What test MSE do you obtain? Use the importance() function to determine which variables are most important. Describe the effect of m, the number of variables considered at each split, on the error rate obtained."
   ]
  },
  {
   "cell_type": "code",
   "execution_count": 17,
   "id": "75c6dc86",
   "metadata": {},
   "outputs": [
    {
     "data": {
      "text/html": [
       "3.5864358152906"
      ],
      "text/latex": [
       "3.5864358152906"
      ],
      "text/markdown": [
       "3.5864358152906"
      ],
      "text/plain": [
       "[1] 3.586436"
      ]
     },
     "metadata": {},
     "output_type": "display_data"
    }
   ],
   "source": [
    "rf_carseats = randomForest(Sales ~ ., data = Carseats_train, mtry = 5, ntree = 500, \n",
    "    importance = T)\n",
    "rf_pred = predict(rf_carseats, Carseats_test)\n",
    "mean((Carseats_test$Sales - rf_pred)^2)"
   ]
  },
  {
   "cell_type": "code",
   "execution_count": 18,
   "id": "db4ce8fd",
   "metadata": {},
   "outputs": [
    {
     "data": {
      "text/html": [
       "<table class=\"dataframe\">\n",
       "<caption>A matrix: 10 × 2 of type dbl</caption>\n",
       "<thead>\n",
       "\t<tr><th></th><th scope=col>%IncMSE</th><th scope=col>IncNodePurity</th></tr>\n",
       "</thead>\n",
       "<tbody>\n",
       "\t<tr><th scope=row>CompPrice</th><td>14.1633715</td><td>136.942150</td></tr>\n",
       "\t<tr><th scope=row>Income</th><td> 0.8669286</td><td> 84.365884</td></tr>\n",
       "\t<tr><th scope=row>Advertising</th><td>18.0251041</td><td>168.972008</td></tr>\n",
       "\t<tr><th scope=row>Population</th><td>-2.1936573</td><td> 73.585302</td></tr>\n",
       "\t<tr><th scope=row>Price</th><td>35.5513361</td><td>286.681650</td></tr>\n",
       "\t<tr><th scope=row>ShelveLoc</th><td>39.9711958</td><td>296.997601</td></tr>\n",
       "\t<tr><th scope=row>Age</th><td>15.2150318</td><td>150.950040</td></tr>\n",
       "\t<tr><th scope=row>Education</th><td> 3.0669088</td><td> 59.715418</td></tr>\n",
       "\t<tr><th scope=row>Urban</th><td>-3.3573723</td><td>  8.327118</td></tr>\n",
       "\t<tr><th scope=row>US</th><td> 1.4281976</td><td> 11.803623</td></tr>\n",
       "</tbody>\n",
       "</table>\n"
      ],
      "text/latex": [
       "A matrix: 10 × 2 of type dbl\n",
       "\\begin{tabular}{r|ll}\n",
       "  & \\%IncMSE & IncNodePurity\\\\\n",
       "\\hline\n",
       "\tCompPrice & 14.1633715 & 136.942150\\\\\n",
       "\tIncome &  0.8669286 &  84.365884\\\\\n",
       "\tAdvertising & 18.0251041 & 168.972008\\\\\n",
       "\tPopulation & -2.1936573 &  73.585302\\\\\n",
       "\tPrice & 35.5513361 & 286.681650\\\\\n",
       "\tShelveLoc & 39.9711958 & 296.997601\\\\\n",
       "\tAge & 15.2150318 & 150.950040\\\\\n",
       "\tEducation &  3.0669088 &  59.715418\\\\\n",
       "\tUrban & -3.3573723 &   8.327118\\\\\n",
       "\tUS &  1.4281976 &  11.803623\\\\\n",
       "\\end{tabular}\n"
      ],
      "text/markdown": [
       "\n",
       "A matrix: 10 × 2 of type dbl\n",
       "\n",
       "| <!--/--> | %IncMSE | IncNodePurity |\n",
       "|---|---|---|\n",
       "| CompPrice | 14.1633715 | 136.942150 |\n",
       "| Income |  0.8669286 |  84.365884 |\n",
       "| Advertising | 18.0251041 | 168.972008 |\n",
       "| Population | -2.1936573 |  73.585302 |\n",
       "| Price | 35.5513361 | 286.681650 |\n",
       "| ShelveLoc | 39.9711958 | 296.997601 |\n",
       "| Age | 15.2150318 | 150.950040 |\n",
       "| Education |  3.0669088 |  59.715418 |\n",
       "| Urban | -3.3573723 |   8.327118 |\n",
       "| US |  1.4281976 |  11.803623 |\n",
       "\n"
      ],
      "text/plain": [
       "            %IncMSE    IncNodePurity\n",
       "CompPrice   14.1633715 136.942150   \n",
       "Income       0.8669286  84.365884   \n",
       "Advertising 18.0251041 168.972008   \n",
       "Population  -2.1936573  73.585302   \n",
       "Price       35.5513361 286.681650   \n",
       "ShelveLoc   39.9711958 296.997601   \n",
       "Age         15.2150318 150.950040   \n",
       "Education    3.0669088  59.715418   \n",
       "Urban       -3.3573723   8.327118   \n",
       "US           1.4281976  11.803623   "
      ]
     },
     "metadata": {},
     "output_type": "display_data"
    }
   ],
   "source": [
    "importance(rf_carseats)"
   ]
  },
  {
   "cell_type": "code",
   "execution_count": null,
   "id": "ed195cba",
   "metadata": {},
   "outputs": [],
   "source": [
    "# In this case, random forest worsens the MSE on test set to 3.59. Changing mm varies test MSE between 3.36 to 3.59. This time Price, ShelveLoc and Advertising are three most important predictors of Sale."
   ]
  },
  {
   "cell_type": "markdown",
   "id": "a3d1493b",
   "metadata": {},
   "source": [
    "## Exercise 9 (p.334, Chap.8)"
   ]
  },
  {
   "cell_type": "markdown",
   "id": "9d2643c0",
   "metadata": {},
   "source": [
    "#### (a) Create a training set containing a random sample of 800 observations, and a test set containing the remaining observations."
   ]
  },
  {
   "cell_type": "code",
   "execution_count": 19,
   "id": "f4ec2a08",
   "metadata": {},
   "outputs": [],
   "source": [
    "library(ISLR)\n",
    "attach(OJ)\n",
    "set.seed(530)\n",
    "\n",
    "train = sample(dim(OJ)[1], 800)\n",
    "OJ.train = OJ[train, ]\n",
    "OJ.test = OJ[-train, ]"
   ]
  },
  {
   "cell_type": "markdown",
   "id": "ebe0e6ac",
   "metadata": {},
   "source": [
    "#### (b) Fit a tree to the training data, with Purchase as the response and the other variables as predictors. Use the summary() function to produce summary statistics about the tree, and describe the results obtained. What is the training error rate? How many terminal nodes does the tree have?"
   ]
  },
  {
   "cell_type": "code",
   "execution_count": 20,
   "id": "eb86cd64",
   "metadata": {},
   "outputs": [
    {
     "data": {
      "text/plain": [
       "\n",
       "Classification tree:\n",
       "tree(formula = Purchase ~ ., data = OJ.train)\n",
       "Variables actually used in tree construction:\n",
       "[1] \"LoyalCH\"       \"SpecialCH\"     \"ListPriceDiff\" \"PriceDiff\"    \n",
       "Number of terminal nodes:  7 \n",
       "Residual mean deviance:  0.7556 = 599.2 / 793 \n",
       "Misclassification error rate: 0.1525 = 122 / 800 "
      ]
     },
     "metadata": {},
     "output_type": "display_data"
    }
   ],
   "source": [
    "library(tree)\n",
    "oj.tree = tree(Purchase ~ ., data = OJ.train)\n",
    "summary(oj.tree)"
   ]
  },
  {
   "cell_type": "code",
   "execution_count": null,
   "id": "10f791db",
   "metadata": {},
   "outputs": [],
   "source": [
    "# The tree only uses two variables: LoyalCH and PriceDiff. It has 7 terminal nodes. Training error rate (misclassification error) for the tree is 0.1525."
   ]
  },
  {
   "cell_type": "markdown",
   "id": "a2dec348",
   "metadata": {},
   "source": [
    "#### (c) Type in the name of the tree object in order to get a detailed text output. Pick one of the terminal nodes, and interpret the information displayed."
   ]
  },
  {
   "cell_type": "code",
   "execution_count": 21,
   "id": "2197eae0",
   "metadata": {},
   "outputs": [
    {
     "data": {
      "text/plain": [
       "node), split, n, deviance, yval, (yprob)\n",
       "      * denotes terminal node\n",
       "\n",
       " 1) root 800 1070.00 CH ( 0.61000 0.39000 )  \n",
       "   2) LoyalCH < 0.482935 306  331.50 MM ( 0.23203 0.76797 )  \n",
       "     4) LoyalCH < 0.0356415 65   10.33 MM ( 0.01538 0.98462 ) *\n",
       "     5) LoyalCH > 0.0356415 241  290.40 MM ( 0.29046 0.70954 )  \n",
       "      10) SpecialCH < 0.5 217  245.70 MM ( 0.25346 0.74654 ) *\n",
       "      11) SpecialCH > 0.5 24   31.76 CH ( 0.62500 0.37500 ) *\n",
       "   3) LoyalCH > 0.482935 494  427.60 CH ( 0.84413 0.15587 )  \n",
       "     6) LoyalCH < 0.764572 243  286.20 CH ( 0.72428 0.27572 )  \n",
       "      12) ListPriceDiff < 0.235 97  134.50 MM ( 0.49485 0.50515 )  \n",
       "        24) PriceDiff < 0.015 52   64.19 MM ( 0.30769 0.69231 ) *\n",
       "        25) PriceDiff > 0.015 45   54.10 CH ( 0.71111 0.28889 ) *\n",
       "      13) ListPriceDiff > 0.235 146  109.00 CH ( 0.87671 0.12329 ) *\n",
       "     7) LoyalCH > 0.764572 251   84.05 CH ( 0.96016 0.03984 ) *"
      ]
     },
     "metadata": {},
     "output_type": "display_data"
    }
   ],
   "source": [
    "oj.tree"
   ]
  },
  {
   "cell_type": "code",
   "execution_count": null,
   "id": "c73e293d",
   "metadata": {},
   "outputs": [],
   "source": [
    "# Let's pick terminal node labeled “10)”. The splitting variable at this node is SpecialCH. The splitting value of this node is 0.5. There are 217 points in the subtree below this node. The deviance for all points contained in region below this node is 245.70. A * in the line denotes that this is in fact a terminal node. The prediction at this node is Sales = MM. About 25% points in this node have CH as value of Sales. Remaining 75% points have MM as value of Sales."
   ]
  },
  {
   "cell_type": "markdown",
   "id": "97bf66fe",
   "metadata": {},
   "source": [
    "#### (d) Create a plot of the tree, and interpret the results."
   ]
  },
  {
   "cell_type": "code",
   "execution_count": 22,
   "id": "fa4d737b",
   "metadata": {},
   "outputs": [
    {
     "data": {
      "image/png": "[encoded data removed]",
      "text/plain": [
       "plot without title"
      ]
     },
     "metadata": {
      "image/png": {
       "height": 420,
       "width": 420
      }
     },
     "output_type": "display_data"
    }
   ],
   "source": [
    "plot(oj.tree)\n",
    "text(oj.tree, pretty = 0)"
   ]
  },
  {
   "cell_type": "code",
   "execution_count": null,
   "id": "82e57433",
   "metadata": {},
   "outputs": [],
   "source": [
    "# LoyalCH is the most important variable of the tree, in fact top 3 nodes contain LoyalCH. If LoyalCH<0.0356415, the tree predicts MM. If LoyalCH>0.764572, the tree predicts CH. For intermediate values of LoyalCH, the decision also depends on the value of SpecialCH,ListPriceDiff & PriceDiff."
   ]
  },
  {
   "cell_type": "markdown",
   "id": "23a20849",
   "metadata": {},
   "source": [
    "#### (e) Predict the response on the test data, and produce a confusion matrix comparing the test labels to the predicted test labels. What is the test error rate?"
   ]
  },
  {
   "cell_type": "code",
   "execution_count": 23,
   "id": "3310e17b",
   "metadata": {},
   "outputs": [
    {
     "data": {
      "text/plain": [
       "    oj.pred\n",
       "      CH  MM\n",
       "  CH 139  26\n",
       "  MM  26  79"
      ]
     },
     "metadata": {},
     "output_type": "display_data"
    }
   ],
   "source": [
    "oj.pred = predict(oj.tree, OJ.test, type = \"class\")\n",
    "table(OJ.test$Purchase, oj.pred)"
   ]
  },
  {
   "cell_type": "markdown",
   "id": "29fad077",
   "metadata": {},
   "source": [
    "#### (f) Apply the cv.tree() function to the training set in order to determine the optimal tree size."
   ]
  },
  {
   "cell_type": "code",
   "execution_count": 24,
   "id": "71150ac4",
   "metadata": {},
   "outputs": [],
   "source": [
    "cv.oj = cv.tree(oj.tree, FUN = prune.tree)"
   ]
  },
  {
   "cell_type": "markdown",
   "id": "405741e5",
   "metadata": {},
   "source": [
    "#### (g) Produce a plot with tree size on the x-axis and cross-validated classification error rate on the y-axis."
   ]
  },
  {
   "cell_type": "code",
   "execution_count": 25,
   "id": "2c49707f",
   "metadata": {},
   "outputs": [
    {
     "data": {
      "image/png": "[encoded data removed]",
      "text/plain": [
       "plot without title"
      ]
     },
     "metadata": {
      "image/png": {
       "height": 420,
       "width": 420
      }
     },
     "output_type": "display_data"
    }
   ],
   "source": [
    "plot(cv.oj$size, cv.oj$dev, type = \"b\", xlab = \"Tree Size\", ylab = \"Deviance\")"
   ]
  },
  {
   "cell_type": "markdown",
   "id": "fc3a9ffb",
   "metadata": {},
   "source": [
    "#### (h) Which tree size corresponds to the lowest cross-validated classification error rate?"
   ]
  },
  {
   "cell_type": "code",
   "execution_count": null,
   "id": "0b049f83",
   "metadata": {},
   "outputs": [],
   "source": [
    "# Size of 5 gives lowest cross-validation error."
   ]
  },
  {
   "cell_type": "markdown",
   "id": "f6810c63",
   "metadata": {},
   "source": [
    "#### (i) Produce a pruned tree corresponding to the optimal tree size obtained using cross-validation. If cross-validation does not lead to selection of a pruned tree, then create a pruned tree with five terminal nodes."
   ]
  },
  {
   "cell_type": "code",
   "execution_count": 30,
   "id": "026dea47",
   "metadata": {},
   "outputs": [],
   "source": [
    "oj.pruned = prune.tree(oj.tree, best = 5)"
   ]
  },
  {
   "cell_type": "markdown",
   "id": "2e85fd27",
   "metadata": {},
   "source": [
    "#### (j) Compare the training error rates between the pruned and unpruned trees. Which is higher"
   ]
  },
  {
   "cell_type": "code",
   "execution_count": 31,
   "id": "13752f0d",
   "metadata": {},
   "outputs": [
    {
     "data": {
      "text/plain": [
       "\n",
       "Classification tree:\n",
       "snip.tree(tree = oj.tree, nodes = c(5L, 12L))\n",
       "Variables actually used in tree construction:\n",
       "[1] \"LoyalCH\"       \"ListPriceDiff\"\n",
       "Number of terminal nodes:  5 \n",
       "Residual mean deviance:  0.7903 = 628.3 / 795 \n",
       "Misclassification error rate: 0.1838 = 147 / 800 "
      ]
     },
     "metadata": {},
     "output_type": "display_data"
    }
   ],
   "source": [
    "summary(oj.pruned)"
   ]
  },
  {
   "cell_type": "code",
   "execution_count": null,
   "id": "a45e63d8",
   "metadata": {},
   "outputs": [],
   "source": [
    "# Misclassification error of pruned tree (0.1838) is higher than that of original tree of 0.1525."
   ]
  },
  {
   "cell_type": "markdown",
   "id": "35322c56",
   "metadata": {},
   "source": [
    "#### (k) Compare the test error rates between the pruned and unpruned trees. Which is higher?"
   ]
  },
  {
   "cell_type": "code",
   "execution_count": 32,
   "id": "3b6586e9",
   "metadata": {},
   "outputs": [
    {
     "data": {
      "text/html": [
       "0.192592592592593"
      ],
      "text/latex": [
       "0.192592592592593"
      ],
      "text/markdown": [
       "0.192592592592593"
      ],
      "text/plain": [
       "[1] 0.1925926"
      ]
     },
     "metadata": {},
     "output_type": "display_data"
    }
   ],
   "source": [
    "pred.unpruned = predict(oj.tree, OJ.test, type = \"class\")\n",
    "misclass.unpruned = sum(OJ.test$Purchase != pred.unpruned)\n",
    "misclass.unpruned/length(pred.unpruned)"
   ]
  },
  {
   "cell_type": "code",
   "execution_count": 33,
   "id": "555ea833",
   "metadata": {},
   "outputs": [
    {
     "data": {
      "text/html": [
       "0.196296296296296"
      ],
      "text/latex": [
       "0.196296296296296"
      ],
      "text/markdown": [
       "0.196296296296296"
      ],
      "text/plain": [
       "[1] 0.1962963"
      ]
     },
     "metadata": {},
     "output_type": "display_data"
    }
   ],
   "source": [
    "pred.pruned = predict(oj.pruned, OJ.test, type = \"class\")\n",
    "misclass.pruned = sum(OJ.test$Purchase != pred.pruned)\n",
    "misclass.pruned/length(pred.pruned)"
   ]
  },
  {
   "cell_type": "code",
   "execution_count": null,
   "id": "ae15caac",
   "metadata": {},
   "outputs": [],
   "source": [
    "# Pruned have the test error rate 0.196 and unpruned trees have the test error rate of 0.193."
   ]
  },
  {
   "cell_type": "markdown",
   "id": "535e59b3",
   "metadata": {},
   "source": [
    "## Exercise 10 (p.334, Chap.8)"
   ]
  },
  {
   "cell_type": "markdown",
   "id": "3b7b0dce",
   "metadata": {},
   "source": [
    "#### 10. We now use boosting to predict Salary in the Hitters data set."
   ]
  },
  {
   "cell_type": "markdown",
   "id": "bee5ddea",
   "metadata": {},
   "source": [
    "#### (a) Remove the observations for whom the salary information is unknown, and then log-transform the salaries."
   ]
  },
  {
   "cell_type": "code",
   "execution_count": 34,
   "id": "d9b4234a",
   "metadata": {},
   "outputs": [
    {
     "data": {
      "text/html": [
       "59"
      ],
      "text/latex": [
       "59"
      ],
      "text/markdown": [
       "59"
      ],
      "text/plain": [
       "[1] 59"
      ]
     },
     "metadata": {},
     "output_type": "display_data"
    }
   ],
   "source": [
    "library(ISLR)\n",
    "sum(is.na(Hitters$Salary))"
   ]
  },
  {
   "cell_type": "code",
   "execution_count": 35,
   "id": "0a83b43d",
   "metadata": {},
   "outputs": [
    {
     "data": {
      "text/html": [
       "0"
      ],
      "text/latex": [
       "0"
      ],
      "text/markdown": [
       "0"
      ],
      "text/plain": [
       "[1] 0"
      ]
     },
     "metadata": {},
     "output_type": "display_data"
    }
   ],
   "source": [
    "Hitters = Hitters[-which(is.na(Hitters$Salary)), ]\n",
    "sum(is.na(Hitters$Salary))"
   ]
  },
  {
   "cell_type": "code",
   "execution_count": 36,
   "id": "87177447",
   "metadata": {},
   "outputs": [],
   "source": [
    "Hitters$Salary = log(Hitters$Salary)"
   ]
  },
  {
   "cell_type": "markdown",
   "id": "210e1230",
   "metadata": {},
   "source": [
    "#### (b) Create a training set consisting of the first 200 observations, and a test set consisting of the remaining observations."
   ]
  },
  {
   "cell_type": "code",
   "execution_count": 37,
   "id": "a260e58c",
   "metadata": {},
   "outputs": [],
   "source": [
    "train = 1:200\n",
    "Hitters.train = Hitters[train, ]\n",
    "Hitters.test = Hitters[-train, ]"
   ]
  },
  {
   "cell_type": "markdown",
   "id": "ec67757d",
   "metadata": {},
   "source": [
    "#### (c) Perform boosting on the training set with 1,000 trees for a range of values of the shrinkage parameter λ. Produce a plot with different shrinkage values on the x-axis and the corresponding training set MSE on the y-axis."
   ]
  },
  {
   "cell_type": "code",
   "execution_count": 38,
   "id": "deb453c2",
   "metadata": {},
   "outputs": [
    {
     "name": "stderr",
     "output_type": "stream",
     "text": [
      "Loaded gbm 2.1.8\n",
      "\n"
     ]
    }
   ],
   "source": [
    "library(gbm)"
   ]
  },
  {
   "cell_type": "code",
   "execution_count": 39,
   "id": "92eff1db",
   "metadata": {},
   "outputs": [
    {
     "data": {
      "image/png": "[encoded data removed]",
      "text/plain": [
       "plot without title"
      ]
     },
     "metadata": {
      "image/png": {
       "height": 420,
       "width": 420
      }
     },
     "output_type": "display_data"
    }
   ],
   "source": [
    "set.seed(530)\n",
    "pows = seq(-10, -0.2, by = 0.1)\n",
    "lambdas = 10^pows\n",
    "length.lambdas = length(lambdas)\n",
    "train.errors = rep(NA, length.lambdas)\n",
    "test.errors = rep(NA, length.lambdas)\n",
    "for (i in 1:length.lambdas) {\n",
    "    boost.hitters = gbm(Salary ~ ., data = Hitters.train, distribution = \"gaussian\", \n",
    "        n.trees = 1000, shrinkage = lambdas[i])\n",
    "    train.pred = predict(boost.hitters, Hitters.train, n.trees = 1000)\n",
    "    test.pred = predict(boost.hitters, Hitters.test, n.trees = 1000)\n",
    "    train.errors[i] = mean((Hitters.train$Salary - train.pred)^2)\n",
    "    test.errors[i] = mean((Hitters.test$Salary - test.pred)^2)\n",
    "}\n",
    "\n",
    "plot(lambdas, train.errors, type = \"b\", xlab = \"Shrinkage\", ylab = \"Train MSE\", \n",
    "    col = \"blue\", pch = 20)"
   ]
  },
  {
   "cell_type": "markdown",
   "id": "2b3107a9",
   "metadata": {},
   "source": [
    "#### (d) Produce a plot with different shrinkage values on the x-axis and the corresponding test set MSE on the y-axis."
   ]
  },
  {
   "cell_type": "code",
   "execution_count": 40,
   "id": "807d4f83",
   "metadata": {},
   "outputs": [
    {
     "data": {
      "image/png": "[encoded data removed]",
      "text/plain": [
       "plot without title"
      ]
     },
     "metadata": {
      "image/png": {
       "height": 420,
       "width": 420
      }
     },
     "output_type": "display_data"
    }
   ],
   "source": [
    "plot(lambdas, test.errors, type = \"b\", xlab = \"Shrinkage\", ylab = \"Test MSE\", \n",
    "    col = \"red\", pch = 20)"
   ]
  },
  {
   "cell_type": "code",
   "execution_count": 41,
   "id": "8d66fbed",
   "metadata": {},
   "outputs": [
    {
     "data": {
      "text/html": [
       "0.260558826617964"
      ],
      "text/latex": [
       "0.260558826617964"
      ],
      "text/markdown": [
       "0.260558826617964"
      ],
      "text/plain": [
       "[1] 0.2605588"
      ]
     },
     "metadata": {},
     "output_type": "display_data"
    }
   ],
   "source": [
    "min(test.errors)"
   ]
  },
  {
   "cell_type": "code",
   "execution_count": 42,
   "id": "4cf37b64",
   "metadata": {},
   "outputs": [
    {
     "data": {
      "text/html": [
       "0.0630957344480194"
      ],
      "text/latex": [
       "0.0630957344480194"
      ],
      "text/markdown": [
       "0.0630957344480194"
      ],
      "text/plain": [
       "[1] 0.06309573"
      ]
     },
     "metadata": {},
     "output_type": "display_data"
    }
   ],
   "source": [
    "lambdas[which.min(test.errors)]"
   ]
  },
  {
   "cell_type": "code",
   "execution_count": null,
   "id": "6b00a131",
   "metadata": {},
   "outputs": [],
   "source": [
    "# Minimum test error is obtained at λ=0.06."
   ]
  },
  {
   "cell_type": "markdown",
   "id": "77f8d31e",
   "metadata": {},
   "source": [
    "#### (e) Compare the test MSE of boosting to the test MSE that results from applying two of the regression approaches seen in Chapters 3 and 6."
   ]
  },
  {
   "cell_type": "code",
   "execution_count": 43,
   "id": "b2a7c895",
   "metadata": {},
   "outputs": [
    {
     "data": {
      "text/html": [
       "0.491795937545494"
      ],
      "text/latex": [
       "0.491795937545494"
      ],
      "text/markdown": [
       "0.491795937545494"
      ],
      "text/plain": [
       "[1] 0.4917959"
      ]
     },
     "metadata": {},
     "output_type": "display_data"
    }
   ],
   "source": [
    "lm.fit = lm(Salary ~ ., data = Hitters.train)\n",
    "lm.pred = predict(lm.fit, Hitters.test)\n",
    "mean((Hitters.test$Salary - lm.pred)^2)"
   ]
  },
  {
   "cell_type": "code",
   "execution_count": 44,
   "id": "97808389",
   "metadata": {},
   "outputs": [
    {
     "name": "stderr",
     "output_type": "stream",
     "text": [
      "Loading required package: Matrix\n",
      "\n",
      "Loaded glmnet 4.1-2\n",
      "\n"
     ]
    }
   ],
   "source": [
    "library(glmnet)"
   ]
  },
  {
   "cell_type": "code",
   "execution_count": 45,
   "id": "8474e7cd",
   "metadata": {},
   "outputs": [
    {
     "data": {
      "text/html": [
       "0.470053732710274"
      ],
      "text/latex": [
       "0.470053732710274"
      ],
      "text/markdown": [
       "0.470053732710274"
      ],
      "text/plain": [
       "[1] 0.4700537"
      ]
     },
     "metadata": {},
     "output_type": "display_data"
    }
   ],
   "source": [
    "set.seed(530)\n",
    "x = model.matrix(Salary ~ ., data = Hitters.train)\n",
    "y = Hitters.train$Salary\n",
    "x.test = model.matrix(Salary ~ ., data = Hitters.test)\n",
    "lasso.fit = glmnet(x, y, alpha = 1)\n",
    "lasso.pred = predict(lasso.fit, s = 0.01, newx = x.test)\n",
    "mean((Hitters.test$Salary - lasso.pred)^2)"
   ]
  },
  {
   "cell_type": "code",
   "execution_count": null,
   "id": "d5ccb6c9",
   "metadata": {},
   "outputs": [],
   "source": [
    "# Both linear model and regularization like Lasso have higher test MSE than boosting."
   ]
  },
  {
   "cell_type": "markdown",
   "id": "b42ca0d9",
   "metadata": {},
   "source": [
    "#### (f) Which variables appear to be the most important predictors in the boosted model?"
   ]
  },
  {
   "cell_type": "code",
   "execution_count": 46,
   "id": "dc621d9b",
   "metadata": {},
   "outputs": [
    {
     "data": {
      "text/html": [
       "<table class=\"dataframe\">\n",
       "<caption>A data.frame: 19 × 2</caption>\n",
       "<thead>\n",
       "\t<tr><th></th><th scope=col>var</th><th scope=col>rel.inf</th></tr>\n",
       "\t<tr><th></th><th scope=col>&lt;chr&gt;</th><th scope=col>&lt;dbl&gt;</th></tr>\n",
       "</thead>\n",
       "<tbody>\n",
       "\t<tr><th scope=row>CAtBat</th><td>CAtBat   </td><td>14.6053837</td></tr>\n",
       "\t<tr><th scope=row>CRuns</th><td>CRuns    </td><td>10.1383334</td></tr>\n",
       "\t<tr><th scope=row>CRBI</th><td>CRBI     </td><td> 9.9721556</td></tr>\n",
       "\t<tr><th scope=row>CWalks</th><td>CWalks   </td><td> 8.0289382</td></tr>\n",
       "\t<tr><th scope=row>PutOuts</th><td>PutOuts  </td><td> 7.3238650</td></tr>\n",
       "\t<tr><th scope=row>Walks</th><td>Walks    </td><td> 6.7851542</td></tr>\n",
       "\t<tr><th scope=row>Years</th><td>Years    </td><td> 6.5382376</td></tr>\n",
       "\t<tr><th scope=row>RBI</th><td>RBI      </td><td> 6.1060934</td></tr>\n",
       "\t<tr><th scope=row>CHits</th><td>CHits    </td><td> 5.5756845</td></tr>\n",
       "\t<tr><th scope=row>CHmRun</th><td>CHmRun   </td><td> 4.7179220</td></tr>\n",
       "\t<tr><th scope=row>Assists</th><td>Assists  </td><td> 3.7530379</td></tr>\n",
       "\t<tr><th scope=row>HmRun</th><td>HmRun    </td><td> 3.5214280</td></tr>\n",
       "\t<tr><th scope=row>AtBat</th><td>AtBat    </td><td> 3.4760385</td></tr>\n",
       "\t<tr><th scope=row>Hits</th><td>Hits     </td><td> 3.3423071</td></tr>\n",
       "\t<tr><th scope=row>Errors</th><td>Errors   </td><td> 2.5531122</td></tr>\n",
       "\t<tr><th scope=row>Runs</th><td>Runs     </td><td> 2.0668193</td></tr>\n",
       "\t<tr><th scope=row>Division</th><td>Division </td><td> 0.8200089</td></tr>\n",
       "\t<tr><th scope=row>NewLeague</th><td>NewLeague</td><td> 0.4484149</td></tr>\n",
       "\t<tr><th scope=row>League</th><td>League   </td><td> 0.2270656</td></tr>\n",
       "</tbody>\n",
       "</table>\n"
      ],
      "text/latex": [
       "A data.frame: 19 × 2\n",
       "\\begin{tabular}{r|ll}\n",
       "  & var & rel.inf\\\\\n",
       "  & <chr> & <dbl>\\\\\n",
       "\\hline\n",
       "\tCAtBat & CAtBat    & 14.6053837\\\\\n",
       "\tCRuns & CRuns     & 10.1383334\\\\\n",
       "\tCRBI & CRBI      &  9.9721556\\\\\n",
       "\tCWalks & CWalks    &  8.0289382\\\\\n",
       "\tPutOuts & PutOuts   &  7.3238650\\\\\n",
       "\tWalks & Walks     &  6.7851542\\\\\n",
       "\tYears & Years     &  6.5382376\\\\\n",
       "\tRBI & RBI       &  6.1060934\\\\\n",
       "\tCHits & CHits     &  5.5756845\\\\\n",
       "\tCHmRun & CHmRun    &  4.7179220\\\\\n",
       "\tAssists & Assists   &  3.7530379\\\\\n",
       "\tHmRun & HmRun     &  3.5214280\\\\\n",
       "\tAtBat & AtBat     &  3.4760385\\\\\n",
       "\tHits & Hits      &  3.3423071\\\\\n",
       "\tErrors & Errors    &  2.5531122\\\\\n",
       "\tRuns & Runs      &  2.0668193\\\\\n",
       "\tDivision & Division  &  0.8200089\\\\\n",
       "\tNewLeague & NewLeague &  0.4484149\\\\\n",
       "\tLeague & League    &  0.2270656\\\\\n",
       "\\end{tabular}\n"
      ],
      "text/markdown": [
       "\n",
       "A data.frame: 19 × 2\n",
       "\n",
       "| <!--/--> | var &lt;chr&gt; | rel.inf &lt;dbl&gt; |\n",
       "|---|---|---|\n",
       "| CAtBat | CAtBat    | 14.6053837 |\n",
       "| CRuns | CRuns     | 10.1383334 |\n",
       "| CRBI | CRBI      |  9.9721556 |\n",
       "| CWalks | CWalks    |  8.0289382 |\n",
       "| PutOuts | PutOuts   |  7.3238650 |\n",
       "| Walks | Walks     |  6.7851542 |\n",
       "| Years | Years     |  6.5382376 |\n",
       "| RBI | RBI       |  6.1060934 |\n",
       "| CHits | CHits     |  5.5756845 |\n",
       "| CHmRun | CHmRun    |  4.7179220 |\n",
       "| Assists | Assists   |  3.7530379 |\n",
       "| HmRun | HmRun     |  3.5214280 |\n",
       "| AtBat | AtBat     |  3.4760385 |\n",
       "| Hits | Hits      |  3.3423071 |\n",
       "| Errors | Errors    |  2.5531122 |\n",
       "| Runs | Runs      |  2.0668193 |\n",
       "| Division | Division  |  0.8200089 |\n",
       "| NewLeague | NewLeague |  0.4484149 |\n",
       "| League | League    |  0.2270656 |\n",
       "\n"
      ],
      "text/plain": [
       "          var       rel.inf   \n",
       "CAtBat    CAtBat    14.6053837\n",
       "CRuns     CRuns     10.1383334\n",
       "CRBI      CRBI       9.9721556\n",
       "CWalks    CWalks     8.0289382\n",
       "PutOuts   PutOuts    7.3238650\n",
       "Walks     Walks      6.7851542\n",
       "Years     Years      6.5382376\n",
       "RBI       RBI        6.1060934\n",
       "CHits     CHits      5.5756845\n",
       "CHmRun    CHmRun     4.7179220\n",
       "Assists   Assists    3.7530379\n",
       "HmRun     HmRun      3.5214280\n",
       "AtBat     AtBat      3.4760385\n",
       "Hits      Hits       3.3423071\n",
       "Errors    Errors     2.5531122\n",
       "Runs      Runs       2.0668193\n",
       "Division  Division   0.8200089\n",
       "NewLeague NewLeague  0.4484149\n",
       "League    League     0.2270656"
      ]
     },
     "metadata": {},
     "output_type": "display_data"
    },
    {
     "data": {
      "image/png": "[encoded data removed]",
      "text/plain": [
       "plot without title"
      ]
     },
     "metadata": {
      "image/png": {
       "height": 420,
       "width": 420
      }
     },
     "output_type": "display_data"
    }
   ],
   "source": [
    "boost.best = gbm(Salary ~ ., data = Hitters.train, distribution = \"gaussian\", \n",
    "    n.trees = 1000, shrinkage = lambdas[which.min(test.errors)])\n",
    "summary(boost.best)"
   ]
  },
  {
   "cell_type": "code",
   "execution_count": null,
   "id": "2fcd64d6",
   "metadata": {},
   "outputs": [],
   "source": [
    "# CAtBat, CRuns and CRBI are three most important variables in that order."
   ]
  },
  {
   "cell_type": "markdown",
   "id": "c04a7530",
   "metadata": {},
   "source": [
    "#### (g) Now apply bagging to the training set. What is the test set MSE for this approach?"
   ]
  },
  {
   "cell_type": "code",
   "execution_count": 47,
   "id": "0441521a",
   "metadata": {},
   "outputs": [],
   "source": [
    "library(randomForest)"
   ]
  },
  {
   "cell_type": "code",
   "execution_count": 48,
   "id": "e5fe757b",
   "metadata": {},
   "outputs": [
    {
     "data": {
      "text/html": [
       "0.225033281165972"
      ],
      "text/latex": [
       "0.225033281165972"
      ],
      "text/markdown": [
       "0.225033281165972"
      ],
      "text/plain": [
       "[1] 0.2250333"
      ]
     },
     "metadata": {},
     "output_type": "display_data"
    }
   ],
   "source": [
    "set.seed(530)\n",
    "rf.hitters = randomForest(Salary ~ ., data = Hitters.train, ntree = 500, mtry = 19)\n",
    "rf.pred = predict(rf.hitters, Hitters.test)\n",
    "mean((Hitters.test$Salary - rf.pred)^2)"
   ]
  },
  {
   "cell_type": "code",
   "execution_count": null,
   "id": "e68e79a8",
   "metadata": {},
   "outputs": [],
   "source": [
    "# Test MSE for bagging is about 0.225, which is slightly lower than the best test MSE for boosting."
   ]
  }
 ],
 "metadata": {
  "kernelspec": {
   "display_name": "R",
   "language": "R",
   "name": "ir"
  },
  "language_info": {
   "codemirror_mode": "r",
   "file_extension": ".r",
   "mimetype": "text/x-r-source",
   "name": "R",
   "pygments_lexer": "r",
   "version": "4.0.5"
  }
 },
 "nbformat": 4,
 "nbformat_minor": 5
}

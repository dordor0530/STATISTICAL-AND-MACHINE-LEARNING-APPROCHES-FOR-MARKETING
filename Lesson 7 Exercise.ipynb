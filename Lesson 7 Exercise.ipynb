{
 "cells": [
  {
   "cell_type": "markdown",
   "id": "4df4c180-ac0a-42f5-a2e8-761344d0eefe",
   "metadata": {},
   "source": [
    "## Company Bankruptcy Prediction"
   ]
  },
  {
   "cell_type": "code",
   "execution_count": 45,
   "id": "95dc54ba-c267-4c5b-b2b1-6889a826e65b",
   "metadata": {},
   "outputs": [],
   "source": [
    "# Set environment params\n",
    "Sys.setenv(LANG='en')  # English\n",
    "\n",
    "# Import libraries\n",
    "library(mlr)           # ML toolkit\n",
    "library(caret)         # ML toolkit\n",
    "library(nnet)          # class.ind() function\n",
    "library(neuralnet)     # Deep Neural Networks\n",
    "library(LiblineaR)     # LR Lasso (l1)\n",
    "library(randomForest)  # Random Forest\n",
    "library(adabag)        # Boosting\n",
    "library(e1071)         # SVM\n",
    "library(ggplot2)       # Visualization\n",
    "library(plotly)        # 3D visualization\n",
    "library(class)\n",
    "library(tree)\n",
    "\n",
    "# Import data\n",
    "library(ISLR)      # Data from the course book\n",
    "library(MASS)      # Boston housing dataset\n",
    "library(datasets)  # US crime dataset\n",
    "\n",
    "# Resize plot\n",
    "library(repr)  # String and binary representations"
   ]
  },
  {
   "cell_type": "code",
   "execution_count": 2,
   "id": "83bc7bfd-671c-4be7-af8c-27be10afb129",
   "metadata": {},
   "outputs": [],
   "source": [
    "data <- read.csv(\"./data/bankruptcy_prediction/data.csv\", header=T, stringsAsFactors=F)"
   ]
  },
  {
   "cell_type": "code",
   "execution_count": 3,
   "id": "629afba6-bdf2-4ac2-95bb-df7766c183bd",
   "metadata": {},
   "outputs": [
    {
     "data": {
      "text/html": [
       "<style>\n",
       ".list-inline {list-style: none; margin:0; padding: 0}\n",
       ".list-inline>li {display: inline-block}\n",
       ".list-inline>li:not(:last-child)::after {content: \"\\00b7\"; padding: 0 .5ex}\n",
       "</style>\n",
       "<ol class=list-inline><li>6819</li><li>96</li></ol>\n"
      ],
      "text/latex": [
       "\\begin{enumerate*}\n",
       "\\item 6819\n",
       "\\item 96\n",
       "\\end{enumerate*}\n"
      ],
      "text/markdown": [
       "1. 6819\n",
       "2. 96\n",
       "\n",
       "\n"
      ],
      "text/plain": [
       "[1] 6819   96"
      ]
     },
     "metadata": {},
     "output_type": "display_data"
    },
    {
     "data": {
      "text/html": [
       "<table class=\"dataframe\">\n",
       "<caption>A data.frame: 6 × 96</caption>\n",
       "<thead>\n",
       "\t<tr><th></th><th scope=col>Bankrupt.</th><th scope=col>ROA.C..before.interest.and.depreciation.before.interest</th><th scope=col>ROA.A..before.interest.and...after.tax</th><th scope=col>ROA.B..before.interest.and.depreciation.after.tax</th><th scope=col>Operating.Gross.Margin</th><th scope=col>Realized.Sales.Gross.Margin</th><th scope=col>Operating.Profit.Rate</th><th scope=col>Pre.tax.net.Interest.Rate</th><th scope=col>After.tax.net.Interest.Rate</th><th scope=col>Non.industry.income.and.expenditure.revenue</th><th scope=col>⋯</th><th scope=col>Net.Income.to.Total.Assets</th><th scope=col>Total.assets.to.GNP.price</th><th scope=col>No.credit.Interval</th><th scope=col>Gross.Profit.to.Sales</th><th scope=col>Net.Income.to.Stockholder.s.Equity</th><th scope=col>Liability.to.Equity</th><th scope=col>Degree.of.Financial.Leverage..DFL.</th><th scope=col>Interest.Coverage.Ratio..Interest.expense.to.EBIT.</th><th scope=col>Net.Income.Flag</th><th scope=col>Equity.to.Liability</th></tr>\n",
       "\t<tr><th></th><th scope=col>&lt;int&gt;</th><th scope=col>&lt;dbl&gt;</th><th scope=col>&lt;dbl&gt;</th><th scope=col>&lt;dbl&gt;</th><th scope=col>&lt;dbl&gt;</th><th scope=col>&lt;dbl&gt;</th><th scope=col>&lt;dbl&gt;</th><th scope=col>&lt;dbl&gt;</th><th scope=col>&lt;dbl&gt;</th><th scope=col>&lt;dbl&gt;</th><th scope=col>⋯</th><th scope=col>&lt;dbl&gt;</th><th scope=col>&lt;dbl&gt;</th><th scope=col>&lt;dbl&gt;</th><th scope=col>&lt;dbl&gt;</th><th scope=col>&lt;dbl&gt;</th><th scope=col>&lt;dbl&gt;</th><th scope=col>&lt;dbl&gt;</th><th scope=col>&lt;dbl&gt;</th><th scope=col>&lt;int&gt;</th><th scope=col>&lt;dbl&gt;</th></tr>\n",
       "</thead>\n",
       "<tbody>\n",
       "\t<tr><th scope=row>1</th><td>1</td><td>0.3705943</td><td>0.4243894</td><td>0.4057498</td><td>0.6014572</td><td>0.6014572</td><td>0.9989692</td><td>0.7968871</td><td>0.8088094</td><td>0.3026464</td><td>⋯</td><td>0.7168453</td><td>0.009219440</td><td>0.6228790</td><td>0.6014533</td><td>0.8278902</td><td>0.2902019</td><td>0.02660063</td><td>0.5640501</td><td>1</td><td>0.01646874</td></tr>\n",
       "\t<tr><th scope=row>2</th><td>1</td><td>0.4642909</td><td>0.5382141</td><td>0.5167300</td><td>0.6102351</td><td>0.6102351</td><td>0.9989460</td><td>0.7973802</td><td>0.8093007</td><td>0.3035564</td><td>⋯</td><td>0.7952971</td><td>0.008323302</td><td>0.6236517</td><td>0.6102365</td><td>0.8399693</td><td>0.2838460</td><td>0.26457682</td><td>0.5701749</td><td>1</td><td>0.02079431</td></tr>\n",
       "\t<tr><th scope=row>3</th><td>1</td><td>0.4260713</td><td>0.4990188</td><td>0.4722951</td><td>0.6014500</td><td>0.6013635</td><td>0.9988574</td><td>0.7964034</td><td>0.8083875</td><td>0.3020352</td><td>⋯</td><td>0.7746697</td><td>0.040002853</td><td>0.6238410</td><td>0.6014493</td><td>0.8367743</td><td>0.2901885</td><td>0.02655472</td><td>0.5637061</td><td>1</td><td>0.01647411</td></tr>\n",
       "\t<tr><th scope=row>4</th><td>1</td><td>0.3998440</td><td>0.4512647</td><td>0.4577333</td><td>0.5835411</td><td>0.5835411</td><td>0.9986997</td><td>0.7969670</td><td>0.8089656</td><td>0.3033495</td><td>⋯</td><td>0.7395545</td><td>0.003252475</td><td>0.6229287</td><td>0.5835376</td><td>0.8346971</td><td>0.2817212</td><td>0.02669663</td><td>0.5646634</td><td>1</td><td>0.02398233</td></tr>\n",
       "\t<tr><th scope=row>5</th><td>1</td><td>0.4650222</td><td>0.5384322</td><td>0.5222978</td><td>0.5987835</td><td>0.5987835</td><td>0.9989731</td><td>0.7973661</td><td>0.8093037</td><td>0.3034750</td><td>⋯</td><td>0.7950159</td><td>0.003877563</td><td>0.6235207</td><td>0.5987815</td><td>0.8399727</td><td>0.2785138</td><td>0.02475185</td><td>0.5756166</td><td>1</td><td>0.03549020</td></tr>\n",
       "\t<tr><th scope=row>6</th><td>1</td><td>0.3886803</td><td>0.4151766</td><td>0.4191338</td><td>0.5901714</td><td>0.5902507</td><td>0.9987581</td><td>0.7969032</td><td>0.8087706</td><td>0.3031158</td><td>⋯</td><td>0.7104205</td><td>0.005277875</td><td>0.6226046</td><td>0.5901723</td><td>0.8299390</td><td>0.2850871</td><td>0.02667537</td><td>0.5645383</td><td>1</td><td>0.01953448</td></tr>\n",
       "</tbody>\n",
       "</table>\n"
      ],
      "text/latex": [
       "A data.frame: 6 × 96\n",
       "\\begin{tabular}{r|lllllllllllllllllllll}\n",
       "  & Bankrupt. & ROA.C..before.interest.and.depreciation.before.interest & ROA.A..before.interest.and...after.tax & ROA.B..before.interest.and.depreciation.after.tax & Operating.Gross.Margin & Realized.Sales.Gross.Margin & Operating.Profit.Rate & Pre.tax.net.Interest.Rate & After.tax.net.Interest.Rate & Non.industry.income.and.expenditure.revenue & ⋯ & Net.Income.to.Total.Assets & Total.assets.to.GNP.price & No.credit.Interval & Gross.Profit.to.Sales & Net.Income.to.Stockholder.s.Equity & Liability.to.Equity & Degree.of.Financial.Leverage..DFL. & Interest.Coverage.Ratio..Interest.expense.to.EBIT. & Net.Income.Flag & Equity.to.Liability\\\\\n",
       "  & <int> & <dbl> & <dbl> & <dbl> & <dbl> & <dbl> & <dbl> & <dbl> & <dbl> & <dbl> & ⋯ & <dbl> & <dbl> & <dbl> & <dbl> & <dbl> & <dbl> & <dbl> & <dbl> & <int> & <dbl>\\\\\n",
       "\\hline\n",
       "\t1 & 1 & 0.3705943 & 0.4243894 & 0.4057498 & 0.6014572 & 0.6014572 & 0.9989692 & 0.7968871 & 0.8088094 & 0.3026464 & ⋯ & 0.7168453 & 0.009219440 & 0.6228790 & 0.6014533 & 0.8278902 & 0.2902019 & 0.02660063 & 0.5640501 & 1 & 0.01646874\\\\\n",
       "\t2 & 1 & 0.4642909 & 0.5382141 & 0.5167300 & 0.6102351 & 0.6102351 & 0.9989460 & 0.7973802 & 0.8093007 & 0.3035564 & ⋯ & 0.7952971 & 0.008323302 & 0.6236517 & 0.6102365 & 0.8399693 & 0.2838460 & 0.26457682 & 0.5701749 & 1 & 0.02079431\\\\\n",
       "\t3 & 1 & 0.4260713 & 0.4990188 & 0.4722951 & 0.6014500 & 0.6013635 & 0.9988574 & 0.7964034 & 0.8083875 & 0.3020352 & ⋯ & 0.7746697 & 0.040002853 & 0.6238410 & 0.6014493 & 0.8367743 & 0.2901885 & 0.02655472 & 0.5637061 & 1 & 0.01647411\\\\\n",
       "\t4 & 1 & 0.3998440 & 0.4512647 & 0.4577333 & 0.5835411 & 0.5835411 & 0.9986997 & 0.7969670 & 0.8089656 & 0.3033495 & ⋯ & 0.7395545 & 0.003252475 & 0.6229287 & 0.5835376 & 0.8346971 & 0.2817212 & 0.02669663 & 0.5646634 & 1 & 0.02398233\\\\\n",
       "\t5 & 1 & 0.4650222 & 0.5384322 & 0.5222978 & 0.5987835 & 0.5987835 & 0.9989731 & 0.7973661 & 0.8093037 & 0.3034750 & ⋯ & 0.7950159 & 0.003877563 & 0.6235207 & 0.5987815 & 0.8399727 & 0.2785138 & 0.02475185 & 0.5756166 & 1 & 0.03549020\\\\\n",
       "\t6 & 1 & 0.3886803 & 0.4151766 & 0.4191338 & 0.5901714 & 0.5902507 & 0.9987581 & 0.7969032 & 0.8087706 & 0.3031158 & ⋯ & 0.7104205 & 0.005277875 & 0.6226046 & 0.5901723 & 0.8299390 & 0.2850871 & 0.02667537 & 0.5645383 & 1 & 0.01953448\\\\\n",
       "\\end{tabular}\n"
      ],
      "text/markdown": [
       "\n",
       "A data.frame: 6 × 96\n",
       "\n",
       "| <!--/--> | Bankrupt. &lt;int&gt; | ROA.C..before.interest.and.depreciation.before.interest &lt;dbl&gt; | ROA.A..before.interest.and...after.tax &lt;dbl&gt; | ROA.B..before.interest.and.depreciation.after.tax &lt;dbl&gt; | Operating.Gross.Margin &lt;dbl&gt; | Realized.Sales.Gross.Margin &lt;dbl&gt; | Operating.Profit.Rate &lt;dbl&gt; | Pre.tax.net.Interest.Rate &lt;dbl&gt; | After.tax.net.Interest.Rate &lt;dbl&gt; | Non.industry.income.and.expenditure.revenue &lt;dbl&gt; | ⋯ ⋯ | Net.Income.to.Total.Assets &lt;dbl&gt; | Total.assets.to.GNP.price &lt;dbl&gt; | No.credit.Interval &lt;dbl&gt; | Gross.Profit.to.Sales &lt;dbl&gt; | Net.Income.to.Stockholder.s.Equity &lt;dbl&gt; | Liability.to.Equity &lt;dbl&gt; | Degree.of.Financial.Leverage..DFL. &lt;dbl&gt; | Interest.Coverage.Ratio..Interest.expense.to.EBIT. &lt;dbl&gt; | Net.Income.Flag &lt;int&gt; | Equity.to.Liability &lt;dbl&gt; |\n",
       "|---|---|---|---|---|---|---|---|---|---|---|---|---|---|---|---|---|---|---|---|---|---|\n",
       "| 1 | 1 | 0.3705943 | 0.4243894 | 0.4057498 | 0.6014572 | 0.6014572 | 0.9989692 | 0.7968871 | 0.8088094 | 0.3026464 | ⋯ | 0.7168453 | 0.009219440 | 0.6228790 | 0.6014533 | 0.8278902 | 0.2902019 | 0.02660063 | 0.5640501 | 1 | 0.01646874 |\n",
       "| 2 | 1 | 0.4642909 | 0.5382141 | 0.5167300 | 0.6102351 | 0.6102351 | 0.9989460 | 0.7973802 | 0.8093007 | 0.3035564 | ⋯ | 0.7952971 | 0.008323302 | 0.6236517 | 0.6102365 | 0.8399693 | 0.2838460 | 0.26457682 | 0.5701749 | 1 | 0.02079431 |\n",
       "| 3 | 1 | 0.4260713 | 0.4990188 | 0.4722951 | 0.6014500 | 0.6013635 | 0.9988574 | 0.7964034 | 0.8083875 | 0.3020352 | ⋯ | 0.7746697 | 0.040002853 | 0.6238410 | 0.6014493 | 0.8367743 | 0.2901885 | 0.02655472 | 0.5637061 | 1 | 0.01647411 |\n",
       "| 4 | 1 | 0.3998440 | 0.4512647 | 0.4577333 | 0.5835411 | 0.5835411 | 0.9986997 | 0.7969670 | 0.8089656 | 0.3033495 | ⋯ | 0.7395545 | 0.003252475 | 0.6229287 | 0.5835376 | 0.8346971 | 0.2817212 | 0.02669663 | 0.5646634 | 1 | 0.02398233 |\n",
       "| 5 | 1 | 0.4650222 | 0.5384322 | 0.5222978 | 0.5987835 | 0.5987835 | 0.9989731 | 0.7973661 | 0.8093037 | 0.3034750 | ⋯ | 0.7950159 | 0.003877563 | 0.6235207 | 0.5987815 | 0.8399727 | 0.2785138 | 0.02475185 | 0.5756166 | 1 | 0.03549020 |\n",
       "| 6 | 1 | 0.3886803 | 0.4151766 | 0.4191338 | 0.5901714 | 0.5902507 | 0.9987581 | 0.7969032 | 0.8087706 | 0.3031158 | ⋯ | 0.7104205 | 0.005277875 | 0.6226046 | 0.5901723 | 0.8299390 | 0.2850871 | 0.02667537 | 0.5645383 | 1 | 0.01953448 |\n",
       "\n"
      ],
      "text/plain": [
       "  Bankrupt. ROA.C..before.interest.and.depreciation.before.interest\n",
       "1 1         0.3705943                                              \n",
       "2 1         0.4642909                                              \n",
       "3 1         0.4260713                                              \n",
       "4 1         0.3998440                                              \n",
       "5 1         0.4650222                                              \n",
       "6 1         0.3886803                                              \n",
       "  ROA.A..before.interest.and...after.tax\n",
       "1 0.4243894                             \n",
       "2 0.5382141                             \n",
       "3 0.4990188                             \n",
       "4 0.4512647                             \n",
       "5 0.5384322                             \n",
       "6 0.4151766                             \n",
       "  ROA.B..before.interest.and.depreciation.after.tax Operating.Gross.Margin\n",
       "1 0.4057498                                         0.6014572             \n",
       "2 0.5167300                                         0.6102351             \n",
       "3 0.4722951                                         0.6014500             \n",
       "4 0.4577333                                         0.5835411             \n",
       "5 0.5222978                                         0.5987835             \n",
       "6 0.4191338                                         0.5901714             \n",
       "  Realized.Sales.Gross.Margin Operating.Profit.Rate Pre.tax.net.Interest.Rate\n",
       "1 0.6014572                   0.9989692             0.7968871                \n",
       "2 0.6102351                   0.9989460             0.7973802                \n",
       "3 0.6013635                   0.9988574             0.7964034                \n",
       "4 0.5835411                   0.9986997             0.7969670                \n",
       "5 0.5987835                   0.9989731             0.7973661                \n",
       "6 0.5902507                   0.9987581             0.7969032                \n",
       "  After.tax.net.Interest.Rate Non.industry.income.and.expenditure.revenue\n",
       "1 0.8088094                   0.3026464                                  \n",
       "2 0.8093007                   0.3035564                                  \n",
       "3 0.8083875                   0.3020352                                  \n",
       "4 0.8089656                   0.3033495                                  \n",
       "5 0.8093037                   0.3034750                                  \n",
       "6 0.8087706                   0.3031158                                  \n",
       "  <U+22EF>        Net.Income.to.Total.Assets Total.assets.to.GNP.price\n",
       "1 <U+22EF> 0.7168453                  0.009219440              \n",
       "2 <U+22EF> 0.7952971                  0.008323302              \n",
       "3 <U+22EF> 0.7746697                  0.040002853              \n",
       "4 <U+22EF> 0.7395545                  0.003252475              \n",
       "5 <U+22EF> 0.7950159                  0.003877563              \n",
       "6 <U+22EF> 0.7104205                  0.005277875              \n",
       "  No.credit.Interval Gross.Profit.to.Sales Net.Income.to.Stockholder.s.Equity\n",
       "1 0.6228790          0.6014533             0.8278902                         \n",
       "2 0.6236517          0.6102365             0.8399693                         \n",
       "3 0.6238410          0.6014493             0.8367743                         \n",
       "4 0.6229287          0.5835376             0.8346971                         \n",
       "5 0.6235207          0.5987815             0.8399727                         \n",
       "6 0.6226046          0.5901723             0.8299390                         \n",
       "  Liability.to.Equity Degree.of.Financial.Leverage..DFL.\n",
       "1 0.2902019           0.02660063                        \n",
       "2 0.2838460           0.26457682                        \n",
       "3 0.2901885           0.02655472                        \n",
       "4 0.2817212           0.02669663                        \n",
       "5 0.2785138           0.02475185                        \n",
       "6 0.2850871           0.02667537                        \n",
       "  Interest.Coverage.Ratio..Interest.expense.to.EBIT. Net.Income.Flag\n",
       "1 0.5640501                                          1              \n",
       "2 0.5701749                                          1              \n",
       "3 0.5637061                                          1              \n",
       "4 0.5646634                                          1              \n",
       "5 0.5756166                                          1              \n",
       "6 0.5645383                                          1              \n",
       "  Equity.to.Liability\n",
       "1 0.01646874         \n",
       "2 0.02079431         \n",
       "3 0.01647411         \n",
       "4 0.02398233         \n",
       "5 0.03549020         \n",
       "6 0.01953448         "
      ]
     },
     "metadata": {},
     "output_type": "display_data"
    }
   ],
   "source": [
    "# Check the dataset\n",
    "dim(data)\n",
    "head(data)"
   ]
  },
  {
   "cell_type": "code",
   "execution_count": 4,
   "id": "ce7e60d7-04be-49a2-800e-d99bceaf269b",
   "metadata": {},
   "outputs": [
    {
     "data": {
      "text/plain": [
       "\n",
       "   0    1 \n",
       "6599  220 "
      ]
     },
     "metadata": {},
     "output_type": "display_data"
    },
    {
     "data": {
      "text/plain": [
       "\n",
       "   0    1 \n",
       "0.97 0.03 "
      ]
     },
     "metadata": {},
     "output_type": "display_data"
    }
   ],
   "source": [
    "# Check the response\n",
    "table(data$Bankrupt)\n",
    "round(table(data$Bankrupt) / nrow(data), 2)"
   ]
  },
  {
   "cell_type": "code",
   "execution_count": 5,
   "id": "2b1857ec-1eec-4f07-830d-1c7ea5fa80da",
   "metadata": {},
   "outputs": [
    {
     "name": "stdout",
     "output_type": "stream",
     "text": [
      "[1] \"Total NAs: 0\"\n"
     ]
    },
    {
     "data": {
      "text/html": [
       "<style>\n",
       ".dl-inline {width: auto; margin:0; padding: 0}\n",
       ".dl-inline>dt, .dl-inline>dd {float: none; width: auto; display: inline-block}\n",
       ".dl-inline>dt::after {content: \":\\0020\"; padding-right: .5ex}\n",
       ".dl-inline>dt:not(:first-of-type) {padding-left: .5ex}\n",
       "</style><dl class=dl-inline><dt>Bankrupt.</dt><dd>0</dd><dt>ROA.C..before.interest.and.depreciation.before.interest</dt><dd>0</dd><dt>ROA.A..before.interest.and...after.tax</dt><dd>0</dd><dt>ROA.B..before.interest.and.depreciation.after.tax</dt><dd>0</dd><dt>Operating.Gross.Margin</dt><dd>0</dd><dt>Realized.Sales.Gross.Margin</dt><dd>0</dd><dt>Operating.Profit.Rate</dt><dd>0</dd><dt>Pre.tax.net.Interest.Rate</dt><dd>0</dd><dt>After.tax.net.Interest.Rate</dt><dd>0</dd><dt>Non.industry.income.and.expenditure.revenue</dt><dd>0</dd><dt>Continuous.interest.rate..after.tax.</dt><dd>0</dd><dt>Operating.Expense.Rate</dt><dd>0</dd><dt>Research.and.development.expense.rate</dt><dd>0</dd><dt>Cash.flow.rate</dt><dd>0</dd><dt>Interest.bearing.debt.interest.rate</dt><dd>0</dd><dt>Tax.rate..A.</dt><dd>0</dd><dt>Net.Value.Per.Share..B.</dt><dd>0</dd><dt>Net.Value.Per.Share..A.</dt><dd>0</dd><dt>Net.Value.Per.Share..C.</dt><dd>0</dd><dt>Persistent.EPS.in.the.Last.Four.Seasons</dt><dd>0</dd><dt>Cash.Flow.Per.Share</dt><dd>0</dd><dt>Revenue.Per.Share..Yuan.Â..</dt><dd>0</dd><dt>Operating.Profit.Per.Share..Yuan.Â..</dt><dd>0</dd><dt>Per.Share.Net.profit.before.tax..Yuan.Â..</dt><dd>0</dd><dt>Realized.Sales.Gross.Profit.Growth.Rate</dt><dd>0</dd><dt>Operating.Profit.Growth.Rate</dt><dd>0</dd><dt>After.tax.Net.Profit.Growth.Rate</dt><dd>0</dd><dt>Regular.Net.Profit.Growth.Rate</dt><dd>0</dd><dt>Continuous.Net.Profit.Growth.Rate</dt><dd>0</dd><dt>Total.Asset.Growth.Rate</dt><dd>0</dd><dt>Net.Value.Growth.Rate</dt><dd>0</dd><dt>Total.Asset.Return.Growth.Rate.Ratio</dt><dd>0</dd><dt>Cash.Reinvestment..</dt><dd>0</dd><dt>Current.Ratio</dt><dd>0</dd><dt>Quick.Ratio</dt><dd>0</dd><dt>Interest.Expense.Ratio</dt><dd>0</dd><dt>Total.debt.Total.net.worth</dt><dd>0</dd><dt>Debt.ratio..</dt><dd>0</dd><dt>Net.worth.Assets</dt><dd>0</dd><dt>Long.term.fund.suitability.ratio..A.</dt><dd>0</dd><dt>Borrowing.dependency</dt><dd>0</dd><dt>Contingent.liabilities.Net.worth</dt><dd>0</dd><dt>Operating.profit.Paid.in.capital</dt><dd>0</dd><dt>Net.profit.before.tax.Paid.in.capital</dt><dd>0</dd><dt>Inventory.and.accounts.receivable.Net.value</dt><dd>0</dd><dt>Total.Asset.Turnover</dt><dd>0</dd><dt>Accounts.Receivable.Turnover</dt><dd>0</dd><dt>Average.Collection.Days</dt><dd>0</dd><dt>Inventory.Turnover.Rate..times.</dt><dd>0</dd><dt>Fixed.Assets.Turnover.Frequency</dt><dd>0</dd><dt>Net.Worth.Turnover.Rate..times.</dt><dd>0</dd><dt>Revenue.per.person</dt><dd>0</dd><dt>Operating.profit.per.person</dt><dd>0</dd><dt>Allocation.rate.per.person</dt><dd>0</dd><dt>Working.Capital.to.Total.Assets</dt><dd>0</dd><dt>Quick.Assets.Total.Assets</dt><dd>0</dd><dt>Current.Assets.Total.Assets</dt><dd>0</dd><dt>Cash.Total.Assets</dt><dd>0</dd><dt>Quick.Assets.Current.Liability</dt><dd>0</dd><dt>Cash.Current.Liability</dt><dd>0</dd><dt>Current.Liability.to.Assets</dt><dd>0</dd><dt>Operating.Funds.to.Liability</dt><dd>0</dd><dt>Inventory.Working.Capital</dt><dd>0</dd><dt>Inventory.Current.Liability</dt><dd>0</dd><dt>Current.Liabilities.Liability</dt><dd>0</dd><dt>Working.Capital.Equity</dt><dd>0</dd><dt>Current.Liabilities.Equity</dt><dd>0</dd><dt>Long.term.Liability.to.Current.Assets</dt><dd>0</dd><dt>Retained.Earnings.to.Total.Assets</dt><dd>0</dd><dt>Total.income.Total.expense</dt><dd>0</dd><dt>Total.expense.Assets</dt><dd>0</dd><dt>Current.Asset.Turnover.Rate</dt><dd>0</dd><dt>Quick.Asset.Turnover.Rate</dt><dd>0</dd><dt>Working.capitcal.Turnover.Rate</dt><dd>0</dd><dt>Cash.Turnover.Rate</dt><dd>0</dd><dt>Cash.Flow.to.Sales</dt><dd>0</dd><dt>Fixed.Assets.to.Assets</dt><dd>0</dd><dt>Current.Liability.to.Liability</dt><dd>0</dd><dt>Current.Liability.to.Equity</dt><dd>0</dd><dt>Equity.to.Long.term.Liability</dt><dd>0</dd><dt>Cash.Flow.to.Total.Assets</dt><dd>0</dd><dt>Cash.Flow.to.Liability</dt><dd>0</dd><dt>CFO.to.Assets</dt><dd>0</dd><dt>Cash.Flow.to.Equity</dt><dd>0</dd><dt>Current.Liability.to.Current.Assets</dt><dd>0</dd><dt>Liability.Assets.Flag</dt><dd>0</dd><dt>Net.Income.to.Total.Assets</dt><dd>0</dd><dt>Total.assets.to.GNP.price</dt><dd>0</dd><dt>No.credit.Interval</dt><dd>0</dd><dt>Gross.Profit.to.Sales</dt><dd>0</dd><dt>Net.Income.to.Stockholder.s.Equity</dt><dd>0</dd><dt>Liability.to.Equity</dt><dd>0</dd><dt>Degree.of.Financial.Leverage..DFL.</dt><dd>0</dd><dt>Interest.Coverage.Ratio..Interest.expense.to.EBIT.</dt><dd>0</dd><dt>Net.Income.Flag</dt><dd>0</dd><dt>Equity.to.Liability</dt><dd>0</dd></dl>\n"
      ],
      "text/latex": [
       "\\begin{description*}\n",
       "\\item[Bankrupt.] 0\n",
       "\\item[ROA.C..before.interest.and.depreciation.before.interest] 0\n",
       "\\item[ROA.A..before.interest.and...after.tax] 0\n",
       "\\item[ROA.B..before.interest.and.depreciation.after.tax] 0\n",
       "\\item[Operating.Gross.Margin] 0\n",
       "\\item[Realized.Sales.Gross.Margin] 0\n",
       "\\item[Operating.Profit.Rate] 0\n",
       "\\item[Pre.tax.net.Interest.Rate] 0\n",
       "\\item[After.tax.net.Interest.Rate] 0\n",
       "\\item[Non.industry.income.and.expenditure.revenue] 0\n",
       "\\item[Continuous.interest.rate..after.tax.] 0\n",
       "\\item[Operating.Expense.Rate] 0\n",
       "\\item[Research.and.development.expense.rate] 0\n",
       "\\item[Cash.flow.rate] 0\n",
       "\\item[Interest.bearing.debt.interest.rate] 0\n",
       "\\item[Tax.rate..A.] 0\n",
       "\\item[Net.Value.Per.Share..B.] 0\n",
       "\\item[Net.Value.Per.Share..A.] 0\n",
       "\\item[Net.Value.Per.Share..C.] 0\n",
       "\\item[Persistent.EPS.in.the.Last.Four.Seasons] 0\n",
       "\\item[Cash.Flow.Per.Share] 0\n",
       "\\item[Revenue.Per.Share..Yuan.Â..] 0\n",
       "\\item[Operating.Profit.Per.Share..Yuan.Â..] 0\n",
       "\\item[Per.Share.Net.profit.before.tax..Yuan.Â..] 0\n",
       "\\item[Realized.Sales.Gross.Profit.Growth.Rate] 0\n",
       "\\item[Operating.Profit.Growth.Rate] 0\n",
       "\\item[After.tax.Net.Profit.Growth.Rate] 0\n",
       "\\item[Regular.Net.Profit.Growth.Rate] 0\n",
       "\\item[Continuous.Net.Profit.Growth.Rate] 0\n",
       "\\item[Total.Asset.Growth.Rate] 0\n",
       "\\item[Net.Value.Growth.Rate] 0\n",
       "\\item[Total.Asset.Return.Growth.Rate.Ratio] 0\n",
       "\\item[Cash.Reinvestment..] 0\n",
       "\\item[Current.Ratio] 0\n",
       "\\item[Quick.Ratio] 0\n",
       "\\item[Interest.Expense.Ratio] 0\n",
       "\\item[Total.debt.Total.net.worth] 0\n",
       "\\item[Debt.ratio..] 0\n",
       "\\item[Net.worth.Assets] 0\n",
       "\\item[Long.term.fund.suitability.ratio..A.] 0\n",
       "\\item[Borrowing.dependency] 0\n",
       "\\item[Contingent.liabilities.Net.worth] 0\n",
       "\\item[Operating.profit.Paid.in.capital] 0\n",
       "\\item[Net.profit.before.tax.Paid.in.capital] 0\n",
       "\\item[Inventory.and.accounts.receivable.Net.value] 0\n",
       "\\item[Total.Asset.Turnover] 0\n",
       "\\item[Accounts.Receivable.Turnover] 0\n",
       "\\item[Average.Collection.Days] 0\n",
       "\\item[Inventory.Turnover.Rate..times.] 0\n",
       "\\item[Fixed.Assets.Turnover.Frequency] 0\n",
       "\\item[Net.Worth.Turnover.Rate..times.] 0\n",
       "\\item[Revenue.per.person] 0\n",
       "\\item[Operating.profit.per.person] 0\n",
       "\\item[Allocation.rate.per.person] 0\n",
       "\\item[Working.Capital.to.Total.Assets] 0\n",
       "\\item[Quick.Assets.Total.Assets] 0\n",
       "\\item[Current.Assets.Total.Assets] 0\n",
       "\\item[Cash.Total.Assets] 0\n",
       "\\item[Quick.Assets.Current.Liability] 0\n",
       "\\item[Cash.Current.Liability] 0\n",
       "\\item[Current.Liability.to.Assets] 0\n",
       "\\item[Operating.Funds.to.Liability] 0\n",
       "\\item[Inventory.Working.Capital] 0\n",
       "\\item[Inventory.Current.Liability] 0\n",
       "\\item[Current.Liabilities.Liability] 0\n",
       "\\item[Working.Capital.Equity] 0\n",
       "\\item[Current.Liabilities.Equity] 0\n",
       "\\item[Long.term.Liability.to.Current.Assets] 0\n",
       "\\item[Retained.Earnings.to.Total.Assets] 0\n",
       "\\item[Total.income.Total.expense] 0\n",
       "\\item[Total.expense.Assets] 0\n",
       "\\item[Current.Asset.Turnover.Rate] 0\n",
       "\\item[Quick.Asset.Turnover.Rate] 0\n",
       "\\item[Working.capitcal.Turnover.Rate] 0\n",
       "\\item[Cash.Turnover.Rate] 0\n",
       "\\item[Cash.Flow.to.Sales] 0\n",
       "\\item[Fixed.Assets.to.Assets] 0\n",
       "\\item[Current.Liability.to.Liability] 0\n",
       "\\item[Current.Liability.to.Equity] 0\n",
       "\\item[Equity.to.Long.term.Liability] 0\n",
       "\\item[Cash.Flow.to.Total.Assets] 0\n",
       "\\item[Cash.Flow.to.Liability] 0\n",
       "\\item[CFO.to.Assets] 0\n",
       "\\item[Cash.Flow.to.Equity] 0\n",
       "\\item[Current.Liability.to.Current.Assets] 0\n",
       "\\item[Liability.Assets.Flag] 0\n",
       "\\item[Net.Income.to.Total.Assets] 0\n",
       "\\item[Total.assets.to.GNP.price] 0\n",
       "\\item[No.credit.Interval] 0\n",
       "\\item[Gross.Profit.to.Sales] 0\n",
       "\\item[Net.Income.to.Stockholder.s.Equity] 0\n",
       "\\item[Liability.to.Equity] 0\n",
       "\\item[Degree.of.Financial.Leverage..DFL.] 0\n",
       "\\item[Interest.Coverage.Ratio..Interest.expense.to.EBIT.] 0\n",
       "\\item[Net.Income.Flag] 0\n",
       "\\item[Equity.to.Liability] 0\n",
       "\\end{description*}\n"
      ],
      "text/markdown": [
       "Bankrupt.\n",
       ":   0ROA.C..before.interest.and.depreciation.before.interest\n",
       ":   0ROA.A..before.interest.and...after.tax\n",
       ":   0ROA.B..before.interest.and.depreciation.after.tax\n",
       ":   0Operating.Gross.Margin\n",
       ":   0Realized.Sales.Gross.Margin\n",
       ":   0Operating.Profit.Rate\n",
       ":   0Pre.tax.net.Interest.Rate\n",
       ":   0After.tax.net.Interest.Rate\n",
       ":   0Non.industry.income.and.expenditure.revenue\n",
       ":   0Continuous.interest.rate..after.tax.\n",
       ":   0Operating.Expense.Rate\n",
       ":   0Research.and.development.expense.rate\n",
       ":   0Cash.flow.rate\n",
       ":   0Interest.bearing.debt.interest.rate\n",
       ":   0Tax.rate..A.\n",
       ":   0Net.Value.Per.Share..B.\n",
       ":   0Net.Value.Per.Share..A.\n",
       ":   0Net.Value.Per.Share..C.\n",
       ":   0Persistent.EPS.in.the.Last.Four.Seasons\n",
       ":   0Cash.Flow.Per.Share\n",
       ":   0Revenue.Per.Share..Yuan.Â..\n",
       ":   0Operating.Profit.Per.Share..Yuan.Â..\n",
       ":   0Per.Share.Net.profit.before.tax..Yuan.Â..\n",
       ":   0Realized.Sales.Gross.Profit.Growth.Rate\n",
       ":   0Operating.Profit.Growth.Rate\n",
       ":   0After.tax.Net.Profit.Growth.Rate\n",
       ":   0Regular.Net.Profit.Growth.Rate\n",
       ":   0Continuous.Net.Profit.Growth.Rate\n",
       ":   0Total.Asset.Growth.Rate\n",
       ":   0Net.Value.Growth.Rate\n",
       ":   0Total.Asset.Return.Growth.Rate.Ratio\n",
       ":   0Cash.Reinvestment..\n",
       ":   0Current.Ratio\n",
       ":   0Quick.Ratio\n",
       ":   0Interest.Expense.Ratio\n",
       ":   0Total.debt.Total.net.worth\n",
       ":   0Debt.ratio..\n",
       ":   0Net.worth.Assets\n",
       ":   0Long.term.fund.suitability.ratio..A.\n",
       ":   0Borrowing.dependency\n",
       ":   0Contingent.liabilities.Net.worth\n",
       ":   0Operating.profit.Paid.in.capital\n",
       ":   0Net.profit.before.tax.Paid.in.capital\n",
       ":   0Inventory.and.accounts.receivable.Net.value\n",
       ":   0Total.Asset.Turnover\n",
       ":   0Accounts.Receivable.Turnover\n",
       ":   0Average.Collection.Days\n",
       ":   0Inventory.Turnover.Rate..times.\n",
       ":   0Fixed.Assets.Turnover.Frequency\n",
       ":   0Net.Worth.Turnover.Rate..times.\n",
       ":   0Revenue.per.person\n",
       ":   0Operating.profit.per.person\n",
       ":   0Allocation.rate.per.person\n",
       ":   0Working.Capital.to.Total.Assets\n",
       ":   0Quick.Assets.Total.Assets\n",
       ":   0Current.Assets.Total.Assets\n",
       ":   0Cash.Total.Assets\n",
       ":   0Quick.Assets.Current.Liability\n",
       ":   0Cash.Current.Liability\n",
       ":   0Current.Liability.to.Assets\n",
       ":   0Operating.Funds.to.Liability\n",
       ":   0Inventory.Working.Capital\n",
       ":   0Inventory.Current.Liability\n",
       ":   0Current.Liabilities.Liability\n",
       ":   0Working.Capital.Equity\n",
       ":   0Current.Liabilities.Equity\n",
       ":   0Long.term.Liability.to.Current.Assets\n",
       ":   0Retained.Earnings.to.Total.Assets\n",
       ":   0Total.income.Total.expense\n",
       ":   0Total.expense.Assets\n",
       ":   0Current.Asset.Turnover.Rate\n",
       ":   0Quick.Asset.Turnover.Rate\n",
       ":   0Working.capitcal.Turnover.Rate\n",
       ":   0Cash.Turnover.Rate\n",
       ":   0Cash.Flow.to.Sales\n",
       ":   0Fixed.Assets.to.Assets\n",
       ":   0Current.Liability.to.Liability\n",
       ":   0Current.Liability.to.Equity\n",
       ":   0Equity.to.Long.term.Liability\n",
       ":   0Cash.Flow.to.Total.Assets\n",
       ":   0Cash.Flow.to.Liability\n",
       ":   0CFO.to.Assets\n",
       ":   0Cash.Flow.to.Equity\n",
       ":   0Current.Liability.to.Current.Assets\n",
       ":   0Liability.Assets.Flag\n",
       ":   0Net.Income.to.Total.Assets\n",
       ":   0Total.assets.to.GNP.price\n",
       ":   0No.credit.Interval\n",
       ":   0Gross.Profit.to.Sales\n",
       ":   0Net.Income.to.Stockholder.s.Equity\n",
       ":   0Liability.to.Equity\n",
       ":   0Degree.of.Financial.Leverage..DFL.\n",
       ":   0Interest.Coverage.Ratio..Interest.expense.to.EBIT.\n",
       ":   0Net.Income.Flag\n",
       ":   0Equity.to.Liability\n",
       ":   0\n",
       "\n"
      ],
      "text/plain": [
       "                                              Bankrupt. \n",
       "                                                      0 \n",
       "ROA.C..before.interest.and.depreciation.before.interest \n",
       "                                                      0 \n",
       "                 ROA.A..before.interest.and...after.tax \n",
       "                                                      0 \n",
       "      ROA.B..before.interest.and.depreciation.after.tax \n",
       "                                                      0 \n",
       "                                 Operating.Gross.Margin \n",
       "                                                      0 \n",
       "                            Realized.Sales.Gross.Margin \n",
       "                                                      0 \n",
       "                                  Operating.Profit.Rate \n",
       "                                                      0 \n",
       "                              Pre.tax.net.Interest.Rate \n",
       "                                                      0 \n",
       "                            After.tax.net.Interest.Rate \n",
       "                                                      0 \n",
       "            Non.industry.income.and.expenditure.revenue \n",
       "                                                      0 \n",
       "                   Continuous.interest.rate..after.tax. \n",
       "                                                      0 \n",
       "                                 Operating.Expense.Rate \n",
       "                                                      0 \n",
       "                  Research.and.development.expense.rate \n",
       "                                                      0 \n",
       "                                         Cash.flow.rate \n",
       "                                                      0 \n",
       "                    Interest.bearing.debt.interest.rate \n",
       "                                                      0 \n",
       "                                           Tax.rate..A. \n",
       "                                                      0 \n",
       "                                Net.Value.Per.Share..B. \n",
       "                                                      0 \n",
       "                                Net.Value.Per.Share..A. \n",
       "                                                      0 \n",
       "                                Net.Value.Per.Share..C. \n",
       "                                                      0 \n",
       "                Persistent.EPS.in.the.Last.Four.Seasons \n",
       "                                                      0 \n",
       "                                    Cash.Flow.Per.Share \n",
       "                                                      0 \n",
       "                            Revenue.Per.Share..Yuan.Â.. \n",
       "                                                      0 \n",
       "                   Operating.Profit.Per.Share..Yuan.Â.. \n",
       "                                                      0 \n",
       "              Per.Share.Net.profit.before.tax..Yuan.Â.. \n",
       "                                                      0 \n",
       "                Realized.Sales.Gross.Profit.Growth.Rate \n",
       "                                                      0 \n",
       "                           Operating.Profit.Growth.Rate \n",
       "                                                      0 \n",
       "                       After.tax.Net.Profit.Growth.Rate \n",
       "                                                      0 \n",
       "                         Regular.Net.Profit.Growth.Rate \n",
       "                                                      0 \n",
       "                      Continuous.Net.Profit.Growth.Rate \n",
       "                                                      0 \n",
       "                                Total.Asset.Growth.Rate \n",
       "                                                      0 \n",
       "                                  Net.Value.Growth.Rate \n",
       "                                                      0 \n",
       "                   Total.Asset.Return.Growth.Rate.Ratio \n",
       "                                                      0 \n",
       "                                    Cash.Reinvestment.. \n",
       "                                                      0 \n",
       "                                          Current.Ratio \n",
       "                                                      0 \n",
       "                                            Quick.Ratio \n",
       "                                                      0 \n",
       "                                 Interest.Expense.Ratio \n",
       "                                                      0 \n",
       "                             Total.debt.Total.net.worth \n",
       "                                                      0 \n",
       "                                           Debt.ratio.. \n",
       "                                                      0 \n",
       "                                       Net.worth.Assets \n",
       "                                                      0 \n",
       "                   Long.term.fund.suitability.ratio..A. \n",
       "                                                      0 \n",
       "                                   Borrowing.dependency \n",
       "                                                      0 \n",
       "                       Contingent.liabilities.Net.worth \n",
       "                                                      0 \n",
       "                       Operating.profit.Paid.in.capital \n",
       "                                                      0 \n",
       "                  Net.profit.before.tax.Paid.in.capital \n",
       "                                                      0 \n",
       "            Inventory.and.accounts.receivable.Net.value \n",
       "                                                      0 \n",
       "                                   Total.Asset.Turnover \n",
       "                                                      0 \n",
       "                           Accounts.Receivable.Turnover \n",
       "                                                      0 \n",
       "                                Average.Collection.Days \n",
       "                                                      0 \n",
       "                        Inventory.Turnover.Rate..times. \n",
       "                                                      0 \n",
       "                        Fixed.Assets.Turnover.Frequency \n",
       "                                                      0 \n",
       "                        Net.Worth.Turnover.Rate..times. \n",
       "                                                      0 \n",
       "                                     Revenue.per.person \n",
       "                                                      0 \n",
       "                            Operating.profit.per.person \n",
       "                                                      0 \n",
       "                             Allocation.rate.per.person \n",
       "                                                      0 \n",
       "                        Working.Capital.to.Total.Assets \n",
       "                                                      0 \n",
       "                              Quick.Assets.Total.Assets \n",
       "                                                      0 \n",
       "                            Current.Assets.Total.Assets \n",
       "                                                      0 \n",
       "                                      Cash.Total.Assets \n",
       "                                                      0 \n",
       "                         Quick.Assets.Current.Liability \n",
       "                                                      0 \n",
       "                                 Cash.Current.Liability \n",
       "                                                      0 \n",
       "                            Current.Liability.to.Assets \n",
       "                                                      0 \n",
       "                           Operating.Funds.to.Liability \n",
       "                                                      0 \n",
       "                              Inventory.Working.Capital \n",
       "                                                      0 \n",
       "                            Inventory.Current.Liability \n",
       "                                                      0 \n",
       "                          Current.Liabilities.Liability \n",
       "                                                      0 \n",
       "                                 Working.Capital.Equity \n",
       "                                                      0 \n",
       "                             Current.Liabilities.Equity \n",
       "                                                      0 \n",
       "                  Long.term.Liability.to.Current.Assets \n",
       "                                                      0 \n",
       "                      Retained.Earnings.to.Total.Assets \n",
       "                                                      0 \n",
       "                             Total.income.Total.expense \n",
       "                                                      0 \n",
       "                                   Total.expense.Assets \n",
       "                                                      0 \n",
       "                            Current.Asset.Turnover.Rate \n",
       "                                                      0 \n",
       "                              Quick.Asset.Turnover.Rate \n",
       "                                                      0 \n",
       "                         Working.capitcal.Turnover.Rate \n",
       "                                                      0 \n",
       "                                     Cash.Turnover.Rate \n",
       "                                                      0 \n",
       "                                     Cash.Flow.to.Sales \n",
       "                                                      0 \n",
       "                                 Fixed.Assets.to.Assets \n",
       "                                                      0 \n",
       "                         Current.Liability.to.Liability \n",
       "                                                      0 \n",
       "                            Current.Liability.to.Equity \n",
       "                                                      0 \n",
       "                          Equity.to.Long.term.Liability \n",
       "                                                      0 \n",
       "                              Cash.Flow.to.Total.Assets \n",
       "                                                      0 \n",
       "                                 Cash.Flow.to.Liability \n",
       "                                                      0 \n",
       "                                          CFO.to.Assets \n",
       "                                                      0 \n",
       "                                    Cash.Flow.to.Equity \n",
       "                                                      0 \n",
       "                    Current.Liability.to.Current.Assets \n",
       "                                                      0 \n",
       "                                  Liability.Assets.Flag \n",
       "                                                      0 \n",
       "                             Net.Income.to.Total.Assets \n",
       "                                                      0 \n",
       "                              Total.assets.to.GNP.price \n",
       "                                                      0 \n",
       "                                     No.credit.Interval \n",
       "                                                      0 \n",
       "                                  Gross.Profit.to.Sales \n",
       "                                                      0 \n",
       "                     Net.Income.to.Stockholder.s.Equity \n",
       "                                                      0 \n",
       "                                    Liability.to.Equity \n",
       "                                                      0 \n",
       "                     Degree.of.Financial.Leverage..DFL. \n",
       "                                                      0 \n",
       "     Interest.Coverage.Ratio..Interest.expense.to.EBIT. \n",
       "                                                      0 \n",
       "                                        Net.Income.Flag \n",
       "                                                      0 \n",
       "                                    Equity.to.Liability \n",
       "                                                      0 "
      ]
     },
     "metadata": {},
     "output_type": "display_data"
    }
   ],
   "source": [
    "# Check missing values\n",
    "print(paste(\"Total NAs:\", sum(apply(is.na(data), 2, sum))))\n",
    "apply(is.na(data), 2, sum)"
   ]
  },
  {
   "cell_type": "code",
   "execution_count": 6,
   "id": "2616b867-cd8d-444c-aa40-96db72c23480",
   "metadata": {
    "tags": []
   },
   "outputs": [
    {
     "name": "stdout",
     "output_type": "stream",
     "text": [
      "'data.frame':\t6819 obs. of  96 variables:\n",
      " $ Bankrupt.                                              : int  1 1 1 1 1 1 0 0 0 0 ...\n",
      " $ ROA.C..before.interest.and.depreciation.before.interest: num  0.371 0.464 0.426 0.4 0.465 ...\n",
      " $ ROA.A..before.interest.and...after.tax                 : num  0.424 0.538 0.499 0.451 0.538 ...\n",
      " $ ROA.B..before.interest.and.depreciation.after.tax      : num  0.406 0.517 0.472 0.458 0.522 ...\n",
      " $ Operating.Gross.Margin                                 : num  0.601 0.61 0.601 0.584 0.599 ...\n",
      " $ Realized.Sales.Gross.Margin                            : num  0.601 0.61 0.601 0.584 0.599 ...\n",
      " $ Operating.Profit.Rate                                  : num  0.999 0.999 0.999 0.999 0.999 ...\n",
      " $ Pre.tax.net.Interest.Rate                              : num  0.797 0.797 0.796 0.797 0.797 ...\n",
      " $ After.tax.net.Interest.Rate                            : num  0.809 0.809 0.808 0.809 0.809 ...\n",
      " $ Non.industry.income.and.expenditure.revenue            : num  0.303 0.304 0.302 0.303 0.303 ...\n",
      " $ Continuous.interest.rate..after.tax.                   : num  0.781 0.782 0.78 0.781 0.782 ...\n",
      " $ Operating.Expense.Rate                                 : num  1.26e-04 2.90e-04 2.36e-04 1.08e-04 7.89e+09 ...\n",
      " $ Research.and.development.expense.rate                  : num  0.00 0.00 2.55e+07 0.00 0.00 0.00 7.30e+08 5.09e+07 0.00 0.00 ...\n",
      " $ Cash.flow.rate                                         : num  0.458 0.462 0.459 0.466 0.463 ...\n",
      " $ Interest.bearing.debt.interest.rate                    : num  0.000725 0.000647 0.00079 0.000449 0.000686 ...\n",
      " $ Tax.rate..A.                                           : num  0 0 0 0 0 ...\n",
      " $ Net.Value.Per.Share..B.                                : num  0.148 0.182 0.178 0.154 0.168 ...\n",
      " $ Net.Value.Per.Share..A.                                : num  0.148 0.182 0.178 0.154 0.168 ...\n",
      " $ Net.Value.Per.Share..C.                                : num  0.148 0.182 0.194 0.154 0.168 ...\n",
      " $ Persistent.EPS.in.the.Last.Four.Seasons                : num  0.169 0.209 0.181 0.194 0.213 ...\n",
      " $ Cash.Flow.Per.Share                                    : num  0.312 0.318 0.307 0.322 0.319 ...\n",
      " $ Revenue.Per.Share..Yuan.Â..                            : num  0.01756 0.02114 0.00594 0.01437 0.02969 ...\n",
      " $ Operating.Profit.Per.Share..Yuan.Â..                   : num  0.0959 0.0937 0.0923 0.0778 0.0969 ...\n",
      " $ Per.Share.Net.profit.before.tax..Yuan.Â..              : num  0.139 0.17 0.143 0.149 0.168 ...\n",
      " $ Realized.Sales.Gross.Profit.Growth.Rate                : num  0.0221 0.0221 0.0228 0.022 0.0221 ...\n",
      " $ Operating.Profit.Growth.Rate                           : num  0.848 0.848 0.848 0.848 0.848 ...\n",
      " $ After.tax.Net.Profit.Growth.Rate                       : num  0.689 0.69 0.689 0.689 0.69 ...\n",
      " $ Regular.Net.Profit.Growth.Rate                         : num  0.689 0.69 0.689 0.689 0.69 ...\n",
      " $ Continuous.Net.Profit.Growth.Rate                      : num  0.218 0.218 0.218 0.218 0.218 ...\n",
      " $ Total.Asset.Growth.Rate                                : num  4.98e+09 6.11e+09 7.28e+09 4.88e+09 5.51e+09 6.08e+08 5.72e+09 6.63e+09 6.89e+09 5.55e+09 ...\n",
      " $ Net.Value.Growth.Rate                                  : num  0.000327 0.000443 0.000396 0.000382 0.000439 ...\n",
      " $ Total.Asset.Return.Growth.Rate.Ratio                   : num  0.263 0.265 0.264 0.263 0.265 ...\n",
      " $ Cash.Reinvestment..                                    : num  0.364 0.377 0.369 0.384 0.38 ...\n",
      " $ Current.Ratio                                          : num  0.00226 0.00602 0.01154 0.00419 0.00602 ...\n",
      " $ Quick.Ratio                                            : num  0.00121 0.00404 0.00535 0.0029 0.00373 ...\n",
      " $ Interest.Expense.Ratio                                 : num  0.63 0.635 0.63 0.63 0.636 ...\n",
      " $ Total.debt.Total.net.worth                             : num  0.02127 0.0125 0.02125 0.00957 0.00515 ...\n",
      " $ Debt.ratio..                                           : num  0.208 0.171 0.208 0.151 0.107 ...\n",
      " $ Net.worth.Assets                                       : num  0.792 0.829 0.792 0.849 0.893 ...\n",
      " $ Long.term.fund.suitability.ratio..A.                   : num  0.00502 0.00506 0.0051 0.00505 0.0053 ...\n",
      " $ Borrowing.dependency                                   : num  0.39 0.377 0.379 0.38 0.375 ...\n",
      " $ Contingent.liabilities.Net.worth                       : num  0.00648 0.00584 0.00656 0.00537 0.00662 ...\n",
      " $ Operating.profit.Paid.in.capital                       : num  0.0959 0.0937 0.0923 0.0777 0.0969 ...\n",
      " $ Net.profit.before.tax.Paid.in.capital                  : num  0.138 0.169 0.148 0.148 0.167 ...\n",
      " $ Inventory.and.accounts.receivable.Net.value            : num  0.398 0.398 0.407 0.398 0.4 ...\n",
      " $ Total.Asset.Turnover                                   : num  0.087 0.0645 0.015 0.09 0.1754 ...\n",
      " $ Accounts.Receivable.Turnover                           : num  0.00181 0.00129 0.0015 0.00197 0.00145 ...\n",
      " $ Average.Collection.Days                                : num  0.00349 0.00492 0.00423 0.00321 0.00437 ...\n",
      " $ Inventory.Turnover.Rate..times.                        : num  1.82e-04 9.36e+09 6.50e+07 7.13e+09 1.63e-04 ...\n",
      " $ Fixed.Assets.Turnover.Frequency                        : num  1.17e-04 7.19e+08 2.65e+09 9.15e+09 2.94e-04 ...\n",
      " $ Net.Worth.Turnover.Rate..times.                        : num  0.0329 0.0255 0.0134 0.0281 0.0402 ...\n",
      " $ Revenue.per.person                                     : num  0.03416 0.00689 0.029 0.01546 0.05811 ...\n",
      " $ Operating.profit.per.person                            : num  0.393 0.392 0.382 0.378 0.394 ...\n",
      " $ Allocation.rate.per.person                             : num  0.0371 0.0123 0.141 0.0213 0.024 ...\n",
      " $ Working.Capital.to.Total.Assets                        : num  0.673 0.751 0.83 0.726 0.752 ...\n",
      " $ Quick.Assets.Total.Assets                              : num  0.167 0.127 0.34 0.162 0.26 ...\n",
      " $ Current.Assets.Total.Assets                            : num  0.191 0.182 0.603 0.226 0.358 ...\n",
      " $ Cash.Total.Assets                                      : num  0.004094 0.014948 0.000991 0.018851 0.014161 ...\n",
      " $ Quick.Assets.Current.Liability                         : num  0.002 0.00414 0.0063 0.00296 0.00427 ...\n",
      " $ Cash.Current.Liability                                 : num  1.47e-04 1.38e-03 5.34e+09 1.01e-03 6.80e-04 ...\n",
      " $ Current.Liability.to.Assets                            : num  0.1473 0.057 0.0982 0.0987 0.1102 ...\n",
      " $ Operating.Funds.to.Liability                           : num  0.334 0.341 0.337 0.349 0.345 ...\n",
      " $ Inventory.Working.Capital                              : num  0.277 0.29 0.277 0.277 0.288 ...\n",
      " $ Inventory.Current.Liability                            : num  0.00104 0.00521 0.01388 0.00354 0.00487 ...\n",
      " $ Current.Liabilities.Liability                          : num  0.676 0.309 0.446 0.616 0.975 ...\n",
      " $ Working.Capital.Equity                                 : num  0.721 0.732 0.743 0.73 0.732 ...\n",
      " $ Current.Liabilities.Equity                             : num  0.339 0.33 0.335 0.332 0.331 ...\n",
      " $ Long.term.Liability.to.Current.Assets                  : num  0.02559 0.02395 0.00372 0.02217 0 ...\n",
      " $ Retained.Earnings.to.Total.Assets                      : num  0.903 0.931 0.91 0.907 0.914 ...\n",
      " $ Total.income.Total.expense                             : num  0.00202 0.00223 0.00206 0.00183 0.00222 ...\n",
      " $ Total.expense.Assets                                   : num  0.0649 0.0255 0.0214 0.0242 0.0264 ...\n",
      " $ Current.Asset.Turnover.Rate                            : num  7.01e+08 1.07e-04 1.79e-03 8.14e+09 6.68e+09 ...\n",
      " $ Quick.Asset.Turnover.Rate                              : num  6.55e+09 7.70e+09 1.02e-03 6.05e+09 5.05e+09 ...\n",
      " $ Working.capitcal.Turnover.Rate                         : num  0.594 0.594 0.595 0.594 0.594 ...\n",
      " $ Cash.Turnover.Rate                                     : num  4.58e+08 2.49e+09 7.61e+08 2.03e+09 8.24e+08 ...\n",
      " $ Cash.Flow.to.Sales                                     : num  0.672 0.672 0.672 0.672 0.672 ...\n",
      " $ Fixed.Assets.to.Assets                                 : num  0.424 0.469 0.276 0.559 0.31 ...\n",
      " $ Current.Liability.to.Liability                         : num  0.676 0.309 0.446 0.616 0.975 ...\n",
      " $ Current.Liability.to.Equity                            : num  0.339 0.33 0.335 0.332 0.331 ...\n",
      " $ Equity.to.Long.term.Liability                          : num  0.127 0.121 0.118 0.121 0.111 ...\n",
      " $ Cash.Flow.to.Total.Assets                              : num  0.638 0.641 0.643 0.579 0.622 ...\n",
      " $ Cash.Flow.to.Liability                                 : num  0.459 0.459 0.459 0.449 0.454 ...\n",
      " $ CFO.to.Assets                                          : num  0.52 0.567 0.538 0.604 0.578 ...\n",
      " $ Cash.Flow.to.Equity                                    : num  0.313 0.314 0.315 0.302 0.312 ...\n",
      " $ Current.Liability.to.Current.Assets                    : num  0.1183 0.0478 0.0253 0.0672 0.0477 ...\n",
      " $ Liability.Assets.Flag                                  : int  0 0 0 0 0 0 0 0 0 0 ...\n",
      " $ Net.Income.to.Total.Assets                             : num  0.717 0.795 0.775 0.74 0.795 ...\n",
      " $ Total.assets.to.GNP.price                              : num  0.00922 0.00832 0.04 0.00325 0.00388 ...\n",
      " $ No.credit.Interval                                     : num  0.623 0.624 0.624 0.623 0.624 ...\n",
      " $ Gross.Profit.to.Sales                                  : num  0.601 0.61 0.601 0.584 0.599 ...\n",
      " $ Net.Income.to.Stockholder.s.Equity                     : num  0.828 0.84 0.837 0.835 0.84 ...\n",
      " $ Liability.to.Equity                                    : num  0.29 0.284 0.29 0.282 0.279 ...\n",
      " $ Degree.of.Financial.Leverage..DFL.                     : num  0.0266 0.2646 0.0266 0.0267 0.0248 ...\n",
      " $ Interest.Coverage.Ratio..Interest.expense.to.EBIT.     : num  0.564 0.57 0.564 0.565 0.576 ...\n",
      " $ Net.Income.Flag                                        : int  1 1 1 1 1 1 1 1 1 1 ...\n",
      " $ Equity.to.Liability                                    : num  0.0165 0.0208 0.0165 0.024 0.0355 ...\n"
     ]
    }
   ],
   "source": [
    "# Data description\n",
    "str(data)"
   ]
  },
  {
   "cell_type": "code",
   "execution_count": 7,
   "id": "9559be5b-5dfa-4876-a547-51ef60e6c494",
   "metadata": {},
   "outputs": [],
   "source": [
    "# Split the data into train/test\n",
    "set.seed(1)\n",
    "train_idx <- sample(1:nrow(data), nrow(data)*0.8)\n",
    "data_train <- data[train_idx, ]  # 80%\n",
    "data_test <- data[-train_idx, ]  # 20%"
   ]
  },
  {
   "cell_type": "code",
   "execution_count": 8,
   "id": "1c5d2f2c-9ae9-45c5-bea7-eca7f778a266",
   "metadata": {},
   "outputs": [
    {
     "name": "stdout",
     "output_type": "stream",
     "text": [
      "[1] 5455   96\n",
      "[1] 1364   96\n"
     ]
    }
   ],
   "source": [
    "print(dim(data_train))\n",
    "print(dim(data_test))"
   ]
  },
  {
   "cell_type": "markdown",
   "id": "dd3df38b-81c7-499e-883a-9c2712cc4a5c",
   "metadata": {},
   "source": [
    "#### Train the Neural Network model"
   ]
  },
  {
   "cell_type": "code",
   "execution_count": 9,
   "id": "be849ff8-8b4f-4e20-a30c-f5471f4e7920",
   "metadata": {},
   "outputs": [],
   "source": [
    "#2 Train the neural network model\n",
    "nn_md <- neuralnet(Bankrupt. ~.,          # The formula, all the variables\n",
    "                   data_train,             # Training data\n",
    "                   hidden=c(30),  # Size of the hidden layers\n",
    "                   stepmax=100000,        # Maximum training step before stopping\n",
    "                   rep=1,                 # Number of training repeat\n",
    "                   #lifesign='full',       # Print during train\n",
    "                   #algorithm='backprop',  # Algorithm to calculate the network (backpropagation)\n",
    "                   #learningrate=0.01,     # Learning rate\n",
    "                   #err.fct='ce',          # Error function, cross-entropy\n",
    "                   act.fct=\"logistic\",    # Function use to calculate the result (activation function)\n",
    "                   linear.output=F        # FALSE = apply activation function to output layer\n",
    "                  )"
   ]
  },
  {
   "cell_type": "markdown",
   "id": "bcff3e34-f370-4eb5-915d-233ebec92d3d",
   "metadata": {},
   "source": [
    "#### Plot the neural networks model"
   ]
  },
  {
   "cell_type": "code",
   "execution_count": 10,
   "id": "0aa3e64a-c8e4-4cf6-95cc-17bbabaf7e00",
   "metadata": {},
   "outputs": [
    {
     "data": {
      "image/png": "[encoded data removed]",
      "text/plain": [
       "plot without title"
      ]
     },
     "metadata": {
      "image/png": {
       "height": 360,
       "width": 720
      }
     },
     "output_type": "display_data"
    }
   ],
   "source": [
    "# Plot the neural network\n",
    "options(repr.plot.width=12, repr.plot.height=6)\n",
    "par(cex.lab=0.8, cex.axis=0.8, cex.main=0.8, cex.sub=0.8)\n",
    "\n",
    "plot(nn_md, rep=\"best\")"
   ]
  },
  {
   "cell_type": "code",
   "execution_count": 11,
   "id": "4c375734-0a6a-4cfa-982f-da95deea4066",
   "metadata": {},
   "outputs": [
    {
     "data": {
      "text/plain": [
       "   train_pred\n",
       "       1\n",
       "  0 5279\n",
       "  1  176"
      ]
     },
     "metadata": {},
     "output_type": "display_data"
    }
   ],
   "source": [
    "# Make prediction and evaluation on train set\n",
    "train_pred <- predict(nn_md, data[train_idx, ])\n",
    "train_pred <- apply(train_pred, 1, which.max)\n",
    "\n",
    "table(data[train_idx, ]$Bankrupt., train_pred)"
   ]
  },
  {
   "cell_type": "code",
   "execution_count": 12,
   "id": "1ffc665b-5c34-49aa-9f24-be6fef0fb56b",
   "metadata": {},
   "outputs": [
    {
     "data": {
      "text/plain": [
       "   test_pred\n",
       "       1\n",
       "  0 1320\n",
       "  1   44"
      ]
     },
     "metadata": {},
     "output_type": "display_data"
    }
   ],
   "source": [
    "# Make prediction and evaluation on test set\n",
    "test_pred <- predict(nn_md, data[-train_idx, ])\n",
    "test_pred <- apply(test_pred, 1, which.max)\n",
    "\n",
    "table(data[-train_idx, ]$Bankrupt., test_pred)"
   ]
  },
  {
   "cell_type": "code",
   "execution_count": 67,
   "id": "eb5cf087-2c7f-40ef-bb5c-7a0f4a33c7ba",
   "metadata": {},
   "outputs": [
    {
     "data": {
      "text/html": [
       "<table class=\"dataframe\">\n",
       "<caption>A matrix: 2914 × 1 of type dbl</caption>\n",
       "<tbody>\n",
       "\t<tr><th scope=row>error</th><td> 8.434159e+01</td></tr>\n",
       "\t<tr><th scope=row>reached.threshold</th><td> 9.914824e-03</td></tr>\n",
       "\t<tr><th scope=row>steps</th><td> 3.660000e+03</td></tr>\n",
       "\t<tr><th scope=row>Intercept.to.1layhid1</th><td> 2.510994e-01</td></tr>\n",
       "\t<tr><th scope=row>ROA.C..before.interest.and.depreciation.before.interest.to.1layhid1</th><td> 1.282679e+00</td></tr>\n",
       "\t<tr><th scope=row>ROA.A..before.interest.and...after.tax.to.1layhid1</th><td>-2.517066e-01</td></tr>\n",
       "\t<tr><th scope=row>ROA.B..before.interest.and.depreciation.after.tax.to.1layhid1</th><td> 5.950507e-01</td></tr>\n",
       "\t<tr><th scope=row>Operating.Gross.Margin.to.1layhid1</th><td> 5.190360e-01</td></tr>\n",
       "\t<tr><th scope=row>Realized.Sales.Gross.Margin.to.1layhid1</th><td> 1.234120e+00</td></tr>\n",
       "\t<tr><th scope=row>Operating.Profit.Rate.to.1layhid1</th><td>-1.703897e+00</td></tr>\n",
       "\t<tr><th scope=row>Pre.tax.net.Interest.Rate.to.1layhid1</th><td> 1.963030e+00</td></tr>\n",
       "\t<tr><th scope=row>After.tax.net.Interest.Rate.to.1layhid1</th><td> 1.998612e+00</td></tr>\n",
       "\t<tr><th scope=row>Non.industry.income.and.expenditure.revenue.to.1layhid1</th><td> 1.344332e-01</td></tr>\n",
       "\t<tr><th scope=row>Continuous.interest.rate..after.tax..to.1layhid1</th><td> 1.211918e+00</td></tr>\n",
       "\t<tr><th scope=row>Operating.Expense.Rate.to.1layhid1</th><td> 1.010044e+00</td></tr>\n",
       "\t<tr><th scope=row>Research.and.development.expense.rate.to.1layhid1</th><td> 1.963617e-02</td></tr>\n",
       "\t<tr><th scope=row>Cash.flow.rate.to.1layhid1</th><td> 1.165289e+00</td></tr>\n",
       "\t<tr><th scope=row>Interest.bearing.debt.interest.rate.to.1layhid1</th><td> 2.937596e+00</td></tr>\n",
       "\t<tr><th scope=row>Tax.rate..A..to.1layhid1</th><td>-9.604012e-03</td></tr>\n",
       "\t<tr><th scope=row>Net.Value.Per.Share..B..to.1layhid1</th><td> 2.014199e+00</td></tr>\n",
       "\t<tr><th scope=row>Net.Value.Per.Share..A..to.1layhid1</th><td> 1.758487e+00</td></tr>\n",
       "\t<tr><th scope=row>Net.Value.Per.Share..C..to.1layhid1</th><td>-7.283074e-01</td></tr>\n",
       "\t<tr><th scope=row>Persistent.EPS.in.the.Last.Four.Seasons.to.1layhid1</th><td>-1.404353e-01</td></tr>\n",
       "\t<tr><th scope=row>Cash.Flow.Per.Share.to.1layhid1</th><td> 2.186245e+00</td></tr>\n",
       "\t<tr><th scope=row>Revenue.Per.Share..Yuan.Â...to.1layhid1</th><td> 5.189192e-01</td></tr>\n",
       "\t<tr><th scope=row>Operating.Profit.Per.Share..Yuan.Â...to.1layhid1</th><td> 2.996063e-02</td></tr>\n",
       "\t<tr><th scope=row>Per.Share.Net.profit.before.tax..Yuan.Â...to.1layhid1</th><td> 2.882848e+00</td></tr>\n",
       "\t<tr><th scope=row>Realized.Sales.Gross.Profit.Growth.Rate.to.1layhid1</th><td> 8.790257e-01</td></tr>\n",
       "\t<tr><th scope=row>Operating.Profit.Growth.Rate.to.1layhid1</th><td> 1.531820e+00</td></tr>\n",
       "\t<tr><th scope=row>After.tax.Net.Profit.Growth.Rate.to.1layhid1</th><td> 1.065878e+00</td></tr>\n",
       "\t<tr><th scope=row>⋮</th><td>⋮</td></tr>\n",
       "\t<tr><th scope=row>1layhid1.to.Bankrupt.</th><td>-0.19373038</td></tr>\n",
       "\t<tr><th scope=row>1layhid2.to.Bankrupt.</th><td> 0.19209330</td></tr>\n",
       "\t<tr><th scope=row>1layhid3.to.Bankrupt.</th><td>-0.20659726</td></tr>\n",
       "\t<tr><th scope=row>1layhid4.to.Bankrupt.</th><td> 0.48222227</td></tr>\n",
       "\t<tr><th scope=row>1layhid5.to.Bankrupt.</th><td> 0.76447432</td></tr>\n",
       "\t<tr><th scope=row>1layhid6.to.Bankrupt.</th><td>-5.90826760</td></tr>\n",
       "\t<tr><th scope=row>1layhid7.to.Bankrupt.</th><td>-0.38521738</td></tr>\n",
       "\t<tr><th scope=row>1layhid8.to.Bankrupt.</th><td> 0.48436954</td></tr>\n",
       "\t<tr><th scope=row>1layhid9.to.Bankrupt.</th><td>-0.53856155</td></tr>\n",
       "\t<tr><th scope=row>1layhid10.to.Bankrupt.</th><td>-0.17835531</td></tr>\n",
       "\t<tr><th scope=row>1layhid11.to.Bankrupt.</th><td> 1.11717906</td></tr>\n",
       "\t<tr><th scope=row>1layhid12.to.Bankrupt.</th><td> 0.67842362</td></tr>\n",
       "\t<tr><th scope=row>1layhid13.to.Bankrupt.</th><td>-0.38955561</td></tr>\n",
       "\t<tr><th scope=row>1layhid14.to.Bankrupt.</th><td> 0.94574975</td></tr>\n",
       "\t<tr><th scope=row>1layhid15.to.Bankrupt.</th><td>-0.15880733</td></tr>\n",
       "\t<tr><th scope=row>1layhid16.to.Bankrupt.</th><td>-0.14339592</td></tr>\n",
       "\t<tr><th scope=row>1layhid17.to.Bankrupt.</th><td> 0.01507663</td></tr>\n",
       "\t<tr><th scope=row>1layhid18.to.Bankrupt.</th><td> 0.89733751</td></tr>\n",
       "\t<tr><th scope=row>1layhid19.to.Bankrupt.</th><td>-0.80613326</td></tr>\n",
       "\t<tr><th scope=row>1layhid20.to.Bankrupt.</th><td> 0.17290711</td></tr>\n",
       "\t<tr><th scope=row>1layhid21.to.Bankrupt.</th><td> 0.06645170</td></tr>\n",
       "\t<tr><th scope=row>1layhid22.to.Bankrupt.</th><td>-0.08443698</td></tr>\n",
       "\t<tr><th scope=row>1layhid23.to.Bankrupt.</th><td>-0.61734302</td></tr>\n",
       "\t<tr><th scope=row>1layhid24.to.Bankrupt.</th><td> 0.28872472</td></tr>\n",
       "\t<tr><th scope=row>1layhid25.to.Bankrupt.</th><td> 0.27155829</td></tr>\n",
       "\t<tr><th scope=row>1layhid26.to.Bankrupt.</th><td> 0.31159735</td></tr>\n",
       "\t<tr><th scope=row>1layhid27.to.Bankrupt.</th><td> 0.33966306</td></tr>\n",
       "\t<tr><th scope=row>1layhid28.to.Bankrupt.</th><td>-0.56166307</td></tr>\n",
       "\t<tr><th scope=row>1layhid29.to.Bankrupt.</th><td>-0.74660392</td></tr>\n",
       "\t<tr><th scope=row>1layhid30.to.Bankrupt.</th><td>-0.66952492</td></tr>\n",
       "</tbody>\n",
       "</table>\n"
      ],
      "text/latex": [
       "A matrix: 2914 × 1 of type dbl\n",
       "\\begin{tabular}{r|l}\n",
       "\terror &  8.434159e+01\\\\\n",
       "\treached.threshold &  9.914824e-03\\\\\n",
       "\tsteps &  3.660000e+03\\\\\n",
       "\tIntercept.to.1layhid1 &  2.510994e-01\\\\\n",
       "\tROA.C..before.interest.and.depreciation.before.interest.to.1layhid1 &  1.282679e+00\\\\\n",
       "\tROA.A..before.interest.and...after.tax.to.1layhid1 & -2.517066e-01\\\\\n",
       "\tROA.B..before.interest.and.depreciation.after.tax.to.1layhid1 &  5.950507e-01\\\\\n",
       "\tOperating.Gross.Margin.to.1layhid1 &  5.190360e-01\\\\\n",
       "\tRealized.Sales.Gross.Margin.to.1layhid1 &  1.234120e+00\\\\\n",
       "\tOperating.Profit.Rate.to.1layhid1 & -1.703897e+00\\\\\n",
       "\tPre.tax.net.Interest.Rate.to.1layhid1 &  1.963030e+00\\\\\n",
       "\tAfter.tax.net.Interest.Rate.to.1layhid1 &  1.998612e+00\\\\\n",
       "\tNon.industry.income.and.expenditure.revenue.to.1layhid1 &  1.344332e-01\\\\\n",
       "\tContinuous.interest.rate..after.tax..to.1layhid1 &  1.211918e+00\\\\\n",
       "\tOperating.Expense.Rate.to.1layhid1 &  1.010044e+00\\\\\n",
       "\tResearch.and.development.expense.rate.to.1layhid1 &  1.963617e-02\\\\\n",
       "\tCash.flow.rate.to.1layhid1 &  1.165289e+00\\\\\n",
       "\tInterest.bearing.debt.interest.rate.to.1layhid1 &  2.937596e+00\\\\\n",
       "\tTax.rate..A..to.1layhid1 & -9.604012e-03\\\\\n",
       "\tNet.Value.Per.Share..B..to.1layhid1 &  2.014199e+00\\\\\n",
       "\tNet.Value.Per.Share..A..to.1layhid1 &  1.758487e+00\\\\\n",
       "\tNet.Value.Per.Share..C..to.1layhid1 & -7.283074e-01\\\\\n",
       "\tPersistent.EPS.in.the.Last.Four.Seasons.to.1layhid1 & -1.404353e-01\\\\\n",
       "\tCash.Flow.Per.Share.to.1layhid1 &  2.186245e+00\\\\\n",
       "\tRevenue.Per.Share..Yuan.Â...to.1layhid1 &  5.189192e-01\\\\\n",
       "\tOperating.Profit.Per.Share..Yuan.Â...to.1layhid1 &  2.996063e-02\\\\\n",
       "\tPer.Share.Net.profit.before.tax..Yuan.Â...to.1layhid1 &  2.882848e+00\\\\\n",
       "\tRealized.Sales.Gross.Profit.Growth.Rate.to.1layhid1 &  8.790257e-01\\\\\n",
       "\tOperating.Profit.Growth.Rate.to.1layhid1 &  1.531820e+00\\\\\n",
       "\tAfter.tax.Net.Profit.Growth.Rate.to.1layhid1 &  1.065878e+00\\\\\n",
       "\t⋮ & ⋮\\\\\n",
       "\t1layhid1.to.Bankrupt. & -0.19373038\\\\\n",
       "\t1layhid2.to.Bankrupt. &  0.19209330\\\\\n",
       "\t1layhid3.to.Bankrupt. & -0.20659726\\\\\n",
       "\t1layhid4.to.Bankrupt. &  0.48222227\\\\\n",
       "\t1layhid5.to.Bankrupt. &  0.76447432\\\\\n",
       "\t1layhid6.to.Bankrupt. & -5.90826760\\\\\n",
       "\t1layhid7.to.Bankrupt. & -0.38521738\\\\\n",
       "\t1layhid8.to.Bankrupt. &  0.48436954\\\\\n",
       "\t1layhid9.to.Bankrupt. & -0.53856155\\\\\n",
       "\t1layhid10.to.Bankrupt. & -0.17835531\\\\\n",
       "\t1layhid11.to.Bankrupt. &  1.11717906\\\\\n",
       "\t1layhid12.to.Bankrupt. &  0.67842362\\\\\n",
       "\t1layhid13.to.Bankrupt. & -0.38955561\\\\\n",
       "\t1layhid14.to.Bankrupt. &  0.94574975\\\\\n",
       "\t1layhid15.to.Bankrupt. & -0.15880733\\\\\n",
       "\t1layhid16.to.Bankrupt. & -0.14339592\\\\\n",
       "\t1layhid17.to.Bankrupt. &  0.01507663\\\\\n",
       "\t1layhid18.to.Bankrupt. &  0.89733751\\\\\n",
       "\t1layhid19.to.Bankrupt. & -0.80613326\\\\\n",
       "\t1layhid20.to.Bankrupt. &  0.17290711\\\\\n",
       "\t1layhid21.to.Bankrupt. &  0.06645170\\\\\n",
       "\t1layhid22.to.Bankrupt. & -0.08443698\\\\\n",
       "\t1layhid23.to.Bankrupt. & -0.61734302\\\\\n",
       "\t1layhid24.to.Bankrupt. &  0.28872472\\\\\n",
       "\t1layhid25.to.Bankrupt. &  0.27155829\\\\\n",
       "\t1layhid26.to.Bankrupt. &  0.31159735\\\\\n",
       "\t1layhid27.to.Bankrupt. &  0.33966306\\\\\n",
       "\t1layhid28.to.Bankrupt. & -0.56166307\\\\\n",
       "\t1layhid29.to.Bankrupt. & -0.74660392\\\\\n",
       "\t1layhid30.to.Bankrupt. & -0.66952492\\\\\n",
       "\\end{tabular}\n"
      ],
      "text/markdown": [
       "\n",
       "A matrix: 2914 × 1 of type dbl\n",
       "\n",
       "| error |  8.434159e+01 |\n",
       "| reached.threshold |  9.914824e-03 |\n",
       "| steps |  3.660000e+03 |\n",
       "| Intercept.to.1layhid1 |  2.510994e-01 |\n",
       "| ROA.C..before.interest.and.depreciation.before.interest.to.1layhid1 |  1.282679e+00 |\n",
       "| ROA.A..before.interest.and...after.tax.to.1layhid1 | -2.517066e-01 |\n",
       "| ROA.B..before.interest.and.depreciation.after.tax.to.1layhid1 |  5.950507e-01 |\n",
       "| Operating.Gross.Margin.to.1layhid1 |  5.190360e-01 |\n",
       "| Realized.Sales.Gross.Margin.to.1layhid1 |  1.234120e+00 |\n",
       "| Operating.Profit.Rate.to.1layhid1 | -1.703897e+00 |\n",
       "| Pre.tax.net.Interest.Rate.to.1layhid1 |  1.963030e+00 |\n",
       "| After.tax.net.Interest.Rate.to.1layhid1 |  1.998612e+00 |\n",
       "| Non.industry.income.and.expenditure.revenue.to.1layhid1 |  1.344332e-01 |\n",
       "| Continuous.interest.rate..after.tax..to.1layhid1 |  1.211918e+00 |\n",
       "| Operating.Expense.Rate.to.1layhid1 |  1.010044e+00 |\n",
       "| Research.and.development.expense.rate.to.1layhid1 |  1.963617e-02 |\n",
       "| Cash.flow.rate.to.1layhid1 |  1.165289e+00 |\n",
       "| Interest.bearing.debt.interest.rate.to.1layhid1 |  2.937596e+00 |\n",
       "| Tax.rate..A..to.1layhid1 | -9.604012e-03 |\n",
       "| Net.Value.Per.Share..B..to.1layhid1 |  2.014199e+00 |\n",
       "| Net.Value.Per.Share..A..to.1layhid1 |  1.758487e+00 |\n",
       "| Net.Value.Per.Share..C..to.1layhid1 | -7.283074e-01 |\n",
       "| Persistent.EPS.in.the.Last.Four.Seasons.to.1layhid1 | -1.404353e-01 |\n",
       "| Cash.Flow.Per.Share.to.1layhid1 |  2.186245e+00 |\n",
       "| Revenue.Per.Share..Yuan.Â...to.1layhid1 |  5.189192e-01 |\n",
       "| Operating.Profit.Per.Share..Yuan.Â...to.1layhid1 |  2.996063e-02 |\n",
       "| Per.Share.Net.profit.before.tax..Yuan.Â...to.1layhid1 |  2.882848e+00 |\n",
       "| Realized.Sales.Gross.Profit.Growth.Rate.to.1layhid1 |  8.790257e-01 |\n",
       "| Operating.Profit.Growth.Rate.to.1layhid1 |  1.531820e+00 |\n",
       "| After.tax.Net.Profit.Growth.Rate.to.1layhid1 |  1.065878e+00 |\n",
       "| ⋮ | ⋮ |\n",
       "| 1layhid1.to.Bankrupt. | -0.19373038 |\n",
       "| 1layhid2.to.Bankrupt. |  0.19209330 |\n",
       "| 1layhid3.to.Bankrupt. | -0.20659726 |\n",
       "| 1layhid4.to.Bankrupt. |  0.48222227 |\n",
       "| 1layhid5.to.Bankrupt. |  0.76447432 |\n",
       "| 1layhid6.to.Bankrupt. | -5.90826760 |\n",
       "| 1layhid7.to.Bankrupt. | -0.38521738 |\n",
       "| 1layhid8.to.Bankrupt. |  0.48436954 |\n",
       "| 1layhid9.to.Bankrupt. | -0.53856155 |\n",
       "| 1layhid10.to.Bankrupt. | -0.17835531 |\n",
       "| 1layhid11.to.Bankrupt. |  1.11717906 |\n",
       "| 1layhid12.to.Bankrupt. |  0.67842362 |\n",
       "| 1layhid13.to.Bankrupt. | -0.38955561 |\n",
       "| 1layhid14.to.Bankrupt. |  0.94574975 |\n",
       "| 1layhid15.to.Bankrupt. | -0.15880733 |\n",
       "| 1layhid16.to.Bankrupt. | -0.14339592 |\n",
       "| 1layhid17.to.Bankrupt. |  0.01507663 |\n",
       "| 1layhid18.to.Bankrupt. |  0.89733751 |\n",
       "| 1layhid19.to.Bankrupt. | -0.80613326 |\n",
       "| 1layhid20.to.Bankrupt. |  0.17290711 |\n",
       "| 1layhid21.to.Bankrupt. |  0.06645170 |\n",
       "| 1layhid22.to.Bankrupt. | -0.08443698 |\n",
       "| 1layhid23.to.Bankrupt. | -0.61734302 |\n",
       "| 1layhid24.to.Bankrupt. |  0.28872472 |\n",
       "| 1layhid25.to.Bankrupt. |  0.27155829 |\n",
       "| 1layhid26.to.Bankrupt. |  0.31159735 |\n",
       "| 1layhid27.to.Bankrupt. |  0.33966306 |\n",
       "| 1layhid28.to.Bankrupt. | -0.56166307 |\n",
       "| 1layhid29.to.Bankrupt. | -0.74660392 |\n",
       "| 1layhid30.to.Bankrupt. | -0.66952492 |\n",
       "\n"
      ],
      "text/plain": [
       "                                                                    [,1]         \n",
       "error                                                                8.434159e+01\n",
       "reached.threshold                                                    9.914824e-03\n",
       "steps                                                                3.660000e+03\n",
       "Intercept.to.1layhid1                                                2.510994e-01\n",
       "ROA.C..before.interest.and.depreciation.before.interest.to.1layhid1  1.282679e+00\n",
       "ROA.A..before.interest.and...after.tax.to.1layhid1                  -2.517066e-01\n",
       "ROA.B..before.interest.and.depreciation.after.tax.to.1layhid1        5.950507e-01\n",
       "Operating.Gross.Margin.to.1layhid1                                   5.190360e-01\n",
       "Realized.Sales.Gross.Margin.to.1layhid1                              1.234120e+00\n",
       "Operating.Profit.Rate.to.1layhid1                                   -1.703897e+00\n",
       "Pre.tax.net.Interest.Rate.to.1layhid1                                1.963030e+00\n",
       "After.tax.net.Interest.Rate.to.1layhid1                              1.998612e+00\n",
       "Non.industry.income.and.expenditure.revenue.to.1layhid1              1.344332e-01\n",
       "Continuous.interest.rate..after.tax..to.1layhid1                     1.211918e+00\n",
       "Operating.Expense.Rate.to.1layhid1                                   1.010044e+00\n",
       "Research.and.development.expense.rate.to.1layhid1                    1.963617e-02\n",
       "Cash.flow.rate.to.1layhid1                                           1.165289e+00\n",
       "Interest.bearing.debt.interest.rate.to.1layhid1                      2.937596e+00\n",
       "Tax.rate..A..to.1layhid1                                            -9.604012e-03\n",
       "Net.Value.Per.Share..B..to.1layhid1                                  2.014199e+00\n",
       "Net.Value.Per.Share..A..to.1layhid1                                  1.758487e+00\n",
       "Net.Value.Per.Share..C..to.1layhid1                                 -7.283074e-01\n",
       "Persistent.EPS.in.the.Last.Four.Seasons.to.1layhid1                 -1.404353e-01\n",
       "Cash.Flow.Per.Share.to.1layhid1                                      2.186245e+00\n",
       "Revenue.Per.Share..Yuan.Â...to.1layhid1                              5.189192e-01\n",
       "Operating.Profit.Per.Share..Yuan.Â...to.1layhid1                     2.996063e-02\n",
       "Per.Share.Net.profit.before.tax..Yuan.Â...to.1layhid1                2.882848e+00\n",
       "Realized.Sales.Gross.Profit.Growth.Rate.to.1layhid1                  8.790257e-01\n",
       "Operating.Profit.Growth.Rate.to.1layhid1                             1.531820e+00\n",
       "After.tax.Net.Profit.Growth.Rate.to.1layhid1                         1.065878e+00\n",
       "<U+22EE>                                                                   <U+22EE>     \n",
       "1layhid1.to.Bankrupt.                                               -0.19373038  \n",
       "1layhid2.to.Bankrupt.                                                0.19209330  \n",
       "1layhid3.to.Bankrupt.                                               -0.20659726  \n",
       "1layhid4.to.Bankrupt.                                                0.48222227  \n",
       "1layhid5.to.Bankrupt.                                                0.76447432  \n",
       "1layhid6.to.Bankrupt.                                               -5.90826760  \n",
       "1layhid7.to.Bankrupt.                                               -0.38521738  \n",
       "1layhid8.to.Bankrupt.                                                0.48436954  \n",
       "1layhid9.to.Bankrupt.                                               -0.53856155  \n",
       "1layhid10.to.Bankrupt.                                              -0.17835531  \n",
       "1layhid11.to.Bankrupt.                                               1.11717906  \n",
       "1layhid12.to.Bankrupt.                                               0.67842362  \n",
       "1layhid13.to.Bankrupt.                                              -0.38955561  \n",
       "1layhid14.to.Bankrupt.                                               0.94574975  \n",
       "1layhid15.to.Bankrupt.                                              -0.15880733  \n",
       "1layhid16.to.Bankrupt.                                              -0.14339592  \n",
       "1layhid17.to.Bankrupt.                                               0.01507663  \n",
       "1layhid18.to.Bankrupt.                                               0.89733751  \n",
       "1layhid19.to.Bankrupt.                                              -0.80613326  \n",
       "1layhid20.to.Bankrupt.                                               0.17290711  \n",
       "1layhid21.to.Bankrupt.                                               0.06645170  \n",
       "1layhid22.to.Bankrupt.                                              -0.08443698  \n",
       "1layhid23.to.Bankrupt.                                              -0.61734302  \n",
       "1layhid24.to.Bankrupt.                                               0.28872472  \n",
       "1layhid25.to.Bankrupt.                                               0.27155829  \n",
       "1layhid26.to.Bankrupt.                                               0.31159735  \n",
       "1layhid27.to.Bankrupt.                                               0.33966306  \n",
       "1layhid28.to.Bankrupt.                                              -0.56166307  \n",
       "1layhid29.to.Bankrupt.                                              -0.74660392  \n",
       "1layhid30.to.Bankrupt.                                              -0.66952492  "
      ]
     },
     "metadata": {},
     "output_type": "display_data"
    }
   ],
   "source": [
    "# Error Rate\n",
    "nn_md$result.matrix"
   ]
  },
  {
   "cell_type": "code",
   "execution_count": 14,
   "id": "c54d73fa-4024-4572-b44f-f1b02057f5f9",
   "metadata": {},
   "outputs": [],
   "source": [
    "# 3 Train the neural network model\n",
    "nn_md1 <- neuralnet(Bankrupt. ~.,          # The formula, all the variables\n",
    "                   data_train,             # Training data\n",
    "                   hidden=c(30,30,30),  # Size of the hidden layers\n",
    "                   stepmax=100000,        # Maximum training step before stopping\n",
    "                   rep=1,                 # Number of training repeat\n",
    "                   #lifesign='full',       # Print during train\n",
    "                   #algorithm='backprop',  # Algorithm to calculate the network (backpropagation)\n",
    "                   #learningrate=0.01,     # Learning rate\n",
    "                   #err.fct='ce',          # Error function, cross-entropy\n",
    "                   act.fct=\"logistic\",    # Function use to calculate the result (activation function)\n",
    "                   linear.output=F        # FALSE = apply activation function to output layer\n",
    "                  )"
   ]
  },
  {
   "cell_type": "code",
   "execution_count": 15,
   "id": "490624f2-0c24-4510-8cc8-a82b05930ff9",
   "metadata": {},
   "outputs": [
    {
     "data": {
      "image/png": "[encoded data removed]",
      "text/plain": [
       "plot without title"
      ]
     },
     "metadata": {
      "image/png": {
       "height": 360,
       "width": 720
      }
     },
     "output_type": "display_data"
    }
   ],
   "source": [
    "# Plot the neural network\n",
    "options(repr.plot.width=12, repr.plot.height=6)\n",
    "par(cex.lab=0.8, cex.axis=0.8, cex.main=0.8, cex.sub=0.8)\n",
    "\n",
    "plot(nn_md1, rep=\"best\")"
   ]
  },
  {
   "cell_type": "code",
   "execution_count": 16,
   "id": "0df066de-88ce-4e30-8d51-831a51b50ee6",
   "metadata": {},
   "outputs": [
    {
     "data": {
      "text/plain": [
       "   train_pred\n",
       "       1\n",
       "  0 5279\n",
       "  1  176"
      ]
     },
     "metadata": {},
     "output_type": "display_data"
    }
   ],
   "source": [
    "# Make prediction and evaluation on train set\n",
    "train_pred <- predict(nn_md1, data[train_idx, ])\n",
    "train_pred <- apply(train_pred, 1, which.max)\n",
    "\n",
    "table(data[train_idx, ]$Bankrupt., train_pred)"
   ]
  },
  {
   "cell_type": "code",
   "execution_count": 17,
   "id": "2c97d9d6-a0a1-458a-929a-8777adcddccd",
   "metadata": {},
   "outputs": [
    {
     "data": {
      "text/plain": [
       "   test_pred\n",
       "       1\n",
       "  0 1320\n",
       "  1   44"
      ]
     },
     "metadata": {},
     "output_type": "display_data"
    }
   ],
   "source": [
    "# Make prediction and evaluation on test set\n",
    "test_pred <- predict(nn_md1, data[-train_idx, ])\n",
    "test_pred <- apply(test_pred, 1, which.max)\n",
    "\n",
    "table(data[-train_idx, ]$Bankrupt., test_pred)"
   ]
  },
  {
   "cell_type": "code",
   "execution_count": 68,
   "id": "e8137549-233e-4e18-a8e6-510565f2a18d",
   "metadata": {},
   "outputs": [
    {
     "data": {
      "text/html": [
       "<table class=\"dataframe\">\n",
       "<caption>A matrix: 4774 × 1 of type dbl</caption>\n",
       "<tbody>\n",
       "\t<tr><th scope=row>error</th><td> 8.058351e+01</td></tr>\n",
       "\t<tr><th scope=row>reached.threshold</th><td> 9.044357e-03</td></tr>\n",
       "\t<tr><th scope=row>steps</th><td> 7.705000e+03</td></tr>\n",
       "\t<tr><th scope=row>Intercept.to.1layhid1</th><td> 2.096510e-01</td></tr>\n",
       "\t<tr><th scope=row>ROA.C..before.interest.and.depreciation.before.interest.to.1layhid1</th><td> 4.066020e-01</td></tr>\n",
       "\t<tr><th scope=row>ROA.A..before.interest.and...after.tax.to.1layhid1</th><td> 5.858202e-01</td></tr>\n",
       "\t<tr><th scope=row>ROA.B..before.interest.and.depreciation.after.tax.to.1layhid1</th><td>-7.421561e-01</td></tr>\n",
       "\t<tr><th scope=row>Operating.Gross.Margin.to.1layhid1</th><td> 9.570848e-02</td></tr>\n",
       "\t<tr><th scope=row>Realized.Sales.Gross.Margin.to.1layhid1</th><td>-9.465321e-01</td></tr>\n",
       "\t<tr><th scope=row>Operating.Profit.Rate.to.1layhid1</th><td> 1.522426e+00</td></tr>\n",
       "\t<tr><th scope=row>Pre.tax.net.Interest.Rate.to.1layhid1</th><td> 3.323804e+00</td></tr>\n",
       "\t<tr><th scope=row>After.tax.net.Interest.Rate.to.1layhid1</th><td> 9.884358e-01</td></tr>\n",
       "\t<tr><th scope=row>Non.industry.income.and.expenditure.revenue.to.1layhid1</th><td> 2.652562e+00</td></tr>\n",
       "\t<tr><th scope=row>Continuous.interest.rate..after.tax..to.1layhid1</th><td> 3.013117e+00</td></tr>\n",
       "\t<tr><th scope=row>Operating.Expense.Rate.to.1layhid1</th><td> 3.646825e+00</td></tr>\n",
       "\t<tr><th scope=row>Research.and.development.expense.rate.to.1layhid1</th><td> 3.011218e+00</td></tr>\n",
       "\t<tr><th scope=row>Cash.flow.rate.to.1layhid1</th><td> 2.114963e+00</td></tr>\n",
       "\t<tr><th scope=row>Interest.bearing.debt.interest.rate.to.1layhid1</th><td> 1.621235e+00</td></tr>\n",
       "\t<tr><th scope=row>Tax.rate..A..to.1layhid1</th><td> 3.154404e+00</td></tr>\n",
       "\t<tr><th scope=row>Net.Value.Per.Share..B..to.1layhid1</th><td> 1.567579e+00</td></tr>\n",
       "\t<tr><th scope=row>Net.Value.Per.Share..A..to.1layhid1</th><td> 1.522121e+00</td></tr>\n",
       "\t<tr><th scope=row>Net.Value.Per.Share..C..to.1layhid1</th><td> 1.972130e+00</td></tr>\n",
       "\t<tr><th scope=row>Persistent.EPS.in.the.Last.Four.Seasons.to.1layhid1</th><td> 4.437031e-01</td></tr>\n",
       "\t<tr><th scope=row>Cash.Flow.Per.Share.to.1layhid1</th><td> 1.068047e+00</td></tr>\n",
       "\t<tr><th scope=row>Revenue.Per.Share..Yuan.Â...to.1layhid1</th><td> 5.967145e-01</td></tr>\n",
       "\t<tr><th scope=row>Operating.Profit.Per.Share..Yuan.Â...to.1layhid1</th><td>-9.442757e-01</td></tr>\n",
       "\t<tr><th scope=row>Per.Share.Net.profit.before.tax..Yuan.Â...to.1layhid1</th><td> 1.628522e+00</td></tr>\n",
       "\t<tr><th scope=row>Realized.Sales.Gross.Profit.Growth.Rate.to.1layhid1</th><td> 4.308582e-01</td></tr>\n",
       "\t<tr><th scope=row>Operating.Profit.Growth.Rate.to.1layhid1</th><td> 3.001389e+00</td></tr>\n",
       "\t<tr><th scope=row>After.tax.Net.Profit.Growth.Rate.to.1layhid1</th><td> 1.131199e+00</td></tr>\n",
       "\t<tr><th scope=row>⋮</th><td>⋮</td></tr>\n",
       "\t<tr><th scope=row>3layhid1.to.Bankrupt.</th><td>-0.5301279</td></tr>\n",
       "\t<tr><th scope=row>3layhid2.to.Bankrupt.</th><td>-0.2390938</td></tr>\n",
       "\t<tr><th scope=row>3layhid3.to.Bankrupt.</th><td>-0.7503111</td></tr>\n",
       "\t<tr><th scope=row>3layhid4.to.Bankrupt.</th><td>-1.4881213</td></tr>\n",
       "\t<tr><th scope=row>3layhid5.to.Bankrupt.</th><td>-1.8876455</td></tr>\n",
       "\t<tr><th scope=row>3layhid6.to.Bankrupt.</th><td>-1.8086543</td></tr>\n",
       "\t<tr><th scope=row>3layhid7.to.Bankrupt.</th><td>-0.5206043</td></tr>\n",
       "\t<tr><th scope=row>3layhid8.to.Bankrupt.</th><td>-0.7797455</td></tr>\n",
       "\t<tr><th scope=row>3layhid9.to.Bankrupt.</th><td> 3.6048984</td></tr>\n",
       "\t<tr><th scope=row>3layhid10.to.Bankrupt.</th><td> 2.8878558</td></tr>\n",
       "\t<tr><th scope=row>3layhid11.to.Bankrupt.</th><td>-0.5993407</td></tr>\n",
       "\t<tr><th scope=row>3layhid12.to.Bankrupt.</th><td> 4.8944203</td></tr>\n",
       "\t<tr><th scope=row>3layhid13.to.Bankrupt.</th><td>-0.8156705</td></tr>\n",
       "\t<tr><th scope=row>3layhid14.to.Bankrupt.</th><td>-2.7152808</td></tr>\n",
       "\t<tr><th scope=row>3layhid15.to.Bankrupt.</th><td>-1.8701532</td></tr>\n",
       "\t<tr><th scope=row>3layhid16.to.Bankrupt.</th><td>-4.8950810</td></tr>\n",
       "\t<tr><th scope=row>3layhid17.to.Bankrupt.</th><td> 3.0207988</td></tr>\n",
       "\t<tr><th scope=row>3layhid18.to.Bankrupt.</th><td>-1.8560830</td></tr>\n",
       "\t<tr><th scope=row>3layhid19.to.Bankrupt.</th><td> 5.2513245</td></tr>\n",
       "\t<tr><th scope=row>3layhid20.to.Bankrupt.</th><td> 1.4628554</td></tr>\n",
       "\t<tr><th scope=row>3layhid21.to.Bankrupt.</th><td>-0.8736075</td></tr>\n",
       "\t<tr><th scope=row>3layhid22.to.Bankrupt.</th><td> 5.4508411</td></tr>\n",
       "\t<tr><th scope=row>3layhid23.to.Bankrupt.</th><td> 1.5249481</td></tr>\n",
       "\t<tr><th scope=row>3layhid24.to.Bankrupt.</th><td> 0.4642091</td></tr>\n",
       "\t<tr><th scope=row>3layhid25.to.Bankrupt.</th><td> 2.4303028</td></tr>\n",
       "\t<tr><th scope=row>3layhid26.to.Bankrupt.</th><td>-2.2137224</td></tr>\n",
       "\t<tr><th scope=row>3layhid27.to.Bankrupt.</th><td> 4.9744870</td></tr>\n",
       "\t<tr><th scope=row>3layhid28.to.Bankrupt.</th><td>-2.2532854</td></tr>\n",
       "\t<tr><th scope=row>3layhid29.to.Bankrupt.</th><td>-1.9690869</td></tr>\n",
       "\t<tr><th scope=row>3layhid30.to.Bankrupt.</th><td> 5.4004847</td></tr>\n",
       "</tbody>\n",
       "</table>\n"
      ],
      "text/latex": [
       "A matrix: 4774 × 1 of type dbl\n",
       "\\begin{tabular}{r|l}\n",
       "\terror &  8.058351e+01\\\\\n",
       "\treached.threshold &  9.044357e-03\\\\\n",
       "\tsteps &  7.705000e+03\\\\\n",
       "\tIntercept.to.1layhid1 &  2.096510e-01\\\\\n",
       "\tROA.C..before.interest.and.depreciation.before.interest.to.1layhid1 &  4.066020e-01\\\\\n",
       "\tROA.A..before.interest.and...after.tax.to.1layhid1 &  5.858202e-01\\\\\n",
       "\tROA.B..before.interest.and.depreciation.after.tax.to.1layhid1 & -7.421561e-01\\\\\n",
       "\tOperating.Gross.Margin.to.1layhid1 &  9.570848e-02\\\\\n",
       "\tRealized.Sales.Gross.Margin.to.1layhid1 & -9.465321e-01\\\\\n",
       "\tOperating.Profit.Rate.to.1layhid1 &  1.522426e+00\\\\\n",
       "\tPre.tax.net.Interest.Rate.to.1layhid1 &  3.323804e+00\\\\\n",
       "\tAfter.tax.net.Interest.Rate.to.1layhid1 &  9.884358e-01\\\\\n",
       "\tNon.industry.income.and.expenditure.revenue.to.1layhid1 &  2.652562e+00\\\\\n",
       "\tContinuous.interest.rate..after.tax..to.1layhid1 &  3.013117e+00\\\\\n",
       "\tOperating.Expense.Rate.to.1layhid1 &  3.646825e+00\\\\\n",
       "\tResearch.and.development.expense.rate.to.1layhid1 &  3.011218e+00\\\\\n",
       "\tCash.flow.rate.to.1layhid1 &  2.114963e+00\\\\\n",
       "\tInterest.bearing.debt.interest.rate.to.1layhid1 &  1.621235e+00\\\\\n",
       "\tTax.rate..A..to.1layhid1 &  3.154404e+00\\\\\n",
       "\tNet.Value.Per.Share..B..to.1layhid1 &  1.567579e+00\\\\\n",
       "\tNet.Value.Per.Share..A..to.1layhid1 &  1.522121e+00\\\\\n",
       "\tNet.Value.Per.Share..C..to.1layhid1 &  1.972130e+00\\\\\n",
       "\tPersistent.EPS.in.the.Last.Four.Seasons.to.1layhid1 &  4.437031e-01\\\\\n",
       "\tCash.Flow.Per.Share.to.1layhid1 &  1.068047e+00\\\\\n",
       "\tRevenue.Per.Share..Yuan.Â...to.1layhid1 &  5.967145e-01\\\\\n",
       "\tOperating.Profit.Per.Share..Yuan.Â...to.1layhid1 & -9.442757e-01\\\\\n",
       "\tPer.Share.Net.profit.before.tax..Yuan.Â...to.1layhid1 &  1.628522e+00\\\\\n",
       "\tRealized.Sales.Gross.Profit.Growth.Rate.to.1layhid1 &  4.308582e-01\\\\\n",
       "\tOperating.Profit.Growth.Rate.to.1layhid1 &  3.001389e+00\\\\\n",
       "\tAfter.tax.Net.Profit.Growth.Rate.to.1layhid1 &  1.131199e+00\\\\\n",
       "\t⋮ & ⋮\\\\\n",
       "\t3layhid1.to.Bankrupt. & -0.5301279\\\\\n",
       "\t3layhid2.to.Bankrupt. & -0.2390938\\\\\n",
       "\t3layhid3.to.Bankrupt. & -0.7503111\\\\\n",
       "\t3layhid4.to.Bankrupt. & -1.4881213\\\\\n",
       "\t3layhid5.to.Bankrupt. & -1.8876455\\\\\n",
       "\t3layhid6.to.Bankrupt. & -1.8086543\\\\\n",
       "\t3layhid7.to.Bankrupt. & -0.5206043\\\\\n",
       "\t3layhid8.to.Bankrupt. & -0.7797455\\\\\n",
       "\t3layhid9.to.Bankrupt. &  3.6048984\\\\\n",
       "\t3layhid10.to.Bankrupt. &  2.8878558\\\\\n",
       "\t3layhid11.to.Bankrupt. & -0.5993407\\\\\n",
       "\t3layhid12.to.Bankrupt. &  4.8944203\\\\\n",
       "\t3layhid13.to.Bankrupt. & -0.8156705\\\\\n",
       "\t3layhid14.to.Bankrupt. & -2.7152808\\\\\n",
       "\t3layhid15.to.Bankrupt. & -1.8701532\\\\\n",
       "\t3layhid16.to.Bankrupt. & -4.8950810\\\\\n",
       "\t3layhid17.to.Bankrupt. &  3.0207988\\\\\n",
       "\t3layhid18.to.Bankrupt. & -1.8560830\\\\\n",
       "\t3layhid19.to.Bankrupt. &  5.2513245\\\\\n",
       "\t3layhid20.to.Bankrupt. &  1.4628554\\\\\n",
       "\t3layhid21.to.Bankrupt. & -0.8736075\\\\\n",
       "\t3layhid22.to.Bankrupt. &  5.4508411\\\\\n",
       "\t3layhid23.to.Bankrupt. &  1.5249481\\\\\n",
       "\t3layhid24.to.Bankrupt. &  0.4642091\\\\\n",
       "\t3layhid25.to.Bankrupt. &  2.4303028\\\\\n",
       "\t3layhid26.to.Bankrupt. & -2.2137224\\\\\n",
       "\t3layhid27.to.Bankrupt. &  4.9744870\\\\\n",
       "\t3layhid28.to.Bankrupt. & -2.2532854\\\\\n",
       "\t3layhid29.to.Bankrupt. & -1.9690869\\\\\n",
       "\t3layhid30.to.Bankrupt. &  5.4004847\\\\\n",
       "\\end{tabular}\n"
      ],
      "text/markdown": [
       "\n",
       "A matrix: 4774 × 1 of type dbl\n",
       "\n",
       "| error |  8.058351e+01 |\n",
       "| reached.threshold |  9.044357e-03 |\n",
       "| steps |  7.705000e+03 |\n",
       "| Intercept.to.1layhid1 |  2.096510e-01 |\n",
       "| ROA.C..before.interest.and.depreciation.before.interest.to.1layhid1 |  4.066020e-01 |\n",
       "| ROA.A..before.interest.and...after.tax.to.1layhid1 |  5.858202e-01 |\n",
       "| ROA.B..before.interest.and.depreciation.after.tax.to.1layhid1 | -7.421561e-01 |\n",
       "| Operating.Gross.Margin.to.1layhid1 |  9.570848e-02 |\n",
       "| Realized.Sales.Gross.Margin.to.1layhid1 | -9.465321e-01 |\n",
       "| Operating.Profit.Rate.to.1layhid1 |  1.522426e+00 |\n",
       "| Pre.tax.net.Interest.Rate.to.1layhid1 |  3.323804e+00 |\n",
       "| After.tax.net.Interest.Rate.to.1layhid1 |  9.884358e-01 |\n",
       "| Non.industry.income.and.expenditure.revenue.to.1layhid1 |  2.652562e+00 |\n",
       "| Continuous.interest.rate..after.tax..to.1layhid1 |  3.013117e+00 |\n",
       "| Operating.Expense.Rate.to.1layhid1 |  3.646825e+00 |\n",
       "| Research.and.development.expense.rate.to.1layhid1 |  3.011218e+00 |\n",
       "| Cash.flow.rate.to.1layhid1 |  2.114963e+00 |\n",
       "| Interest.bearing.debt.interest.rate.to.1layhid1 |  1.621235e+00 |\n",
       "| Tax.rate..A..to.1layhid1 |  3.154404e+00 |\n",
       "| Net.Value.Per.Share..B..to.1layhid1 |  1.567579e+00 |\n",
       "| Net.Value.Per.Share..A..to.1layhid1 |  1.522121e+00 |\n",
       "| Net.Value.Per.Share..C..to.1layhid1 |  1.972130e+00 |\n",
       "| Persistent.EPS.in.the.Last.Four.Seasons.to.1layhid1 |  4.437031e-01 |\n",
       "| Cash.Flow.Per.Share.to.1layhid1 |  1.068047e+00 |\n",
       "| Revenue.Per.Share..Yuan.Â...to.1layhid1 |  5.967145e-01 |\n",
       "| Operating.Profit.Per.Share..Yuan.Â...to.1layhid1 | -9.442757e-01 |\n",
       "| Per.Share.Net.profit.before.tax..Yuan.Â...to.1layhid1 |  1.628522e+00 |\n",
       "| Realized.Sales.Gross.Profit.Growth.Rate.to.1layhid1 |  4.308582e-01 |\n",
       "| Operating.Profit.Growth.Rate.to.1layhid1 |  3.001389e+00 |\n",
       "| After.tax.Net.Profit.Growth.Rate.to.1layhid1 |  1.131199e+00 |\n",
       "| ⋮ | ⋮ |\n",
       "| 3layhid1.to.Bankrupt. | -0.5301279 |\n",
       "| 3layhid2.to.Bankrupt. | -0.2390938 |\n",
       "| 3layhid3.to.Bankrupt. | -0.7503111 |\n",
       "| 3layhid4.to.Bankrupt. | -1.4881213 |\n",
       "| 3layhid5.to.Bankrupt. | -1.8876455 |\n",
       "| 3layhid6.to.Bankrupt. | -1.8086543 |\n",
       "| 3layhid7.to.Bankrupt. | -0.5206043 |\n",
       "| 3layhid8.to.Bankrupt. | -0.7797455 |\n",
       "| 3layhid9.to.Bankrupt. |  3.6048984 |\n",
       "| 3layhid10.to.Bankrupt. |  2.8878558 |\n",
       "| 3layhid11.to.Bankrupt. | -0.5993407 |\n",
       "| 3layhid12.to.Bankrupt. |  4.8944203 |\n",
       "| 3layhid13.to.Bankrupt. | -0.8156705 |\n",
       "| 3layhid14.to.Bankrupt. | -2.7152808 |\n",
       "| 3layhid15.to.Bankrupt. | -1.8701532 |\n",
       "| 3layhid16.to.Bankrupt. | -4.8950810 |\n",
       "| 3layhid17.to.Bankrupt. |  3.0207988 |\n",
       "| 3layhid18.to.Bankrupt. | -1.8560830 |\n",
       "| 3layhid19.to.Bankrupt. |  5.2513245 |\n",
       "| 3layhid20.to.Bankrupt. |  1.4628554 |\n",
       "| 3layhid21.to.Bankrupt. | -0.8736075 |\n",
       "| 3layhid22.to.Bankrupt. |  5.4508411 |\n",
       "| 3layhid23.to.Bankrupt. |  1.5249481 |\n",
       "| 3layhid24.to.Bankrupt. |  0.4642091 |\n",
       "| 3layhid25.to.Bankrupt. |  2.4303028 |\n",
       "| 3layhid26.to.Bankrupt. | -2.2137224 |\n",
       "| 3layhid27.to.Bankrupt. |  4.9744870 |\n",
       "| 3layhid28.to.Bankrupt. | -2.2532854 |\n",
       "| 3layhid29.to.Bankrupt. | -1.9690869 |\n",
       "| 3layhid30.to.Bankrupt. |  5.4004847 |\n",
       "\n"
      ],
      "text/plain": [
       "                                                                    [,1]         \n",
       "error                                                                8.058351e+01\n",
       "reached.threshold                                                    9.044357e-03\n",
       "steps                                                                7.705000e+03\n",
       "Intercept.to.1layhid1                                                2.096510e-01\n",
       "ROA.C..before.interest.and.depreciation.before.interest.to.1layhid1  4.066020e-01\n",
       "ROA.A..before.interest.and...after.tax.to.1layhid1                   5.858202e-01\n",
       "ROA.B..before.interest.and.depreciation.after.tax.to.1layhid1       -7.421561e-01\n",
       "Operating.Gross.Margin.to.1layhid1                                   9.570848e-02\n",
       "Realized.Sales.Gross.Margin.to.1layhid1                             -9.465321e-01\n",
       "Operating.Profit.Rate.to.1layhid1                                    1.522426e+00\n",
       "Pre.tax.net.Interest.Rate.to.1layhid1                                3.323804e+00\n",
       "After.tax.net.Interest.Rate.to.1layhid1                              9.884358e-01\n",
       "Non.industry.income.and.expenditure.revenue.to.1layhid1              2.652562e+00\n",
       "Continuous.interest.rate..after.tax..to.1layhid1                     3.013117e+00\n",
       "Operating.Expense.Rate.to.1layhid1                                   3.646825e+00\n",
       "Research.and.development.expense.rate.to.1layhid1                    3.011218e+00\n",
       "Cash.flow.rate.to.1layhid1                                           2.114963e+00\n",
       "Interest.bearing.debt.interest.rate.to.1layhid1                      1.621235e+00\n",
       "Tax.rate..A..to.1layhid1                                             3.154404e+00\n",
       "Net.Value.Per.Share..B..to.1layhid1                                  1.567579e+00\n",
       "Net.Value.Per.Share..A..to.1layhid1                                  1.522121e+00\n",
       "Net.Value.Per.Share..C..to.1layhid1                                  1.972130e+00\n",
       "Persistent.EPS.in.the.Last.Four.Seasons.to.1layhid1                  4.437031e-01\n",
       "Cash.Flow.Per.Share.to.1layhid1                                      1.068047e+00\n",
       "Revenue.Per.Share..Yuan.Â...to.1layhid1                              5.967145e-01\n",
       "Operating.Profit.Per.Share..Yuan.Â...to.1layhid1                    -9.442757e-01\n",
       "Per.Share.Net.profit.before.tax..Yuan.Â...to.1layhid1                1.628522e+00\n",
       "Realized.Sales.Gross.Profit.Growth.Rate.to.1layhid1                  4.308582e-01\n",
       "Operating.Profit.Growth.Rate.to.1layhid1                             3.001389e+00\n",
       "After.tax.Net.Profit.Growth.Rate.to.1layhid1                         1.131199e+00\n",
       "<U+22EE>                                                                   <U+22EE>     \n",
       "3layhid1.to.Bankrupt.                                               -0.5301279   \n",
       "3layhid2.to.Bankrupt.                                               -0.2390938   \n",
       "3layhid3.to.Bankrupt.                                               -0.7503111   \n",
       "3layhid4.to.Bankrupt.                                               -1.4881213   \n",
       "3layhid5.to.Bankrupt.                                               -1.8876455   \n",
       "3layhid6.to.Bankrupt.                                               -1.8086543   \n",
       "3layhid7.to.Bankrupt.                                               -0.5206043   \n",
       "3layhid8.to.Bankrupt.                                               -0.7797455   \n",
       "3layhid9.to.Bankrupt.                                                3.6048984   \n",
       "3layhid10.to.Bankrupt.                                               2.8878558   \n",
       "3layhid11.to.Bankrupt.                                              -0.5993407   \n",
       "3layhid12.to.Bankrupt.                                               4.8944203   \n",
       "3layhid13.to.Bankrupt.                                              -0.8156705   \n",
       "3layhid14.to.Bankrupt.                                              -2.7152808   \n",
       "3layhid15.to.Bankrupt.                                              -1.8701532   \n",
       "3layhid16.to.Bankrupt.                                              -4.8950810   \n",
       "3layhid17.to.Bankrupt.                                               3.0207988   \n",
       "3layhid18.to.Bankrupt.                                              -1.8560830   \n",
       "3layhid19.to.Bankrupt.                                               5.2513245   \n",
       "3layhid20.to.Bankrupt.                                               1.4628554   \n",
       "3layhid21.to.Bankrupt.                                              -0.8736075   \n",
       "3layhid22.to.Bankrupt.                                               5.4508411   \n",
       "3layhid23.to.Bankrupt.                                               1.5249481   \n",
       "3layhid24.to.Bankrupt.                                               0.4642091   \n",
       "3layhid25.to.Bankrupt.                                               2.4303028   \n",
       "3layhid26.to.Bankrupt.                                              -2.2137224   \n",
       "3layhid27.to.Bankrupt.                                               4.9744870   \n",
       "3layhid28.to.Bankrupt.                                              -2.2532854   \n",
       "3layhid29.to.Bankrupt.                                              -1.9690869   \n",
       "3layhid30.to.Bankrupt.                                               5.4004847   "
      ]
     },
     "metadata": {},
     "output_type": "display_data"
    }
   ],
   "source": [
    "# Error Rate\n",
    "nn_md1$result.matrix"
   ]
  },
  {
   "cell_type": "markdown",
   "id": "edb683bf-f84c-4eb1-bdfb-6b1435f207fe",
   "metadata": {},
   "source": [
    "## Q4 Apply to 5 different models"
   ]
  },
  {
   "cell_type": "markdown",
   "id": "082ec65f-01ee-4e66-9222-15d02fa1016c",
   "metadata": {},
   "source": [
    "#### Logistic Regression"
   ]
  },
  {
   "cell_type": "code",
   "execution_count": 19,
   "id": "421cb17f-ceb0-49e6-b6f5-6447d9edc79a",
   "metadata": {},
   "outputs": [
    {
     "name": "stderr",
     "output_type": "stream",
     "text": [
      "Warning message:\n",
      "\"glm.fit: fitted probabilities numerically 0 or 1 occurred\"\n"
     ]
    },
    {
     "data": {
      "text/plain": [
       "\n",
       "Call:\n",
       "glm(formula = Bankrupt. ~ ., family = \"binomial\", data = data_train)\n",
       "\n",
       "Deviance Residuals: \n",
       "    Min       1Q   Median       3Q      Max  \n",
       "-2.1126  -0.1481  -0.0679  -0.0279   3.6718  \n",
       "\n",
       "Coefficients: (4 not defined because of singularities)\n",
       "                                                          Estimate Std. Error\n",
       "(Intercept)                                              1.230e+07  5.615e+08\n",
       "ROA.C..before.interest.and.depreciation.before.interest -1.926e+01  1.353e+01\n",
       "ROA.A..before.interest.and...after.tax                  -1.611e+00  9.384e+00\n",
       "ROA.B..before.interest.and.depreciation.after.tax        1.882e+01  1.781e+01\n",
       "Operating.Gross.Margin                                   1.075e+04  4.784e+04\n",
       "Realized.Sales.Gross.Margin                              2.066e+01  1.768e+02\n",
       "Operating.Profit.Rate                                   -8.776e+05  1.671e+06\n",
       "Pre.tax.net.Interest.Rate                                7.342e+05  1.396e+06\n",
       "After.tax.net.Interest.Rate                             -6.056e+02  6.871e+02\n",
       "Non.industry.income.and.expenditure.revenue             -4.197e+05  7.988e+05\n",
       "Continuous.interest.rate..after.tax.                    -5.008e+02  3.880e+02\n",
       "Operating.Expense.Rate                                   1.105e-11  3.399e-11\n",
       "Research.and.development.expense.rate                    4.467e-11  4.189e-11\n",
       "Cash.flow.rate                                          -8.847e+01  4.707e+01\n",
       "Interest.bearing.debt.interest.rate                      6.813e-10  1.542e-09\n",
       "Tax.rate..A.                                            -6.159e-01  1.008e+00\n",
       "Net.Value.Per.Share..B.                                 -1.875e+02  9.645e+01\n",
       "Net.Value.Per.Share..A.                                  2.417e+01  1.397e+02\n",
       "Net.Value.Per.Share..C.                                  1.451e+02  1.030e+02\n",
       "Persistent.EPS.in.the.Last.Four.Seasons                 -5.128e+01  2.779e+01\n",
       "Cash.Flow.Per.Share                                     -1.435e+01  1.561e+01\n",
       "Revenue.Per.Share..Yuan.Â..                             -1.901e-04  1.680e-02\n",
       "Operating.Profit.Per.Share..Yuan.Â..                     7.034e+00  1.723e+02\n",
       "Per.Share.Net.profit.before.tax..Yuan.Â..                2.822e+01  1.252e+01\n",
       "Realized.Sales.Gross.Profit.Growth.Rate                  2.519e+00  5.616e+00\n",
       "Operating.Profit.Growth.Rate                            -3.710e+01  2.473e+01\n",
       "After.tax.Net.Profit.Growth.Rate                        -4.087e+01  3.965e+01\n",
       "Regular.Net.Profit.Growth.Rate                           3.823e+01  3.878e+01\n",
       "Continuous.Net.Profit.Growth.Rate                        7.481e+00  8.212e+00\n",
       "Total.Asset.Growth.Rate                                 -1.014e-11  4.257e-11\n",
       "Net.Value.Growth.Rate                                    2.045e-09  1.811e-05\n",
       "Total.Asset.Return.Growth.Rate.Ratio                    -2.235e+01  1.385e+02\n",
       "Cash.Reinvestment..                                      2.039e+01  8.165e+00\n",
       "Current.Ratio                                           -5.800e-09  4.971e-05\n",
       "Quick.Ratio                                             -3.502e-10  4.175e-10\n",
       "Interest.Expense.Ratio                                  -1.462e+00  3.067e+00\n",
       "Total.debt.Total.net.worth                               2.460e-09  1.337e-09\n",
       "Debt.ratio..                                             5.231e+01  1.844e+01\n",
       "Net.worth.Assets                                                NA         NA\n",
       "Long.term.fund.suitability.ratio..A.                     1.532e+00  7.119e+00\n",
       "Borrowing.dependency                                     6.722e+01  3.243e+01\n",
       "Contingent.liabilities.Net.worth                        -4.463e+00  3.675e+01\n",
       "Operating.profit.Paid.in.capital                         1.215e+01  1.744e+02\n",
       "Net.profit.before.tax.Paid.in.capital                   -8.861e+00  3.370e+01\n",
       "Inventory.and.accounts.receivable.Net.value             -4.529e+00  3.629e+01\n",
       "Total.Asset.Turnover                                     1.887e+00  4.349e+00\n",
       "Accounts.Receivable.Turnover                            -8.565e-08  3.910e-06\n",
       "Average.Collection.Days                                 -5.050e-08  1.815e-06\n",
       "Inventory.Turnover.Rate..times.                         -4.637e-11  3.469e-11\n",
       "Fixed.Assets.Turnover.Frequency                          1.122e-10  3.609e-11\n",
       "Net.Worth.Turnover.Rate..times.                         -2.666e+01  1.268e+01\n",
       "Revenue.per.person                                       1.368e-08  6.898e-07\n",
       "Operating.profit.per.person                             -5.318e+00  4.077e+00\n",
       "Allocation.rate.per.person                              -6.075e-07  4.105e-05\n",
       "Working.Capital.to.Total.Assets                         -1.580e+07  7.467e+08\n",
       "Quick.Assets.Total.Assets                                4.822e-01  1.152e+00\n",
       "Current.Assets.Total.Assets                              4.329e+06  2.045e+08\n",
       "Cash.Total.Assets                                       -3.981e+00  2.168e+00\n",
       "Quick.Assets.Current.Liability                          -2.312e-09  6.626e-06\n",
       "Cash.Current.Liability                                   9.999e-11  8.617e-11\n",
       "Current.Liability.to.Assets                             -1.410e+07  6.661e+08\n",
       "Operating.Funds.to.Liability                             4.373e+01  2.278e+01\n",
       "Inventory.Working.Capital                               -3.956e+00  6.232e+00\n",
       "Inventory.Current.Liability                              2.036e-11  1.968e-10\n",
       "Current.Liabilities.Liability                            4.489e+00  2.725e+00\n",
       "Working.Capital.Equity                                  -1.817e+01  5.820e+01\n",
       "Current.Liabilities.Equity                               3.412e+02  1.606e+02\n",
       "Long.term.Liability.to.Current.Assets                    1.578e-10  1.428e-10\n",
       "Retained.Earnings.to.Total.Assets                        1.104e+01  7.037e+00\n",
       "Total.income.Total.expense                               4.815e+02  9.131e+02\n",
       "Total.expense.Assets                                    -6.197e+00  8.020e+00\n",
       "Current.Asset.Turnover.Rate                              5.147e-11  4.104e-11\n",
       "Quick.Asset.Turnover.Rate                                9.151e-12  3.375e-11\n",
       "Working.capitcal.Turnover.Rate                          -6.134e+01  6.060e+02\n",
       "Cash.Turnover.Rate                                      -9.932e-11  4.257e-11\n",
       "Cash.Flow.to.Sales                                       2.240e+02  1.178e+03\n",
       "Fixed.Assets.to.Assets                                   2.578e-07  2.263e-05\n",
       "Current.Liability.to.Liability                                  NA         NA\n",
       "Current.Liability.to.Equity                                     NA         NA\n",
       "Equity.to.Long.term.Liability                            2.747e+01  2.552e+01\n",
       "Cash.Flow.to.Total.Assets                               -2.278e+00  5.686e+00\n",
       "Cash.Flow.to.Liability                                  -1.480e+01  1.004e+01\n",
       "CFO.to.Assets                                           -5.028e+00  5.790e+00\n",
       "Cash.Flow.to.Equity                                     -2.450e+00  1.156e+01\n",
       "Current.Liability.to.Current.Assets                     -1.279e-02  4.056e+00\n",
       "Liability.Assets.Flag                                   -6.668e+00  6.158e+00\n",
       "Net.Income.to.Total.Assets                              -2.599e+01  9.864e+00\n",
       "Total.assets.to.GNP.price                                1.210e-10  1.578e-10\n",
       "No.credit.Interval                                       2.853e-01  7.431e+00\n",
       "Gross.Profit.to.Sales                                   -1.077e+04  4.784e+04\n",
       "Net.Income.to.Stockholder.s.Equity                       7.221e+01  2.517e+01\n",
       "Liability.to.Equity                                     -3.591e+02  1.534e+02\n",
       "Degree.of.Financial.Leverage..DFL.                      -3.198e+00  1.377e+01\n",
       "Interest.Coverage.Ratio..Interest.expense.to.EBIT.      -1.293e+00  4.636e+00\n",
       "Net.Income.Flag                                                 NA         NA\n",
       "Equity.to.Liability                                     -1.485e+01  1.288e+01\n",
       "                                                        z value Pr(>|z|)   \n",
       "(Intercept)                                               0.022  0.98252   \n",
       "ROA.C..before.interest.and.depreciation.before.interest  -1.424  0.15444   \n",
       "ROA.A..before.interest.and...after.tax                   -0.172  0.86368   \n",
       "ROA.B..before.interest.and.depreciation.after.tax         1.057  0.29048   \n",
       "Operating.Gross.Margin                                    0.225  0.82223   \n",
       "Realized.Sales.Gross.Margin                               0.117  0.90699   \n",
       "Operating.Profit.Rate                                    -0.525  0.59940   \n",
       "Pre.tax.net.Interest.Rate                                 0.526  0.59879   \n",
       "After.tax.net.Interest.Rate                              -0.881  0.37809   \n",
       "Non.industry.income.and.expenditure.revenue              -0.525  0.59924   \n",
       "Continuous.interest.rate..after.tax.                     -1.291  0.19680   \n",
       "Operating.Expense.Rate                                    0.325  0.74520   \n",
       "Research.and.development.expense.rate                     1.066  0.28620   \n",
       "Cash.flow.rate                                           -1.880  0.06016 . \n",
       "Interest.bearing.debt.interest.rate                       0.442  0.65872   \n",
       "Tax.rate..A.                                             -0.611  0.54134   \n",
       "Net.Value.Per.Share..B.                                  -1.944  0.05189 . \n",
       "Net.Value.Per.Share..A.                                   0.173  0.86258   \n",
       "Net.Value.Per.Share..C.                                   1.409  0.15896   \n",
       "Persistent.EPS.in.the.Last.Four.Seasons                  -1.846  0.06495 . \n",
       "Cash.Flow.Per.Share                                      -0.919  0.35799   \n",
       "Revenue.Per.Share..Yuan.Â..                              -0.011  0.99097   \n",
       "Operating.Profit.Per.Share..Yuan.Â..                      0.041  0.96744   \n",
       "Per.Share.Net.profit.before.tax..Yuan.Â..                 2.253  0.02425 * \n",
       "Realized.Sales.Gross.Profit.Growth.Rate                   0.449  0.65370   \n",
       "Operating.Profit.Growth.Rate                             -1.500  0.13357   \n",
       "After.tax.Net.Profit.Growth.Rate                         -1.031  0.30261   \n",
       "Regular.Net.Profit.Growth.Rate                            0.986  0.32422   \n",
       "Continuous.Net.Profit.Growth.Rate                         0.911  0.36230   \n",
       "Total.Asset.Growth.Rate                                  -0.238  0.81171   \n",
       "Net.Value.Growth.Rate                                     0.000  0.99991   \n",
       "Total.Asset.Return.Growth.Rate.Ratio                     -0.161  0.87178   \n",
       "Cash.Reinvestment..                                       2.497  0.01253 * \n",
       "Current.Ratio                                             0.000  0.99991   \n",
       "Quick.Ratio                                              -0.839  0.40161   \n",
       "Interest.Expense.Ratio                                   -0.477  0.63345   \n",
       "Total.debt.Total.net.worth                                1.840  0.06572 . \n",
       "Debt.ratio..                                              2.836  0.00456 **\n",
       "Net.worth.Assets                                             NA       NA   \n",
       "Long.term.fund.suitability.ratio..A.                      0.215  0.82965   \n",
       "Borrowing.dependency                                      2.073  0.03822 * \n",
       "Contingent.liabilities.Net.worth                         -0.121  0.90334   \n",
       "Operating.profit.Paid.in.capital                          0.070  0.94447   \n",
       "Net.profit.before.tax.Paid.in.capital                    -0.263  0.79262   \n",
       "Inventory.and.accounts.receivable.Net.value              -0.125  0.90069   \n",
       "Total.Asset.Turnover                                      0.434  0.66434   \n",
       "Accounts.Receivable.Turnover                             -0.022  0.98253   \n",
       "Average.Collection.Days                                  -0.028  0.97780   \n",
       "Inventory.Turnover.Rate..times.                          -1.337  0.18132   \n",
       "Fixed.Assets.Turnover.Frequency                           3.108  0.00188 **\n",
       "Net.Worth.Turnover.Rate..times.                          -2.102  0.03552 * \n",
       "Revenue.per.person                                        0.020  0.98418   \n",
       "Operating.profit.per.person                              -1.304  0.19207   \n",
       "Allocation.rate.per.person                               -0.015  0.98819   \n",
       "Working.Capital.to.Total.Assets                          -0.021  0.98311   \n",
       "Quick.Assets.Total.Assets                                 0.419  0.67546   \n",
       "Current.Assets.Total.Assets                               0.021  0.98311   \n",
       "Cash.Total.Assets                                        -1.836  0.06630 . \n",
       "Quick.Assets.Current.Liability                            0.000  0.99972   \n",
       "Cash.Current.Liability                                    1.160  0.24588   \n",
       "Current.Liability.to.Assets                              -0.021  0.98311   \n",
       "Operating.Funds.to.Liability                              1.920  0.05492 . \n",
       "Inventory.Working.Capital                                -0.635  0.52559   \n",
       "Inventory.Current.Liability                               0.103  0.91762   \n",
       "Current.Liabilities.Liability                             1.648  0.09944 . \n",
       "Working.Capital.Equity                                   -0.312  0.75488   \n",
       "Current.Liabilities.Equity                                2.124  0.03364 * \n",
       "Long.term.Liability.to.Current.Assets                     1.105  0.26931   \n",
       "Retained.Earnings.to.Total.Assets                         1.569  0.11657   \n",
       "Total.income.Total.expense                                0.527  0.59800   \n",
       "Total.expense.Assets                                     -0.773  0.43974   \n",
       "Current.Asset.Turnover.Rate                               1.254  0.20983   \n",
       "Quick.Asset.Turnover.Rate                                 0.271  0.78629   \n",
       "Working.capitcal.Turnover.Rate                           -0.101  0.91937   \n",
       "Cash.Turnover.Rate                                       -2.333  0.01965 * \n",
       "Cash.Flow.to.Sales                                        0.190  0.84915   \n",
       "Fixed.Assets.to.Assets                                    0.011  0.99091   \n",
       "Current.Liability.to.Liability                               NA       NA   \n",
       "Current.Liability.to.Equity                                  NA       NA   \n",
       "Equity.to.Long.term.Liability                             1.076  0.28182   \n",
       "Cash.Flow.to.Total.Assets                                -0.401  0.68867   \n",
       "Cash.Flow.to.Liability                                   -1.473  0.14064   \n",
       "CFO.to.Assets                                            -0.868  0.38521   \n",
       "Cash.Flow.to.Equity                                      -0.212  0.83210   \n",
       "Current.Liability.to.Current.Assets                      -0.003  0.99748   \n",
       "Liability.Assets.Flag                                    -1.083  0.27891   \n",
       "Net.Income.to.Total.Assets                               -2.635  0.00842 **\n",
       "Total.assets.to.GNP.price                                 0.767  0.44330   \n",
       "No.credit.Interval                                        0.038  0.96938   \n",
       "Gross.Profit.to.Sales                                    -0.225  0.82186   \n",
       "Net.Income.to.Stockholder.s.Equity                        2.869  0.00411 **\n",
       "Liability.to.Equity                                      -2.341  0.01922 * \n",
       "Degree.of.Financial.Leverage..DFL.                       -0.232  0.81631   \n",
       "Interest.Coverage.Ratio..Interest.expense.to.EBIT.       -0.279  0.78026   \n",
       "Net.Income.Flag                                              NA       NA   \n",
       "Equity.to.Liability                                      -1.153  0.24887   \n",
       "---\n",
       "Signif. codes:  0 '***' 0.001 '**' 0.01 '*' 0.05 '.' 0.1 ' ' 1\n",
       "\n",
       "(Dispersion parameter for binomial family taken to be 1)\n",
       "\n",
       "    Null deviance: 1554.96  on 5454  degrees of freedom\n",
       "Residual deviance:  838.04  on 5363  degrees of freedom\n",
       "AIC: 1022\n",
       "\n",
       "Number of Fisher Scoring iterations: 23\n"
      ]
     },
     "metadata": {},
     "output_type": "display_data"
    }
   ],
   "source": [
    "# Logistic Regression\n",
    "# Fit logistic regression model\n",
    "md_logreg <- glm(Bankrupt. ~., data=data_train, family='binomial')\n",
    "summary(md_logreg)"
   ]
  },
  {
   "cell_type": "code",
   "execution_count": 21,
   "id": "75811593-980f-4f78-82b2-f87f25021ca9",
   "metadata": {},
   "outputs": [
    {
     "data": {
      "text/plain": [
       "\n",
       "Call:\n",
       "glm(formula = Bankrupt. ~ Debt.ratio.. + Fixed.Assets.Turnover.Frequency + \n",
       "    Net.Income.to.Total.Assets, family = \"binomial\", data = data_train)\n",
       "\n",
       "Deviance Residuals: \n",
       "    Min       1Q   Median       3Q      Max  \n",
       "-5.6713  -0.2205  -0.1341  -0.0803   3.3187  \n",
       "\n",
       "Coefficients:\n",
       "                                  Estimate Std. Error z value Pr(>|z|)    \n",
       "(Intercept)                      7.301e+00  1.373e+00   5.316 1.06e-07 ***\n",
       "Debt.ratio..                     2.131e+01  1.780e+00  11.975  < 2e-16 ***\n",
       "Fixed.Assets.Turnover.Frequency  1.432e-10  2.630e-11   5.445 5.17e-08 ***\n",
       "Net.Income.to.Total.Assets      -1.776e+01  1.687e+00 -10.527  < 2e-16 ***\n",
       "---\n",
       "Signif. codes:  0 '***' 0.001 '**' 0.01 '*' 0.05 '.' 0.1 ' ' 1\n",
       "\n",
       "(Dispersion parameter for binomial family taken to be 1)\n",
       "\n",
       "    Null deviance: 1555.0  on 5454  degrees of freedom\n",
       "Residual deviance: 1094.4  on 5451  degrees of freedom\n",
       "AIC: 1102.4\n",
       "\n",
       "Number of Fisher Scoring iterations: 7\n"
      ]
     },
     "metadata": {},
     "output_type": "display_data"
    }
   ],
   "source": [
    "# Fit logistic regression model with only signiificant variables\n",
    "md_logreg <- glm(Bankrupt. ~ Debt.ratio.. + Fixed.Assets.Turnover.Frequency + Net.Income.to.Total.Assets, data=data_train, family='binomial')\n",
    "summary(md_logreg)"
   ]
  },
  {
   "cell_type": "code",
   "execution_count": 22,
   "id": "6c2c6649-a030-4e2a-a704-e168896ad855",
   "metadata": {},
   "outputs": [
    {
     "data": {
      "text/html": [
       "<style>\n",
       ".dl-inline {width: auto; margin:0; padding: 0}\n",
       ".dl-inline>dt, .dl-inline>dd {float: none; width: auto; display: inline-block}\n",
       ".dl-inline>dt::after {content: \":\\0020\"; padding-right: .5ex}\n",
       ".dl-inline>dt:not(:first-of-type) {padding-left: .5ex}\n",
       "</style><dl class=dl-inline><dt>1017</dt><dd>0.00236834235067671</dd><dt>4775</dt><dd>0.00443308650586898</dd><dt>2177</dt><dd>0.0371341623392652</dd><dt>5026</dt><dd>0.13047331697719</dd><dt>1533</dt><dd>0.06371128328443</dd><dt>4567</dt><dd>0.0621167848486182</dd></dl>\n"
      ],
      "text/latex": [
       "\\begin{description*}\n",
       "\\item[1017] 0.00236834235067671\n",
       "\\item[4775] 0.00443308650586898\n",
       "\\item[2177] 0.0371341623392652\n",
       "\\item[5026] 0.13047331697719\n",
       "\\item[1533] 0.06371128328443\n",
       "\\item[4567] 0.0621167848486182\n",
       "\\end{description*}\n"
      ],
      "text/markdown": [
       "1017\n",
       ":   0.002368342350676714775\n",
       ":   0.004433086505868982177\n",
       ":   0.03713416233926525026\n",
       ":   0.130473316977191533\n",
       ":   0.063711283284434567\n",
       ":   0.0621167848486182\n",
       "\n"
      ],
      "text/plain": [
       "       1017        4775        2177        5026        1533        4567 \n",
       "0.002368342 0.004433087 0.037134162 0.130473317 0.063711283 0.062116785 "
      ]
     },
     "metadata": {},
     "output_type": "display_data"
    },
    {
     "data": {
      "text/html": [
       "<style>\n",
       ".dl-inline {width: auto; margin:0; padding: 0}\n",
       ".dl-inline>dt, .dl-inline>dd {float: none; width: auto; display: inline-block}\n",
       ".dl-inline>dt::after {content: \":\\0020\"; padding-right: .5ex}\n",
       ".dl-inline>dt:not(:first-of-type) {padding-left: .5ex}\n",
       "</style><dl class=dl-inline><dt>2</dt><dd>0.0442244808730228</dd><dt>5</dt><dd>0.010462386431284</dd><dt>8</dt><dd>0.00758067985470609</dd><dt>10</dt><dd>0.0121595686270351</dd><dt>13</dt><dd>0.0201787336265626</dd><dt>18</dt><dd>0.00332378817069811</dd></dl>\n"
      ],
      "text/latex": [
       "\\begin{description*}\n",
       "\\item[2] 0.0442244808730228\n",
       "\\item[5] 0.010462386431284\n",
       "\\item[8] 0.00758067985470609\n",
       "\\item[10] 0.0121595686270351\n",
       "\\item[13] 0.0201787336265626\n",
       "\\item[18] 0.00332378817069811\n",
       "\\end{description*}\n"
      ],
      "text/markdown": [
       "2\n",
       ":   0.04422448087302285\n",
       ":   0.0104623864312848\n",
       ":   0.0075806798547060910\n",
       ":   0.012159568627035113\n",
       ":   0.020178733626562618\n",
       ":   0.00332378817069811\n",
       "\n"
      ],
      "text/plain": [
       "          2           5           8          10          13          18 \n",
       "0.044224481 0.010462386 0.007580680 0.012159569 0.020178734 0.003323788 "
      ]
     },
     "metadata": {},
     "output_type": "display_data"
    }
   ],
   "source": [
    "# Make prediction on both train and test data\n",
    "pred_train_prob_logreg <- predict(md_logreg, newdata=data_train, type='response')\n",
    "head(pred_train_prob_logreg)\n",
    "\n",
    "pred_test_prob_logreg <- predict(md_logreg, newdata=data_test, type='response')\n",
    "head(pred_test_prob_logreg)"
   ]
  },
  {
   "cell_type": "code",
   "execution_count": 24,
   "id": "93980f56-d3e6-4bc8-935b-2a307f604ac1",
   "metadata": {},
   "outputs": [
    {
     "name": "stdout",
     "output_type": "stream",
     "text": [
      "[1] \"Confusion matrix:\"\n"
     ]
    },
    {
     "data": {
      "text/plain": [
       "                 \n",
       "pred_train_logreg    0    1\n",
       "                0 5256  157\n",
       "                1   23   19"
      ]
     },
     "metadata": {},
     "output_type": "display_data"
    },
    {
     "name": "stdout",
     "output_type": "stream",
     "text": [
      "[1] \"Accuracy = 0.97 %\"\n",
      "[1] \"Error = 0.03 %\"\n"
     ]
    }
   ],
   "source": [
    "# Evaluation model on train\n",
    "threshold <- 0.5  # Decision threshold\n",
    "pred_train_logreg <- rep(0, length(pred_train_prob_logreg))\n",
    "pred_train_logreg[pred_train_prob_logreg > threshold] <- 1\n",
    "\n",
    "# Confusion matrix\n",
    "print('Confusion matrix:')\n",
    "table(pred_train_logreg, data_train$Bankrupt.)\n",
    "\n",
    "# Accuracy and error rate\n",
    "acc_logreg <- mean(pred_train_logreg == data_train$Bankrupt.)\n",
    "err_rate_logreg <- 1 - acc_logreg\n",
    "print(paste('Accuracy =', round(acc_logreg, 2), '%'))\n",
    "print(paste('Error =', round(err_rate_logreg, 2), '%'))"
   ]
  },
  {
   "cell_type": "code",
   "execution_count": 27,
   "id": "3ec13b52-e935-4555-8f7d-d2ad95aa57a3",
   "metadata": {},
   "outputs": [
    {
     "name": "stdout",
     "output_type": "stream",
     "text": [
      "[1] \"Confusion matrix:\"\n"
     ]
    },
    {
     "data": {
      "text/plain": [
       "                \n",
       "pred_test_logreg    0    1\n",
       "               0 1315   36\n",
       "               1    5    8"
      ]
     },
     "metadata": {},
     "output_type": "display_data"
    },
    {
     "name": "stdout",
     "output_type": "stream",
     "text": [
      "[1] \"Accuracy = 0.97 %\"\n",
      "[1] \"Error = 0.03 %\"\n"
     ]
    }
   ],
   "source": [
    "# Evaluation model on test\n",
    "threshold <- 0.5  # Decision threshold\n",
    "pred_test_logreg <- rep(0, length(pred_test_prob_logreg))\n",
    "pred_test_logreg[pred_test_prob_logreg > threshold] <- 1\n",
    "\n",
    "# Confusion matrix\n",
    "print('Confusion matrix:')\n",
    "table(pred_test_logreg, data_test$Bankrupt.)\n",
    "\n",
    "# Accuracy and error rate\n",
    "acc_logreg <- mean(pred_test_logreg == data_test$Bankrupt.)\n",
    "err_rate_logreg <- 1 - acc_logreg\n",
    "print(paste('Accuracy =', round(acc_logreg, 2), '%'))\n",
    "print(paste('Error =', round(err_rate_logreg, 2), '%'))"
   ]
  },
  {
   "cell_type": "markdown",
   "id": "87e731b5-a1ef-47dc-8159-4865be84740b",
   "metadata": {},
   "source": [
    "#### Linear Discriminant Analysis (LDA)"
   ]
  },
  {
   "cell_type": "code",
   "execution_count": 28,
   "id": "57f0b311-c81a-4b01-b608-4244dbb13dbb",
   "metadata": {},
   "outputs": [
    {
     "data": {
      "text/plain": [
       "Call:\n",
       "lda(Bankrupt. ~ Debt.ratio.. + Fixed.Assets.Turnover.Frequency + \n",
       "    Net.Income.to.Total.Assets, data = data_train)\n",
       "\n",
       "Prior probabilities of groups:\n",
       "         0          1 \n",
       "0.96773602 0.03226398 \n",
       "\n",
       "Group means:\n",
       "  Debt.ratio.. Fixed.Assets.Turnover.Frequency Net.Income.to.Total.Assets\n",
       "0    0.1103474                       979107653                  0.8100718\n",
       "1    0.1860878                      2064975000                  0.7388718\n",
       "\n",
       "Coefficients of linear discriminants:\n",
       "                                          LD1\n",
       "Debt.ratio..                     9.908454e+00\n",
       "Fixed.Assets.Turnover.Frequency  5.420333e-11\n",
       "Net.Income.to.Total.Assets      -1.899958e+01"
      ]
     },
     "metadata": {},
     "output_type": "display_data"
    }
   ],
   "source": [
    "# Linear Discriminant Analysis (LDA)\n",
    "md_lda <- lda(Bankrupt. ~ Debt.ratio.. + Fixed.Assets.Turnover.Frequency + Net.Income.to.Total.Assets, data=data_train)\n",
    "md_lda"
   ]
  },
  {
   "cell_type": "code",
   "execution_count": 29,
   "id": "80b42a53-72ef-457f-bb7d-2c0c39099bf3",
   "metadata": {},
   "outputs": [
    {
     "data": {
      "text/html": [
       "<style>\n",
       ".list-inline {list-style: none; margin:0; padding: 0}\n",
       ".list-inline>li {display: inline-block}\n",
       ".list-inline>li:not(:last-child)::after {content: \"\\00b7\"; padding: 0 .5ex}\n",
       "</style>\n",
       "<ol class=list-inline><li>0</li><li>0</li><li>0</li><li>0</li><li>0</li><li>0</li></ol>\n",
       "\n",
       "<details>\n",
       "\t<summary style=display:list-item;cursor:pointer>\n",
       "\t\t<strong>Levels</strong>:\n",
       "\t</summary>\n",
       "\t<style>\n",
       "\t.list-inline {list-style: none; margin:0; padding: 0}\n",
       "\t.list-inline>li {display: inline-block}\n",
       "\t.list-inline>li:not(:last-child)::after {content: \"\\00b7\"; padding: 0 .5ex}\n",
       "\t</style>\n",
       "\t<ol class=list-inline><li>'0'</li><li>'1'</li></ol>\n",
       "</details>"
      ],
      "text/latex": [
       "\\begin{enumerate*}\n",
       "\\item 0\n",
       "\\item 0\n",
       "\\item 0\n",
       "\\item 0\n",
       "\\item 0\n",
       "\\item 0\n",
       "\\end{enumerate*}\n",
       "\n",
       "\\emph{Levels}: \\begin{enumerate*}\n",
       "\\item '0'\n",
       "\\item '1'\n",
       "\\end{enumerate*}\n"
      ],
      "text/markdown": [
       "1. 0\n",
       "2. 0\n",
       "3. 0\n",
       "4. 0\n",
       "5. 0\n",
       "6. 0\n",
       "\n",
       "\n",
       "\n",
       "**Levels**: 1. '0'\n",
       "2. '1'\n",
       "\n",
       "\n"
      ],
      "text/plain": [
       "[1] 0 0 0 0 0 0\n",
       "Levels: 0 1"
      ]
     },
     "metadata": {},
     "output_type": "display_data"
    },
    {
     "data": {
      "text/html": [
       "<table class=\"dataframe\">\n",
       "<caption>A matrix: 6 × 2 of type dbl</caption>\n",
       "<thead>\n",
       "\t<tr><th></th><th scope=col>0</th><th scope=col>1</th></tr>\n",
       "</thead>\n",
       "<tbody>\n",
       "\t<tr><th scope=row>2</th><td>0.9793416</td><td>0.0206584288</td></tr>\n",
       "\t<tr><th scope=row>5</th><td>0.9951157</td><td>0.0048842846</td></tr>\n",
       "\t<tr><th scope=row>8</th><td>0.9977973</td><td>0.0022026523</td></tr>\n",
       "\t<tr><th scope=row>10</th><td>0.9954004</td><td>0.0045995828</td></tr>\n",
       "\t<tr><th scope=row>13</th><td>0.9921405</td><td>0.0078595094</td></tr>\n",
       "\t<tr><th scope=row>18</th><td>0.9992623</td><td>0.0007377127</td></tr>\n",
       "</tbody>\n",
       "</table>\n"
      ],
      "text/latex": [
       "A matrix: 6 × 2 of type dbl\n",
       "\\begin{tabular}{r|ll}\n",
       "  & 0 & 1\\\\\n",
       "\\hline\n",
       "\t2 & 0.9793416 & 0.0206584288\\\\\n",
       "\t5 & 0.9951157 & 0.0048842846\\\\\n",
       "\t8 & 0.9977973 & 0.0022026523\\\\\n",
       "\t10 & 0.9954004 & 0.0045995828\\\\\n",
       "\t13 & 0.9921405 & 0.0078595094\\\\\n",
       "\t18 & 0.9992623 & 0.0007377127\\\\\n",
       "\\end{tabular}\n"
      ],
      "text/markdown": [
       "\n",
       "A matrix: 6 × 2 of type dbl\n",
       "\n",
       "| <!--/--> | 0 | 1 |\n",
       "|---|---|---|\n",
       "| 2 | 0.9793416 | 0.0206584288 |\n",
       "| 5 | 0.9951157 | 0.0048842846 |\n",
       "| 8 | 0.9977973 | 0.0022026523 |\n",
       "| 10 | 0.9954004 | 0.0045995828 |\n",
       "| 13 | 0.9921405 | 0.0078595094 |\n",
       "| 18 | 0.9992623 | 0.0007377127 |\n",
       "\n"
      ],
      "text/plain": [
       "   0         1           \n",
       "2  0.9793416 0.0206584288\n",
       "5  0.9951157 0.0048842846\n",
       "8  0.9977973 0.0022026523\n",
       "10 0.9954004 0.0045995828\n",
       "13 0.9921405 0.0078595094\n",
       "18 0.9992623 0.0007377127"
      ]
     },
     "metadata": {},
     "output_type": "display_data"
    },
    {
     "name": "stdout",
     "output_type": "stream",
     "text": [
      "[1] \"Confusion matrix:\"\n"
     ]
    },
    {
     "data": {
      "text/plain": [
       "   \n",
       "       0    1\n",
       "  0 1305   33\n",
       "  1   15   11"
      ]
     },
     "metadata": {},
     "output_type": "display_data"
    },
    {
     "name": "stdout",
     "output_type": "stream",
     "text": [
      "[1] \"Accuracy = 0.96 %\"\n",
      "[1] \"Error Rate = 0.04 %\"\n"
     ]
    }
   ],
   "source": [
    "# Predict and evaluate on test data\n",
    "lda_pred <- predict(md_lda, newdata=data_test)\n",
    "head(lda_pred$class)\n",
    "head(lda_pred$posterior)\n",
    "\n",
    "# Confusion matrix\n",
    "print('Confusion matrix:')\n",
    "table(lda_pred$class, data_test$Bankrupt.)\n",
    "\n",
    "# Accuracy & Error Rate\n",
    "acc_lda <- mean(lda_pred$class == data_test$Bankrupt.)\n",
    "print(paste('Accuracy =', round(acc_lda, 2), '%'))\n",
    "err_lda <- 1-acc_lda\n",
    "print(paste('Error Rate =', round(err_lda, 2), '%'))"
   ]
  },
  {
   "cell_type": "markdown",
   "id": "f944de49-ad89-41a5-a233-157fbb6218c0",
   "metadata": {},
   "source": [
    "#### Quadratic Discriminant Analysis (QDA)"
   ]
  },
  {
   "cell_type": "code",
   "execution_count": 30,
   "id": "9bdd6c42-b794-4ffe-833c-1da7d9af25f6",
   "metadata": {},
   "outputs": [
    {
     "data": {
      "text/plain": [
       "Call:\n",
       "qda(Bankrupt. ~ Debt.ratio.. + Fixed.Assets.Turnover.Frequency + \n",
       "    Net.Income.to.Total.Assets, data = data_train)\n",
       "\n",
       "Prior probabilities of groups:\n",
       "         0          1 \n",
       "0.96773602 0.03226398 \n",
       "\n",
       "Group means:\n",
       "  Debt.ratio.. Fixed.Assets.Turnover.Frequency Net.Income.to.Total.Assets\n",
       "0    0.1103474                       979107653                  0.8100718\n",
       "1    0.1860878                      2064975000                  0.7388718"
      ]
     },
     "metadata": {},
     "output_type": "display_data"
    }
   ],
   "source": [
    "# Fit the QDA model on train set with 2 best predictors\n",
    "md_qda <- qda(Bankrupt. ~ Debt.ratio.. + Fixed.Assets.Turnover.Frequency + Net.Income.to.Total.Assets, data=data_train)\n",
    "md_qda"
   ]
  },
  {
   "cell_type": "markdown",
   "id": "03e81e41-1fbe-4a6c-8b57-0d1ac1b8181b",
   "metadata": {},
   "source": [
    "## "
   ]
  },
  {
   "cell_type": "code",
   "execution_count": 31,
   "id": "232d8f33-c00a-4575-8c63-653423d89cfc",
   "metadata": {},
   "outputs": [
    {
     "data": {
      "text/html": [
       "<style>\n",
       ".list-inline {list-style: none; margin:0; padding: 0}\n",
       ".list-inline>li {display: inline-block}\n",
       ".list-inline>li:not(:last-child)::after {content: \"\\00b7\"; padding: 0 .5ex}\n",
       "</style>\n",
       "<ol class=list-inline><li>0</li><li>0</li><li>0</li><li>0</li><li>0</li><li>0</li></ol>\n",
       "\n",
       "<details>\n",
       "\t<summary style=display:list-item;cursor:pointer>\n",
       "\t\t<strong>Levels</strong>:\n",
       "\t</summary>\n",
       "\t<style>\n",
       "\t.list-inline {list-style: none; margin:0; padding: 0}\n",
       "\t.list-inline>li {display: inline-block}\n",
       "\t.list-inline>li:not(:last-child)::after {content: \"\\00b7\"; padding: 0 .5ex}\n",
       "\t</style>\n",
       "\t<ol class=list-inline><li>'0'</li><li>'1'</li></ol>\n",
       "</details>"
      ],
      "text/latex": [
       "\\begin{enumerate*}\n",
       "\\item 0\n",
       "\\item 0\n",
       "\\item 0\n",
       "\\item 0\n",
       "\\item 0\n",
       "\\item 0\n",
       "\\end{enumerate*}\n",
       "\n",
       "\\emph{Levels}: \\begin{enumerate*}\n",
       "\\item '0'\n",
       "\\item '1'\n",
       "\\end{enumerate*}\n"
      ],
      "text/markdown": [
       "1. 0\n",
       "2. 0\n",
       "3. 0\n",
       "4. 0\n",
       "5. 0\n",
       "6. 0\n",
       "\n",
       "\n",
       "\n",
       "**Levels**: 1. '0'\n",
       "2. '1'\n",
       "\n",
       "\n"
      ],
      "text/plain": [
       "[1] 0 0 0 0 0 0\n",
       "Levels: 0 1"
      ]
     },
     "metadata": {},
     "output_type": "display_data"
    },
    {
     "data": {
      "text/html": [
       "<table class=\"dataframe\">\n",
       "<caption>A matrix: 6 × 2 of type dbl</caption>\n",
       "<thead>\n",
       "\t<tr><th></th><th scope=col>0</th><th scope=col>1</th></tr>\n",
       "</thead>\n",
       "<tbody>\n",
       "\t<tr><th scope=row>2</th><td>0.9857302</td><td>0.014269784</td></tr>\n",
       "\t<tr><th scope=row>5</th><td>0.9968525</td><td>0.003147488</td></tr>\n",
       "\t<tr><th scope=row>8</th><td>0.9975388</td><td>0.002461211</td></tr>\n",
       "\t<tr><th scope=row>10</th><td>0.9963047</td><td>0.003695335</td></tr>\n",
       "\t<tr><th scope=row>13</th><td>0.9936595</td><td>0.006340542</td></tr>\n",
       "\t<tr><th scope=row>18</th><td>0.9987739</td><td>0.001226059</td></tr>\n",
       "</tbody>\n",
       "</table>\n"
      ],
      "text/latex": [
       "A matrix: 6 × 2 of type dbl\n",
       "\\begin{tabular}{r|ll}\n",
       "  & 0 & 1\\\\\n",
       "\\hline\n",
       "\t2 & 0.9857302 & 0.014269784\\\\\n",
       "\t5 & 0.9968525 & 0.003147488\\\\\n",
       "\t8 & 0.9975388 & 0.002461211\\\\\n",
       "\t10 & 0.9963047 & 0.003695335\\\\\n",
       "\t13 & 0.9936595 & 0.006340542\\\\\n",
       "\t18 & 0.9987739 & 0.001226059\\\\\n",
       "\\end{tabular}\n"
      ],
      "text/markdown": [
       "\n",
       "A matrix: 6 × 2 of type dbl\n",
       "\n",
       "| <!--/--> | 0 | 1 |\n",
       "|---|---|---|\n",
       "| 2 | 0.9857302 | 0.014269784 |\n",
       "| 5 | 0.9968525 | 0.003147488 |\n",
       "| 8 | 0.9975388 | 0.002461211 |\n",
       "| 10 | 0.9963047 | 0.003695335 |\n",
       "| 13 | 0.9936595 | 0.006340542 |\n",
       "| 18 | 0.9987739 | 0.001226059 |\n",
       "\n"
      ],
      "text/plain": [
       "   0         1          \n",
       "2  0.9857302 0.014269784\n",
       "5  0.9968525 0.003147488\n",
       "8  0.9975388 0.002461211\n",
       "10 0.9963047 0.003695335\n",
       "13 0.9936595 0.006340542\n",
       "18 0.9987739 0.001226059"
      ]
     },
     "metadata": {},
     "output_type": "display_data"
    },
    {
     "name": "stdout",
     "output_type": "stream",
     "text": [
      "[1] \"Confusion matrix:\"\n"
     ]
    },
    {
     "data": {
      "text/plain": [
       "   \n",
       "       0    1\n",
       "  0 1301   35\n",
       "  1   19    9"
      ]
     },
     "metadata": {},
     "output_type": "display_data"
    },
    {
     "name": "stdout",
     "output_type": "stream",
     "text": [
      "[1] \"Accuracy = 0.96 %\"\n",
      "[1] \"Error Rate = 0.04 %\"\n"
     ]
    }
   ],
   "source": [
    "# Predict and evaluate on test data\n",
    "qda_pred <- predict(md_qda, newdata=data_test)\n",
    "head(qda_pred$class)\n",
    "head(qda_pred$posterior)\n",
    "\n",
    "# Confusion matrix\n",
    "print('Confusion matrix:')\n",
    "table(qda_pred$class, data_test$Bankrupt.)\n",
    "\n",
    "# Accuracy\n",
    "acc_qda <- mean(qda_pred$class == data_test$Bankrupt.)\n",
    "print(paste('Accuracy =', round(acc_qda, 2), '%'))\n",
    "err_qda <- 1-acc_qda\n",
    "print(paste('Error Rate =', round(err_qda, 2), '%'))"
   ]
  },
  {
   "cell_type": "markdown",
   "id": "28573311-ea39-431c-a366-c8c4d9189949",
   "metadata": {},
   "source": [
    "#### K-Nearest Neighbors (KNN)"
   ]
  },
  {
   "cell_type": "code",
   "execution_count": 43,
   "id": "2030594b-8c46-4724-aa18-6e5bf0a04c86",
   "metadata": {},
   "outputs": [
    {
     "name": "stdout",
     "output_type": "stream",
     "text": [
      "[1] \"Confusion matrix:\"\n"
     ]
    },
    {
     "data": {
      "text/plain": [
       "         \n",
       "knn1_pred    0    1\n",
       "        0 1311   37\n",
       "        1    9    7"
      ]
     },
     "metadata": {},
     "output_type": "display_data"
    },
    {
     "name": "stdout",
     "output_type": "stream",
     "text": [
      "[1] \"Accuracy = 0.97 %\"\n",
      "[1] \"Error Rate = 0.03 %\"\n"
     ]
    }
   ],
   "source": [
    "# k = 3\n",
    "set.seed(123)\n",
    "knn1_pred <- knn(train=data_train[, c('Debt.ratio..', 'Fixed.Assets.Turnover.Frequency','Net.Income.to.Total.Assets')],\n",
    "                 test=data_test[, c('Debt.ratio..', 'Fixed.Assets.Turnover.Frequency','Net.Income.to.Total.Assets')],\n",
    "                 cl=data_train$Bankrupt.,\n",
    "                 k=5)\n",
    "\n",
    "# Confusion matrix\n",
    "print('Confusion matrix:')\n",
    "table(knn1_pred, data_test$Bankrupt.)\n",
    "\n",
    "# Accuracy & Error Rate\n",
    "acc_knn1 <- mean(knn1_pred == data_test$Bankrupt.)\n",
    "print(paste('Accuracy =', round(acc_knn1, 2), '%'))\n",
    "err_knn1 <- 1-acc_knn1\n",
    "print(paste('Error Rate =', round(err_knn1, 2), '%'))"
   ]
  },
  {
   "cell_type": "markdown",
   "id": "92867744-c7de-4108-a5b6-3bcb1c13831a",
   "metadata": {},
   "source": [
    "#### Regression Trees"
   ]
  },
  {
   "cell_type": "code",
   "execution_count": 50,
   "id": "fe417539-b66f-459a-8071-810419c94ee9",
   "metadata": {},
   "outputs": [
    {
     "data": {
      "image/png": "[encoded data removed]",
      "text/plain": [
       "plot without title"
      ]
     },
     "metadata": {
      "image/png": {
       "height": 360,
       "width": 900
      }
     },
     "output_type": "display_data"
    }
   ],
   "source": [
    "# Fit full regression tree (top-down greedy splitting)\n",
    "md_regtree <- tree(Bankrupt. ~ ., data=data_train)\n",
    "\n",
    "# Plot the regression tree\n",
    "options(repr.plot.width=15, repr.plot.height=6)\n",
    "plot(md_regtree, type='uniform')\n",
    "text(md_regtree, pretty=0)"
   ]
  },
  {
   "cell_type": "code",
   "execution_count": 51,
   "id": "b42f1727-2656-4670-96c4-c2cbfd10c732",
   "metadata": {},
   "outputs": [
    {
     "data": {
      "text/plain": [
       "node), split, n, deviance, yval\n",
       "      * denotes terminal node\n",
       "\n",
       "  1) root 5455 170.3000 0.032260  \n",
       "    2) Net.Value.Growth.Rate < 0.000367042 148  36.1800 0.425700  \n",
       "      4) Quick.Ratio < 0.0049455 92  22.6100 0.565200  \n",
       "        8) Revenue.per.person < 0.00528913 12   0.0000 0.000000 *\n",
       "        9) Revenue.per.person > 0.00528913 80  18.2000 0.650000  \n",
       "         18) Continuous.interest.rate..after.tax. < 0.781467 74  15.4600 0.702700  \n",
       "           36) Cash.Total.Assets < 0.0180873 22   0.9545 0.954500 *\n",
       "           37) Cash.Total.Assets > 0.0180873 52  12.5200 0.596200  \n",
       "             74) ROA.A..before.interest.and...after.tax < 0.35235 17   0.9412 0.941200 *\n",
       "             75) ROA.A..before.interest.and...after.tax > 0.35235 35   8.5710 0.428600  \n",
       "              150) Current.Asset.Turnover.Rate < 0.000243149 19   3.1580 0.210500 *\n",
       "              151) Current.Asset.Turnover.Rate > 0.000243149 16   3.4380 0.687500  \n",
       "                302) Total.debt.Total.net.worth < 0.0359204 11   0.9091 0.909100 *\n",
       "                303) Total.debt.Total.net.worth > 0.0359204 5   0.8000 0.200000 *\n",
       "         19) Continuous.interest.rate..after.tax. > 0.781467 6   0.0000 0.000000 *\n",
       "      5) Quick.Ratio > 0.0049455 56   8.8390 0.196400  \n",
       "       10) Interest.bearing.debt.interest.rate < 0.000633063 51   6.0390 0.137300  \n",
       "         20) Current.Liabilities.Liability < 0.323388 6   1.3330 0.666700 *\n",
       "         21) Current.Liabilities.Liability > 0.323388 45   2.8000 0.066670 *\n",
       "       11) Interest.bearing.debt.interest.rate > 0.000633063 5   0.8000 0.800000 *\n",
       "    3) Net.Value.Growth.Rate > 0.000367042 5307 110.6000 0.021290  \n",
       "      6) Borrowing.dependency < 0.379194 4663  34.7400 0.007506 *\n",
       "      7) Borrowing.dependency > 0.379194 644  68.5500 0.121100  \n",
       "       14) ROA.C..before.interest.and.depreciation.before.interest < 0.472505 219  42.6400 0.264800  \n",
       "         28) Interest.bearing.debt.interest.rate < 0.000448045 120  13.1200 0.125000 *\n",
       "         29) Interest.bearing.debt.interest.rate > 0.000448045 99  24.3200 0.434300  \n",
       "           58) Net.Value.Growth.Rate < 0.000418448 45  10.5800 0.622200  \n",
       "            116) Quick.Assets.Total.Assets < 0.11099 18   4.0000 0.333300  \n",
       "              232) Accounts.Receivable.Turnover < 0.00149027 8   1.5000 0.750000 *\n",
       "              233) Accounts.Receivable.Turnover > 0.00149027 10   0.0000 0.000000 *\n",
       "            117) Quick.Assets.Total.Assets > 0.11099 27   4.0740 0.814800 *\n",
       "           59) Net.Value.Growth.Rate > 0.000418448 54  10.8300 0.277800 *\n",
       "       15) ROA.C..before.interest.and.depreciation.before.interest > 0.472505 425  19.0600 0.047060 *"
      ]
     },
     "metadata": {},
     "output_type": "display_data"
    }
   ],
   "source": [
    "# Print out the tree details\n",
    "md_regtree"
   ]
  },
  {
   "cell_type": "code",
   "execution_count": 49,
   "id": "4e7fa3e7-bee4-45bf-997c-b6e78673cd2e",
   "metadata": {},
   "outputs": [
    {
     "ename": "ERROR",
     "evalue": "Error in match.arg(type): 'arg' should be one of \"vector\", \"tree\", \"class\", \"where\"\n",
     "output_type": "error",
     "traceback": [
      "Error in match.arg(type): 'arg' should be one of \"vector\", \"tree\", \"class\", \"where\"\nTraceback:\n",
      "1. predict(md_tree, newdata = data_test, type = \"b\")",
      "2. predict.tree(md_tree, newdata = data_test, type = \"b\")",
      "3. match.arg(type)",
      "4. stop(gettextf(\"'arg' should be one of %s\", paste(dQuote(choices), \n .     collapse = \", \")), domain = NA)"
     ]
    }
   ],
   "source": [
    "# Make the prediction\n",
    "set.seed(2)\n",
    "pred_dt <- predict(md_tree, newdata=data_test, type='b')\n",
    "pred_proba_dt <- predict(md_tree, newdata=data_test, type='vector')[, 'Yes']\n",
    "\n",
    "# Evaluation: confusion matrix\n",
    "table(pred_dt, data_test$High)\n",
    "\n",
    "# Accuracy & Error Rate\n",
    "print(paste0('Acuracy = ', mean(pred_dt == data_test$High)))\n",
    "err_dt = 1-mean(pred_dt == data_test$High)\n",
    "print(paste0('Error Rate = ', err_dt))"
   ]
  },
  {
   "cell_type": "code",
   "execution_count": 52,
   "id": "92dd9632-5292-4dd0-99e9-2fe513d16514",
   "metadata": {},
   "outputs": [
    {
     "data": {
      "text/plain": [
       "$size\n",
       " [1] 17 16 15 14 13 11 10  9  8  7  6  5  4  3  2  1\n",
       "\n",
       "$dev\n",
       " [1] 158.7511 156.8779 159.2233 157.7009 157.7009 152.1652 152.1652 152.1652\n",
       " [9] 152.2093 150.0857 141.9450 143.6347 142.8550 151.8846 152.6397 170.4112\n",
       "\n",
       "$k\n",
       " [1]      -Inf  1.728409  1.905882  1.976034  2.000070  2.496154  2.500000\n",
       " [8]  2.503704  2.740541  2.912121  4.408696  4.734451  5.191037  6.854702\n",
       "[15]  7.303844 23.545175\n",
       "\n",
       "$method\n",
       "[1] \"deviance\"\n",
       "\n",
       "attr(,\"class\")\n",
       "[1] \"prune\"         \"tree.sequence\""
      ]
     },
     "metadata": {},
     "output_type": "display_data"
    }
   ],
   "source": [
    "# Prune the Regression Tree #Cross Validation (delete one by one) -->\n",
    "set.seed(1)\n",
    "cv_regtree <- cv.tree(md_regtree)\n",
    "cv_regtree"
   ]
  },
  {
   "cell_type": "code",
   "execution_count": 53,
   "id": "007d6650-5ac1-49cf-bcb5-46b20825a8c7",
   "metadata": {},
   "outputs": [
    {
     "name": "stdout",
     "output_type": "stream",
     "text": [
      "[1] \"Best tree size = 6\"\n",
      "[1] \"Best RSS = 141.944993635206\"\n",
      "[1] \"Best alpha = 4.40869565217389\"\n"
     ]
    }
   ],
   "source": [
    "# Best tree size\n",
    "min_idx <- which.min(cv_regtree$dev)\n",
    "tree_size <- cv_regtree$size[min_idx]\n",
    "tree_dev <- cv_regtree$dev[min_idx]\n",
    "tree_k <- cv_regtree$k[min_idx]\n",
    "\n",
    "print(paste0('Best tree size = ', tree_size))\n",
    "print(paste0('Best RSS = ', tree_dev))\n",
    "print(paste0('Best alpha = ', tree_k))"
   ]
  },
  {
   "cell_type": "code",
   "execution_count": 54,
   "id": "3997069e-344e-4b3d-a1ed-69e5f8d779fa",
   "metadata": {},
   "outputs": [
    {
     "data": {
      "image/png": "[encoded data removed]",
      "text/plain": [
       "Plot with title \"Best alpha = 4.409\""
      ]
     },
     "metadata": {
      "image/png": {
       "height": 600,
       "width": 480
      }
     },
     "output_type": "display_data"
    }
   ],
   "source": [
    "# Show the Decision Tree\n",
    "options(repr.plot.width=8, repr.plot.height=10)\n",
    "par(mfrow=c(2, 1))\n",
    "\n",
    "# Tree size, number of nodes\n",
    "plot(cv_regtree$size, cv_regtree$dev, type='b', cex=0.7,\n",
    "     xlab='Tree size', ylab='RSS', main=paste0('Best tree size = ', tree_size)\n",
    "    )\n",
    "abline(v=tree_size, col='red')  # Best tree size\n",
    "\n",
    "# Cost-complexity param, alpha\n",
    "plot(cv_regtree$k, cv_regtree$dev, type='b', cex=0.7,\n",
    "     xlab='Cost-complexity parameter', ylab='RSS',\n",
    "     main=paste0('Best alpha = ', round(tree_k, 3))\n",
    "    )\n",
    "abline(v=tree_k, col='red')  # Best tree size"
   ]
  },
  {
   "cell_type": "code",
   "execution_count": 55,
   "id": "f3f1712e-e5cc-40d8-839a-06715ed3affd",
   "metadata": {},
   "outputs": [
    {
     "data": {
      "image/png": "[encoded data removed]",
      "text/plain": [
       "plot without title"
      ]
     },
     "metadata": {
      "image/png": {
       "height": 360,
       "width": 900
      }
     },
     "output_type": "display_data"
    }
   ],
   "source": [
    "# Prune the tree\n",
    "prune_regtree <- prune.tree(md_regtree, best=6)\n",
    "\n",
    "# Show the tree\n",
    "options(repr.plot.width=15, repr.plot.height=6)\n",
    "plot(prune_regtree, type='uniform')\n",
    "text(prune_regtree, pretty=0)"
   ]
  },
  {
   "cell_type": "code",
   "execution_count": 57,
   "id": "ccbe6bac-2079-415f-bab9-73caa879f332",
   "metadata": {},
   "outputs": [
    {
     "data": {
      "text/html": [
       "0.0133432339900315"
      ],
      "text/latex": [
       "0.0133432339900315"
      ],
      "text/markdown": [
       "0.0133432339900315"
      ],
      "text/plain": [
       "[1] 0.01334323"
      ]
     },
     "metadata": {},
     "output_type": "display_data"
    },
    {
     "data": {
      "text/html": [
       "0.00882049506031085"
      ],
      "text/latex": [
       "0.00882049506031085"
      ],
      "text/markdown": [
       "0.00882049506031085"
      ],
      "text/plain": [
       "[1] 0.008820495"
      ]
     },
     "metadata": {},
     "output_type": "display_data"
    }
   ],
   "source": [
    "# RSS full Regression Tree\n",
    "pred_full_regtree <- predict(md_regtree, newdata=data_test)\n",
    "mse_full_regtree <- mean((pred_full_regtree - mean(data_test$Bankrupt.)) ^ 2)\n",
    "mse_full_regtree\n",
    "\n",
    "# RSS pruned Regression Tree\n",
    "pred_pruned_regtree <- predict(prune_regtree, newdata=data_test)\n",
    "mse_pruned_regtree <- mean((pred_pruned_regtree - mean(data_test$Bankrupt.)) ^ 2)\n",
    "mse_pruned_regtree"
   ]
  }
 ],
 "metadata": {
  "kernelspec": {
   "display_name": "R",
   "language": "R",
   "name": "ir"
  },
  "language_info": {
   "codemirror_mode": "r",
   "file_extension": ".r",
   "mimetype": "text/x-r-source",
   "name": "R",
   "pygments_lexer": "r",
   "version": "4.0.5"
  }
 },
 "nbformat": 4,
 "nbformat_minor": 5
}
